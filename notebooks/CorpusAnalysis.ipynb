{
 "cells": [
  {
   "attachments": {},
   "cell_type": "markdown",
   "metadata": {},
   "source": [
    "# Install requirements"
   ]
  },
  {
   "cell_type": "code",
   "execution_count": 1,
   "metadata": {},
   "outputs": [
    {
     "name": "stdout",
     "output_type": "stream",
     "text": [
      "Requirement already satisfied: spacy in /Users/carstenschnober/opt/anaconda3/envs/SoS/lib/python3.10/site-packages (3.4.4)\n",
      "Requirement already satisfied: pandas in /Users/carstenschnober/opt/anaconda3/envs/SoS/lib/python3.10/site-packages (1.5.0)\n",
      "Requirement already satisfied: preshed<3.1.0,>=3.0.2 in /Users/carstenschnober/opt/anaconda3/envs/SoS/lib/python3.10/site-packages (from spacy) (3.0.8)\n",
      "Requirement already satisfied: numpy>=1.15.0 in /Users/carstenschnober/opt/anaconda3/envs/SoS/lib/python3.10/site-packages (from spacy) (1.23.4)\n",
      "Requirement already satisfied: setuptools in /Users/carstenschnober/opt/anaconda3/envs/SoS/lib/python3.10/site-packages (from spacy) (63.4.1)\n",
      "Requirement already satisfied: spacy-loggers<2.0.0,>=1.0.0 in /Users/carstenschnober/opt/anaconda3/envs/SoS/lib/python3.10/site-packages (from spacy) (1.0.4)\n",
      "Requirement already satisfied: catalogue<2.1.0,>=2.0.6 in /Users/carstenschnober/opt/anaconda3/envs/SoS/lib/python3.10/site-packages (from spacy) (2.0.8)\n",
      "Requirement already satisfied: pathy>=0.3.5 in /Users/carstenschnober/opt/anaconda3/envs/SoS/lib/python3.10/site-packages (from spacy) (0.10.1)\n",
      "Requirement already satisfied: typer<0.8.0,>=0.3.0 in /Users/carstenschnober/opt/anaconda3/envs/SoS/lib/python3.10/site-packages (from spacy) (0.7.0)\n",
      "Requirement already satisfied: requests<3.0.0,>=2.13.0 in /Users/carstenschnober/opt/anaconda3/envs/SoS/lib/python3.10/site-packages (from spacy) (2.28.1)\n",
      "Requirement already satisfied: cymem<2.1.0,>=2.0.2 in /Users/carstenschnober/opt/anaconda3/envs/SoS/lib/python3.10/site-packages (from spacy) (2.0.7)\n",
      "Requirement already satisfied: tqdm<5.0.0,>=4.38.0 in /Users/carstenschnober/opt/anaconda3/envs/SoS/lib/python3.10/site-packages (from spacy) (4.64.1)\n",
      "Requirement already satisfied: wasabi<1.1.0,>=0.9.1 in /Users/carstenschnober/opt/anaconda3/envs/SoS/lib/python3.10/site-packages (from spacy) (0.10.1)\n",
      "Requirement already satisfied: srsly<3.0.0,>=2.4.3 in /Users/carstenschnober/opt/anaconda3/envs/SoS/lib/python3.10/site-packages (from spacy) (2.4.5)\n",
      "Requirement already satisfied: thinc<8.2.0,>=8.1.0 in /Users/carstenschnober/opt/anaconda3/envs/SoS/lib/python3.10/site-packages (from spacy) (8.1.5)\n",
      "Requirement already satisfied: packaging>=20.0 in /Users/carstenschnober/opt/anaconda3/envs/SoS/lib/python3.10/site-packages (from spacy) (21.3)\n",
      "Requirement already satisfied: smart-open<7.0.0,>=5.2.1 in /Users/carstenschnober/opt/anaconda3/envs/SoS/lib/python3.10/site-packages (from spacy) (6.3.0)\n",
      "Requirement already satisfied: jinja2 in /Users/carstenschnober/opt/anaconda3/envs/SoS/lib/python3.10/site-packages (from spacy) (3.1.2)\n",
      "Requirement already satisfied: spacy-legacy<3.1.0,>=3.0.10 in /Users/carstenschnober/opt/anaconda3/envs/SoS/lib/python3.10/site-packages (from spacy) (3.0.10)\n",
      "Requirement already satisfied: langcodes<4.0.0,>=3.2.0 in /Users/carstenschnober/opt/anaconda3/envs/SoS/lib/python3.10/site-packages (from spacy) (3.3.0)\n",
      "Requirement already satisfied: murmurhash<1.1.0,>=0.28.0 in /Users/carstenschnober/opt/anaconda3/envs/SoS/lib/python3.10/site-packages (from spacy) (1.0.9)\n",
      "Requirement already satisfied: pydantic!=1.8,!=1.8.1,<1.11.0,>=1.7.4 in /Users/carstenschnober/opt/anaconda3/envs/SoS/lib/python3.10/site-packages (from spacy) (1.10.2)\n",
      "Requirement already satisfied: pytz>=2020.1 in /Users/carstenschnober/opt/anaconda3/envs/SoS/lib/python3.10/site-packages (from pandas) (2022.4)\n",
      "Requirement already satisfied: python-dateutil>=2.8.1 in /Users/carstenschnober/opt/anaconda3/envs/SoS/lib/python3.10/site-packages (from pandas) (2.8.2)\n",
      "Requirement already satisfied: pyparsing!=3.0.5,>=2.0.2 in /Users/carstenschnober/opt/anaconda3/envs/SoS/lib/python3.10/site-packages (from packaging>=20.0->spacy) (3.0.9)\n",
      "Requirement already satisfied: typing-extensions>=4.1.0 in /Users/carstenschnober/opt/anaconda3/envs/SoS/lib/python3.10/site-packages (from pydantic!=1.8,!=1.8.1,<1.11.0,>=1.7.4->spacy) (4.4.0)\n",
      "Requirement already satisfied: six>=1.5 in /Users/carstenschnober/opt/anaconda3/envs/SoS/lib/python3.10/site-packages (from python-dateutil>=2.8.1->pandas) (1.16.0)\n",
      "Requirement already satisfied: urllib3<1.27,>=1.21.1 in /Users/carstenschnober/opt/anaconda3/envs/SoS/lib/python3.10/site-packages (from requests<3.0.0,>=2.13.0->spacy) (1.26.12)\n",
      "Requirement already satisfied: charset-normalizer<3,>=2 in /Users/carstenschnober/opt/anaconda3/envs/SoS/lib/python3.10/site-packages (from requests<3.0.0,>=2.13.0->spacy) (2.1.1)\n",
      "Requirement already satisfied: certifi>=2017.4.17 in /Users/carstenschnober/opt/anaconda3/envs/SoS/lib/python3.10/site-packages (from requests<3.0.0,>=2.13.0->spacy) (2022.12.7)\n",
      "Requirement already satisfied: idna<4,>=2.5 in /Users/carstenschnober/opt/anaconda3/envs/SoS/lib/python3.10/site-packages (from requests<3.0.0,>=2.13.0->spacy) (3.4)\n",
      "Requirement already satisfied: blis<0.8.0,>=0.7.8 in /Users/carstenschnober/opt/anaconda3/envs/SoS/lib/python3.10/site-packages (from thinc<8.2.0,>=8.1.0->spacy) (0.7.9)\n",
      "Requirement already satisfied: confection<1.0.0,>=0.0.1 in /Users/carstenschnober/opt/anaconda3/envs/SoS/lib/python3.10/site-packages (from thinc<8.2.0,>=8.1.0->spacy) (0.0.3)\n",
      "Requirement already satisfied: click<9.0.0,>=7.1.1 in /Users/carstenschnober/opt/anaconda3/envs/SoS/lib/python3.10/site-packages (from typer<0.8.0,>=0.3.0->spacy) (8.1.3)\n",
      "Requirement already satisfied: MarkupSafe>=2.0 in /Users/carstenschnober/opt/anaconda3/envs/SoS/lib/python3.10/site-packages (from jinja2->spacy) (2.1.1)\n",
      "Note: you may need to restart the kernel to use updated packages.\n",
      "Collecting package metadata (current_repodata.json): done\n",
      "Solving environment: done\n",
      "\n",
      "\n",
      "==> WARNING: A newer version of conda exists. <==\n",
      "  current version: 22.9.0\n",
      "  latest version: 22.11.1\n",
      "\n",
      "Please update conda by running\n",
      "\n",
      "    $ conda update -n base -c defaults conda\n",
      "\n",
      "\n",
      "\n",
      "# All requested packages already installed.\n",
      "\n",
      "Retrieving notices: ...working... done\n",
      "\n",
      "Note: you may need to restart the kernel to use updated packages.\n"
     ]
    }
   ],
   "source": [
    "%pip install spacy pandas\n",
    "%conda install -c conda-forge ipywidgets"
   ]
  },
  {
   "cell_type": "code",
   "execution_count": 2,
   "metadata": {},
   "outputs": [],
   "source": [
    "import pandas as pd"
   ]
  },
  {
   "attachments": {},
   "cell_type": "markdown",
   "metadata": {},
   "source": [
    "# Pipeline"
   ]
  },
  {
   "cell_type": "code",
   "execution_count": 3,
   "metadata": {},
   "outputs": [],
   "source": [
    "import spacy\n",
    "from spacy.lang.nl import Dutch\n",
    "\n",
    "SPACY_MODEL = \"nl_core_news_sm\"\n",
    "\n",
    "try:\n",
    "    nlp = spacy.load(SPACY_MODEL)\n",
    "except OSError:\n",
    "    spacy.cli.download(SPACY_MODEL)\n",
    "    nlp = spacy.load(SPACY_MODEL)\n",
    "\n",
    "nlp.add_pipe(\"sentencizer\")\n",
    "\n",
    "for component in [\n",
    "    \"tok2vec\",\n",
    "    \"morphologizer\",\n",
    "    \"tagger\",\n",
    "    \"parser\",\n",
    "    \"lemmatizer\",\n",
    "    \"attribute_ruler\",\n",
    "    \"ner\",\n",
    "]:\n",
    "    nlp.remove_pipe(component)\n"
   ]
  },
  {
   "cell_type": "code",
   "execution_count": 4,
   "metadata": {},
   "outputs": [
    {
     "data": {
      "text/plain": [
       "['sentencizer']"
      ]
     },
     "execution_count": 4,
     "metadata": {},
     "output_type": "execute_result"
    }
   ],
   "source": [
    "nlp.pipe_names"
   ]
  },
  {
   "cell_type": "markdown",
   "metadata": {},
   "source": [
    "# Corpus Location"
   ]
  },
  {
   "cell_type": "code",
   "execution_count": 5,
   "metadata": {},
   "outputs": [],
   "source": [
    "from pathlib import Path\n",
    "\n",
    "\n",
    "DATA_DIR = Path.home() / \"Documents\" / \"SemanticsOfSustainability\" / \"data\" / \"Joris\"\n",
    "assert DATA_DIR.is_dir()\n"
   ]
  },
  {
   "attachments": {},
   "cell_type": "markdown",
   "metadata": {},
   "source": [
    "## Read ANP"
   ]
  },
  {
   "cell_type": "code",
   "execution_count": 6,
   "metadata": {},
   "outputs": [],
   "source": [
    "ANP_DIR = DATA_DIR / \"ANP\" / \"CleanFiles_perYear\"\n",
    "assert ANP_DIR.is_dir()\n",
    "\n",
    "ANP_FILE_GLOB = \"ANP_19[0-9][0-9].csv.gz\"\n",
    "ANP_ENCODING = \"iso8859_15\"\n"
   ]
  },
  {
   "attachments": {},
   "cell_type": "markdown",
   "metadata": {},
   "source": [
    "### Count Sentences and Tokens"
   ]
  },
  {
   "cell_type": "code",
   "execution_count": 8,
   "metadata": {},
   "outputs": [
    {
     "name": "stderr",
     "output_type": "stream",
     "text": [
      "100%|██████████| 28067/28067 [00:35<00:00, 779.89doc/s]\n",
      "0doc [00:00, ?doc/s]8 [00:36<28:27, 36.34s/file]\n",
      "100%|██████████| 49629/49629 [01:10<00:00, 707.94doc/s]\n",
      "100%|██████████| 43100/43100 [01:03<00:00, 682.23doc/s]\n",
      "100%|██████████| 31069/31069 [00:45<00:00, 680.49doc/s]\n",
      "0doc [00:00, ?doc/s]8 [03:36<32:37, 45.53s/file]\n",
      "100%|██████████| 29361/29361 [00:38<00:00, 755.00doc/s]\n",
      "100%|██████████| 49204/49204 [01:06<00:00, 734.62doc/s]\n",
      "100%|██████████| 44971/44971 [01:00<00:00, 738.84doc/s]\n",
      "100%|██████████| 56348/56348 [01:14<00:00, 754.99doc/s]\n",
      "100%|██████████| 59280/59280 [01:29<00:00, 665.66doc/s]\n",
      "100%|██████████| 45629/45629 [01:02<00:00, 729.39doc/s]\n",
      "100%|██████████| 33397/33397 [00:49<00:00, 668.90doc/s]\n",
      "100%|██████████| 2143/2143 [00:08<00:00, 267.31doc/s]\n",
      "100%|██████████| 24412/24412 [00:35<00:00, 689.04doc/s]\n",
      "100%|██████████| 28546/28546 [00:43<00:00, 654.48doc/s]\n",
      "100%|██████████| 413/413 [00:00<00:00, 502.72doc/s]\n",
      "100%|██████████| 33874/33874 [00:48<00:00, 701.14doc/s]\n",
      "100%|██████████| 50049/50049 [01:06<00:00, 749.98doc/s]\n",
      "0doc [00:00, ?doc/s]48 [14:27<21:49, 45.16s/file]\n",
      "100%|██████████| 2145/2145 [00:09<00:00, 230.50doc/s]\n",
      "100%|██████████| 27575/27575 [00:44<00:00, 616.94doc/s]\n",
      "100%|██████████| 11791/11791 [00:14<00:00, 815.47doc/s]\n",
      "100%|██████████| 57024/57024 [01:21<00:00, 696.36doc/s]\n",
      "100%|██████████| 34478/34478 [00:51<00:00, 667.04doc/s]\n",
      "100%|██████████| 42860/42860 [00:59<00:00, 725.02doc/s]\n",
      "100%|██████████| 50810/50810 [01:08<00:00, 744.26doc/s]\n",
      "100%|██████████| 36353/36353 [00:50<00:00, 723.75doc/s]\n",
      "100%|██████████| 28668/28668 [00:39<00:00, 722.18doc/s]\n",
      "0doc [00:00, ?doc/s]48 [21:30<15:41, 49.56s/file]\n",
      "100%|██████████| 43763/43763 [00:58<00:00, 744.95doc/s]\n",
      "100%|██████████| 54655/54655 [01:13<00:00, 745.31doc/s]\n",
      "100%|██████████| 54564/54564 [01:11<00:00, 766.79doc/s]\n",
      "0doc [00:00, ?doc/s]48 [24:55<13:40, 54.69s/file]\n",
      "100%|██████████| 28582/28582 [00:42<00:00, 680.16doc/s]\n",
      "100%|██████████| 25281/25281 [00:43<00:00, 583.35doc/s]\n",
      "100%|██████████| 1843/1843 [00:02<00:00, 645.22doc/s]\n",
      "100%|██████████| 29494/29494 [00:46<00:00, 632.94doc/s]\n",
      "100%|██████████| 45834/45834 [01:02<00:00, 734.02doc/s]\n",
      "100%|██████████| 30677/30677 [00:44<00:00, 692.75doc/s]\n",
      "100%|██████████| 59510/59510 [01:24<00:00, 703.18doc/s]\n",
      "100%|██████████| 55306/55306 [01:14<00:00, 740.93doc/s]\n",
      "100%|██████████| 3151/3151 [00:10<00:00, 293.51doc/s]\n",
      "0doc [00:00, ?doc/s]48 [31:50<03:52, 46.46s/file]\n",
      "100%|██████████| 22490/22490 [00:26<00:00, 852.39doc/s]\n",
      "100%|██████████| 28598/28598 [00:44<00:00, 636.22doc/s]\n",
      "100%|██████████| 32266/32266 [00:48<00:00, 672.11doc/s]\n",
      "100%|██████████| 57439/57439 [01:14<00:00, 775.92doc/s]\n",
      "100%|██████████| 48/48 [35:05<00:00, 43.86s/file]"
     ]
    },
    {
     "name": "stdout",
     "output_type": "stream",
     "text": [
      "Number of documents:\t: 1474649\n",
      "Number of sentences:\t: 23880052\n",
      "Number of tokens:\t: 226754135\n"
     ]
    },
    {
     "name": "stderr",
     "output_type": "stream",
     "text": [
      "\n"
     ]
    }
   ],
   "source": [
    "from tqdm import tqdm\n",
    "\n",
    "n_sentences = 0\n",
    "n_tokens = 0\n",
    "n_docs = 0\n",
    "\n",
    "files = list(ANP_DIR.glob(ANP_FILE_GLOB))\n",
    "\n",
    "\n",
    "for f in tqdm(files, unit=\"file\", position=0):\n",
    "    df = pd.read_csv(\n",
    "        f, compression=\"gzip\", sep=\";\", encoding=ANP_ENCODING, parse_dates=[\"date\"]\n",
    "    ).dropna(subset=\"content\")\n",
    "\n",
    "    for index, value in tqdm(df.content.items(), unit=\"doc\", total=len(df), position=1):\n",
    "        n_docs += 1\n",
    "        doc = nlp(value)\n",
    "        for sent in doc.sents:\n",
    "            n_sentences += 1\n",
    "            for token in sent:\n",
    "                n_tokens += 1\n",
    "\n",
    "print(f\"Number of documents:\\t: {n_docs}\")\n",
    "print(f\"Number of sentences:\\t: {n_sentences}\")\n",
    "print(f\"Number of tokens:\\t: {n_tokens}\")"
   ]
  }
 ],
 "metadata": {
  "kernelspec": {
   "display_name": "Python 3.10.6 ('SoS')",
   "language": "python",
   "name": "python3"
  },
  "language_info": {
   "codemirror_mode": {
    "name": "ipython",
    "version": 3
   },
   "file_extension": ".py",
   "mimetype": "text/x-python",
   "name": "python",
   "nbconvert_exporter": "python",
   "pygments_lexer": "ipython3",
   "version": "3.10.6"
  },
  "orig_nbformat": 4,
  "vscode": {
   "interpreter": {
    "hash": "698edb2d430efe7d82235b52eab5a9a548e58da18d36891b15065b37371a8bd3"
   }
  }
 },
 "nbformat": 4,
 "nbformat_minor": 2
}
