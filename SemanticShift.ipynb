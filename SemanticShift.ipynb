{
 "cells": [
  {
   "cell_type": "markdown",
   "metadata": {},
   "source": [
    "# Install Requirements"
   ]
  },
  {
   "cell_type": "code",
   "execution_count": 1,
   "metadata": {},
   "outputs": [
    {
     "name": "stdout",
     "output_type": "stream",
     "text": [
      "Requirement already satisfied: transformers in /Users/carstenschnober/opt/anaconda3/envs/SoS/lib/python3.10/site-packages (4.23.1)\n",
      "Requirement already satisfied: datasets in /Users/carstenschnober/opt/anaconda3/envs/SoS/lib/python3.10/site-packages (2.6.1)\n",
      "Requirement already satisfied: regex!=2019.12.17 in /Users/carstenschnober/opt/anaconda3/envs/SoS/lib/python3.10/site-packages (from transformers) (2022.9.13)\n",
      "Requirement already satisfied: requests in /Users/carstenschnober/opt/anaconda3/envs/SoS/lib/python3.10/site-packages (from transformers) (2.28.1)\n",
      "Requirement already satisfied: packaging>=20.0 in /Users/carstenschnober/opt/anaconda3/envs/SoS/lib/python3.10/site-packages (from transformers) (21.3)\n",
      "Requirement already satisfied: tqdm>=4.27 in /Users/carstenschnober/opt/anaconda3/envs/SoS/lib/python3.10/site-packages (from transformers) (4.64.1)\n",
      "Requirement already satisfied: huggingface-hub<1.0,>=0.10.0 in /Users/carstenschnober/opt/anaconda3/envs/SoS/lib/python3.10/site-packages (from transformers) (0.10.1)\n",
      "Requirement already satisfied: filelock in /Users/carstenschnober/opt/anaconda3/envs/SoS/lib/python3.10/site-packages (from transformers) (3.8.0)\n",
      "Requirement already satisfied: pyyaml>=5.1 in /Users/carstenschnober/opt/anaconda3/envs/SoS/lib/python3.10/site-packages (from transformers) (6.0)\n",
      "Requirement already satisfied: tokenizers!=0.11.3,<0.14,>=0.11.1 in /Users/carstenschnober/opt/anaconda3/envs/SoS/lib/python3.10/site-packages (from transformers) (0.13.1)\n",
      "Requirement already satisfied: numpy>=1.17 in /Users/carstenschnober/opt/anaconda3/envs/SoS/lib/python3.10/site-packages (from transformers) (1.23.4)\n",
      "Requirement already satisfied: responses<0.19 in /Users/carstenschnober/opt/anaconda3/envs/SoS/lib/python3.10/site-packages (from datasets) (0.18.0)\n",
      "Requirement already satisfied: multiprocess in /Users/carstenschnober/opt/anaconda3/envs/SoS/lib/python3.10/site-packages (from datasets) (0.70.13)\n",
      "Requirement already satisfied: dill<0.3.6 in /Users/carstenschnober/opt/anaconda3/envs/SoS/lib/python3.10/site-packages (from datasets) (0.3.5.1)\n",
      "Requirement already satisfied: fsspec[http]>=2021.11.1 in /Users/carstenschnober/opt/anaconda3/envs/SoS/lib/python3.10/site-packages (from datasets) (2022.8.2)\n",
      "Requirement already satisfied: aiohttp in /Users/carstenschnober/opt/anaconda3/envs/SoS/lib/python3.10/site-packages (from datasets) (3.8.3)\n",
      "Requirement already satisfied: pyarrow>=6.0.0 in /Users/carstenschnober/opt/anaconda3/envs/SoS/lib/python3.10/site-packages (from datasets) (9.0.0)\n",
      "Requirement already satisfied: pandas in /Users/carstenschnober/opt/anaconda3/envs/SoS/lib/python3.10/site-packages (from datasets) (1.5.0)\n",
      "Requirement already satisfied: xxhash in /Users/carstenschnober/opt/anaconda3/envs/SoS/lib/python3.10/site-packages (from datasets) (3.0.0)\n",
      "Requirement already satisfied: multidict<7.0,>=4.5 in /Users/carstenschnober/opt/anaconda3/envs/SoS/lib/python3.10/site-packages (from aiohttp->datasets) (6.0.2)\n",
      "Requirement already satisfied: attrs>=17.3.0 in /Users/carstenschnober/opt/anaconda3/envs/SoS/lib/python3.10/site-packages (from aiohttp->datasets) (22.1.0)\n",
      "Requirement already satisfied: aiosignal>=1.1.2 in /Users/carstenschnober/opt/anaconda3/envs/SoS/lib/python3.10/site-packages (from aiohttp->datasets) (1.2.0)\n",
      "Requirement already satisfied: async-timeout<5.0,>=4.0.0a3 in /Users/carstenschnober/opt/anaconda3/envs/SoS/lib/python3.10/site-packages (from aiohttp->datasets) (4.0.2)\n",
      "Requirement already satisfied: charset-normalizer<3.0,>=2.0 in /Users/carstenschnober/opt/anaconda3/envs/SoS/lib/python3.10/site-packages (from aiohttp->datasets) (2.1.1)\n",
      "Requirement already satisfied: frozenlist>=1.1.1 in /Users/carstenschnober/opt/anaconda3/envs/SoS/lib/python3.10/site-packages (from aiohttp->datasets) (1.3.1)\n",
      "Requirement already satisfied: yarl<2.0,>=1.0 in /Users/carstenschnober/opt/anaconda3/envs/SoS/lib/python3.10/site-packages (from aiohttp->datasets) (1.8.1)\n",
      "Requirement already satisfied: typing-extensions>=3.7.4.3 in /Users/carstenschnober/opt/anaconda3/envs/SoS/lib/python3.10/site-packages (from huggingface-hub<1.0,>=0.10.0->transformers) (4.4.0)\n",
      "Requirement already satisfied: pyparsing!=3.0.5,>=2.0.2 in /Users/carstenschnober/opt/anaconda3/envs/SoS/lib/python3.10/site-packages (from packaging>=20.0->transformers) (3.0.9)\n",
      "Requirement already satisfied: idna<4,>=2.5 in /Users/carstenschnober/opt/anaconda3/envs/SoS/lib/python3.10/site-packages (from requests->transformers) (3.4)\n",
      "Requirement already satisfied: certifi>=2017.4.17 in /Users/carstenschnober/opt/anaconda3/envs/SoS/lib/python3.10/site-packages (from requests->transformers) (2022.9.24)\n",
      "Requirement already satisfied: urllib3<1.27,>=1.21.1 in /Users/carstenschnober/opt/anaconda3/envs/SoS/lib/python3.10/site-packages (from requests->transformers) (1.26.12)\n",
      "Requirement already satisfied: python-dateutil>=2.8.1 in /Users/carstenschnober/opt/anaconda3/envs/SoS/lib/python3.10/site-packages (from pandas->datasets) (2.8.2)\n",
      "Requirement already satisfied: pytz>=2020.1 in /Users/carstenschnober/opt/anaconda3/envs/SoS/lib/python3.10/site-packages (from pandas->datasets) (2022.4)\n",
      "Requirement already satisfied: six>=1.5 in /Users/carstenschnober/opt/anaconda3/envs/SoS/lib/python3.10/site-packages (from python-dateutil>=2.8.1->pandas->datasets) (1.16.0)\n",
      "Note: you may need to restart the kernel to use updated packages.\n",
      "Requirement already satisfied: torch in /Users/carstenschnober/opt/anaconda3/envs/SoS/lib/python3.10/site-packages (1.12.1)\n",
      "Requirement already satisfied: typing-extensions in /Users/carstenschnober/opt/anaconda3/envs/SoS/lib/python3.10/site-packages (from torch) (4.4.0)\n",
      "Note: you may need to restart the kernel to use updated packages.\n",
      "Requirement already satisfied: matplotlib in /Users/carstenschnober/opt/anaconda3/envs/SoS/lib/python3.10/site-packages (3.6.2)\n",
      "Requirement already satisfied: pyparsing>=2.2.1 in /Users/carstenschnober/opt/anaconda3/envs/SoS/lib/python3.10/site-packages (from matplotlib) (3.0.9)\n",
      "Requirement already satisfied: kiwisolver>=1.0.1 in /Users/carstenschnober/opt/anaconda3/envs/SoS/lib/python3.10/site-packages (from matplotlib) (1.4.4)\n",
      "Requirement already satisfied: fonttools>=4.22.0 in /Users/carstenschnober/opt/anaconda3/envs/SoS/lib/python3.10/site-packages (from matplotlib) (4.38.0)\n",
      "Requirement already satisfied: python-dateutil>=2.7 in /Users/carstenschnober/opt/anaconda3/envs/SoS/lib/python3.10/site-packages (from matplotlib) (2.8.2)\n",
      "Requirement already satisfied: packaging>=20.0 in /Users/carstenschnober/opt/anaconda3/envs/SoS/lib/python3.10/site-packages (from matplotlib) (21.3)\n",
      "Requirement already satisfied: numpy>=1.19 in /Users/carstenschnober/opt/anaconda3/envs/SoS/lib/python3.10/site-packages (from matplotlib) (1.23.4)\n",
      "Requirement already satisfied: contourpy>=1.0.1 in /Users/carstenschnober/opt/anaconda3/envs/SoS/lib/python3.10/site-packages (from matplotlib) (1.0.6)\n",
      "Requirement already satisfied: pillow>=6.2.0 in /Users/carstenschnober/opt/anaconda3/envs/SoS/lib/python3.10/site-packages (from matplotlib) (9.3.0)\n",
      "Requirement already satisfied: cycler>=0.10 in /Users/carstenschnober/opt/anaconda3/envs/SoS/lib/python3.10/site-packages (from matplotlib) (0.11.0)\n",
      "Requirement already satisfied: six>=1.5 in /Users/carstenschnober/opt/anaconda3/envs/SoS/lib/python3.10/site-packages (from python-dateutil>=2.7->matplotlib) (1.16.0)\n",
      "Note: you may need to restart the kernel to use updated packages.\n",
      "Requirement already satisfied: umap-learn in /Users/carstenschnober/opt/anaconda3/envs/SoS/lib/python3.10/site-packages (0.5.3)\n",
      "Requirement already satisfied: scikit-learn>=0.22 in /Users/carstenschnober/opt/anaconda3/envs/SoS/lib/python3.10/site-packages (from umap-learn) (1.1.3)\n",
      "Requirement already satisfied: pynndescent>=0.5 in /Users/carstenschnober/opt/anaconda3/envs/SoS/lib/python3.10/site-packages (from umap-learn) (0.5.8)\n",
      "Requirement already satisfied: scipy>=1.0 in /Users/carstenschnober/opt/anaconda3/envs/SoS/lib/python3.10/site-packages (from umap-learn) (1.9.2)\n",
      "Requirement already satisfied: tqdm in /Users/carstenschnober/opt/anaconda3/envs/SoS/lib/python3.10/site-packages (from umap-learn) (4.64.1)\n",
      "Requirement already satisfied: numba>=0.49 in /Users/carstenschnober/opt/anaconda3/envs/SoS/lib/python3.10/site-packages (from umap-learn) (0.56.4)\n",
      "Requirement already satisfied: numpy>=1.17 in /Users/carstenschnober/opt/anaconda3/envs/SoS/lib/python3.10/site-packages (from umap-learn) (1.23.4)\n",
      "Requirement already satisfied: setuptools in /Users/carstenschnober/opt/anaconda3/envs/SoS/lib/python3.10/site-packages (from numba>=0.49->umap-learn) (63.4.1)\n",
      "Requirement already satisfied: llvmlite<0.40,>=0.39.0dev0 in /Users/carstenschnober/opt/anaconda3/envs/SoS/lib/python3.10/site-packages (from numba>=0.49->umap-learn) (0.39.1)\n",
      "Requirement already satisfied: joblib>=0.11 in /Users/carstenschnober/opt/anaconda3/envs/SoS/lib/python3.10/site-packages (from pynndescent>=0.5->umap-learn) (1.2.0)\n",
      "Requirement already satisfied: threadpoolctl>=2.0.0 in /Users/carstenschnober/opt/anaconda3/envs/SoS/lib/python3.10/site-packages (from scikit-learn>=0.22->umap-learn) (3.1.0)\n",
      "Note: you may need to restart the kernel to use updated packages.\n",
      "Requirement already satisfied: pandas in /Users/carstenschnober/opt/anaconda3/envs/SoS/lib/python3.10/site-packages (1.5.0)\n",
      "Requirement already satisfied: matplotlib in /Users/carstenschnober/opt/anaconda3/envs/SoS/lib/python3.10/site-packages (3.6.2)\n",
      "Requirement already satisfied: datashader in /Users/carstenschnober/opt/anaconda3/envs/SoS/lib/python3.10/site-packages (0.14.2)\n",
      "Requirement already satisfied: bokeh in /Users/carstenschnober/opt/anaconda3/envs/SoS/lib/python3.10/site-packages (2.4.3)\n",
      "Requirement already satisfied: holoviews in /Users/carstenschnober/opt/anaconda3/envs/SoS/lib/python3.10/site-packages (1.15.2)\n",
      "Requirement already satisfied: colorcet in /Users/carstenschnober/opt/anaconda3/envs/SoS/lib/python3.10/site-packages (3.0.1)\n",
      "Requirement already satisfied: scikit-image in /Users/carstenschnober/opt/anaconda3/envs/SoS/lib/python3.10/site-packages (0.19.3)\n",
      "Requirement already satisfied: numpy>=1.21.0 in /Users/carstenschnober/opt/anaconda3/envs/SoS/lib/python3.10/site-packages (from pandas) (1.23.4)\n",
      "Requirement already satisfied: python-dateutil>=2.8.1 in /Users/carstenschnober/opt/anaconda3/envs/SoS/lib/python3.10/site-packages (from pandas) (2.8.2)\n",
      "Requirement already satisfied: pytz>=2020.1 in /Users/carstenschnober/opt/anaconda3/envs/SoS/lib/python3.10/site-packages (from pandas) (2022.4)\n",
      "Requirement already satisfied: pyparsing>=2.2.1 in /Users/carstenschnober/opt/anaconda3/envs/SoS/lib/python3.10/site-packages (from matplotlib) (3.0.9)\n",
      "Requirement already satisfied: packaging>=20.0 in /Users/carstenschnober/opt/anaconda3/envs/SoS/lib/python3.10/site-packages (from matplotlib) (21.3)\n",
      "Requirement already satisfied: pillow>=6.2.0 in /Users/carstenschnober/opt/anaconda3/envs/SoS/lib/python3.10/site-packages (from matplotlib) (9.3.0)\n",
      "Requirement already satisfied: kiwisolver>=1.0.1 in /Users/carstenschnober/opt/anaconda3/envs/SoS/lib/python3.10/site-packages (from matplotlib) (1.4.4)\n",
      "Requirement already satisfied: cycler>=0.10 in /Users/carstenschnober/opt/anaconda3/envs/SoS/lib/python3.10/site-packages (from matplotlib) (0.11.0)\n",
      "Requirement already satisfied: fonttools>=4.22.0 in /Users/carstenschnober/opt/anaconda3/envs/SoS/lib/python3.10/site-packages (from matplotlib) (4.38.0)\n",
      "Requirement already satisfied: contourpy>=1.0.1 in /Users/carstenschnober/opt/anaconda3/envs/SoS/lib/python3.10/site-packages (from matplotlib) (1.0.6)\n",
      "Requirement already satisfied: param>=1.6.1 in /Users/carstenschnober/opt/anaconda3/envs/SoS/lib/python3.10/site-packages (from datashader) (1.12.2)\n",
      "Requirement already satisfied: xarray>=0.9.6 in /Users/carstenschnober/opt/anaconda3/envs/SoS/lib/python3.10/site-packages (from datashader) (2022.11.0)\n",
      "Requirement already satisfied: pyct>=0.4.5 in /Users/carstenschnober/opt/anaconda3/envs/SoS/lib/python3.10/site-packages (from datashader) (0.4.8)\n",
      "Requirement already satisfied: dask[complete] in /Users/carstenschnober/opt/anaconda3/envs/SoS/lib/python3.10/site-packages (from datashader) (2022.10.2)\n",
      "Requirement already satisfied: datashape>=0.5.1 in /Users/carstenschnober/opt/anaconda3/envs/SoS/lib/python3.10/site-packages (from datashader) (0.5.2)\n",
      "Requirement already satisfied: numba>=0.51 in /Users/carstenschnober/opt/anaconda3/envs/SoS/lib/python3.10/site-packages (from datashader) (0.56.4)\n",
      "Requirement already satisfied: requests in /Users/carstenschnober/opt/anaconda3/envs/SoS/lib/python3.10/site-packages (from datashader) (2.28.1)\n",
      "Requirement already satisfied: scipy in /Users/carstenschnober/opt/anaconda3/envs/SoS/lib/python3.10/site-packages (from datashader) (1.9.2)\n",
      "Requirement already satisfied: tornado>=5.1 in /Users/carstenschnober/opt/anaconda3/envs/SoS/lib/python3.10/site-packages (from bokeh) (6.1)\n",
      "Requirement already satisfied: PyYAML>=3.10 in /Users/carstenschnober/opt/anaconda3/envs/SoS/lib/python3.10/site-packages (from bokeh) (6.0)\n",
      "Requirement already satisfied: Jinja2>=2.9 in /Users/carstenschnober/opt/anaconda3/envs/SoS/lib/python3.10/site-packages (from bokeh) (3.1.2)\n",
      "Requirement already satisfied: typing-extensions>=3.10.0 in /Users/carstenschnober/opt/anaconda3/envs/SoS/lib/python3.10/site-packages (from bokeh) (4.4.0)\n",
      "Requirement already satisfied: pyviz-comms>=0.7.4 in /Users/carstenschnober/opt/anaconda3/envs/SoS/lib/python3.10/site-packages (from holoviews) (2.2.1)\n",
      "Requirement already satisfied: panel>=0.13.1 in /Users/carstenschnober/opt/anaconda3/envs/SoS/lib/python3.10/site-packages (from holoviews) (0.14.1)\n",
      "Requirement already satisfied: PyWavelets>=1.1.1 in /Users/carstenschnober/opt/anaconda3/envs/SoS/lib/python3.10/site-packages (from scikit-image) (1.4.1)\n",
      "Requirement already satisfied: imageio>=2.4.1 in /Users/carstenschnober/opt/anaconda3/envs/SoS/lib/python3.10/site-packages (from scikit-image) (2.22.4)\n",
      "Requirement already satisfied: tifffile>=2019.7.26 in /Users/carstenschnober/opt/anaconda3/envs/SoS/lib/python3.10/site-packages (from scikit-image) (2022.10.10)\n",
      "Requirement already satisfied: networkx>=2.2 in /Users/carstenschnober/opt/anaconda3/envs/SoS/lib/python3.10/site-packages (from scikit-image) (2.8.8)\n",
      "Requirement already satisfied: multipledispatch>=0.4.7 in /Users/carstenschnober/opt/anaconda3/envs/SoS/lib/python3.10/site-packages (from datashape>=0.5.1->datashader) (0.6.0)\n",
      "Requirement already satisfied: MarkupSafe>=2.0 in /Users/carstenschnober/opt/anaconda3/envs/SoS/lib/python3.10/site-packages (from Jinja2>=2.9->bokeh) (2.1.1)\n",
      "Requirement already satisfied: setuptools in /Users/carstenschnober/opt/anaconda3/envs/SoS/lib/python3.10/site-packages (from numba>=0.51->datashader) (63.4.1)\n",
      "Requirement already satisfied: llvmlite<0.40,>=0.39.0dev0 in /Users/carstenschnober/opt/anaconda3/envs/SoS/lib/python3.10/site-packages (from numba>=0.51->datashader) (0.39.1)\n",
      "Requirement already satisfied: bleach in /Users/carstenschnober/opt/anaconda3/envs/SoS/lib/python3.10/site-packages (from panel>=0.13.1->holoviews) (5.0.1)\n",
      "Requirement already satisfied: markdown in /Users/carstenschnober/opt/anaconda3/envs/SoS/lib/python3.10/site-packages (from panel>=0.13.1->holoviews) (3.4.1)\n",
      "Requirement already satisfied: tqdm>=4.48.0 in /Users/carstenschnober/opt/anaconda3/envs/SoS/lib/python3.10/site-packages (from panel>=0.13.1->holoviews) (4.64.1)\n",
      "Requirement already satisfied: six>=1.5 in /Users/carstenschnober/opt/anaconda3/envs/SoS/lib/python3.10/site-packages (from python-dateutil>=2.8.1->pandas) (1.16.0)\n",
      "Requirement already satisfied: fsspec>=0.6.0 in /Users/carstenschnober/opt/anaconda3/envs/SoS/lib/python3.10/site-packages (from dask[complete]->datashader) (2022.8.2)\n",
      "Requirement already satisfied: click>=7.0 in /Users/carstenschnober/opt/anaconda3/envs/SoS/lib/python3.10/site-packages (from dask[complete]->datashader) (8.1.3)\n",
      "Requirement already satisfied: toolz>=0.8.2 in /Users/carstenschnober/opt/anaconda3/envs/SoS/lib/python3.10/site-packages (from dask[complete]->datashader) (0.12.0)\n",
      "Requirement already satisfied: partd>=0.3.10 in /Users/carstenschnober/opt/anaconda3/envs/SoS/lib/python3.10/site-packages (from dask[complete]->datashader) (1.3.0)\n",
      "Requirement already satisfied: cloudpickle>=1.1.1 in /Users/carstenschnober/opt/anaconda3/envs/SoS/lib/python3.10/site-packages (from dask[complete]->datashader) (2.2.0)\n",
      "Requirement already satisfied: distributed==2022.10.2 in /Users/carstenschnober/opt/anaconda3/envs/SoS/lib/python3.10/site-packages (from dask[complete]->datashader) (2022.10.2)\n",
      "Requirement already satisfied: zict>=0.1.3 in /Users/carstenschnober/opt/anaconda3/envs/SoS/lib/python3.10/site-packages (from distributed==2022.10.2->dask[complete]->datashader) (2.2.0)\n",
      "Requirement already satisfied: urllib3 in /Users/carstenschnober/opt/anaconda3/envs/SoS/lib/python3.10/site-packages (from distributed==2022.10.2->dask[complete]->datashader) (1.26.12)\n",
      "Requirement already satisfied: locket>=1.0.0 in /Users/carstenschnober/opt/anaconda3/envs/SoS/lib/python3.10/site-packages (from distributed==2022.10.2->dask[complete]->datashader) (1.0.0)\n",
      "Requirement already satisfied: sortedcontainers!=2.0.0,!=2.0.1 in /Users/carstenschnober/opt/anaconda3/envs/SoS/lib/python3.10/site-packages (from distributed==2022.10.2->dask[complete]->datashader) (2.4.0)\n",
      "Requirement already satisfied: tblib>=1.6.0 in /Users/carstenschnober/opt/anaconda3/envs/SoS/lib/python3.10/site-packages (from distributed==2022.10.2->dask[complete]->datashader) (1.7.0)\n",
      "Requirement already satisfied: psutil>=5.0 in /Users/carstenschnober/opt/anaconda3/envs/SoS/lib/python3.10/site-packages (from distributed==2022.10.2->dask[complete]->datashader) (5.9.0)\n",
      "Requirement already satisfied: msgpack>=0.6.0 in /Users/carstenschnober/opt/anaconda3/envs/SoS/lib/python3.10/site-packages (from distributed==2022.10.2->dask[complete]->datashader) (1.0.4)\n",
      "Requirement already satisfied: charset-normalizer<3,>=2 in /Users/carstenschnober/opt/anaconda3/envs/SoS/lib/python3.10/site-packages (from requests->datashader) (2.1.1)\n",
      "Requirement already satisfied: certifi>=2017.4.17 in /Users/carstenschnober/opt/anaconda3/envs/SoS/lib/python3.10/site-packages (from requests->datashader) (2022.9.24)\n",
      "Requirement already satisfied: idna<4,>=2.5 in /Users/carstenschnober/opt/anaconda3/envs/SoS/lib/python3.10/site-packages (from requests->datashader) (3.4)\n",
      "Requirement already satisfied: webencodings in /Users/carstenschnober/opt/anaconda3/envs/SoS/lib/python3.10/site-packages (from bleach->panel>=0.13.1->holoviews) (0.5.1)\n",
      "Requirement already satisfied: heapdict in /Users/carstenschnober/opt/anaconda3/envs/SoS/lib/python3.10/site-packages (from zict>=0.1.3->distributed==2022.10.2->dask[complete]->datashader) (1.0.1)\n",
      "Note: you may need to restart the kernel to use updated packages.\n"
     ]
    }
   ],
   "source": [
    "%pip install transformers datasets\n",
    "%pip install torch\n",
    "%pip install matplotlib\n",
    "%pip install umap-learn\n",
    "%pip install pandas matplotlib datashader bokeh holoviews colorcet scikit-image"
   ]
  },
  {
   "cell_type": "code",
   "execution_count": 2,
   "metadata": {},
   "outputs": [],
   "source": [
    "import numpy as np\n",
    "import pandas as pd\n",
    "import matplotlib.pyplot as plt"
   ]
  },
  {
   "cell_type": "markdown",
   "metadata": {},
   "source": [
    "# Load Language Model"
   ]
  },
  {
   "cell_type": "code",
   "execution_count": 3,
   "metadata": {},
   "outputs": [],
   "source": [
    "#MODEL_NAME = \"DTAI-KULeuven/robbertje-1-gb-non-shuffled\" # NL MODEL TODO: is the model trained on lowercased data?\n",
    "\n",
    "MODEL_NAME = \"roberta-base\"\n",
    "\n",
    "#MODEL_NAME = \"xlm-roberta-base\" # cross-lingual mode (https://huggingface.co/xlm-roberta-base)\n"
   ]
  },
  {
   "cell_type": "code",
   "execution_count": 4,
   "metadata": {},
   "outputs": [
    {
     "name": "stderr",
     "output_type": "stream",
     "text": [
      "/Users/carstenschnober/opt/anaconda3/envs/SoS/lib/python3.10/site-packages/tqdm/auto.py:22: TqdmWarning: IProgress not found. Please update jupyter and ipywidgets. See https://ipywidgets.readthedocs.io/en/stable/user_install.html\n",
      "  from .autonotebook import tqdm as notebook_tqdm\n",
      "Some weights of the model checkpoint at roberta-base were not used when initializing RobertaModel: ['lm_head.layer_norm.bias', 'lm_head.decoder.weight', 'lm_head.layer_norm.weight', 'lm_head.bias', 'lm_head.dense.bias', 'lm_head.dense.weight']\n",
      "- This IS expected if you are initializing RobertaModel from the checkpoint of a model trained on another task or with another architecture (e.g. initializing a BertForSequenceClassification model from a BertForPreTraining model).\n",
      "- This IS NOT expected if you are initializing RobertaModel from the checkpoint of a model that you expect to be exactly identical (initializing a BertForSequenceClassification model from a BertForSequenceClassification model).\n"
     ]
    }
   ],
   "source": [
    "from transformers import RobertaModel, AutoTokenizer, RobertaPreTrainedModel, BertModel, GPT2Model, pipeline\n",
    "from transformers.pipelines.feature_extraction import FeatureExtractionPipeline\n",
    "\n",
    "tokenizer = AutoTokenizer.from_pretrained(MODEL_NAME)\n",
    "#model = RobertaModel.from_pretrained(MODEL_NAME)\n",
    "\n",
    "# FIXME: cannot use pipeline for extracting layers other than the last one\n",
    "model: FeatureExtractionPipeline = pipeline('feature-extraction', model=MODEL_NAME, tokenizer=tokenizer)"
   ]
  },
  {
   "cell_type": "markdown",
   "metadata": {},
   "source": [
    "# Load Data"
   ]
  },
  {
   "cell_type": "code",
   "execution_count": 5,
   "metadata": {},
   "outputs": [],
   "source": [
    "from pathlib import Path\n",
    "\n",
    "DATA_DIR = Path.cwd() / \"data\""
   ]
  },
  {
   "cell_type": "markdown",
   "metadata": {},
   "source": [
    "## SemEval 2020 (C)COHA corpus"
   ]
  },
  {
   "cell_type": "markdown",
   "metadata": {},
   "source": [
    "### Download"
   ]
  },
  {
   "cell_type": "code",
   "execution_count": 6,
   "metadata": {},
   "outputs": [
    {
     "name": "stdout",
     "output_type": "stream",
     "text": [
      "Directory '/Users/carstenschnober/Documents/SemanticsOfSustainability/workspace/ContextualLM/data/semeval2020_ulscd_eng' already exists, skipping corpus download.\n"
     ]
    }
   ],
   "source": [
    "from io import BytesIO\n",
    "from zipfile import ZipFile\n",
    "import urllib\n",
    "\n",
    "SEMEVAL_DATA_URL = \"https://www2.ims.uni-stuttgart.de/data/sem-eval-ulscd/semeval2020_ulscd_eng.zip\"\n",
    "\n",
    "SEMEVAL2020_DIR = DATA_DIR / \"semeval2020_ulscd_eng\"\n",
    "\n",
    "if SEMEVAL2020_DIR.is_dir():\n",
    "    print(f\"Directory '{SEMEVAL2020_DIR}' already exists, skipping corpus download.\")\n",
    "else:\n",
    "    with urllib.request.urlopen(SEMEVAL_DATA_URL) as f:\n",
    "        with ZipFile(BytesIO(f.read())) as zipfile:\n",
    "            zipfile.extractall(DATA_DIR)\n",
    "\n",
    "assert SEMEVAL2020_DIR.is_dir(), f\"Directory does not exist: '{SEMEVAL2020_DIR}'\"\n"
   ]
  },
  {
   "cell_type": "code",
   "execution_count": 7,
   "metadata": {},
   "outputs": [],
   "source": [
    "CORPUS1_DIR = SEMEVAL2020_DIR / 'corpus1'\n",
    "CORPUS2_DIR = SEMEVAL2020_DIR / 'corpus2'\n",
    "TRUTH_DIR = SEMEVAL2020_DIR / 'truth'\n",
    "\n",
    "assert CORPUS1_DIR.is_dir(), f\"Directory does not exist: '{CORPUS1_DIR}'\"\n",
    "assert CORPUS2_DIR.is_dir(), f\"Directory does not exist: '{CORPUS2_DIR}'\"\n",
    "assert TRUTH_DIR.is_dir(), f\"Directory does not exist: '{TRUTH_DIR}'\"\n"
   ]
  },
  {
   "cell_type": "markdown",
   "metadata": {},
   "source": [
    "### Read"
   ]
  },
  {
   "cell_type": "code",
   "execution_count": 8,
   "metadata": {},
   "outputs": [],
   "source": [
    "TOKENS_FILE1 = CORPUS1_DIR / \"token\" / \"ccoha1.txt.gz\"\n",
    "TOKENS_FILE2 = CORPUS2_DIR / \"token\" / \"ccoha2.txt.gz\"\n",
    "\n",
    "assert TOKENS_FILE1.is_file()\n",
    "assert TOKENS_FILE2.is_file()"
   ]
  },
  {
   "cell_type": "code",
   "execution_count": 9,
   "metadata": {},
   "outputs": [],
   "source": [
    "import gzip\n",
    "\n",
    "with gzip.open(TOKENS_FILE1, 'rt') as f:\n",
    "    sentences_1810 = f.readlines()\n",
    "\n",
    "assert len(sentences_1810) == 253644\n",
    "\n",
    "with gzip.open(TOKENS_FILE2, 'rt') as f:\n",
    "    sentences_1960 = f.readlines()\n",
    "\n",
    "assert len(sentences_1960) == 353692"
   ]
  },
  {
   "cell_type": "markdown",
   "metadata": {},
   "source": [
    "## COHA Corpus (Sample)"
   ]
  },
  {
   "cell_type": "markdown",
   "metadata": {},
   "source": [
    "### Download"
   ]
  },
  {
   "cell_type": "code",
   "execution_count": 10,
   "metadata": {},
   "outputs": [
    {
     "name": "stdout",
     "output_type": "stream",
     "text": [
      "Directory '/Users/carstenschnober/Documents/SemanticsOfSustainability/workspace/ContextualLM/data/COHA' already exists: [Errno 17] File exists: '/Users/carstenschnober/Documents/SemanticsOfSustainability/workspace/ContextualLM/data/COHA'. Skipping corpus download.\n"
     ]
    }
   ],
   "source": [
    "#COHA_DATABASE_URL = 'https://www.corpusdata.org/coha/samples/database.zip'\n",
    "COHA_TEXT_URL = 'https://www.corpusdata.org/coha/samples/text.zip'\n",
    "\n",
    "COHA_DIR = DATA_DIR / \"COHA\"\n",
    "\n",
    "try:\n",
    "    COHA_DIR.mkdir(parents=True, exist_ok=False)\n",
    "except OSError as e:\n",
    "    print(f\"Directory '{COHA_DIR}' already exists: {str(e)}. Skipping corpus download.\")\n",
    "else:\n",
    "    with urllib.request.urlopen(COHA_TEXT_URL) as f:\n",
    "        with ZipFile(BytesIO(f.read())) as zipfile:\n",
    "            zipfile.extractall(COHA_DIR)\n",
    "\n",
    "assert COHA_DIR.is_dir()"
   ]
  },
  {
   "cell_type": "markdown",
   "metadata": {},
   "source": [
    "### Read CohaDocs"
   ]
  },
  {
   "cell_type": "code",
   "execution_count": 11,
   "metadata": {},
   "outputs": [],
   "source": [
    "from functools import cached_property\n",
    "import logging\n",
    "import re\n",
    "from typing import Generator, List\n",
    "\n",
    "FILENAME_PATTERN = r\"([a-z]{2,4})_(\\d{4})_(\\d{3,6})\\.txt\"\n",
    "SENTENCE_PATTERN = r\"\\s*(.*?\\s[\\.!?\\n])\"\n",
    "\n",
    "class CohaDoc:\n",
    "    _encoding = 'UTF-8'\n",
    "\n",
    "    def __init__(self, path: Path):\n",
    "        self._path = path\n",
    "\n",
    "        try:\n",
    "            genre, year, id = re.search(FILENAME_PATTERN, self._path.name).groups()\n",
    "        except AttributeError as e:\n",
    "            raise ValueError(f\"Could not parse path: '{path}': {str(e)}\")\n",
    "        \n",
    "        self._genre = genre\n",
    "        self._year = int(year)\n",
    "        self._id = int(id)\n",
    "\n",
    "    def __repr__(self) -> str:\n",
    "        return str(self._path.name)\n",
    "\n",
    "    def __str__(self) -> str:\n",
    "        return str(self._path.name)\n",
    "\n",
    "    @property\n",
    "    def genre(self) -> str:\n",
    "        return self._genre\n",
    "\n",
    "    @property\n",
    "    def year(self) -> int:\n",
    "        return self._year\n",
    "\n",
    "    @property\n",
    "    def id(self) -> int:\n",
    "        return self._id\n",
    "    \n",
    "    @cached_property\n",
    "    def text(self):\n",
    "        with open(self._path, 'rt', encoding=self._encoding) as f:\n",
    "            return f.read()\n",
    "\n",
    "    def sentences(self):\n",
    "        sentences = re.findall(SENTENCE_PATTERN, self.text)\n",
    "        assert sentences[0].strip() == f\"@@{self._id}\", f\"First line is expected to match document ID ('{self._id}'), but is: {sentences[0]}\"\n",
    "        return sentences[1:]\n",
    "\n",
    "    def find_sentences(self, term: str) -> List[str]:\n",
    "        \"\"\"Find the sentences containing the term. No tokenization done, just string search.\"\"\"\n",
    "        return [\n",
    "            sentence\n",
    "            for sentence in self.sentences()\n",
    "            if term in sentence\n",
    "        ]\n",
    "        \n",
    "    def clean_sentences(self):\n",
    "        # TODO\n",
    "        return NotImplemented\n"
   ]
  },
  {
   "cell_type": "code",
   "execution_count": 12,
   "metadata": {},
   "outputs": [],
   "source": [
    "coha_docs = [CohaDoc(file) for file in COHA_DIR.glob('*.txt')]\n",
    "\n",
    "assert len(coha_docs) == 1144"
   ]
  },
  {
   "cell_type": "code",
   "execution_count": 13,
   "metadata": {},
   "outputs": [
    {
     "data": {
      "text/plain": [
       "(array([ 12.,  13.,  24.,  50.,  60., 156., 206., 188., 247., 188.]),\n",
       " array([1817. , 1836.2, 1855.4, 1874.6, 1893.8, 1913. , 1932.2, 1951.4,\n",
       "        1970.6, 1989.8, 2009. ]),\n",
       " <BarContainer object of 10 artists>)"
      ]
     },
     "execution_count": 13,
     "metadata": {},
     "output_type": "execute_result"
    },
    {
     "data": {
      "image/png": "[encoded data removed]",
      "text/plain": [
       "<Figure size 640x480 with 1 Axes>"
      ]
     },
     "metadata": {},
     "output_type": "display_data"
    }
   ],
   "source": [
    "plt.hist([c.year for c in coha_docs])"
   ]
  },
  {
   "cell_type": "code",
   "execution_count": 14,
   "metadata": {},
   "outputs": [
    {
     "data": {
      "text/plain": [
       "(array([586.,   0.,   0., 424.,   0.,   0., 108.,   0.,   0.,  26.]),\n",
       " array([0. , 0.3, 0.6, 0.9, 1.2, 1.5, 1.8, 2.1, 2.4, 2.7, 3. ]),\n",
       " <BarContainer object of 10 artists>)"
      ]
     },
     "execution_count": 14,
     "metadata": {},
     "output_type": "execute_result"
    },
    {
     "data": {
      "image/png": "[encoded data removed]",
      "text/plain": [
       "<Figure size 640x480 with 1 Axes>"
      ]
     },
     "metadata": {},
     "output_type": "display_data"
    }
   ],
   "source": [
    "plt.hist([c.genre for c in coha_docs])"
   ]
  },
  {
   "cell_type": "markdown",
   "metadata": {},
   "source": [
    "# Embeddings"
   ]
  },
  {
   "cell_type": "code",
   "execution_count": 15,
   "metadata": {},
   "outputs": [],
   "source": [
    "TERM = 'cell'"
   ]
  },
  {
   "cell_type": "markdown",
   "metadata": {},
   "source": [
    "## Find Relevant Sentences"
   ]
  },
  {
   "cell_type": "code",
   "execution_count": 26,
   "metadata": {},
   "outputs": [],
   "source": [
    "import collections\n",
    "from dataclasses import dataclass\n",
    "from functools import cache\n",
    "from itertools import islice\n",
    "from typing import Iterable, List, Optional, Tuple\n",
    "from transformers.pipelines.feature_extraction import FeatureExtractionPipeline\n",
    "from numpy.typing import ArrayLike\n",
    "\n",
    "\n",
    "def sliding_window(iterable, n):\n",
    "    # From https://docs.python.org/3/library/itertools.html#itertools-recipes\n",
    "    # sliding_window('ABCDEFG', 4) --> ABCD BCDE CDEF DEFG\n",
    "    it = iter(iterable)\n",
    "    window = collections.deque(islice(it, n), maxlen=n)\n",
    "    if len(window) == n:\n",
    "        yield tuple(window)\n",
    "    for x in it:\n",
    "        window.append(x)\n",
    "        yield tuple(window)\n",
    "\n",
    "\n",
    "BEGIN_OF_WORD_CHAR = \"Ġ\"\n",
    "\n",
    "\n",
    "@dataclass\n",
    "class Sentence:\n",
    "    text: str\n",
    "    coha_doc: CohaDoc\n",
    "    model: FeatureExtractionPipeline\n",
    "\n",
    "    def __contains__(self, s: str):\n",
    "        return s in self.text\n",
    "\n",
    "    @property\n",
    "    def year(self) -> Optional[int]:\n",
    "        return self.coha_doc.year\n",
    "\n",
    "    @property\n",
    "    def tokenizer(self):\n",
    "        return self.model.tokenizer\n",
    "\n",
    "    @cached_property\n",
    "    def _embeddings(self):\n",
    "        return self.model(self.text)[0]\n",
    "\n",
    "    @cached_property\n",
    "    def _token_ids(self):\n",
    "        return self.tokenizer(self.text)[\"input_ids\"]\n",
    "\n",
    "    @property\n",
    "    def _tokens(self) -> List[str]:\n",
    "        return model.tokenizer.convert_ids_to_tokens(self._token_ids)\n",
    "\n",
    "    def embeddings_matrix(self, token: str) -> List[ArrayLike]:\n",
    "        return [\n",
    "            self._aggregate_embeddings(token_i, token_length)\n",
    "            for token_i, token_length in self._find_token(token)\n",
    "        ]\n",
    "\n",
    "    def _find_token(self, token: str, max_n: int = 5) -> Tuple[int, int]:\n",
    "        \"\"\"\n",
    "        Find sequences of (sub-word) tokens that match a (word) token if merged\n",
    "\n",
    "        Args:\n",
    "            - token: a token (word) to find, exact match\n",
    "            - max_n: the maximum number of sub-word tokens to be merged\n",
    "        Yields: Tuple[int, int]: the token index and the length (number of tokens to be merged)\n",
    "        \"\"\"\n",
    "\n",
    "        for window_size in range(1, max_n):\n",
    "            for window_index in range(1, len(self._tokens)):\n",
    "                if window_index + window_size < len(self._tokens):\n",
    "                    first_token = self._tokens[window_index]\n",
    "                    merged_token = self.tokenizer.convert_tokens_to_string(\n",
    "                        self._tokens[window_index : window_index + window_size]\n",
    "                    )\n",
    "                    next_token = self._tokens[window_index + window_size]\n",
    "\n",
    "                    is_word_begin = window_index == 1 or first_token.startswith(\n",
    "                        BEGIN_OF_WORD_CHAR\n",
    "                    )\n",
    "                    is_word_end = (\n",
    "                        next_token.startswith(BEGIN_OF_WORD_CHAR)\n",
    "                        or next_token == self.tokenizer.special_tokens_map[\"eos_token\"]\n",
    "                    )\n",
    "\n",
    "                    if is_word_begin and merged_token.strip() == token and is_word_end:\n",
    "                        yield window_index, window_size\n",
    "\n",
    "    def _aggregate_embeddings(self, token_start_index: int, n_tokens: int) -> ArrayLike:\n",
    "        \"\"\"Return a one-dimensional array of the (aggregated) token embedding(s).\n",
    "        \n",
    "        Args:\n",
    "            - token_start_index: the token position in the sentence, according to the model's tokenizer\n",
    "            - n_tokens: the number of tokens to aggregate (1 for a single token)\n",
    "        \n",
    "        Returns:\n",
    "            A vector of shape (<embedding dimensionlaity, 1)\n",
    "            for the token embedding at the given position, or the mean of multiple token embeddings\n",
    "        \"\"\"\n",
    "        a: np.array\n",
    "        if n_tokens == 1:\n",
    "            a = np.array(self._embeddings[token_start_index])\n",
    "        else:\n",
    "            a = np.array(\n",
    "                self._embeddings[token_start_index : token_start_index + n_tokens]\n",
    "            ).mean(axis=0)\n",
    "        assert a.shape == (\n",
    "            model.model.config.hidden_size,\n",
    "        ), f\"Invalid shape: {a.shape} for token index {token_start_index}, token length {n_tokens}.\"\n",
    "        return a\n",
    "\n"
   ]
  },
  {
   "cell_type": "code",
   "execution_count": 27,
   "metadata": {},
   "outputs": [
    {
     "name": "stderr",
     "output_type": "stream",
     "text": [
      "100%|██████████| 1144/1144 [00:00<00:00, 1606.23doc/s]"
     ]
    },
    {
     "name": "stdout",
     "output_type": "stream",
     "text": [
      "622\n"
     ]
    },
    {
     "name": "stderr",
     "output_type": "stream",
     "text": [
      "\n"
     ]
    }
   ],
   "source": [
    "from tqdm import tqdm\n",
    "\n",
    "sentence_candidates: List[Sentence] = [\n",
    "    Sentence(s, doc, model)\n",
    "    for doc in tqdm(coha_docs, unit='doc')\n",
    "    for s in doc.find_sentences(TERM)\n",
    "]\n",
    "\n",
    "print(len(sentence_candidates))"
   ]
  },
  {
   "cell_type": "markdown",
   "metadata": {},
   "source": [
    "## Compute Embeddings"
   ]
  },
  {
   "cell_type": "code",
   "execution_count": 28,
   "metadata": {},
   "outputs": [
    {
     "name": "stderr",
     "output_type": "stream",
     "text": [
      "Embeddings for 'cell':  18%|█▊        | 113/622 [00:05<00:21, 23.38sentence/s]Token indices sequence length is longer than the specified maximum sequence length for this model (1572 > 512). Running this sequence through the model will result in indexing errors\n",
      "Embeddings for 'cell': 100%|██████████| 622/622 [00:58<00:00, 10.72sentence/s]\n"
     ]
    },
    {
     "data": {
      "text/plain": [
       "58"
      ]
     },
     "execution_count": 28,
     "metadata": {},
     "output_type": "execute_result"
    }
   ],
   "source": [
    "embeddings = []  # Changed into array below for efficiency\n",
    "sentences = []\n",
    "\n",
    "MAX_SENTENCES = None\n",
    "\n",
    "for sentence in tqdm(\n",
    "    sentence_candidates[:MAX_SENTENCES],\n",
    "    unit=\"sentence\",\n",
    "    desc=f\"Embeddings for '{TERM}'\",\n",
    "):\n",
    "    for embedding in sentence.embeddings_matrix(TERM):\n",
    "        embeddings.append(embedding)\n",
    "        sentences.append(sentence)\n",
    "\n",
    "assert len(embeddings) == len(sentences)\n",
    "len(embeddings)\n"
   ]
  },
  {
   "cell_type": "code",
   "execution_count": 29,
   "metadata": {},
   "outputs": [
    {
     "data": {
      "text/plain": [
       "[Sentence(text='It had only been when Bolton \\'s sister had discovered an empty \" cell , \" as Jack called the bedroom next to his , that he had abandoned his intention of camping out on Jack \\'s disheartened lounge , and had retired like a gentleman carrying with him all his toilet articles , ready to @ @ @ @ @ @ @ @ @ @ time he had captured everybody in the place : from Mrs. Hicks , who never dreamed that such a well of tenderness over suffering could exist in an old fellow \\'s heart , down to the freckled-faced boy who came for his muddy shoes and who , after a moment \\'s talk with Peter as to how they should be polished , retired later in the firm belief that they belonged to \" a gent way up in G , \" as he expressed it , he never having waited on \" the likes of him before .', coha_doc=fic_1908_1150.txt, model=<transformers.pipelines.feature_extraction.FeatureExtractionPipeline object at 0x7fae844dff10>),\n",
       " Sentence(text='And we fade to : Rick , at night , listening to his cell messages in the darkness of his apartment .', coha_doc=fic_2005_50150.txt, model=<transformers.pipelines.feature_extraction.FeatureExtractionPipeline object at 0x7fae844dff10>),\n",
       " Sentence(text=\"A bulky television set , incongruous in the cell of the girl 's apartment , claimed one wall wholly to itself .\", coha_doc=fic_1979_10650.txt, model=<transformers.pipelines.feature_extraction.FeatureExtractionPipeline object at 0x7fae844dff10>),\n",
       " Sentence(text='\" The final straw was when I went into the locker room and was confronted with this hideous and haunting view : She was sitting completely naked and spread-eagle over one of the sinks , basically straddling the faucet and talking loudly on her cell phone while she shaved her bikini line .', coha_doc=mag_2007_390950.txt, model=<transformers.pipelines.feature_extraction.FeatureExtractionPipeline object at 0x7fae844dff10>),\n",
       " Sentence(text='He keeps his cell off , but knows the messages will keep coming .', coha_doc=fic_2005_50150.txt, model=<transformers.pipelines.feature_extraction.FeatureExtractionPipeline object at 0x7fae844dff10>)]"
      ]
     },
     "execution_count": 29,
     "metadata": {},
     "output_type": "execute_result"
    }
   ],
   "source": [
    "import random\n",
    "random.sample(sentences, 5)"
   ]
  },
  {
   "cell_type": "code",
   "execution_count": 30,
   "metadata": {},
   "outputs": [
    {
     "data": {
      "text/plain": [
       "[Sentence(text=\"On the other hand , whoever one 's grandfather had been did not preventone , these days , from crossing over to the other side  --  almost the contrary ; a mother could scarcely be sure any more that her own children were not manufacturing bombs in the cellar .\", coha_doc=fic_1979_10650.txt, model=<transformers.pipelines.feature_extraction.FeatureExtractionPipeline object at 0x7fae844dff10>),\n",
       " Sentence(text='Your Excellency knows , \" continued the honorable gentleman , with a contortion of the mouth meant for a smile , and which , but for the loss of his teeth , might have produced a grin , \" that the cardinal number of standard principles is the only one which can be counted on .', coha_doc=fic_1836_7350.txt, model=<transformers.pipelines.feature_extraction.FeatureExtractionPipeline object at 0x7fae844dff10>),\n",
       " Sentence(text='pears that New York , not reckoning her courts of Common Pleas , has twenty judges , and pays them ahout $ 44,000 per annum ; Virginia , in her Court of Appeals and Circuit Courts , has twenty-seven judges , and the aggregate of their salaries is $46,550 ; and Pennsylvania , in her Supreme Court , District Courts , @ @ @ @ @ @ @ @ @ @ in nineteen districts , has thirty- five judges , whose salaries amount to more than $ 75,000 According to Governor Thomas \\'s own statement , Maryland has but \" twenty-one common law judges and a chancellor , at an expense for their salaries of $36,500 per annum \" ; and yet he affirms , that \" JWew York , Pennsylrania , Virginia , and Ohio pay respectively a less sum in the annual salaries of their judges than that with which our .', coha_doc=mag_1843_555150.txt, model=<transformers.pipelines.feature_extraction.FeatureExtractionPipeline object at 0x7fae844dff10>),\n",
       " Sentence(text='Competition may be relative , but excellence fairly requires the stiffest opposition of the day .', coha_doc=mag_1987_336550.txt, model=<transformers.pipelines.feature_extraction.FeatureExtractionPipeline object at 0x7fae844dff10>),\n",
       " Sentence(text='\" Mr. and Mrs. Hough being in Bengal , and the lamented Wheelock having died , Mr. Judson , and his excellent and zealous associate , Mr. Col man , with their wives , were the only Missionaries at Rangoon .', coha_doc=nf_1829_747550.txt, model=<transformers.pipelines.feature_extraction.FeatureExtractionPipeline object at 0x7fae844dff10>)]"
      ]
     },
     "execution_count": 30,
     "metadata": {},
     "output_type": "execute_result"
    }
   ],
   "source": [
    "# Candidate sentences not matching the term\n",
    "random.sample([sentence for sentence in sentence_candidates[:MAX_SENTENCES] if sentence not in sentences], 5)"
   ]
  },
  {
   "cell_type": "code",
   "execution_count": 31,
   "metadata": {},
   "outputs": [
    {
     "data": {
      "text/plain": [
       "(58, 768)"
      ]
     },
     "execution_count": 31,
     "metadata": {},
     "output_type": "execute_result"
    }
   ],
   "source": [
    "embeddings = np.array(embeddings)\n",
    "\n",
    "assert embeddings.shape == (len(sentences), model.model.config.hidden_size), f\"Shape {embeddings.shape} does not match expected shape {(len(sentences), model.model.config.hidden_size)}\"\n",
    "embeddings.shape"
   ]
  },
  {
   "cell_type": "markdown",
   "metadata": {},
   "source": [
    "# Plot"
   ]
  },
  {
   "cell_type": "markdown",
   "metadata": {},
   "source": [
    "## PCA"
   ]
  },
  {
   "cell_type": "code",
   "execution_count": 32,
   "metadata": {},
   "outputs": [],
   "source": [
    "from sklearn.decomposition import PCA\n",
    "\n",
    "X_pca = PCA(n_components=2).fit_transform(embeddings)"
   ]
  },
  {
   "cell_type": "code",
   "execution_count": 33,
   "metadata": {},
   "outputs": [
    {
     "data": {
      "text/plain": [
       "Text(0.5, 1.0, \"PCA Embeddings projections for 'cell'\")"
      ]
     },
     "execution_count": 33,
     "metadata": {},
     "output_type": "execute_result"
    },
    {
     "data": {
      "image/png": "[encoded data removed]",
      "text/plain": [
       "<Figure size 640x480 with 1 Axes>"
      ]
     },
     "metadata": {},
     "output_type": "display_data"
    }
   ],
   "source": [
    "plt.scatter(X_pca[:,0], X_pca[:,1], label=TERM)\n",
    "plt.title(f\"PCA Embeddings projections for '{TERM}'\")"
   ]
  },
  {
   "cell_type": "markdown",
   "metadata": {},
   "source": [
    "## UMAP"
   ]
  },
  {
   "cell_type": "code",
   "execution_count": 34,
   "metadata": {},
   "outputs": [
    {
     "data": {
      "text/html": [
       "<div>\n",
       "<style scoped>\n",
       "    .dataframe tbody tr th:only-of-type {\n",
       "        vertical-align: middle;\n",
       "    }\n",
       "\n",
       "    .dataframe tbody tr th {\n",
       "        vertical-align: top;\n",
       "    }\n",
       "\n",
       "    .dataframe thead th {\n",
       "        text-align: right;\n",
       "    }\n",
       "</style>\n",
       "<table border=\"1\" class=\"dataframe\">\n",
       "  <thead>\n",
       "    <tr style=\"text-align: right;\">\n",
       "      <th></th>\n",
       "      <th>doc</th>\n",
       "      <th>text</th>\n",
       "      <th>year</th>\n",
       "      <th>decade</th>\n",
       "    </tr>\n",
       "  </thead>\n",
       "  <tbody>\n",
       "    <tr>\n",
       "      <th>0</th>\n",
       "      <td>fic_1979_10650.txt</td>\n",
       "      <td>A bulky television set , incongruous in the ce...</td>\n",
       "      <td>1979</td>\n",
       "      <td>1970 - 1980</td>\n",
       "    </tr>\n",
       "    <tr>\n",
       "      <th>1</th>\n",
       "      <td>fic_1979_10650.txt</td>\n",
       "      <td>Some relevant information , however incomplete...</td>\n",
       "      <td>1979</td>\n",
       "      <td>1970 - 1980</td>\n",
       "    </tr>\n",
       "    <tr>\n",
       "      <th>2</th>\n",
       "      <td>fic_1979_10650.txt</td>\n",
       "      <td>Yet to break off contact while New York was st...</td>\n",
       "      <td>1979</td>\n",
       "      <td>1970 - 1980</td>\n",
       "    </tr>\n",
       "    <tr>\n",
       "      <th>3</th>\n",
       "      <td>nf_1994_746850.txt</td>\n",
       "      <td>Alternative systems include projection from be...</td>\n",
       "      <td>1994</td>\n",
       "      <td>1990 - 2000</td>\n",
       "    </tr>\n",
       "    <tr>\n",
       "      <th>4</th>\n",
       "      <td>mag_1981_494150.txt</td>\n",
       "      <td>Before Joanne Chesimard escaped she had amasse...</td>\n",
       "      <td>1981</td>\n",
       "      <td>1980 - 1990</td>\n",
       "    </tr>\n",
       "    <tr>\n",
       "      <th>5</th>\n",
       "      <td>mag_1995_426450.txt</td>\n",
       "      <td>&lt;p&gt; Mitochondrial DNA is located outside a cel...</td>\n",
       "      <td>1995</td>\n",
       "      <td>1990 - 2000</td>\n",
       "    </tr>\n",
       "    <tr>\n",
       "      <th>6</th>\n",
       "      <td>mag_1995_426450.txt</td>\n",
       "      <td>There were also passing references to the prac...</td>\n",
       "      <td>1995</td>\n",
       "      <td>1990 - 2000</td>\n",
       "    </tr>\n",
       "    <tr>\n",
       "      <th>7</th>\n",
       "      <td>nf_1884_748750.txt</td>\n",
       "      <td>The whole scene was almost as uncanny as the w...</td>\n",
       "      <td>1884</td>\n",
       "      <td>1880 - 1890</td>\n",
       "    </tr>\n",
       "    <tr>\n",
       "      <th>8</th>\n",
       "      <td>nf_1884_748750.txt</td>\n",
       "      <td>This was the Heart of Midlothian , the condemn...</td>\n",
       "      <td>1884</td>\n",
       "      <td>1880 - 1890</td>\n",
       "    </tr>\n",
       "    <tr>\n",
       "      <th>9</th>\n",
       "      <td>nf_1884_748750.txt</td>\n",
       "      <td>.. Long after the condemned cell had been pull...</td>\n",
       "      <td>1884</td>\n",
       "      <td>1880 - 1890</td>\n",
       "    </tr>\n",
       "    <tr>\n",
       "      <th>10</th>\n",
       "      <td>fic_1933_5650.txt</td>\n",
       "      <td>Cooped in their transparent cell , the crew of...</td>\n",
       "      <td>1933</td>\n",
       "      <td>1930 - 1940</td>\n",
       "    </tr>\n",
       "    <tr>\n",
       "      <th>11</th>\n",
       "      <td>mag_1896_562750.txt</td>\n",
       "      <td>A subtle poison permeated every cell of its bo...</td>\n",
       "      <td>1896</td>\n",
       "      <td>1890 - 1900</td>\n",
       "    </tr>\n",
       "    <tr>\n",
       "      <th>12</th>\n",
       "      <td>news_1884_745250.txt</td>\n",
       "      <td>The officer knew nothing of the previous arres...</td>\n",
       "      <td>1884</td>\n",
       "      <td>1880 - 1890</td>\n",
       "    </tr>\n",
       "    <tr>\n",
       "      <th>13</th>\n",
       "      <td>mag_2007_390950.txt</td>\n",
       "      <td>\" The final straw was when I went into the loc...</td>\n",
       "      <td>2007</td>\n",
       "      <td>2000 - 2010</td>\n",
       "    </tr>\n",
       "    <tr>\n",
       "      <th>14</th>\n",
       "      <td>mag_1923_467650.txt</td>\n",
       "      <td>Every grub about to hatch leaves its swaddling...</td>\n",
       "      <td>1923</td>\n",
       "      <td>1920 - 1930</td>\n",
       "    </tr>\n",
       "    <tr>\n",
       "      <th>15</th>\n",
       "      <td>mag_1923_467650.txt</td>\n",
       "      <td>The first symptom of swarming fever is the que...</td>\n",
       "      <td>1923</td>\n",
       "      <td>1920 - 1930</td>\n",
       "    </tr>\n",
       "    <tr>\n",
       "      <th>16</th>\n",
       "      <td>fic_2005_50150.txt</td>\n",
       "      <td>\" I know this part of town like my girlfriend ...</td>\n",
       "      <td>2005</td>\n",
       "      <td>2000 - 2010</td>\n",
       "    </tr>\n",
       "    <tr>\n",
       "      <th>17</th>\n",
       "      <td>fic_2005_50150.txt</td>\n",
       "      <td>\" The cell phone 's battery is dead , he does ...</td>\n",
       "      <td>2005</td>\n",
       "      <td>2000 - 2010</td>\n",
       "    </tr>\n",
       "    <tr>\n",
       "      <th>18</th>\n",
       "      <td>fic_2005_50150.txt</td>\n",
       "      <td>He turns off the cell , feeling sick to his st...</td>\n",
       "      <td>2005</td>\n",
       "      <td>2000 - 2010</td>\n",
       "    </tr>\n",
       "    <tr>\n",
       "      <th>19</th>\n",
       "      <td>fic_2005_50150.txt</td>\n",
       "      <td>The mounted locust head , still lying in a cor...</td>\n",
       "      <td>2005</td>\n",
       "      <td>2000 - 2010</td>\n",
       "    </tr>\n",
       "    <tr>\n",
       "      <th>20</th>\n",
       "      <td>fic_2005_50150.txt</td>\n",
       "      <td>He keeps his cell off , but knows the messages...</td>\n",
       "      <td>2005</td>\n",
       "      <td>2000 - 2010</td>\n",
       "    </tr>\n",
       "    <tr>\n",
       "      <th>21</th>\n",
       "      <td>fic_2005_50150.txt</td>\n",
       "      <td>And we fade to : Rick , at night , listening t...</td>\n",
       "      <td>2005</td>\n",
       "      <td>2000 - 2010</td>\n",
       "    </tr>\n",
       "    <tr>\n",
       "      <th>22</th>\n",
       "      <td>fic_2005_50150.txt</td>\n",
       "      <td>That evening , Rick 's cell has only one messa...</td>\n",
       "      <td>2005</td>\n",
       "      <td>2000 - 2010</td>\n",
       "    </tr>\n",
       "    <tr>\n",
       "      <th>23</th>\n",
       "      <td>fic_2005_50150.txt</td>\n",
       "      <td>\" And then : The sound of his cell chirping br...</td>\n",
       "      <td>2005</td>\n",
       "      <td>2000 - 2010</td>\n",
       "    </tr>\n",
       "    <tr>\n",
       "      <th>24</th>\n",
       "      <td>fic_2005_50150.txt</td>\n",
       "      <td>He struggles up , angry , ready to read the pr...</td>\n",
       "      <td>2005</td>\n",
       "      <td>2000 - 2010</td>\n",
       "    </tr>\n",
       "    <tr>\n",
       "      <th>25</th>\n",
       "      <td>fic_2005_50150.txt</td>\n",
       "      <td>\" And cell messages , real ones : One from the...</td>\n",
       "      <td>2005</td>\n",
       "      <td>2000 - 2010</td>\n",
       "    </tr>\n",
       "    <tr>\n",
       "      <th>26</th>\n",
       "      <td>fic_1981_780050.txt</td>\n",
       "      <td>I hated her with every cell in my body ?</td>\n",
       "      <td>1981</td>\n",
       "      <td>1980 - 1990</td>\n",
       "    </tr>\n",
       "    <tr>\n",
       "      <th>27</th>\n",
       "      <td>mag_1946_160150.txt</td>\n",
       "      <td>gaze a Communist cell conspiring in Madrid , c...</td>\n",
       "      <td>1946</td>\n",
       "      <td>1940 - 1950</td>\n",
       "    </tr>\n",
       "    <tr>\n",
       "      <th>28</th>\n",
       "      <td>fic_1972_10550.txt</td>\n",
       "      <td>Many 's the cell he washed down with the Blood...</td>\n",
       "      <td>1972</td>\n",
       "      <td>1970 - 1980</td>\n",
       "    </tr>\n",
       "    <tr>\n",
       "      <th>29</th>\n",
       "      <td>mag_1950_492350.txt</td>\n",
       "      <td>Some bankrupts enjoy life in a cell .</td>\n",
       "      <td>1950</td>\n",
       "      <td>1950 - 1960</td>\n",
       "    </tr>\n",
       "    <tr>\n",
       "      <th>30</th>\n",
       "      <td>mag_1988_339250.txt</td>\n",
       "      <td>\" Bill ( the DEA is withholding his full name ...</td>\n",
       "      <td>1988</td>\n",
       "      <td>1980 - 1990</td>\n",
       "    </tr>\n",
       "    <tr>\n",
       "      <th>31</th>\n",
       "      <td>mag_1954_234150.txt</td>\n",
       "      <td>For more than a century , electrical engineers...</td>\n",
       "      <td>1954</td>\n",
       "      <td>1950 - 1960</td>\n",
       "    </tr>\n",
       "    <tr>\n",
       "      <th>32</th>\n",
       "      <td>mag_1954_234150.txt</td>\n",
       "      <td>A fuel cell , theoretically , could be almost ...</td>\n",
       "      <td>1954</td>\n",
       "      <td>1950 - 1960</td>\n",
       "    </tr>\n",
       "    <tr>\n",
       "      <th>33</th>\n",
       "      <td>mag_1954_234150.txt</td>\n",
       "      <td>&lt;P&gt; In Britain 's B.E.A.M.A. ( British Electri...</td>\n",
       "      <td>1954</td>\n",
       "      <td>1950 - 1960</td>\n",
       "    </tr>\n",
       "    <tr>\n",
       "      <th>34</th>\n",
       "      <td>mag_1954_234150.txt</td>\n",
       "      <td>&lt;P&gt; A single cell produces less than one volt ...</td>\n",
       "      <td>1954</td>\n",
       "      <td>1950 - 1960</td>\n",
       "    </tr>\n",
       "    <tr>\n",
       "      <th>35</th>\n",
       "      <td>mag_1954_234150.txt</td>\n",
       "      <td>Bacon believes that his fuel cell can also be ...</td>\n",
       "      <td>1954</td>\n",
       "      <td>1950 - 1960</td>\n",
       "    </tr>\n",
       "    <tr>\n",
       "      <th>36</th>\n",
       "      <td>nf_2006_747050.txt</td>\n",
       "      <td>Together with severely constricted peripheral ...</td>\n",
       "      <td>2006</td>\n",
       "      <td>2000 - 2010</td>\n",
       "    </tr>\n",
       "    <tr>\n",
       "      <th>37</th>\n",
       "      <td>fic_1910_2750.txt</td>\n",
       "      <td>The cell they keep him in is below the sea-lev...</td>\n",
       "      <td>1910</td>\n",
       "      <td>1910 - 1920</td>\n",
       "    </tr>\n",
       "    <tr>\n",
       "      <th>38</th>\n",
       "      <td>nf_1991_774050.txt</td>\n",
       "      <td>SELENIUM A. Introduction Selenium is part of t...</td>\n",
       "      <td>1991</td>\n",
       "      <td>1990 - 2000</td>\n",
       "    </tr>\n",
       "    <tr>\n",
       "      <th>39</th>\n",
       "      <td>nf_1991_774050.txt</td>\n",
       "      <td>The loss of unsaturated fatty acids by peroxid...</td>\n",
       "      <td>1991</td>\n",
       "      <td>1990 - 2000</td>\n",
       "    </tr>\n",
       "    <tr>\n",
       "      <th>40</th>\n",
       "      <td>nf_1991_774050.txt</td>\n",
       "      <td>The loss of unsaturated fatty acids by peroxid...</td>\n",
       "      <td>1991</td>\n",
       "      <td>1990 - 2000</td>\n",
       "    </tr>\n",
       "    <tr>\n",
       "      <th>41</th>\n",
       "      <td>nf_1982_774150.txt</td>\n",
       "      <td>We can perhaps think of the identity condition...</td>\n",
       "      <td>1982</td>\n",
       "      <td>1980 - 1990</td>\n",
       "    </tr>\n",
       "    <tr>\n",
       "      <th>42</th>\n",
       "      <td>fic_1838_7250.txt</td>\n",
       "      <td>When he attempts to give them utterance , he @...</td>\n",
       "      <td>1838</td>\n",
       "      <td>1830 - 1840</td>\n",
       "    </tr>\n",
       "    <tr>\n",
       "      <th>43</th>\n",
       "      <td>fic_2009_36650.txt</td>\n",
       "      <td>Sunlight streamed into the yard and reflected ...</td>\n",
       "      <td>2009</td>\n",
       "      <td>2000 - 2010</td>\n",
       "    </tr>\n",
       "    <tr>\n",
       "      <th>44</th>\n",
       "      <td>fic_1964_10450.txt</td>\n",
       "      <td>Some drunk in a cell , waiting to go down to t...</td>\n",
       "      <td>1964</td>\n",
       "      <td>1960 - 1970</td>\n",
       "    </tr>\n",
       "    <tr>\n",
       "      <th>45</th>\n",
       "      <td>mag_1986_333750.txt</td>\n",
       "      <td>Screaming and gesturing wildly @ @ @ @ @ @ @ @...</td>\n",
       "      <td>1986</td>\n",
       "      <td>1980 - 1990</td>\n",
       "    </tr>\n",
       "    <tr>\n",
       "      <th>46</th>\n",
       "      <td>mag_1999_407850.txt</td>\n",
       "      <td>Soy also contains high levels of phytosterols ...</td>\n",
       "      <td>1999</td>\n",
       "      <td>1990 - 2000</td>\n",
       "    </tr>\n",
       "    <tr>\n",
       "      <th>47</th>\n",
       "      <td>fic_1890_4350.txt</td>\n",
       "      <td>\" An exquisitely minute cell in violent motion...</td>\n",
       "      <td>1890</td>\n",
       "      <td>1890 - 1900</td>\n",
       "    </tr>\n",
       "    <tr>\n",
       "      <th>48</th>\n",
       "      <td>nf_1962_773650.txt</td>\n",
       "      <td>If , for instance , light falls on a cathode ,...</td>\n",
       "      <td>1962</td>\n",
       "      <td>1960 - 1970</td>\n",
       "    </tr>\n",
       "    <tr>\n",
       "      <th>49</th>\n",
       "      <td>mag_1930_468750.txt</td>\n",
       "      <td>In the first place , when I was very young som...</td>\n",
       "      <td>1930</td>\n",
       "      <td>1930 - 1940</td>\n",
       "    </tr>\n",
       "    <tr>\n",
       "      <th>50</th>\n",
       "      <td>mag_1930_468750.txt</td>\n",
       "      <td>Thus when I was thirteen years old there was a...</td>\n",
       "      <td>1930</td>\n",
       "      <td>1930 - 1940</td>\n",
       "    </tr>\n",
       "    <tr>\n",
       "      <th>51</th>\n",
       "      <td>fic_1908_1150.txt</td>\n",
       "      <td>It had only been when Bolton 's sister had dis...</td>\n",
       "      <td>1908</td>\n",
       "      <td>1900 - 1910</td>\n",
       "    </tr>\n",
       "    <tr>\n",
       "      <th>52</th>\n",
       "      <td>fic_1908_1150.txt</td>\n",
       "      <td>CHAPTER XVII Some of the sunshine that had hel...</td>\n",
       "      <td>1908</td>\n",
       "      <td>1900 - 1910</td>\n",
       "    </tr>\n",
       "    <tr>\n",
       "      <th>53</th>\n",
       "      <td>fic_1908_1150.txt</td>\n",
       "      <td>\" \" I have two degrees myself , \" Jack laughed...</td>\n",
       "      <td>1908</td>\n",
       "      <td>1900 - 1910</td>\n",
       "    </tr>\n",
       "    <tr>\n",
       "      <th>54</th>\n",
       "      <td>fic_1908_1150.txt</td>\n",
       "      <td>Others , less fortunate , had disappeared alto...</td>\n",
       "      <td>1908</td>\n",
       "      <td>1900 - 1910</td>\n",
       "    </tr>\n",
       "    <tr>\n",
       "      <th>55</th>\n",
       "      <td>fic_1908_1150.txt</td>\n",
       "      <td>This talk of Jack 's could only have been a ru...</td>\n",
       "      <td>1908</td>\n",
       "      <td>1900 - 1910</td>\n",
       "    </tr>\n",
       "    <tr>\n",
       "      <th>56</th>\n",
       "      <td>mag_1926_430950.txt</td>\n",
       "      <td>One man of science claimed that he could trace...</td>\n",
       "      <td>1926</td>\n",
       "      <td>1920 - 1930</td>\n",
       "    </tr>\n",
       "    <tr>\n",
       "      <th>57</th>\n",
       "      <td>fic_1996_54250.txt</td>\n",
       "      <td>But death hits an odd , clangy note , like a c...</td>\n",
       "      <td>1996</td>\n",
       "      <td>1990 - 2000</td>\n",
       "    </tr>\n",
       "  </tbody>\n",
       "</table>\n",
       "</div>"
      ],
      "text/plain": [
       "                     doc                                               text  \\\n",
       "0     fic_1979_10650.txt  A bulky television set , incongruous in the ce...   \n",
       "1     fic_1979_10650.txt  Some relevant information , however incomplete...   \n",
       "2     fic_1979_10650.txt  Yet to break off contact while New York was st...   \n",
       "3     nf_1994_746850.txt  Alternative systems include projection from be...   \n",
       "4    mag_1981_494150.txt  Before Joanne Chesimard escaped she had amasse...   \n",
       "5    mag_1995_426450.txt  <p> Mitochondrial DNA is located outside a cel...   \n",
       "6    mag_1995_426450.txt  There were also passing references to the prac...   \n",
       "7     nf_1884_748750.txt  The whole scene was almost as uncanny as the w...   \n",
       "8     nf_1884_748750.txt  This was the Heart of Midlothian , the condemn...   \n",
       "9     nf_1884_748750.txt  .. Long after the condemned cell had been pull...   \n",
       "10     fic_1933_5650.txt  Cooped in their transparent cell , the crew of...   \n",
       "11   mag_1896_562750.txt  A subtle poison permeated every cell of its bo...   \n",
       "12  news_1884_745250.txt  The officer knew nothing of the previous arres...   \n",
       "13   mag_2007_390950.txt  \" The final straw was when I went into the loc...   \n",
       "14   mag_1923_467650.txt  Every grub about to hatch leaves its swaddling...   \n",
       "15   mag_1923_467650.txt  The first symptom of swarming fever is the que...   \n",
       "16    fic_2005_50150.txt  \" I know this part of town like my girlfriend ...   \n",
       "17    fic_2005_50150.txt  \" The cell phone 's battery is dead , he does ...   \n",
       "18    fic_2005_50150.txt  He turns off the cell , feeling sick to his st...   \n",
       "19    fic_2005_50150.txt  The mounted locust head , still lying in a cor...   \n",
       "20    fic_2005_50150.txt  He keeps his cell off , but knows the messages...   \n",
       "21    fic_2005_50150.txt  And we fade to : Rick , at night , listening t...   \n",
       "22    fic_2005_50150.txt  That evening , Rick 's cell has only one messa...   \n",
       "23    fic_2005_50150.txt  \" And then : The sound of his cell chirping br...   \n",
       "24    fic_2005_50150.txt  He struggles up , angry , ready to read the pr...   \n",
       "25    fic_2005_50150.txt  \" And cell messages , real ones : One from the...   \n",
       "26   fic_1981_780050.txt           I hated her with every cell in my body ?   \n",
       "27   mag_1946_160150.txt  gaze a Communist cell conspiring in Madrid , c...   \n",
       "28    fic_1972_10550.txt  Many 's the cell he washed down with the Blood...   \n",
       "29   mag_1950_492350.txt              Some bankrupts enjoy life in a cell .   \n",
       "30   mag_1988_339250.txt  \" Bill ( the DEA is withholding his full name ...   \n",
       "31   mag_1954_234150.txt  For more than a century , electrical engineers...   \n",
       "32   mag_1954_234150.txt  A fuel cell , theoretically , could be almost ...   \n",
       "33   mag_1954_234150.txt  <P> In Britain 's B.E.A.M.A. ( British Electri...   \n",
       "34   mag_1954_234150.txt  <P> A single cell produces less than one volt ...   \n",
       "35   mag_1954_234150.txt  Bacon believes that his fuel cell can also be ...   \n",
       "36    nf_2006_747050.txt  Together with severely constricted peripheral ...   \n",
       "37     fic_1910_2750.txt  The cell they keep him in is below the sea-lev...   \n",
       "38    nf_1991_774050.txt  SELENIUM A. Introduction Selenium is part of t...   \n",
       "39    nf_1991_774050.txt  The loss of unsaturated fatty acids by peroxid...   \n",
       "40    nf_1991_774050.txt  The loss of unsaturated fatty acids by peroxid...   \n",
       "41    nf_1982_774150.txt  We can perhaps think of the identity condition...   \n",
       "42     fic_1838_7250.txt  When he attempts to give them utterance , he @...   \n",
       "43    fic_2009_36650.txt  Sunlight streamed into the yard and reflected ...   \n",
       "44    fic_1964_10450.txt  Some drunk in a cell , waiting to go down to t...   \n",
       "45   mag_1986_333750.txt  Screaming and gesturing wildly @ @ @ @ @ @ @ @...   \n",
       "46   mag_1999_407850.txt  Soy also contains high levels of phytosterols ...   \n",
       "47     fic_1890_4350.txt  \" An exquisitely minute cell in violent motion...   \n",
       "48    nf_1962_773650.txt  If , for instance , light falls on a cathode ,...   \n",
       "49   mag_1930_468750.txt  In the first place , when I was very young som...   \n",
       "50   mag_1930_468750.txt  Thus when I was thirteen years old there was a...   \n",
       "51     fic_1908_1150.txt  It had only been when Bolton 's sister had dis...   \n",
       "52     fic_1908_1150.txt  CHAPTER XVII Some of the sunshine that had hel...   \n",
       "53     fic_1908_1150.txt  \" \" I have two degrees myself , \" Jack laughed...   \n",
       "54     fic_1908_1150.txt  Others , less fortunate , had disappeared alto...   \n",
       "55     fic_1908_1150.txt  This talk of Jack 's could only have been a ru...   \n",
       "56   mag_1926_430950.txt  One man of science claimed that he could trace...   \n",
       "57    fic_1996_54250.txt  But death hits an odd , clangy note , like a c...   \n",
       "\n",
       "    year       decade  \n",
       "0   1979  1970 - 1980  \n",
       "1   1979  1970 - 1980  \n",
       "2   1979  1970 - 1980  \n",
       "3   1994  1990 - 2000  \n",
       "4   1981  1980 - 1990  \n",
       "5   1995  1990 - 2000  \n",
       "6   1995  1990 - 2000  \n",
       "7   1884  1880 - 1890  \n",
       "8   1884  1880 - 1890  \n",
       "9   1884  1880 - 1890  \n",
       "10  1933  1930 - 1940  \n",
       "11  1896  1890 - 1900  \n",
       "12  1884  1880 - 1890  \n",
       "13  2007  2000 - 2010  \n",
       "14  1923  1920 - 1930  \n",
       "15  1923  1920 - 1930  \n",
       "16  2005  2000 - 2010  \n",
       "17  2005  2000 - 2010  \n",
       "18  2005  2000 - 2010  \n",
       "19  2005  2000 - 2010  \n",
       "20  2005  2000 - 2010  \n",
       "21  2005  2000 - 2010  \n",
       "22  2005  2000 - 2010  \n",
       "23  2005  2000 - 2010  \n",
       "24  2005  2000 - 2010  \n",
       "25  2005  2000 - 2010  \n",
       "26  1981  1980 - 1990  \n",
       "27  1946  1940 - 1950  \n",
       "28  1972  1970 - 1980  \n",
       "29  1950  1950 - 1960  \n",
       "30  1988  1980 - 1990  \n",
       "31  1954  1950 - 1960  \n",
       "32  1954  1950 - 1960  \n",
       "33  1954  1950 - 1960  \n",
       "34  1954  1950 - 1960  \n",
       "35  1954  1950 - 1960  \n",
       "36  2006  2000 - 2010  \n",
       "37  1910  1910 - 1920  \n",
       "38  1991  1990 - 2000  \n",
       "39  1991  1990 - 2000  \n",
       "40  1991  1990 - 2000  \n",
       "41  1982  1980 - 1990  \n",
       "42  1838  1830 - 1840  \n",
       "43  2009  2000 - 2010  \n",
       "44  1964  1960 - 1970  \n",
       "45  1986  1980 - 1990  \n",
       "46  1999  1990 - 2000  \n",
       "47  1890  1890 - 1900  \n",
       "48  1962  1960 - 1970  \n",
       "49  1930  1930 - 1940  \n",
       "50  1930  1930 - 1940  \n",
       "51  1908  1900 - 1910  \n",
       "52  1908  1900 - 1910  \n",
       "53  1908  1900 - 1910  \n",
       "54  1908  1900 - 1910  \n",
       "55  1908  1900 - 1910  \n",
       "56  1926  1920 - 1930  \n",
       "57  1996  1990 - 2000  "
      ]
     },
     "execution_count": 34,
     "metadata": {},
     "output_type": "execute_result"
    }
   ],
   "source": [
    "def get_decade(sentence: Sentence) -> str:\n",
    "    start = int(sentence.coha_doc.year / 10) * 10\n",
    "    end = start + 10\n",
    "    return f\"{start} - {end}\"\n",
    "\n",
    "hover_data = pd.DataFrame(data = {\n",
    "        'doc': [sentence.coha_doc._path.name for sentence in sentences],\n",
    "        'text': [sentence.text for sentence in sentences],\n",
    "        'year': [sentence.coha_doc.year for sentence in sentences],\n",
    "        'decade': [get_decade(sentence) for sentence in sentences],\n",
    "    }\n",
    ")\n",
    "\n",
    "# TOOD: add match index for each sentence\n",
    "\n",
    "assert len(hover_data) == len(embeddings), f\"Number of embeddings ({len(embeddings)}) must equal number of sentence data points ({len(hover_data)}).\"\n",
    "hover_data\n"
   ]
  },
  {
   "cell_type": "code",
   "execution_count": 35,
   "metadata": {},
   "outputs": [],
   "source": [
    "import umap\n",
    "mapper = umap.UMAP().fit(embeddings)"
   ]
  },
  {
   "cell_type": "code",
   "execution_count": 36,
   "metadata": {},
   "outputs": [
    {
     "name": "stdout",
     "output_type": "stream",
     "text": [
      "huggingface/tokenizers: The current process just got forked, after parallelism has already been used. Disabling parallelism to avoid deadlocks...\n",
      "To disable this warning, you can either:\n",
      "\t- Avoid using `tokenizers` before the fork if possible\n",
      "\t- Explicitly set the environment variable TOKENIZERS_PARALLELISM=(true | false)\n",
      "huggingface/tokenizers: The current process just got forked, after parallelism has already been used. Disabling parallelism to avoid deadlocks...\n",
      "To disable this warning, you can either:\n",
      "\t- Avoid using `tokenizers` before the fork if possible\n",
      "\t- Explicitly set the environment variable TOKENIZERS_PARALLELISM=(true | false)\n",
      "huggingface/tokenizers: The current process just got forked, after parallelism has already been used. Disabling parallelism to avoid deadlocks...\n",
      "To disable this warning, you can either:\n",
      "\t- Avoid using `tokenizers` before the fork if possible\n",
      "\t- Explicitly set the environment variable TOKENIZERS_PARALLELISM=(true | false)\n",
      "huggingface/tokenizers: The current process just got forked, after parallelism has already been used. Disabling parallelism to avoid deadlocks...\n",
      "To disable this warning, you can either:\n",
      "\t- Avoid using `tokenizers` before the fork if possible\n",
      "\t- Explicitly set the environment variable TOKENIZERS_PARALLELISM=(true | false)\n",
      "huggingface/tokenizers: The current process just got forked, after parallelism has already been used. Disabling parallelism to avoid deadlocks...\n",
      "To disable this warning, you can either:\n",
      "\t- Avoid using `tokenizers` before the fork if possible\n",
      "\t- Explicitly set the environment variable TOKENIZERS_PARALLELISM=(true | false)\n",
      "huggingface/tokenizers: The current process just got forked, after parallelism has already been used. Disabling parallelism to avoid deadlocks...\n",
      "To disable this warning, you can either:\n",
      "\t- Avoid using `tokenizers` before the fork if possible\n",
      "\t- Explicitly set the environment variable TOKENIZERS_PARALLELISM=(true | false)\n"
     ]
    },
    {
     "data": {
      "text/html": [
       "<div class=\"bk-root\">\n",
       "        <a href=\"https://bokeh.org\" target=\"_blank\" class=\"bk-logo bk-logo-small bk-logo-notebook\"></a>\n",
       "        <span id=\"1002\">Loading BokehJS ...</span>\n",
       "    </div>\n"
      ]
     },
     "metadata": {},
     "output_type": "display_data"
    },
    {
     "data": {
      "application/javascript": "(function(root) {\n  function now() {\n    return new Date();\n  }\n\n  const force = true;\n\n  if (typeof root._bokeh_onload_callbacks === \"undefined\" || force === true) {\n    root._bokeh_onload_callbacks = [];\n    root._bokeh_is_loading = undefined;\n  }\n\nconst JS_MIME_TYPE = 'application/javascript';\n  const HTML_MIME_TYPE = 'text/html';\n  const EXEC_MIME_TYPE = 'application/vnd.bokehjs_exec.v0+json';\n  const CLASS_NAME = 'output_bokeh rendered_html';\n\n  /**\n   * Render data to the DOM node\n   */\n  function render(props, node) {\n    const script = document.createElement(\"script\");\n    node.appendChild(script);\n  }\n\n  /**\n   * Handle when an output is cleared or removed\n   */\n  function handleClearOutput(event, handle) {\n    const cell = handle.cell;\n\n    const id = cell.output_area._bokeh_element_id;\n    const server_id = cell.output_area._bokeh_server_id;\n    // Clean up Bokeh references\n    if (id != null && id in Bokeh.index) {\n      Bokeh.index[id].model.document.clear();\n      delete Bokeh.index[id];\n    }\n\n    if (server_id !== undefined) {\n      // Clean up Bokeh references\n      const cmd_clean = \"from bokeh.io.state import curstate; print(curstate().uuid_to_server['\" + server_id + \"'].get_sessions()[0].document.roots[0]._id)\";\n      cell.notebook.kernel.execute(cmd_clean, {\n        iopub: {\n          output: function(msg) {\n            const id = msg.content.text.trim();\n            if (id in Bokeh.index) {\n              Bokeh.index[id].model.document.clear();\n              delete Bokeh.index[id];\n            }\n          }\n        }\n      });\n      // Destroy server and session\n      const cmd_destroy = \"import bokeh.io.notebook as ion; ion.destroy_server('\" + server_id + \"')\";\n      cell.notebook.kernel.execute(cmd_destroy);\n    }\n  }\n\n  /**\n   * Handle when a new output is added\n   */\n  function handleAddOutput(event, handle) {\n    const output_area = handle.output_area;\n    const output = handle.output;\n\n    // limit handleAddOutput to display_data with EXEC_MIME_TYPE content only\n    if ((output.output_type != \"display_data\") || (!Object.prototype.hasOwnProperty.call(output.data, EXEC_MIME_TYPE))) {\n      return\n    }\n\n    const toinsert = output_area.element.find(\".\" + CLASS_NAME.split(' ')[0]);\n\n    if (output.metadata[EXEC_MIME_TYPE][\"id\"] !== undefined) {\n      toinsert[toinsert.length - 1].firstChild.textContent = output.data[JS_MIME_TYPE];\n      // store reference to embed id on output_area\n      output_area._bokeh_element_id = output.metadata[EXEC_MIME_TYPE][\"id\"];\n    }\n    if (output.metadata[EXEC_MIME_TYPE][\"server_id\"] !== undefined) {\n      const bk_div = document.createElement(\"div\");\n      bk_div.innerHTML = output.data[HTML_MIME_TYPE];\n      const script_attrs = bk_div.children[0].attributes;\n      for (let i = 0; i < script_attrs.length; i++) {\n        toinsert[toinsert.length - 1].firstChild.setAttribute(script_attrs[i].name, script_attrs[i].value);\n        toinsert[toinsert.length - 1].firstChild.textContent = bk_div.children[0].textContent\n      }\n      // store reference to server id on output_area\n      output_area._bokeh_server_id = output.metadata[EXEC_MIME_TYPE][\"server_id\"];\n    }\n  }\n\n  function register_renderer(events, OutputArea) {\n\n    function append_mime(data, metadata, element) {\n      // create a DOM node to render to\n      const toinsert = this.create_output_subarea(\n        metadata,\n        CLASS_NAME,\n        EXEC_MIME_TYPE\n      );\n      this.keyboard_manager.register_events(toinsert);\n      // Render to node\n      const props = {data: data, metadata: metadata[EXEC_MIME_TYPE]};\n      render(props, toinsert[toinsert.length - 1]);\n      element.append(toinsert);\n      return toinsert\n    }\n\n    /* Handle when an output is cleared or removed */\n    events.on('clear_output.CodeCell', handleClearOutput);\n    events.on('delete.Cell', handleClearOutput);\n\n    /* Handle when a new output is added */\n    events.on('output_added.OutputArea', handleAddOutput);\n\n    /**\n     * Register the mime type and append_mime function with output_area\n     */\n    OutputArea.prototype.register_mime_type(EXEC_MIME_TYPE, append_mime, {\n      /* Is output safe? */\n      safe: true,\n      /* Index of renderer in `output_area.display_order` */\n      index: 0\n    });\n  }\n\n  // register the mime type if in Jupyter Notebook environment and previously unregistered\n  if (root.Jupyter !== undefined) {\n    const events = require('base/js/events');\n    const OutputArea = require('notebook/js/outputarea').OutputArea;\n\n    if (OutputArea.prototype.mime_types().indexOf(EXEC_MIME_TYPE) == -1) {\n      register_renderer(events, OutputArea);\n    }\n  }\n  if (typeof (root._bokeh_timeout) === \"undefined\" || force === true) {\n    root._bokeh_timeout = Date.now() + 5000;\n    root._bokeh_failed_load = false;\n  }\n\n  const NB_LOAD_WARNING = {'data': {'text/html':\n     \"<div style='background-color: #fdd'>\\n\"+\n     \"<p>\\n\"+\n     \"BokehJS does not appear to have successfully loaded. If loading BokehJS from CDN, this \\n\"+\n     \"may be due to a slow or bad network connection. Possible fixes:\\n\"+\n     \"</p>\\n\"+\n     \"<ul>\\n\"+\n     \"<li>re-rerun `output_notebook()` to attempt to load from CDN again, or</li>\\n\"+\n     \"<li>use INLINE resources instead, as so:</li>\\n\"+\n     \"</ul>\\n\"+\n     \"<code>\\n\"+\n     \"from bokeh.resources import INLINE\\n\"+\n     \"output_notebook(resources=INLINE)\\n\"+\n     \"</code>\\n\"+\n     \"</div>\"}};\n\n  function display_loaded() {\n    const el = document.getElementById(\"1002\");\n    if (el != null) {\n      el.textContent = \"BokehJS is loading...\";\n    }\n    if (root.Bokeh !== undefined) {\n      if (el != null) {\n        el.textContent = \"BokehJS \" + root.Bokeh.version + \" successfully loaded.\";\n      }\n    } else if (Date.now() < root._bokeh_timeout) {\n      setTimeout(display_loaded, 100)\n    }\n  }\n\n  function run_callbacks() {\n    try {\n      root._bokeh_onload_callbacks.forEach(function(callback) {\n        if (callback != null)\n          callback();\n      });\n    } finally {\n      delete root._bokeh_onload_callbacks\n    }\n    console.debug(\"Bokeh: all callbacks have finished\");\n  }\n\n  function load_libs(css_urls, js_urls, callback) {\n    if (css_urls == null) css_urls = [];\n    if (js_urls == null) js_urls = [];\n\n    root._bokeh_onload_callbacks.push(callback);\n    if (root._bokeh_is_loading > 0) {\n      console.debug(\"Bokeh: BokehJS is being loaded, scheduling callback at\", now());\n      return null;\n    }\n    if (js_urls == null || js_urls.length === 0) {\n      run_callbacks();\n      return null;\n    }\n    console.debug(\"Bokeh: BokehJS not loaded, scheduling load and callback at\", now());\n    root._bokeh_is_loading = css_urls.length + js_urls.length;\n\n    function on_load() {\n      root._bokeh_is_loading--;\n      if (root._bokeh_is_loading === 0) {\n        console.debug(\"Bokeh: all BokehJS libraries/stylesheets loaded\");\n        run_callbacks()\n      }\n    }\n\n    function on_error(url) {\n      console.error(\"failed to load \" + url);\n    }\n\n    for (let i = 0; i < css_urls.length; i++) {\n      const url = css_urls[i];\n      const element = document.createElement(\"link\");\n      element.onload = on_load;\n      element.onerror = on_error.bind(null, url);\n      element.rel = \"stylesheet\";\n      element.type = \"text/css\";\n      element.href = url;\n      console.debug(\"Bokeh: injecting link tag for BokehJS stylesheet: \", url);\n      document.body.appendChild(element);\n    }\n\n    for (let i = 0; i < js_urls.length; i++) {\n      const url = js_urls[i];\n      const element = document.createElement('script');\n      element.onload = on_load;\n      element.onerror = on_error.bind(null, url);\n      element.async = false;\n      element.src = url;\n      console.debug(\"Bokeh: injecting script tag for BokehJS library: \", url);\n      document.head.appendChild(element);\n    }\n  };\n\n  function inject_raw_css(css) {\n    const element = document.createElement(\"style\");\n    element.appendChild(document.createTextNode(css));\n    document.body.appendChild(element);\n  }\n\n  const js_urls = [\"https://cdn.bokeh.org/bokeh/release/bokeh-2.4.3.min.js\", \"https://cdn.bokeh.org/bokeh/release/bokeh-gl-2.4.3.min.js\", \"https://cdn.bokeh.org/bokeh/release/bokeh-widgets-2.4.3.min.js\", \"https://cdn.bokeh.org/bokeh/release/bokeh-tables-2.4.3.min.js\", \"https://cdn.bokeh.org/bokeh/release/bokeh-mathjax-2.4.3.min.js\", \"https://unpkg.com/@holoviz/panel@0.14.1/dist/panel.min.js\"];\n  const css_urls = [];\n\n  const inline_js = [    function(Bokeh) {\n      Bokeh.set_log_level(\"info\");\n    },\nfunction(Bokeh) {\n    }\n  ];\n\n  function run_inline_js() {\n    if (root.Bokeh !== undefined || force === true) {\n          for (let i = 0; i < inline_js.length; i++) {\n      inline_js[i].call(root, root.Bokeh);\n    }\nif (force === true) {\n        display_loaded();\n      }} else if (Date.now() < root._bokeh_timeout) {\n      setTimeout(run_inline_js, 100);\n    } else if (!root._bokeh_failed_load) {\n      console.log(\"Bokeh: BokehJS failed to load within specified timeout.\");\n      root._bokeh_failed_load = true;\n    } else if (force !== true) {\n      const cell = $(document.getElementById(\"1002\")).parents('.cell').data().cell;\n      cell.output_area.append_execute_result(NB_LOAD_WARNING)\n    }\n  }\n\n  if (root._bokeh_is_loading === 0) {\n    console.debug(\"Bokeh: BokehJS loaded, going straight to plotting\");\n    run_inline_js();\n  } else {\n    load_libs(css_urls, js_urls, function() {\n      console.debug(\"Bokeh: BokehJS plotting callback run at\", now());\n      run_inline_js();\n    });\n  }\n}(window));",
      "application/vnd.bokehjs_load.v0+json": ""
     },
     "metadata": {},
     "output_type": "display_data"
    }
   ],
   "source": [
    "import umap.plot\n",
    "\n",
    "umap.plot.output_notebook()\n",
    "\n",
    "title = f\"UMAP Embeddings Projections for '{TERM}'\""
   ]
  },
  {
   "cell_type": "markdown",
   "metadata": {},
   "source": [
    "### Points (static)"
   ]
  },
  {
   "cell_type": "code",
   "execution_count": 37,
   "metadata": {},
   "outputs": [
    {
     "data": {
      "text/plain": [
       "Text(0.5, 1.0, \"UMAP Embeddings Projections for 'cell'\")"
      ]
     },
     "execution_count": 37,
     "metadata": {},
     "output_type": "execute_result"
    },
    {
     "data": {
      "image/png": "[encoded data removed]",
      "text/plain": [
       "<Figure size 1000x1000 with 1 Axes>"
      ]
     },
     "metadata": {},
     "output_type": "display_data"
    }
   ],
   "source": [
    "subplot = umap.plot.points(mapper, height=1000, width=1000, labels = hover_data['decade'])\n",
    "subplot.set_title(title)\n"
   ]
  },
  {
   "cell_type": "markdown",
   "metadata": {},
   "source": [
    "### Interactive Plot (using Bokeh)"
   ]
  },
  {
   "cell_type": "code",
   "execution_count": 38,
   "metadata": {},
   "outputs": [
    {
     "data": {
      "text/html": [
       "<div style=\"display: table;\"><div style=\"display: table-row;\"><div style=\"display: table-cell;\"><b title=\"bokeh.models.sources.ColumnDataSource\">ColumnDataSource</b>(</div><div style=\"display: table-cell;\">id&nbsp;=&nbsp;'1003', <span id=\"1005\" style=\"cursor: pointer;\">&hellip;)</span></div></div><div class=\"1004\" style=\"display: none;\"><div style=\"display: table-cell;\"></div><div style=\"display: table-cell;\">data&nbsp;=&nbsp;{'text': [\"A bulky television set , incongruous in the cell of the girl 's apartment , claimed one wall wholly to itself .\", 'Some relevant information , however incomplete , should have reached the cell in Aachen by this time ; the details could be filled in when the museums and art libraries opened .', 'Yet to break off contact while New York was still to be heard from would constitute a defeat , and the Aachen cell , so far , agreed .', 'Alternative systems include projection from behind the Cassegrain secondary mirror and use of an auxiliary projection telescope mounted on the side of the primary mirror cell .', 'Before Joanne Chesimard escaped she had amassed in her prison cell nearly 2,000 pages of 1131 documents which she had obtained under the Freedom of Information Act .', \"<p> Mitochondrial DNA is located outside a cell 's nucleus and is inherited only from the mother .\", 'There were also passing references to the practice of removing hybrids from display and banishing them to the less stimulating environs of a zoo holding cell after the AZA policy went into effect .', \"The whole scene was almost as uncanny as the witches ' cell underneath .\", 'This was the Heart of Midlothian , the condemned cell of the Tolbooth. * footnote .', '.. Long after the condemned cell had been pulled down , an English Chartist went down to Edinburgh to address a large meeting of his brother politicians .', 'Cooped in their transparent cell , the crew of the submarine Peary waited the end .', 'A subtle poison permeated every cell of its body ; what wonder if it thenceforth gave out none but poisoned thoughts ?', 'The officer knew nothing of the previous arrest and discharge of the lawyer , and hurried him back to a cell in spite of all protestations .', '\" The final straw was when I went into the locker room and was confronted with this hideous and haunting view : She was sitting completely naked and spread-eagle over one of the sinks , basically straddling the faucet and talking loudly on her cell phone while she shaved her bikini line .', 'Every grub about to hatch leaves its swaddling clothes as a silken lining , incredibly thin , round the walls of its cell , but these skins in the course of the years so choke up the cells as to render them unfit for the brood .', 'The first symptom of swarming fever is the queen cell , but not until the egg appears , and later the young grub float ?', '\" I know this part of town like my girlfriend \\'s chi-chis @ @ @ @ @ @ @ @ @ @ goes home , where he finds that Frank Emerson has - wonderful guy that he is broken into his apartment and left a pile of his belongings : Mounted locust head , trophies , awards , wedding pics , belts , socks , cell phone , and keys to a pair of jet skis whose location Rick has forgotten .', '\" The cell phone \\'s battery is dead , he does n\\'t have a land line , and pay phones that work , he \\'s about to discover , are as rare as whooping cranes .', 'He turns off the cell , feeling sick to his stomach .', 'The mounted locust head , still lying in a corner of the room , stares up at him and his cell starts ringing again .', 'He keeps his cell off , but knows the messages will keep coming .', 'And we fade to : Rick , at night , listening to his cell messages in the darkness of his apartment .', \"That evening , Rick 's cell has only one message : A man representing the mayor of Corkscrew , Florida , saying that he called yesterday and would appreciate it if Mr. Rowe would call him back .\", '\" And then : The sound of his cell chirping brings us out of the nightmare into the bleakness of his apartment .', 'He struggles up , angry , ready to read the prankster the riot act if he can only get through the piles of dirty clothes and trophies to the cell in time .', '\" And cell messages , real ones : One from the Federal Emergency Management Agency .', 'I hated her with every cell in my body ?', 'gaze a Communist cell conspiring in Madrid , claimed to have bagged the entire central committee of the Spanish Communist Party .', \"Many 's the cell he washed down with the Blood of the Lamb before they finally let him out .\", 'Some bankrupts enjoy life in a cell .', '\" Bill ( the DEA is withholding his full name ) can follow the auction from his cell in Lompoc , Calif. , where he is doing 17 years for drug trafficking .', \"For more than a century , electrical engineers have sought a kind of philosophers ' stone : a cell that will turn chemical fuel directly into electricity .\", 'A fuel cell , theoretically , could be almost 100% efficient .', \"<P> In Britain 's B.E.A.M.A. ( British Electrical and Allied Manufacturers ' Association ) Journal , Engineer F. T. Bacon of Cambridge describes the most hopeful approach so far to a practical fuel cell .\", '<P> A single cell produces less than one volt @ @ @ @ @ @ @ @ @ @ inch thick , many cells can be stacked up in series to give higher voltage .', 'Bacon believes that his fuel cell can also be used as a kind of storage battery ; it can burn hydrogen and oxygen made by decomposing water with surplus electricity when demand is low .', 'Together with severely constricted peripheral circulation , these hemodynamic changes result in systemic hypertension ( Phillips et @ @ @ @ @ @ @ @ @ @ hypertrophy , decreased myocardial oxygen delivery , and eventually myocyte cell death ( Moos et al. , 2005 ; Qureshi et al. , 2003 ; Shamsuzzaman et al. ; Trupp , 2004 ) .', 'The cell they keep him in is below the sea-level , and the salt-water leaks through the wall .', 'SELENIUM A. Introduction Selenium is part of the enzyme glutathione peroxidase which aids in detoxification of lipo- and hydrogen peroxides which are toxic to cell membranes .', 'The loss of unsaturated fatty acids by peroxides causes extensive damage to cell membranes and affects their permeability and function , and causes cell wall fragility .', 'The loss of unsaturated fatty acids by peroxides causes extensive damage to cell membranes and affects their permeability and function , and causes cell wall fragility .', 'We can perhaps think of the identity conditions associated with such essentially technical concepts as \" bacterium \" and \" cell \" as determined by the theoretical needs of biology in rather the way that the identity of matter is determined by the theoretical needs of physics .', 'When he attempts to give them utterance , he @ @ @ @ @ @ @ @ @ @ carries thought to the tongue and to the finger ends ; and as art has not yet found out the method of tunnelling or of driving a drift into the brain , to remedy such defects , and act as a general jail delivery to the prisoners of the mind , his divine conceptions continue pent in their osseous cell .', 'Sunlight streamed into the yard and reflected an eerily milky glow @ @ @ @ @ @ @ @ @ @ , flipped open my cell phone , and stabbed at 911 .', 'Some drunk in a cell , waiting to go down to the city drunk tank for sunrise court , kept giving the Australian bush call all the time we were talking .', 'Screaming and gesturing wildly @ @ @ @ @ @ @ @ @ @ voices , sounds and music \" were being piped into his cell to make him confess .', 'Soy also contains high levels of phytosterols , which may lower the risk of colon cancer by hindering abnormal cell growth .', '\" An exquisitely minute cell in violent motion , \" I answered .', 'If , for instance , light falls on a cathode , on @ @ @ @ @ @ @ @ @ @ kept in a vacuum ( e.g. the photo-electric cell ) , electrons will emerge from the cathode ( photo-electric effect ) when only a low potential is applied ; a current between cathode and anode can be shown to flow outside the vacuum .', \"In the first place , when I was very young somebody told me that every cell in the human body is destroyed and renovated in the course of seven years , so that not a vestige of one 's body seven years ago remains to-day .\", 'Thus when I was thirteen years old there was a little girl six months my senior whom I kissed one evening behind the front door ; and for some time after I @ @ @ @ @ @ @ @ @ @ marry her to make an honest woman of her ; six months later , I discovered that another boy had also , by force I was glad to know , kissed this girl , and that night I lay on my bed saying to myself , \" In seven years there will be not one cell of Theresa left ; she \\'ll all be new ; I must wait until she is twenty-one , and then I shall be able to feel happy again .', 'It had only been when Bolton \\'s sister had discovered an empty \" cell , \" as Jack called the bedroom next to his , that he had abandoned his intention of camping out on Jack \\'s disheartened lounge , and had retired like a gentleman carrying with him all his toilet articles , ready to @ @ @ @ @ @ @ @ @ @ time he had captured everybody in the place : from Mrs. Hicks , who never dreamed that such a well of tenderness over suffering could exist in an old fellow \\'s heart , down to the freckled-faced boy who came for his muddy shoes and who , after a moment \\'s talk with Peter as to how they should be polished , retired later in the firm belief that they belonged to \" a gent way up in G , \" as he expressed it , he never having waited on \" the likes of him before .', \"CHAPTER XVII Some of the sunshine that had helped dry the muddy road , making possible the path between Jack 's abode and MacFarlane 's hired villa -- where there was only room for Miss Felicia , Peter still occupying his cell at Mrs. Hicks @ @ @ @ @ @ @ @ @ @ that he could be within call of MacFarlane when needed --  some of this same sunshine , I say , may have been responsible for the temporary drying up of Ruth 's tears and the establishing of various ways of communication between two hearts that had for some days been floundering in the deeps .\", '\" \" I have two degrees myself , \" Jack laughed softly ,  --  \" one records how anxious I was to get out of my cell and the other how eager I was to get here .', 'Others , less fortunate , had disappeared altogether from their accustomed haunts and were to be found filling minor positions in some far Western frontier town or camp , or menial berths on a railroad , while at least one victim , too cowardly to @ @ @ @ @ @ @ @ @ @ hotel lobbies , and race-tracks for months , preying on friends and acquaintances alike until dire poverty forced him into crime , and a stone cell and a steel grille had ended the struggle .', \"This talk of Jack 's could only have been a ruse to keep up her spirits and give her false strength until she had passed through the agonizing ordeal of the funeral -- he accepting all her delusions as true -- as one does when an insane person is to be coaxed back into a cell .\", 'One man of science claimed that he could trace the effect in the brain of the bird by a study of its anatomy : the swallows of his youth , he alleged , had a minute cell less in the brain than the swallows of his old age .', 'But death hits an odd , clangy note , like a cell door slamming .'], 'y': {'__ndarray__': 'Z7fpQN7x70DxZetABpIJQfqMt0ADDuBA+NvHQHEo0UA3WuZAVu/bQEpJy0Aqd9ZArby6QDJKaUCx7/lAKdcGQXfwbUBbZoFA3iuYQAYSh0Cd9IdAXzeIQKh7jUDZAZxAI5O9QBXHkEBQvc9ASCnRQOKR3UD65sBAEEqzQNGP/kByvfVAnMT0QCvU6EBv7fBAREL2QPNwwkA1TOVAIirdQM672EBRfAVBiDzTQKQ/gkBO4q9ADUSsQNUw5EDxJABBQfUHQflz4EAmj9tAjJnSQCYPvUAek7ZAnGbSQGu8xUByi/tAQ7SkQA==', 'shape': (58,), 'dtype': 'float32', 'order': 'little'}, 'decade': ['1970 - 1980', '1970 - 1980', '1970 - 1980', '1990 - 2000', '1980 - 1990', '1990 - 2000', '1990 - 2000', '1880 - 1890', '1880 - 1890', '1880 - 1890', '1930 - 1940', '1890 - 1900', '1880 - 1890', '2000 - 2010', '1920 - 1930', '1920 - 1930', '2000 - 2010', '2000 - 2010', '2000 - 2010', '2000 - 2010', '2000 - 2010', '2000 - 2010', '2000 - 2010', '2000 - 2010', '2000 - 2010', '2000 - 2010', '1980 - 1990', '1940 - 1950', '1970 - 1980', '1950 - 1960', '1980 - 1990', '1950 - 1960', '1950 - 1960', '1950 - 1960', '1950 - 1960', '1950 - 1960', '2000 - 2010', '1910 - 1920', '1990 - 2000', '1990 - 2000', '1990 - 2000', '1980 - 1990', '1830 - 1840', '2000 - 2010', '1960 - 1970', '1980 - 1990', '1990 - 2000', '1890 - 1900', '1960 - 1970', '1930 - 1940', '1930 - 1940', '1900 - 1910', '1900 - 1910', '1900 - 1910', '1900 - 1910', '1900 - 1910', '1920 - 1930', '1990 - 2000'], 'doc': ['fic_1979_10650.txt', 'fic_1979_10650.txt', 'fic_1979_10650.txt', 'nf_1994_746850.txt', 'mag_1981_494150.txt', 'mag_1995_426450.txt', 'mag_1995_426450.txt', 'nf_1884_748750.txt', 'nf_1884_748750.txt', 'nf_1884_748750.txt', 'fic_1933_5650.txt', 'mag_1896_562750.txt', 'news_1884_745250.txt', 'mag_2007_390950.txt', 'mag_1923_467650.txt', 'mag_1923_467650.txt', 'fic_2005_50150.txt', 'fic_2005_50150.txt', 'fic_2005_50150.txt', 'fic_2005_50150.txt', 'fic_2005_50150.txt', 'fic_2005_50150.txt', 'fic_2005_50150.txt', 'fic_2005_50150.txt', 'fic_2005_50150.txt', 'fic_2005_50150.txt', 'fic_1981_780050.txt', 'mag_1946_160150.txt', 'fic_1972_10550.txt', 'mag_1950_492350.txt', 'mag_1988_339250.txt', 'mag_1954_234150.txt', 'mag_1954_234150.txt', 'mag_1954_234150.txt', 'mag_1954_234150.txt', 'mag_1954_234150.txt', 'nf_2006_747050.txt', 'fic_1910_2750.txt', 'nf_1991_774050.txt', 'nf_1991_774050.txt', 'nf_1991_774050.txt', 'nf_1982_774150.txt', 'fic_1838_7250.txt', 'fic_2009_36650.txt', 'fic_1964_10450.txt', 'mag_1986_333750.txt', 'mag_1999_407850.txt', 'fic_1890_4350.txt', 'nf_1962_773650.txt', 'mag_1930_468750.txt', 'mag_1930_468750.txt', 'fic_1908_1150.txt', 'fic_1908_1150.txt', 'fic_1908_1150.txt', 'fic_1908_1150.txt', 'fic_1908_1150.txt', 'mag_1926_430950.txt', 'fic_1996_54250.txt'], 'year': [1979, 1979, 1979, 1994, 1981, 1995, 1995, 1884, 1884, 1884, 1933, 1896, 1884, 2007, 1923, 1923, 2005, 2005, 2005, 2005, 2005, 2005, 2005, 2005, 2005, 2005, 1981, 1946, 1972, 1950, 1988, 1954, 1954, 1954, 1954, 1954, 2006, 1910, 1991, 1991, 1991, 1982, 1838, 2009, 1964, 1986, 1999, 1890, 1962, 1930, 1930, 1908, 1908, 1908, 1908, 1908, 1926, 1996], 'x': {'__ndarray__': '8NQuQGT9XUDZDldAkt+sQCU1WUD5w8lARFBcQGI4LkDiXjdAC+c8QLSYOEBIgaxAhdUdQEIWFEAHXKBA0pi4QDASHkCdUEZAplcPQCrq5D8sXR5A9aMuQHSJBEDD5eY/6LgKQINtPkCVxqxAT5VdQLGhQ0Cd1TBA1AJDQEcyv0BGirxAMVGxQIb7vUDaNK9AJn/SQBmJRUDMK9VA1HnRQAoN1UA/UsZA61LHPzpvKUAcQi5A/W/lP7Z82kA/07NAUsy8QJL1sUAz6Oo/o0EgQK8Z1z9GO/c/9vnrP8dJ/T+7I8pAtws4QA==', 'shape': (58,), 'dtype': 'float32', 'order': 'little'}},</div></div><div class=\"1004\" style=\"display: none;\"><div style=\"display: table-cell;\"></div><div style=\"display: table-cell;\">js_event_callbacks&nbsp;=&nbsp;{},</div></div><div class=\"1004\" style=\"display: none;\"><div style=\"display: table-cell;\"></div><div style=\"display: table-cell;\">js_property_callbacks&nbsp;=&nbsp;{},</div></div><div class=\"1004\" style=\"display: none;\"><div style=\"display: table-cell;\"></div><div style=\"display: table-cell;\">name&nbsp;=&nbsp;None,</div></div><div class=\"1004\" style=\"display: none;\"><div style=\"display: table-cell;\"></div><div style=\"display: table-cell;\">selected&nbsp;=&nbsp;Selection(id='1007', ...),</div></div><div class=\"1004\" style=\"display: none;\"><div style=\"display: table-cell;\"></div><div style=\"display: table-cell;\">selection_policy&nbsp;=&nbsp;UnionRenderers(id='1006', ...),</div></div><div class=\"1004\" style=\"display: none;\"><div style=\"display: table-cell;\"></div><div style=\"display: table-cell;\">subscribed_events&nbsp;=&nbsp;[],</div></div><div class=\"1004\" style=\"display: none;\"><div style=\"display: table-cell;\"></div><div style=\"display: table-cell;\">syncable&nbsp;=&nbsp;True,</div></div><div class=\"1004\" style=\"display: none;\"><div style=\"display: table-cell;\"></div><div style=\"display: table-cell;\">tags&nbsp;=&nbsp;[])</div></div></div>\n",
       "<script>\n",
       "(function() {\n",
       "  let expanded = false;\n",
       "  const ellipsis = document.getElementById(\"1005\");\n",
       "  ellipsis.addEventListener(\"click\", function() {\n",
       "    const rows = document.getElementsByClassName(\"1004\");\n",
       "    for (let i = 0; i < rows.length; i++) {\n",
       "      const el = rows[i];\n",
       "      el.style.display = expanded ? \"none\" : \"table-row\";\n",
       "    }\n",
       "    ellipsis.innerHTML = expanded ? \"&hellip;)\" : \"&lsaquo;&lsaquo;&lsaquo;\";\n",
       "    expanded = !expanded;\n",
       "  });\n",
       "})();\n",
       "</script>\n"
      ],
      "text/plain": [
       "ColumnDataSource(id='1003', ...)"
      ]
     },
     "execution_count": 38,
     "metadata": {},
     "output_type": "execute_result"
    }
   ],
   "source": [
    "from bokeh.models import ColumnDataSource\n",
    "\n",
    "cds = ColumnDataSource(data={\n",
    "        'x': mapper.embedding_[:,0],\n",
    "        'y': mapper.embedding_[:,1],\n",
    "    } | hover_data.to_dict('list')\n",
    ")\n",
    "\n",
    "cds"
   ]
  },
  {
   "cell_type": "code",
   "execution_count": 39,
   "metadata": {},
   "outputs": [
    {
     "data": {
      "text/html": [
       "<div style=\"display: table;\"><div style=\"display: table-row;\"><div style=\"display: table-cell;\"><b title=\"bokeh.models.mappers.CategoricalColorMapper\">CategoricalColorMapper</b>(</div><div style=\"display: table-cell;\">id&nbsp;=&nbsp;'1008', <span id=\"1010\" style=\"cursor: pointer;\">&hellip;)</span></div></div><div class=\"1009\" style=\"display: none;\"><div style=\"display: table-cell;\"></div><div style=\"display: table-cell;\">end&nbsp;=&nbsp;None,</div></div><div class=\"1009\" style=\"display: none;\"><div style=\"display: table-cell;\"></div><div style=\"display: table-cell;\">factors&nbsp;=&nbsp;array(['1970 - 1980', '1990 - 2000', '1980 - 1990', '1880 - 1890',\n",
       "       '1930 - 1940', '1890 - 1900', '2000 - 2010', '1920 - 1930',\n",
       "       '1940 - 1950', '1950 - 1960', '1910 - 1920', '1830 - 1840',\n",
       "       '1960 - 1970', '1900 - 1910'], dtype=object),</div></div><div class=\"1009\" style=\"display: none;\"><div style=\"display: table-cell;\"></div><div style=\"display: table-cell;\">js_event_callbacks&nbsp;=&nbsp;{},</div></div><div class=\"1009\" style=\"display: none;\"><div style=\"display: table-cell;\"></div><div style=\"display: table-cell;\">js_property_callbacks&nbsp;=&nbsp;{},</div></div><div class=\"1009\" style=\"display: none;\"><div style=\"display: table-cell;\"></div><div style=\"display: table-cell;\">name&nbsp;=&nbsp;None,</div></div><div class=\"1009\" style=\"display: none;\"><div style=\"display: table-cell;\"></div><div style=\"display: table-cell;\">nan_color&nbsp;=&nbsp;'gray',</div></div><div class=\"1009\" style=\"display: none;\"><div style=\"display: table-cell;\"></div><div style=\"display: table-cell;\">palette&nbsp;=&nbsp;('#1f77b4', '#aec7e8', '#ff7f0e', '#ffbb78', '#2ca02c', '#98df8a', '#d62728', '#ff9896', '#9467bd', '#c5b0d5', '#8c564b', '#c49c94', '#e377c2', '#f7b6d2'),</div></div><div class=\"1009\" style=\"display: none;\"><div style=\"display: table-cell;\"></div><div style=\"display: table-cell;\">start&nbsp;=&nbsp;0,</div></div><div class=\"1009\" style=\"display: none;\"><div style=\"display: table-cell;\"></div><div style=\"display: table-cell;\">subscribed_events&nbsp;=&nbsp;[],</div></div><div class=\"1009\" style=\"display: none;\"><div style=\"display: table-cell;\"></div><div style=\"display: table-cell;\">syncable&nbsp;=&nbsp;True,</div></div><div class=\"1009\" style=\"display: none;\"><div style=\"display: table-cell;\"></div><div style=\"display: table-cell;\">tags&nbsp;=&nbsp;[])</div></div></div>\n",
       "<script>\n",
       "(function() {\n",
       "  let expanded = false;\n",
       "  const ellipsis = document.getElementById(\"1010\");\n",
       "  ellipsis.addEventListener(\"click\", function() {\n",
       "    const rows = document.getElementsByClassName(\"1009\");\n",
       "    for (let i = 0; i < rows.length; i++) {\n",
       "      const el = rows[i];\n",
       "      el.style.display = expanded ? \"none\" : \"table-row\";\n",
       "    }\n",
       "    ellipsis.innerHTML = expanded ? \"&hellip;)\" : \"&lsaquo;&lsaquo;&lsaquo;\";\n",
       "    expanded = !expanded;\n",
       "  });\n",
       "})();\n",
       "</script>\n"
      ],
      "text/plain": [
       "CategoricalColorMapper(id='1008', ...)"
      ]
     },
     "execution_count": 39,
     "metadata": {},
     "output_type": "execute_result"
    }
   ],
   "source": [
    "from bokeh.palettes import d3\n",
    "from bokeh.models import CategoricalColorMapper\n",
    "import bokeh.palettes\n",
    "\n",
    "categories = hover_data.decade.unique()\n",
    "palette = bokeh.palettes.Category20[len(categories)]\n",
    "\n",
    "assert len(palette) >= len(categories), f\"Palette has only {len(palette)} categories, but {len(categories)} needed.\"\n",
    "\n",
    "color_mapper = CategoricalColorMapper(factors=categories, palette=palette)\n",
    "color_mapper"
   ]
  },
  {
   "cell_type": "code",
   "execution_count": 40,
   "metadata": {},
   "outputs": [
    {
     "data": {
      "text/html": [
       "\n",
       "  <div class=\"bk-root\" id=\"10d2a898-4958-44e3-99a4-31e4598510eb\" data-root-id=\"1011\"></div>\n"
      ]
     },
     "metadata": {},
     "output_type": "display_data"
    },
    {
     "data": {
      "application/javascript": "(function(root) {\n  function embed_document(root) {\n  const docs_json = {\"df307a10-956b-4b94-8968-29bf0f4c342f\":{\"defs\":[{\"extends\":null,\"module\":null,\"name\":\"ReactiveHTML1\",\"overrides\":[],\"properties\":[]},{\"extends\":null,\"module\":null,\"name\":\"FlexBox1\",\"overrides\":[],\"properties\":[{\"default\":\"flex-start\",\"kind\":null,\"name\":\"align_content\"},{\"default\":\"flex-start\",\"kind\":null,\"name\":\"align_items\"},{\"default\":\"row\",\"kind\":null,\"name\":\"flex_direction\"},{\"default\":\"wrap\",\"kind\":null,\"name\":\"flex_wrap\"},{\"default\":\"flex-start\",\"kind\":null,\"name\":\"justify_content\"}]},{\"extends\":null,\"module\":null,\"name\":\"GridStack1\",\"overrides\":[],\"properties\":[{\"default\":\"warn\",\"kind\":null,\"name\":\"mode\"},{\"default\":null,\"kind\":null,\"name\":\"ncols\"},{\"default\":null,\"kind\":null,\"name\":\"nrows\"},{\"default\":true,\"kind\":null,\"name\":\"allow_resize\"},{\"default\":true,\"kind\":null,\"name\":\"allow_drag\"},{\"default\":[],\"kind\":null,\"name\":\"state\"}]},{\"extends\":null,\"module\":null,\"name\":\"click1\",\"overrides\":[],\"properties\":[{\"default\":\"\",\"kind\":null,\"name\":\"terminal_output\"},{\"default\":\"\",\"kind\":null,\"name\":\"debug_name\"},{\"default\":0,\"kind\":null,\"name\":\"clears\"}]},{\"extends\":null,\"module\":null,\"name\":\"NotificationAreaBase1\",\"overrides\":[],\"properties\":[{\"default\":\"bottom-right\",\"kind\":null,\"name\":\"position\"},{\"default\":0,\"kind\":null,\"name\":\"_clear\"}]},{\"extends\":null,\"module\":null,\"name\":\"NotificationArea1\",\"overrides\":[],\"properties\":[{\"default\":[],\"kind\":null,\"name\":\"notifications\"},{\"default\":\"bottom-right\",\"kind\":null,\"name\":\"position\"},{\"default\":0,\"kind\":null,\"name\":\"_clear\"},{\"default\":[{\"background\":\"#ffc107\",\"icon\":{\"className\":\"fas fa-exclamation-triangle\",\"color\":\"white\",\"tagName\":\"i\"},\"type\":\"warning\"},{\"background\":\"#007bff\",\"icon\":{\"className\":\"fas fa-info-circle\",\"color\":\"white\",\"tagName\":\"i\"},\"type\":\"info\"}],\"kind\":null,\"name\":\"types\"}]},{\"extends\":null,\"module\":null,\"name\":\"Notification\",\"overrides\":[],\"properties\":[{\"default\":null,\"kind\":null,\"name\":\"background\"},{\"default\":3000,\"kind\":null,\"name\":\"duration\"},{\"default\":null,\"kind\":null,\"name\":\"icon\"},{\"default\":\"\",\"kind\":null,\"name\":\"message\"},{\"default\":null,\"kind\":null,\"name\":\"notification_type\"},{\"default\":false,\"kind\":null,\"name\":\"_destroyed\"}]},{\"extends\":null,\"module\":null,\"name\":\"TemplateActions1\",\"overrides\":[],\"properties\":[{\"default\":0,\"kind\":null,\"name\":\"open_modal\"},{\"default\":0,\"kind\":null,\"name\":\"close_modal\"}]},{\"extends\":null,\"module\":null,\"name\":\"MaterialTemplateActions1\",\"overrides\":[],\"properties\":[{\"default\":0,\"kind\":null,\"name\":\"open_modal\"},{\"default\":0,\"kind\":null,\"name\":\"close_modal\"}]}],\"roots\":{\"references\":[{\"attributes\":{\"below\":[{\"id\":\"1020\"}],\"center\":[{\"id\":\"1023\"},{\"id\":\"1027\"},{\"id\":\"1062\"}],\"height\":1000,\"left\":[{\"id\":\"1024\"}],\"renderers\":[{\"id\":\"1050\"}],\"title\":{\"id\":\"1044\"},\"toolbar\":{\"id\":\"1036\"},\"width\":1000,\"x_range\":{\"id\":\"1012\"},\"x_scale\":{\"id\":\"1016\"},\"y_range\":{\"id\":\"1014\"},\"y_scale\":{\"id\":\"1018\"}},\"id\":\"1011\",\"subtype\":\"Figure\",\"type\":\"Plot\"},{\"attributes\":{\"coordinates\":null,\"formatter\":{\"id\":\"1054\"},\"group\":null,\"major_label_policy\":{\"id\":\"1055\"},\"ticker\":{\"id\":\"1025\"}},\"id\":\"1024\",\"type\":\"LinearAxis\"},{\"attributes\":{\"axis\":{\"id\":\"1024\"},\"coordinates\":null,\"dimension\":1,\"group\":null,\"ticker\":null},\"id\":\"1027\",\"type\":\"Grid\"},{\"attributes\":{},\"id\":\"1018\",\"type\":\"LinearScale\"},{\"attributes\":{\"factors\":[\"1970 - 1980\",\"1990 - 2000\",\"1980 - 1990\",\"1880 - 1890\",\"1930 - 1940\",\"1890 - 1900\",\"2000 - 2010\",\"1920 - 1930\",\"1940 - 1950\",\"1950 - 1960\",\"1910 - 1920\",\"1830 - 1840\",\"1960 - 1970\",\"1900 - 1910\"],\"palette\":[\"#1f77b4\",\"#aec7e8\",\"#ff7f0e\",\"#ffbb78\",\"#2ca02c\",\"#98df8a\",\"#d62728\",\"#ff9896\",\"#9467bd\",\"#c5b0d5\",\"#8c564b\",\"#c49c94\",\"#e377c2\",\"#f7b6d2\"]},\"id\":\"1008\",\"type\":\"CategoricalColorMapper\"},{\"attributes\":{},\"id\":\"1006\",\"type\":\"UnionRenderers\"},{\"attributes\":{},\"id\":\"1033\",\"type\":\"HelpTool\"},{\"attributes\":{},\"id\":\"1031\",\"type\":\"SaveTool\"},{\"attributes\":{},\"id\":\"1058\",\"type\":\"AllLabels\"},{\"attributes\":{\"axis\":{\"id\":\"1020\"},\"coordinates\":null,\"group\":null,\"ticker\":null},\"id\":\"1023\",\"type\":\"Grid\"},{\"attributes\":{},\"id\":\"1021\",\"type\":\"BasicTicker\"},{\"attributes\":{},\"id\":\"1029\",\"type\":\"WheelZoomTool\"},{\"attributes\":{\"fill_alpha\":{\"value\":0.1},\"fill_color\":{\"field\":\"decade\",\"transform\":{\"id\":\"1008\"}},\"hatch_alpha\":{\"value\":0.1},\"hatch_color\":{\"field\":\"decade\",\"transform\":{\"id\":\"1008\"}},\"line_alpha\":{\"value\":0.1},\"line_color\":{\"field\":\"decade\",\"transform\":{\"id\":\"1008\"}},\"marker\":{\"value\":\"dot\"},\"size\":{\"value\":20},\"x\":{\"field\":\"x\"},\"y\":{\"field\":\"y\"}},\"id\":\"1048\",\"type\":\"Scatter\"},{\"attributes\":{\"fill_alpha\":{\"value\":0.2},\"fill_color\":{\"field\":\"decade\",\"transform\":{\"id\":\"1008\"}},\"hatch_alpha\":{\"value\":0.2},\"hatch_color\":{\"field\":\"decade\",\"transform\":{\"id\":\"1008\"}},\"line_alpha\":{\"value\":0.2},\"line_color\":{\"field\":\"decade\",\"transform\":{\"id\":\"1008\"}},\"marker\":{\"value\":\"dot\"},\"size\":{\"value\":20},\"x\":{\"field\":\"x\"},\"y\":{\"field\":\"y\"}},\"id\":\"1049\",\"type\":\"Scatter\"},{\"attributes\":{},\"id\":\"1012\",\"type\":\"DataRange1d\"},{\"attributes\":{\"source\":{\"id\":\"1003\"}},\"id\":\"1051\",\"type\":\"CDSView\"},{\"attributes\":{},\"id\":\"1007\",\"type\":\"Selection\"},{\"attributes\":{},\"id\":\"1032\",\"type\":\"ResetTool\"},{\"attributes\":{\"fill_color\":{\"field\":\"decade\",\"transform\":{\"id\":\"1008\"}},\"hatch_color\":{\"field\":\"decade\",\"transform\":{\"id\":\"1008\"}},\"line_color\":{\"field\":\"decade\",\"transform\":{\"id\":\"1008\"}},\"marker\":{\"value\":\"dot\"},\"size\":{\"value\":20},\"x\":{\"field\":\"x\"},\"y\":{\"field\":\"y\"}},\"id\":\"1047\",\"type\":\"Scatter\"},{\"attributes\":{},\"id\":\"1016\",\"type\":\"LinearScale\"},{\"attributes\":{\"coordinates\":null,\"group\":null,\"text\":\"UMAP Embeddings Projections for 'cell'\"},\"id\":\"1044\",\"type\":\"Title\"},{\"attributes\":{\"overlay\":{\"id\":\"1034\"}},\"id\":\"1030\",\"type\":\"BoxZoomTool\"},{\"attributes\":{\"data\":{\"decade\":[\"1970 - 1980\",\"1970 - 1980\",\"1970 - 1980\",\"1990 - 2000\",\"1980 - 1990\",\"1990 - 2000\",\"1990 - 2000\",\"1880 - 1890\",\"1880 - 1890\",\"1880 - 1890\",\"1930 - 1940\",\"1890 - 1900\",\"1880 - 1890\",\"2000 - 2010\",\"1920 - 1930\",\"1920 - 1930\",\"2000 - 2010\",\"2000 - 2010\",\"2000 - 2010\",\"2000 - 2010\",\"2000 - 2010\",\"2000 - 2010\",\"2000 - 2010\",\"2000 - 2010\",\"2000 - 2010\",\"2000 - 2010\",\"1980 - 1990\",\"1940 - 1950\",\"1970 - 1980\",\"1950 - 1960\",\"1980 - 1990\",\"1950 - 1960\",\"1950 - 1960\",\"1950 - 1960\",\"1950 - 1960\",\"1950 - 1960\",\"2000 - 2010\",\"1910 - 1920\",\"1990 - 2000\",\"1990 - 2000\",\"1990 - 2000\",\"1980 - 1990\",\"1830 - 1840\",\"2000 - 2010\",\"1960 - 1970\",\"1980 - 1990\",\"1990 - 2000\",\"1890 - 1900\",\"1960 - 1970\",\"1930 - 1940\",\"1930 - 1940\",\"1900 - 1910\",\"1900 - 1910\",\"1900 - 1910\",\"1900 - 1910\",\"1900 - 1910\",\"1920 - 1930\",\"1990 - 2000\"],\"doc\":[\"fic_1979_10650.txt\",\"fic_1979_10650.txt\",\"fic_1979_10650.txt\",\"nf_1994_746850.txt\",\"mag_1981_494150.txt\",\"mag_1995_426450.txt\",\"mag_1995_426450.txt\",\"nf_1884_748750.txt\",\"nf_1884_748750.txt\",\"nf_1884_748750.txt\",\"fic_1933_5650.txt\",\"mag_1896_562750.txt\",\"news_1884_745250.txt\",\"mag_2007_390950.txt\",\"mag_1923_467650.txt\",\"mag_1923_467650.txt\",\"fic_2005_50150.txt\",\"fic_2005_50150.txt\",\"fic_2005_50150.txt\",\"fic_2005_50150.txt\",\"fic_2005_50150.txt\",\"fic_2005_50150.txt\",\"fic_2005_50150.txt\",\"fic_2005_50150.txt\",\"fic_2005_50150.txt\",\"fic_2005_50150.txt\",\"fic_1981_780050.txt\",\"mag_1946_160150.txt\",\"fic_1972_10550.txt\",\"mag_1950_492350.txt\",\"mag_1988_339250.txt\",\"mag_1954_234150.txt\",\"mag_1954_234150.txt\",\"mag_1954_234150.txt\",\"mag_1954_234150.txt\",\"mag_1954_234150.txt\",\"nf_2006_747050.txt\",\"fic_1910_2750.txt\",\"nf_1991_774050.txt\",\"nf_1991_774050.txt\",\"nf_1991_774050.txt\",\"nf_1982_774150.txt\",\"fic_1838_7250.txt\",\"fic_2009_36650.txt\",\"fic_1964_10450.txt\",\"mag_1986_333750.txt\",\"mag_1999_407850.txt\",\"fic_1890_4350.txt\",\"nf_1962_773650.txt\",\"mag_1930_468750.txt\",\"mag_1930_468750.txt\",\"fic_1908_1150.txt\",\"fic_1908_1150.txt\",\"fic_1908_1150.txt\",\"fic_1908_1150.txt\",\"fic_1908_1150.txt\",\"mag_1926_430950.txt\",\"fic_1996_54250.txt\"],\"text\":[\"A bulky television set , incongruous in the cell of the girl 's apartment , claimed one wall wholly to itself .\",\"Some relevant information , however incomplete , should have reached the cell in Aachen by this time ; the details could be filled in when the museums and art libraries opened .\",\"Yet to break off contact while New York was still to be heard from would constitute a defeat , and the Aachen cell , so far , agreed .\",\"Alternative systems include projection from behind the Cassegrain secondary mirror and use of an auxiliary projection telescope mounted on the side of the primary mirror cell .\",\"Before Joanne Chesimard escaped she had amassed in her prison cell nearly 2,000 pages of 1131 documents which she had obtained under the Freedom of Information Act .\",\"<p> Mitochondrial DNA is located outside a cell 's nucleus and is inherited only from the mother .\",\"There were also passing references to the practice of removing hybrids from display and banishing them to the less stimulating environs of a zoo holding cell after the AZA policy went into effect .\",\"The whole scene was almost as uncanny as the witches ' cell underneath .\",\"This was the Heart of Midlothian , the condemned cell of the Tolbooth. * footnote .\",\".. Long after the condemned cell had been pulled down , an English Chartist went down to Edinburgh to address a large meeting of his brother politicians .\",\"Cooped in their transparent cell , the crew of the submarine Peary waited the end .\",\"A subtle poison permeated every cell of its body ; what wonder if it thenceforth gave out none but poisoned thoughts ?\",\"The officer knew nothing of the previous arrest and discharge of the lawyer , and hurried him back to a cell in spite of all protestations .\",\"\\\" The final straw was when I went into the locker room and was confronted with this hideous and haunting view : She was sitting completely naked and spread-eagle over one of the sinks , basically straddling the faucet and talking loudly on her cell phone while she shaved her bikini line .\",\"Every grub about to hatch leaves its swaddling clothes as a silken lining , incredibly thin , round the walls of its cell , but these skins in the course of the years so choke up the cells as to render them unfit for the brood .\",\"The first symptom of swarming fever is the queen cell , but not until the egg appears , and later the young grub float ?\",\"\\\" I know this part of town like my girlfriend 's chi-chis @ @ @ @ @ @ @ @ @ @ goes home , where he finds that Frank Emerson has - wonderful guy that he is broken into his apartment and left a pile of his belongings : Mounted locust head , trophies , awards , wedding pics , belts , socks , cell phone , and keys to a pair of jet skis whose location Rick has forgotten .\",\"\\\" The cell phone 's battery is dead , he does n't have a land line , and pay phones that work , he 's about to discover , are as rare as whooping cranes .\",\"He turns off the cell , feeling sick to his stomach .\",\"The mounted locust head , still lying in a corner of the room , stares up at him and his cell starts ringing again .\",\"He keeps his cell off , but knows the messages will keep coming .\",\"And we fade to : Rick , at night , listening to his cell messages in the darkness of his apartment .\",\"That evening , Rick 's cell has only one message : A man representing the mayor of Corkscrew , Florida , saying that he called yesterday and would appreciate it if Mr. Rowe would call him back .\",\"\\\" And then : The sound of his cell chirping brings us out of the nightmare into the bleakness of his apartment .\",\"He struggles up , angry , ready to read the prankster the riot act if he can only get through the piles of dirty clothes and trophies to the cell in time .\",\"\\\" And cell messages , real ones : One from the Federal Emergency Management Agency .\",\"I hated her with every cell in my body ?\",\"gaze a Communist cell conspiring in Madrid , claimed to have bagged the entire central committee of the Spanish Communist Party .\",\"Many 's the cell he washed down with the Blood of the Lamb before they finally let him out .\",\"Some bankrupts enjoy life in a cell .\",\"\\\" Bill ( the DEA is withholding his full name ) can follow the auction from his cell in Lompoc , Calif. , where he is doing 17 years for drug trafficking .\",\"For more than a century , electrical engineers have sought a kind of philosophers ' stone : a cell that will turn chemical fuel directly into electricity .\",\"A fuel cell , theoretically , could be almost 100% efficient .\",\"<P> In Britain 's B.E.A.M.A. ( British Electrical and Allied Manufacturers ' Association ) Journal , Engineer F. T. Bacon of Cambridge describes the most hopeful approach so far to a practical fuel cell .\",\"<P> A single cell produces less than one volt @ @ @ @ @ @ @ @ @ @ inch thick , many cells can be stacked up in series to give higher voltage .\",\"Bacon believes that his fuel cell can also be used as a kind of storage battery ; it can burn hydrogen and oxygen made by decomposing water with surplus electricity when demand is low .\",\"Together with severely constricted peripheral circulation , these hemodynamic changes result in systemic hypertension ( Phillips et @ @ @ @ @ @ @ @ @ @ hypertrophy , decreased myocardial oxygen delivery , and eventually myocyte cell death ( Moos et al. , 2005 ; Qureshi et al. , 2003 ; Shamsuzzaman et al. ; Trupp , 2004 ) .\",\"The cell they keep him in is below the sea-level , and the salt-water leaks through the wall .\",\"SELENIUM A. Introduction Selenium is part of the enzyme glutathione peroxidase which aids in detoxification of lipo- and hydrogen peroxides which are toxic to cell membranes .\",\"The loss of unsaturated fatty acids by peroxides causes extensive damage to cell membranes and affects their permeability and function , and causes cell wall fragility .\",\"The loss of unsaturated fatty acids by peroxides causes extensive damage to cell membranes and affects their permeability and function , and causes cell wall fragility .\",\"We can perhaps think of the identity conditions associated with such essentially technical concepts as \\\" bacterium \\\" and \\\" cell \\\" as determined by the theoretical needs of biology in rather the way that the identity of matter is determined by the theoretical needs of physics .\",\"When he attempts to give them utterance , he @ @ @ @ @ @ @ @ @ @ carries thought to the tongue and to the finger ends ; and as art has not yet found out the method of tunnelling or of driving a drift into the brain , to remedy such defects , and act as a general jail delivery to the prisoners of the mind , his divine conceptions continue pent in their osseous cell .\",\"Sunlight streamed into the yard and reflected an eerily milky glow @ @ @ @ @ @ @ @ @ @ , flipped open my cell phone , and stabbed at 911 .\",\"Some drunk in a cell , waiting to go down to the city drunk tank for sunrise court , kept giving the Australian bush call all the time we were talking .\",\"Screaming and gesturing wildly @ @ @ @ @ @ @ @ @ @ voices , sounds and music \\\" were being piped into his cell to make him confess .\",\"Soy also contains high levels of phytosterols , which may lower the risk of colon cancer by hindering abnormal cell growth .\",\"\\\" An exquisitely minute cell in violent motion , \\\" I answered .\",\"If , for instance , light falls on a cathode , on @ @ @ @ @ @ @ @ @ @ kept in a vacuum ( e.g. the photo-electric cell ) , electrons will emerge from the cathode ( photo-electric effect ) when only a low potential is applied ; a current between cathode and anode can be shown to flow outside the vacuum .\",\"In the first place , when I was very young somebody told me that every cell in the human body is destroyed and renovated in the course of seven years , so that not a vestige of one 's body seven years ago remains to-day .\",\"Thus when I was thirteen years old there was a little girl six months my senior whom I kissed one evening behind the front door ; and for some time after I @ @ @ @ @ @ @ @ @ @ marry her to make an honest woman of her ; six months later , I discovered that another boy had also , by force I was glad to know , kissed this girl , and that night I lay on my bed saying to myself , \\\" In seven years there will be not one cell of Theresa left ; she 'll all be new ; I must wait until she is twenty-one , and then I shall be able to feel happy again .\",\"It had only been when Bolton 's sister had discovered an empty \\\" cell , \\\" as Jack called the bedroom next to his , that he had abandoned his intention of camping out on Jack 's disheartened lounge , and had retired like a gentleman carrying with him all his toilet articles , ready to @ @ @ @ @ @ @ @ @ @ time he had captured everybody in the place : from Mrs. Hicks , who never dreamed that such a well of tenderness over suffering could exist in an old fellow 's heart , down to the freckled-faced boy who came for his muddy shoes and who , after a moment 's talk with Peter as to how they should be polished , retired later in the firm belief that they belonged to \\\" a gent way up in G , \\\" as he expressed it , he never having waited on \\\" the likes of him before .\",\"CHAPTER XVII Some of the sunshine that had helped dry the muddy road , making possible the path between Jack 's abode and MacFarlane 's hired villa -- where there was only room for Miss Felicia , Peter still occupying his cell at Mrs. Hicks @ @ @ @ @ @ @ @ @ @ that he could be within call of MacFarlane when needed --  some of this same sunshine , I say , may have been responsible for the temporary drying up of Ruth 's tears and the establishing of various ways of communication between two hearts that had for some days been floundering in the deeps .\",\"\\\" \\\" I have two degrees myself , \\\" Jack laughed softly ,  --  \\\" one records how anxious I was to get out of my cell and the other how eager I was to get here .\",\"Others , less fortunate , had disappeared altogether from their accustomed haunts and were to be found filling minor positions in some far Western frontier town or camp , or menial berths on a railroad , while at least one victim , too cowardly to @ @ @ @ @ @ @ @ @ @ hotel lobbies , and race-tracks for months , preying on friends and acquaintances alike until dire poverty forced him into crime , and a stone cell and a steel grille had ended the struggle .\",\"This talk of Jack 's could only have been a ruse to keep up her spirits and give her false strength until she had passed through the agonizing ordeal of the funeral -- he accepting all her delusions as true -- as one does when an insane person is to be coaxed back into a cell .\",\"One man of science claimed that he could trace the effect in the brain of the bird by a study of its anatomy : the swallows of his youth , he alleged , had a minute cell less in the brain than the swallows of his old age .\",\"But death hits an odd , clangy note , like a cell door slamming .\"],\"x\":{\"__ndarray__\":\"8NQuQGT9XUDZDldAkt+sQCU1WUD5w8lARFBcQGI4LkDiXjdAC+c8QLSYOEBIgaxAhdUdQEIWFEAHXKBA0pi4QDASHkCdUEZAplcPQCrq5D8sXR5A9aMuQHSJBEDD5eY/6LgKQINtPkCVxqxAT5VdQLGhQ0Cd1TBA1AJDQEcyv0BGirxAMVGxQIb7vUDaNK9AJn/SQBmJRUDMK9VA1HnRQAoN1UA/UsZA61LHPzpvKUAcQi5A/W/lP7Z82kA/07NAUsy8QJL1sUAz6Oo/o0EgQK8Z1z9GO/c/9vnrP8dJ/T+7I8pAtws4QA==\",\"dtype\":\"float32\",\"order\":\"little\",\"shape\":[58]},\"y\":{\"__ndarray__\":\"Z7fpQN7x70DxZetABpIJQfqMt0ADDuBA+NvHQHEo0UA3WuZAVu/bQEpJy0Aqd9ZArby6QDJKaUCx7/lAKdcGQXfwbUBbZoFA3iuYQAYSh0Cd9IdAXzeIQKh7jUDZAZxAI5O9QBXHkEBQvc9ASCnRQOKR3UD65sBAEEqzQNGP/kByvfVAnMT0QCvU6EBv7fBAREL2QPNwwkA1TOVAIirdQM672EBRfAVBiDzTQKQ/gkBO4q9ADUSsQNUw5EDxJABBQfUHQflz4EAmj9tAjJnSQCYPvUAek7ZAnGbSQGu8xUByi/tAQ7SkQA==\",\"dtype\":\"float32\",\"order\":\"little\",\"shape\":[58]},\"year\":[1979,1979,1979,1994,1981,1995,1995,1884,1884,1884,1933,1896,1884,2007,1923,1923,2005,2005,2005,2005,2005,2005,2005,2005,2005,2005,1981,1946,1972,1950,1988,1954,1954,1954,1954,1954,2006,1910,1991,1991,1991,1982,1838,2009,1964,1986,1999,1890,1962,1930,1930,1908,1908,1908,1908,1908,1926,1996]},\"selected\":{\"id\":\"1007\"},\"selection_policy\":{\"id\":\"1006\"}},\"id\":\"1003\",\"type\":\"ColumnDataSource\"},{\"attributes\":{\"tools\":[{\"id\":\"1028\"},{\"id\":\"1029\"},{\"id\":\"1030\"},{\"id\":\"1031\"},{\"id\":\"1032\"},{\"id\":\"1033\"},{\"id\":\"1035\"}]},\"id\":\"1036\",\"type\":\"Toolbar\"},{\"attributes\":{},\"id\":\"1014\",\"type\":\"DataRange1d\"},{\"attributes\":{},\"id\":\"1054\",\"type\":\"BasicTickFormatter\"},{\"attributes\":{},\"id\":\"1028\",\"type\":\"PanTool\"},{\"attributes\":{},\"id\":\"1057\",\"type\":\"BasicTickFormatter\"},{\"attributes\":{\"label\":{\"field\":\"decade\"},\"renderers\":[{\"id\":\"1050\"}]},\"id\":\"1063\",\"type\":\"LegendItem\"},{\"attributes\":{\"callback\":null,\"tooltips\":[[\"doc\",\"@doc\"],[\"text\",\"@text\"],[\"year\",\"@year\"]]},\"id\":\"1035\",\"type\":\"HoverTool\"},{\"attributes\":{\"bottom_units\":\"screen\",\"coordinates\":null,\"fill_alpha\":0.5,\"fill_color\":\"lightgrey\",\"group\":null,\"left_units\":\"screen\",\"level\":\"overlay\",\"line_alpha\":1.0,\"line_color\":\"black\",\"line_dash\":[4,4],\"line_width\":2,\"right_units\":\"screen\",\"syncable\":false,\"top_units\":\"screen\"},\"id\":\"1034\",\"type\":\"BoxAnnotation\"},{\"attributes\":{\"coordinates\":null,\"formatter\":{\"id\":\"1057\"},\"group\":null,\"major_label_policy\":{\"id\":\"1058\"},\"ticker\":{\"id\":\"1021\"}},\"id\":\"1020\",\"type\":\"LinearAxis\"},{\"attributes\":{},\"id\":\"1055\",\"type\":\"AllLabels\"},{\"attributes\":{},\"id\":\"1025\",\"type\":\"BasicTicker\"},{\"attributes\":{\"coordinates\":null,\"data_source\":{\"id\":\"1003\"},\"glyph\":{\"id\":\"1047\"},\"group\":null,\"hover_glyph\":null,\"muted_glyph\":{\"id\":\"1049\"},\"nonselection_glyph\":{\"id\":\"1048\"},\"view\":{\"id\":\"1051\"}},\"id\":\"1050\",\"type\":\"GlyphRenderer\"},{\"attributes\":{\"click_policy\":\"mute\",\"coordinates\":null,\"group\":null,\"items\":[{\"id\":\"1063\"}]},\"id\":\"1062\",\"type\":\"Legend\"}],\"root_ids\":[\"1011\"]},\"title\":\"Bokeh Application\",\"version\":\"2.4.3\"}};\n  const render_items = [{\"docid\":\"df307a10-956b-4b94-8968-29bf0f4c342f\",\"root_ids\":[\"1011\"],\"roots\":{\"1011\":\"10d2a898-4958-44e3-99a4-31e4598510eb\"}}];\n  root.Bokeh.embed.embed_items_notebook(docs_json, render_items);\n  }\n  if (root.Bokeh !== undefined) {\n    embed_document(root);\n  } else {\n    let attempts = 0;\n    const timer = setInterval(function(root) {\n      if (root.Bokeh !== undefined) {\n        clearInterval(timer);\n        embed_document(root);\n      } else {\n        attempts++;\n        if (attempts > 100) {\n          clearInterval(timer);\n          console.log(\"Bokeh: ERROR: Unable to run BokehJS code because BokehJS library is missing\");\n        }\n      }\n    }, 10, root)\n  }\n})(window);",
      "application/vnd.bokehjs_exec.v0+json": ""
     },
     "metadata": {
      "application/vnd.bokehjs_exec.v0+json": {
       "id": "1011"
      }
     },
     "output_type": "display_data"
    }
   ],
   "source": [
    "from bokeh.plotting import figure, show\n",
    "\n",
    "p = figure(height=1000, width=1000, tooltips=[('doc', '@doc'), ('text', '@text'), ('year', '@year')])\n",
    "p.title = title\n",
    "\n",
    "# TODO: group by decade to enable muting individually via legend\n",
    "p.dot(\n",
    "    x='x', y='y', legend_field = 'decade', source=cds,\n",
    "    size=20,\n",
    "    color={'field': 'decade', 'transform': color_mapper}\n",
    ")\n",
    "\n",
    "p.legend.click_policy=\"mute\"\n",
    "\n",
    "show(p)"
   ]
  }
 ],
 "metadata": {
  "kernelspec": {
   "display_name": "Python 3.10.6 ('SoS')",
   "language": "python",
   "name": "python3"
  },
  "language_info": {
   "codemirror_mode": {
    "name": "ipython",
    "version": 3
   },
   "file_extension": ".py",
   "mimetype": "text/x-python",
   "name": "python",
   "nbconvert_exporter": "python",
   "pygments_lexer": "ipython3",
   "version": "3.10.6"
  },
  "orig_nbformat": 4,
  "vscode": {
   "interpreter": {
    "hash": "698edb2d430efe7d82235b52eab5a9a548e58da18d36891b15065b37371a8bd3"
   }
  }
 },
 "nbformat": 4,
 "nbformat_minor": 2
}
