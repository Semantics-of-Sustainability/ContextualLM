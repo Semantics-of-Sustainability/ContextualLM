{
 "cells": [
  {
   "cell_type": "markdown",
   "metadata": {},
   "source": [
    "# Install Requirements"
   ]
  },
  {
   "cell_type": "code",
   "execution_count": 1,
   "metadata": {},
   "outputs": [
    {
     "name": "stdout",
     "output_type": "stream",
     "text": [
      "Requirement already satisfied: transformers in /Users/carstenschnober/opt/anaconda3/envs/SoS/lib/python3.10/site-packages (4.23.1)\n",
      "Requirement already satisfied: datasets in /Users/carstenschnober/opt/anaconda3/envs/SoS/lib/python3.10/site-packages (2.6.1)\n",
      "Requirement already satisfied: numpy>=1.17 in /Users/carstenschnober/opt/anaconda3/envs/SoS/lib/python3.10/site-packages (from transformers) (1.23.4)\n",
      "Requirement already satisfied: tqdm>=4.27 in /Users/carstenschnober/opt/anaconda3/envs/SoS/lib/python3.10/site-packages (from transformers) (4.64.1)\n",
      "Requirement already satisfied: regex!=2019.12.17 in /Users/carstenschnober/opt/anaconda3/envs/SoS/lib/python3.10/site-packages (from transformers) (2022.9.13)\n",
      "Requirement already satisfied: tokenizers!=0.11.3,<0.14,>=0.11.1 in /Users/carstenschnober/opt/anaconda3/envs/SoS/lib/python3.10/site-packages (from transformers) (0.13.1)\n",
      "Requirement already satisfied: filelock in /Users/carstenschnober/opt/anaconda3/envs/SoS/lib/python3.10/site-packages (from transformers) (3.8.0)\n",
      "Requirement already satisfied: packaging>=20.0 in /Users/carstenschnober/opt/anaconda3/envs/SoS/lib/python3.10/site-packages (from transformers) (21.3)\n",
      "Requirement already satisfied: huggingface-hub<1.0,>=0.10.0 in /Users/carstenschnober/opt/anaconda3/envs/SoS/lib/python3.10/site-packages (from transformers) (0.10.1)\n",
      "Requirement already satisfied: pyyaml>=5.1 in /Users/carstenschnober/opt/anaconda3/envs/SoS/lib/python3.10/site-packages (from transformers) (6.0)\n",
      "Requirement already satisfied: requests in /Users/carstenschnober/opt/anaconda3/envs/SoS/lib/python3.10/site-packages (from transformers) (2.28.1)\n",
      "Requirement already satisfied: aiohttp in /Users/carstenschnober/opt/anaconda3/envs/SoS/lib/python3.10/site-packages (from datasets) (3.8.3)\n",
      "Requirement already satisfied: dill<0.3.6 in /Users/carstenschnober/opt/anaconda3/envs/SoS/lib/python3.10/site-packages (from datasets) (0.3.5.1)\n",
      "Requirement already satisfied: xxhash in /Users/carstenschnober/opt/anaconda3/envs/SoS/lib/python3.10/site-packages (from datasets) (3.0.0)\n",
      "Requirement already satisfied: pandas in /Users/carstenschnober/opt/anaconda3/envs/SoS/lib/python3.10/site-packages (from datasets) (1.5.0)\n",
      "Requirement already satisfied: fsspec[http]>=2021.11.1 in /Users/carstenschnober/opt/anaconda3/envs/SoS/lib/python3.10/site-packages (from datasets) (2022.8.2)\n",
      "Requirement already satisfied: responses<0.19 in /Users/carstenschnober/opt/anaconda3/envs/SoS/lib/python3.10/site-packages (from datasets) (0.18.0)\n",
      "Requirement already satisfied: multiprocess in /Users/carstenschnober/opt/anaconda3/envs/SoS/lib/python3.10/site-packages (from datasets) (0.70.13)\n",
      "Requirement already satisfied: pyarrow>=6.0.0 in /Users/carstenschnober/opt/anaconda3/envs/SoS/lib/python3.10/site-packages (from datasets) (9.0.0)\n",
      "Requirement already satisfied: attrs>=17.3.0 in /Users/carstenschnober/opt/anaconda3/envs/SoS/lib/python3.10/site-packages (from aiohttp->datasets) (22.1.0)\n",
      "Requirement already satisfied: yarl<2.0,>=1.0 in /Users/carstenschnober/opt/anaconda3/envs/SoS/lib/python3.10/site-packages (from aiohttp->datasets) (1.8.1)\n",
      "Requirement already satisfied: async-timeout<5.0,>=4.0.0a3 in /Users/carstenschnober/opt/anaconda3/envs/SoS/lib/python3.10/site-packages (from aiohttp->datasets) (4.0.2)\n",
      "Requirement already satisfied: multidict<7.0,>=4.5 in /Users/carstenschnober/opt/anaconda3/envs/SoS/lib/python3.10/site-packages (from aiohttp->datasets) (6.0.2)\n",
      "Requirement already satisfied: frozenlist>=1.1.1 in /Users/carstenschnober/opt/anaconda3/envs/SoS/lib/python3.10/site-packages (from aiohttp->datasets) (1.3.1)\n",
      "Requirement already satisfied: charset-normalizer<3.0,>=2.0 in /Users/carstenschnober/opt/anaconda3/envs/SoS/lib/python3.10/site-packages (from aiohttp->datasets) (2.1.1)\n",
      "Requirement already satisfied: aiosignal>=1.1.2 in /Users/carstenschnober/opt/anaconda3/envs/SoS/lib/python3.10/site-packages (from aiohttp->datasets) (1.2.0)\n",
      "Requirement already satisfied: typing-extensions>=3.7.4.3 in /Users/carstenschnober/opt/anaconda3/envs/SoS/lib/python3.10/site-packages (from huggingface-hub<1.0,>=0.10.0->transformers) (4.4.0)\n",
      "Requirement already satisfied: pyparsing!=3.0.5,>=2.0.2 in /Users/carstenschnober/opt/anaconda3/envs/SoS/lib/python3.10/site-packages (from packaging>=20.0->transformers) (3.0.9)\n",
      "Requirement already satisfied: certifi>=2017.4.17 in /Users/carstenschnober/opt/anaconda3/envs/SoS/lib/python3.10/site-packages (from requests->transformers) (2022.9.24)\n",
      "Requirement already satisfied: idna<4,>=2.5 in /Users/carstenschnober/opt/anaconda3/envs/SoS/lib/python3.10/site-packages (from requests->transformers) (3.4)\n",
      "Requirement already satisfied: urllib3<1.27,>=1.21.1 in /Users/carstenschnober/opt/anaconda3/envs/SoS/lib/python3.10/site-packages (from requests->transformers) (1.26.12)\n",
      "Requirement already satisfied: pytz>=2020.1 in /Users/carstenschnober/opt/anaconda3/envs/SoS/lib/python3.10/site-packages (from pandas->datasets) (2022.4)\n",
      "Requirement already satisfied: python-dateutil>=2.8.1 in /Users/carstenschnober/opt/anaconda3/envs/SoS/lib/python3.10/site-packages (from pandas->datasets) (2.8.2)\n",
      "Requirement already satisfied: six>=1.5 in /Users/carstenschnober/opt/anaconda3/envs/SoS/lib/python3.10/site-packages (from python-dateutil>=2.8.1->pandas->datasets) (1.16.0)\n",
      "Note: you may need to restart the kernel to use updated packages.\n",
      "Requirement already satisfied: torch in /Users/carstenschnober/opt/anaconda3/envs/SoS/lib/python3.10/site-packages (1.12.1)\n",
      "Requirement already satisfied: typing-extensions in /Users/carstenschnober/opt/anaconda3/envs/SoS/lib/python3.10/site-packages (from torch) (4.4.0)\n",
      "Note: you may need to restart the kernel to use updated packages.\n",
      "Requirement already satisfied: matplotlib in /Users/carstenschnober/opt/anaconda3/envs/SoS/lib/python3.10/site-packages (3.6.2)\n",
      "Requirement already satisfied: kiwisolver>=1.0.1 in /Users/carstenschnober/opt/anaconda3/envs/SoS/lib/python3.10/site-packages (from matplotlib) (1.4.4)\n",
      "Requirement already satisfied: numpy>=1.19 in /Users/carstenschnober/opt/anaconda3/envs/SoS/lib/python3.10/site-packages (from matplotlib) (1.23.4)\n",
      "Requirement already satisfied: fonttools>=4.22.0 in /Users/carstenschnober/opt/anaconda3/envs/SoS/lib/python3.10/site-packages (from matplotlib) (4.38.0)\n",
      "Requirement already satisfied: pyparsing>=2.2.1 in /Users/carstenschnober/opt/anaconda3/envs/SoS/lib/python3.10/site-packages (from matplotlib) (3.0.9)\n",
      "Requirement already satisfied: python-dateutil>=2.7 in /Users/carstenschnober/opt/anaconda3/envs/SoS/lib/python3.10/site-packages (from matplotlib) (2.8.2)\n",
      "Requirement already satisfied: pillow>=6.2.0 in /Users/carstenschnober/opt/anaconda3/envs/SoS/lib/python3.10/site-packages (from matplotlib) (9.3.0)\n",
      "Requirement already satisfied: packaging>=20.0 in /Users/carstenschnober/opt/anaconda3/envs/SoS/lib/python3.10/site-packages (from matplotlib) (21.3)\n",
      "Requirement already satisfied: contourpy>=1.0.1 in /Users/carstenschnober/opt/anaconda3/envs/SoS/lib/python3.10/site-packages (from matplotlib) (1.0.6)\n",
      "Requirement already satisfied: cycler>=0.10 in /Users/carstenschnober/opt/anaconda3/envs/SoS/lib/python3.10/site-packages (from matplotlib) (0.11.0)\n",
      "Requirement already satisfied: six>=1.5 in /Users/carstenschnober/opt/anaconda3/envs/SoS/lib/python3.10/site-packages (from python-dateutil>=2.7->matplotlib) (1.16.0)\n",
      "Note: you may need to restart the kernel to use updated packages.\n",
      "Requirement already satisfied: umap-learn in /Users/carstenschnober/opt/anaconda3/envs/SoS/lib/python3.10/site-packages (0.5.3)\n",
      "Collecting numba==0.48.0\n",
      "  Using cached numba-0.48.0.tar.gz (2.0 MB)\n",
      "  Preparing metadata (setup.py) ... \u001b[?25ldone\n",
      "\u001b[?25hCollecting llvmlite<0.32.0,>=0.31.0dev0\n",
      "  Using cached llvmlite-0.31.0.tar.gz (110 kB)\n",
      "  Preparing metadata (setup.py) ... \u001b[?25ldone\n",
      "\u001b[?25hRequirement already satisfied: numpy>=1.15 in /Users/carstenschnober/opt/anaconda3/envs/SoS/lib/python3.10/site-packages (from numba==0.48.0) (1.23.4)\n",
      "Requirement already satisfied: setuptools in /Users/carstenschnober/opt/anaconda3/envs/SoS/lib/python3.10/site-packages (from numba==0.48.0) (63.4.1)\n",
      "Requirement already satisfied: scikit-learn>=0.22 in /Users/carstenschnober/opt/anaconda3/envs/SoS/lib/python3.10/site-packages (from umap-learn) (1.1.3)\n",
      "Requirement already satisfied: pynndescent>=0.5 in /Users/carstenschnober/opt/anaconda3/envs/SoS/lib/python3.10/site-packages (from umap-learn) (0.5.8)\n",
      "Requirement already satisfied: scipy>=1.0 in /Users/carstenschnober/opt/anaconda3/envs/SoS/lib/python3.10/site-packages (from umap-learn) (1.9.2)\n",
      "Collecting umap-learn\n",
      "  Using cached umap-learn-0.5.2.tar.gz (86 kB)\n",
      "  Preparing metadata (setup.py) ... \u001b[?25ldone\n",
      "\u001b[?25h  Using cached umap-learn-0.5.1.tar.gz (80 kB)\n",
      "  Preparing metadata (setup.py) ... \u001b[?25ldone\n",
      "\u001b[?25h  Using cached umap-learn-0.5.0.tar.gz (81 kB)\n",
      "  Preparing metadata (setup.py) ... \u001b[?25ldone\n",
      "\u001b[?25h  Using cached umap_learn-0.4.6-py3-none-any.whl\n",
      "Requirement already satisfied: joblib>=1.0.0 in /Users/carstenschnober/opt/anaconda3/envs/SoS/lib/python3.10/site-packages (from scikit-learn>=0.22->umap-learn) (1.2.0)\n",
      "Requirement already satisfied: threadpoolctl>=2.0.0 in /Users/carstenschnober/opt/anaconda3/envs/SoS/lib/python3.10/site-packages (from scikit-learn>=0.22->umap-learn) (3.1.0)\n",
      "Building wheels for collected packages: numba, llvmlite\n",
      "  Building wheel for numba (setup.py) ... \u001b[?25lerror\n",
      "  \u001b[1;31merror\u001b[0m: \u001b[1msubprocess-exited-with-error\u001b[0m\n",
      "  \n",
      "  \u001b[31m×\u001b[0m \u001b[32mpython setup.py bdist_wheel\u001b[0m did not run successfully.\n",
      "  \u001b[31m│\u001b[0m exit code: \u001b[1;36m1\u001b[0m\n",
      "  \u001b[31m╰─>\u001b[0m \u001b[31m[755 lines of output]\u001b[0m\n",
      "  \u001b[31m   \u001b[0m /private/var/folders/d8/j5_fyf8941j_492zvf8948y40000gn/T/pip-install-9w3wjdjf/numba_3ce053275a9a4ba3b8428433db27acbd/setup.py:98: DeprecationWarning:\n",
      "  \u001b[31m   \u001b[0m \n",
      "  \u001b[31m   \u001b[0m   `numpy.distutils` is deprecated since NumPy 1.23.0, as a result\n",
      "  \u001b[31m   \u001b[0m   of the deprecation of `distutils` itself. It will be removed for\n",
      "  \u001b[31m   \u001b[0m   Python >= 3.12. For older Python versions it will remain present.\n",
      "  \u001b[31m   \u001b[0m   It is recommended to use `setuptools < 60.0` for those Python versions.\n",
      "  \u001b[31m   \u001b[0m   For more details, see:\n",
      "  \u001b[31m   \u001b[0m     https://numpy.org/devdocs/reference/distutils_status_migration.html\n",
      "  \u001b[31m   \u001b[0m \n",
      "  \u001b[31m   \u001b[0m \n",
      "  \u001b[31m   \u001b[0m   import numpy.distutils.misc_util as np_misc\n",
      "  \u001b[31m   \u001b[0m TBB not found\n",
      "  \u001b[31m   \u001b[0m OpenMP disabled\n",
      "  \u001b[31m   \u001b[0m running bdist_wheel\n",
      "  \u001b[31m   \u001b[0m running build\n",
      "  \u001b[31m   \u001b[0m got version from file /private/var/folders/d8/j5_fyf8941j_492zvf8948y40000gn/T/pip-install-9w3wjdjf/numba_3ce053275a9a4ba3b8428433db27acbd/numba/_version.py {'version': '0.48.0', 'full': 'cc7e7c7cfa6389b54d3b5c2c95751c97eb531a96'}\n",
      "  \u001b[31m   \u001b[0m running build_py\n",
      "  \u001b[31m   \u001b[0m creating build\n",
      "  \u001b[31m   \u001b[0m creating build/lib.macosx-10.9-x86_64-cpython-310\n",
      "  \u001b[31m   \u001b[0m creating build/lib.macosx-10.9-x86_64-cpython-310/numba\n",
      "  \u001b[31m   \u001b[0m copying numba/dispatcher.py -> build/lib.macosx-10.9-x86_64-cpython-310/numba\n",
      "  \u001b[31m   \u001b[0m copying numba/serialize.py -> build/lib.macosx-10.9-x86_64-cpython-310/numba\n",
      "  \u001b[31m   \u001b[0m copying numba/funcdesc.py -> build/lib.macosx-10.9-x86_64-cpython-310/numba\n",
      "  \u001b[31m   \u001b[0m copying numba/postproc.py -> build/lib.macosx-10.9-x86_64-cpython-310/numba\n",
      "  \u001b[31m   \u001b[0m copying numba/stencil.py -> build/lib.macosx-10.9-x86_64-cpython-310/numba\n",
      "  \u001b[31m   \u001b[0m copying numba/transforms.py -> build/lib.macosx-10.9-x86_64-cpython-310/numba\n",
      "  \u001b[31m   \u001b[0m copying numba/compiler_machinery.py -> build/lib.macosx-10.9-x86_64-cpython-310/numba\n",
      "  \u001b[31m   \u001b[0m copying numba/tracing.py -> build/lib.macosx-10.9-x86_64-cpython-310/numba\n",
      "  \u001b[31m   \u001b[0m copying numba/ccallback.py -> build/lib.macosx-10.9-x86_64-cpython-310/numba\n",
      "  \u001b[31m   \u001b[0m copying numba/config.py -> build/lib.macosx-10.9-x86_64-cpython-310/numba\n",
      "  \u001b[31m   \u001b[0m copying numba/compiler.py -> build/lib.macosx-10.9-x86_64-cpython-310/numba\n",
      "  \u001b[31m   \u001b[0m copying numba/ctypes_support.py -> build/lib.macosx-10.9-x86_64-cpython-310/numba\n",
      "  \u001b[31m   \u001b[0m copying numba/withcontexts.py -> build/lib.macosx-10.9-x86_64-cpython-310/numba\n",
      "  \u001b[31m   \u001b[0m copying numba/analysis.py -> build/lib.macosx-10.9-x86_64-cpython-310/numba\n",
      "  \u001b[31m   \u001b[0m copying numba/_version.py -> build/lib.macosx-10.9-x86_64-cpython-310/numba\n",
      "  \u001b[31m   \u001b[0m copying numba/unicode.py -> build/lib.macosx-10.9-x86_64-cpython-310/numba\n",
      "  \u001b[31m   \u001b[0m copying numba/inline_closurecall.py -> build/lib.macosx-10.9-x86_64-cpython-310/numba\n",
      "  \u001b[31m   \u001b[0m copying numba/ir_utils.py -> build/lib.macosx-10.9-x86_64-cpython-310/numba\n",
      "  \u001b[31m   \u001b[0m copying numba/pylowering.py -> build/lib.macosx-10.9-x86_64-cpython-310/numba\n",
      "  \u001b[31m   \u001b[0m copying numba/io_support.py -> build/lib.macosx-10.9-x86_64-cpython-310/numba\n",
      "  \u001b[31m   \u001b[0m copying numba/numpy_extensions.py -> build/lib.macosx-10.9-x86_64-cpython-310/numba\n",
      "  \u001b[31m   \u001b[0m copying numba/parfor.py -> build/lib.macosx-10.9-x86_64-cpython-310/numba\n",
      "  \u001b[31m   \u001b[0m copying numba/lowering.py -> build/lib.macosx-10.9-x86_64-cpython-310/numba\n",
      "  \u001b[31m   \u001b[0m copying numba/numba_entry.py -> build/lib.macosx-10.9-x86_64-cpython-310/numba\n",
      "  \u001b[31m   \u001b[0m copying numba/stencilparfor.py -> build/lib.macosx-10.9-x86_64-cpython-310/numba\n",
      "  \u001b[31m   \u001b[0m copying numba/object_mode_passes.py -> build/lib.macosx-10.9-x86_64-cpython-310/numba\n",
      "  \u001b[31m   \u001b[0m copying numba/sigutils.py -> build/lib.macosx-10.9-x86_64-cpython-310/numba\n",
      "  \u001b[31m   \u001b[0m copying numba/numpy_support.py -> build/lib.macosx-10.9-x86_64-cpython-310/numba\n",
      "  \u001b[31m   \u001b[0m copying numba/__init__.py -> build/lib.macosx-10.9-x86_64-cpython-310/numba\n",
      "  \u001b[31m   \u001b[0m copying numba/ir.py -> build/lib.macosx-10.9-x86_64-cpython-310/numba\n",
      "  \u001b[31m   \u001b[0m copying numba/itanium_mangler.py -> build/lib.macosx-10.9-x86_64-cpython-310/numba\n",
      "  \u001b[31m   \u001b[0m copying numba/unittest_support.py -> build/lib.macosx-10.9-x86_64-cpython-310/numba\n",
      "  \u001b[31m   \u001b[0m copying numba/array_analysis.py -> build/lib.macosx-10.9-x86_64-cpython-310/numba\n",
      "  \u001b[31m   \u001b[0m copying numba/consts.py -> build/lib.macosx-10.9-x86_64-cpython-310/numba\n",
      "  \u001b[31m   \u001b[0m copying numba/generators.py -> build/lib.macosx-10.9-x86_64-cpython-310/numba\n",
      "  \u001b[31m   \u001b[0m copying numba/appdirs.py -> build/lib.macosx-10.9-x86_64-cpython-310/numba\n",
      "  \u001b[31m   \u001b[0m copying numba/charseq.py -> build/lib.macosx-10.9-x86_64-cpython-310/numba\n",
      "  \u001b[31m   \u001b[0m copying numba/cffi_support.py -> build/lib.macosx-10.9-x86_64-cpython-310/numba\n",
      "  \u001b[31m   \u001b[0m copying numba/listobject.py -> build/lib.macosx-10.9-x86_64-cpython-310/numba\n",
      "  \u001b[31m   \u001b[0m copying numba/interpreter.py -> build/lib.macosx-10.9-x86_64-cpython-310/numba\n",
      "  \u001b[31m   \u001b[0m copying numba/caching.py -> build/lib.macosx-10.9-x86_64-cpython-310/numba\n",
      "  \u001b[31m   \u001b[0m copying numba/unicode_support.py -> build/lib.macosx-10.9-x86_64-cpython-310/numba\n",
      "  \u001b[31m   \u001b[0m copying numba/utils.py -> build/lib.macosx-10.9-x86_64-cpython-310/numba\n",
      "  \u001b[31m   \u001b[0m copying numba/findlib.py -> build/lib.macosx-10.9-x86_64-cpython-310/numba\n",
      "  \u001b[31m   \u001b[0m copying numba/debuginfo.py -> build/lib.macosx-10.9-x86_64-cpython-310/numba\n",
      "  \u001b[31m   \u001b[0m copying numba/entrypoints.py -> build/lib.macosx-10.9-x86_64-cpython-310/numba\n",
      "  \u001b[31m   \u001b[0m copying numba/pretty_annotate.py -> build/lib.macosx-10.9-x86_64-cpython-310/numba\n",
      "  \u001b[31m   \u001b[0m copying numba/six.py -> build/lib.macosx-10.9-x86_64-cpython-310/numba\n",
      "  \u001b[31m   \u001b[0m copying numba/typeinfer.py -> build/lib.macosx-10.9-x86_64-cpython-310/numba\n",
      "  \u001b[31m   \u001b[0m copying numba/errors.py -> build/lib.macosx-10.9-x86_64-cpython-310/numba\n",
      "  \u001b[31m   \u001b[0m copying numba/typed_passes.py -> build/lib.macosx-10.9-x86_64-cpython-310/numba\n",
      "  \u001b[31m   \u001b[0m copying numba/bytecode.py -> build/lib.macosx-10.9-x86_64-cpython-310/numba\n",
      "  \u001b[31m   \u001b[0m copying numba/dummyarray.py -> build/lib.macosx-10.9-x86_64-cpython-310/numba\n",
      "  \u001b[31m   \u001b[0m copying numba/byteflow.py -> build/lib.macosx-10.9-x86_64-cpython-310/numba\n",
      "  \u001b[31m   \u001b[0m copying numba/_runtests.py -> build/lib.macosx-10.9-x86_64-cpython-310/numba\n",
      "  \u001b[31m   \u001b[0m copying numba/untyped_passes.py -> build/lib.macosx-10.9-x86_64-cpython-310/numba\n",
      "  \u001b[31m   \u001b[0m copying numba/dataflow.py -> build/lib.macosx-10.9-x86_64-cpython-310/numba\n",
      "  \u001b[31m   \u001b[0m copying numba/callwrapper.py -> build/lib.macosx-10.9-x86_64-cpython-310/numba\n",
      "  \u001b[31m   \u001b[0m copying numba/dictobject.py -> build/lib.macosx-10.9-x86_64-cpython-310/numba\n",
      "  \u001b[31m   \u001b[0m copying numba/typedobjectutils.py -> build/lib.macosx-10.9-x86_64-cpython-310/numba\n",
      "  \u001b[31m   \u001b[0m copying numba/special.py -> build/lib.macosx-10.9-x86_64-cpython-310/numba\n",
      "  \u001b[31m   \u001b[0m copying numba/__main__.py -> build/lib.macosx-10.9-x86_64-cpython-310/numba\n",
      "  \u001b[31m   \u001b[0m copying numba/controlflow.py -> build/lib.macosx-10.9-x86_64-cpython-310/numba\n",
      "  \u001b[31m   \u001b[0m copying numba/cgutils.py -> build/lib.macosx-10.9-x86_64-cpython-310/numba\n",
      "  \u001b[31m   \u001b[0m copying numba/macro.py -> build/lib.macosx-10.9-x86_64-cpython-310/numba\n",
      "  \u001b[31m   \u001b[0m copying numba/runtests.py -> build/lib.macosx-10.9-x86_64-cpython-310/numba\n",
      "  \u001b[31m   \u001b[0m copying numba/pythonapi.py -> build/lib.macosx-10.9-x86_64-cpython-310/numba\n",
      "  \u001b[31m   \u001b[0m copying numba/extending.py -> build/lib.macosx-10.9-x86_64-cpython-310/numba\n",
      "  \u001b[31m   \u001b[0m copying numba/npdatetime.py -> build/lib.macosx-10.9-x86_64-cpython-310/numba\n",
      "  \u001b[31m   \u001b[0m copying numba/compiler_lock.py -> build/lib.macosx-10.9-x86_64-cpython-310/numba\n",
      "  \u001b[31m   \u001b[0m copying numba/decorators.py -> build/lib.macosx-10.9-x86_64-cpython-310/numba\n",
      "  \u001b[31m   \u001b[0m creating build/lib.macosx-10.9-x86_64-cpython-310/numba/typeconv\n",
      "  \u001b[31m   \u001b[0m copying numba/typeconv/typeconv.py -> build/lib.macosx-10.9-x86_64-cpython-310/numba/typeconv\n",
      "  \u001b[31m   \u001b[0m copying numba/typeconv/__init__.py -> build/lib.macosx-10.9-x86_64-cpython-310/numba/typeconv\n",
      "  \u001b[31m   \u001b[0m copying numba/typeconv/rules.py -> build/lib.macosx-10.9-x86_64-cpython-310/numba/typeconv\n",
      "  \u001b[31m   \u001b[0m copying numba/typeconv/castgraph.py -> build/lib.macosx-10.9-x86_64-cpython-310/numba/typeconv\n",
      "  \u001b[31m   \u001b[0m creating build/lib.macosx-10.9-x86_64-cpython-310/numba/rewrites\n",
      "  \u001b[31m   \u001b[0m copying numba/rewrites/ir_print.py -> build/lib.macosx-10.9-x86_64-cpython-310/numba/rewrites\n",
      "  \u001b[31m   \u001b[0m copying numba/rewrites/registry.py -> build/lib.macosx-10.9-x86_64-cpython-310/numba/rewrites\n",
      "  \u001b[31m   \u001b[0m copying numba/rewrites/static_raise.py -> build/lib.macosx-10.9-x86_64-cpython-310/numba/rewrites\n",
      "  \u001b[31m   \u001b[0m copying numba/rewrites/__init__.py -> build/lib.macosx-10.9-x86_64-cpython-310/numba/rewrites\n",
      "  \u001b[31m   \u001b[0m copying numba/rewrites/macros.py -> build/lib.macosx-10.9-x86_64-cpython-310/numba/rewrites\n",
      "  \u001b[31m   \u001b[0m copying numba/rewrites/static_getitem.py -> build/lib.macosx-10.9-x86_64-cpython-310/numba/rewrites\n",
      "  \u001b[31m   \u001b[0m copying numba/rewrites/static_binop.py -> build/lib.macosx-10.9-x86_64-cpython-310/numba/rewrites\n",
      "  \u001b[31m   \u001b[0m creating build/lib.macosx-10.9-x86_64-cpython-310/numba/types\n",
      "  \u001b[31m   \u001b[0m copying numba/types/abstract.py -> build/lib.macosx-10.9-x86_64-cpython-310/numba/types\n",
      "  \u001b[31m   \u001b[0m copying numba/types/functions.py -> build/lib.macosx-10.9-x86_64-cpython-310/numba/types\n",
      "  \u001b[31m   \u001b[0m copying numba/types/misc.py -> build/lib.macosx-10.9-x86_64-cpython-310/numba/types\n",
      "  \u001b[31m   \u001b[0m copying numba/types/containers.py -> build/lib.macosx-10.9-x86_64-cpython-310/numba/types\n",
      "  \u001b[31m   \u001b[0m copying numba/types/npytypes.py -> build/lib.macosx-10.9-x86_64-cpython-310/numba/types\n",
      "  \u001b[31m   \u001b[0m copying numba/types/__init__.py -> build/lib.macosx-10.9-x86_64-cpython-310/numba/types\n",
      "  \u001b[31m   \u001b[0m copying numba/types/common.py -> build/lib.macosx-10.9-x86_64-cpython-310/numba/types\n",
      "  \u001b[31m   \u001b[0m copying numba/types/iterators.py -> build/lib.macosx-10.9-x86_64-cpython-310/numba/types\n",
      "  \u001b[31m   \u001b[0m copying numba/types/scalars.py -> build/lib.macosx-10.9-x86_64-cpython-310/numba/types\n",
      "  \u001b[31m   \u001b[0m creating build/lib.macosx-10.9-x86_64-cpython-310/numba/jitclass\n",
      "  \u001b[31m   \u001b[0m copying numba/jitclass/__init__.py -> build/lib.macosx-10.9-x86_64-cpython-310/numba/jitclass\n",
      "  \u001b[31m   \u001b[0m copying numba/jitclass/boxing.py -> build/lib.macosx-10.9-x86_64-cpython-310/numba/jitclass\n",
      "  \u001b[31m   \u001b[0m copying numba/jitclass/base.py -> build/lib.macosx-10.9-x86_64-cpython-310/numba/jitclass\n",
      "  \u001b[31m   \u001b[0m copying numba/jitclass/decorators.py -> build/lib.macosx-10.9-x86_64-cpython-310/numba/jitclass\n",
      "  \u001b[31m   \u001b[0m creating build/lib.macosx-10.9-x86_64-cpython-310/numba/targets\n",
      "  \u001b[31m   \u001b[0m copying numba/targets/fastmathpass.py -> build/lib.macosx-10.9-x86_64-cpython-310/numba/targets\n",
      "  \u001b[31m   \u001b[0m copying numba/targets/setobj.py -> build/lib.macosx-10.9-x86_64-cpython-310/numba/targets\n",
      "  \u001b[31m   \u001b[0m copying numba/targets/options.py -> build/lib.macosx-10.9-x86_64-cpython-310/numba/targets\n",
      "  \u001b[31m   \u001b[0m copying numba/targets/printimpl.py -> build/lib.macosx-10.9-x86_64-cpython-310/numba/targets\n",
      "  \u001b[31m   \u001b[0m copying numba/targets/cmathimpl.py -> build/lib.macosx-10.9-x86_64-cpython-310/numba/targets\n",
      "  \u001b[31m   \u001b[0m copying numba/targets/optional.py -> build/lib.macosx-10.9-x86_64-cpython-310/numba/targets\n",
      "  \u001b[31m   \u001b[0m copying numba/targets/dictimpl.py -> build/lib.macosx-10.9-x86_64-cpython-310/numba/targets\n",
      "  \u001b[31m   \u001b[0m copying numba/targets/tupleobj.py -> build/lib.macosx-10.9-x86_64-cpython-310/numba/targets\n",
      "  \u001b[31m   \u001b[0m copying numba/targets/literal.py -> build/lib.macosx-10.9-x86_64-cpython-310/numba/targets\n",
      "  \u001b[31m   \u001b[0m copying numba/targets/mathimpl.py -> build/lib.macosx-10.9-x86_64-cpython-310/numba/targets\n",
      "  \u001b[31m   \u001b[0m copying numba/targets/ufunc_db.py -> build/lib.macosx-10.9-x86_64-cpython-310/numba/targets\n",
      "  \u001b[31m   \u001b[0m copying numba/targets/heapq.py -> build/lib.macosx-10.9-x86_64-cpython-310/numba/targets\n",
      "  \u001b[31m   \u001b[0m copying numba/targets/registry.py -> build/lib.macosx-10.9-x86_64-cpython-310/numba/targets\n",
      "  \u001b[31m   \u001b[0m copying numba/targets/imputils.py -> build/lib.macosx-10.9-x86_64-cpython-310/numba/targets\n",
      "  \u001b[31m   \u001b[0m copying numba/targets/builtins.py -> build/lib.macosx-10.9-x86_64-cpython-310/numba/targets\n",
      "  \u001b[31m   \u001b[0m copying numba/targets/externals.py -> build/lib.macosx-10.9-x86_64-cpython-310/numba/targets\n",
      "  \u001b[31m   \u001b[0m copying numba/targets/cpu.py -> build/lib.macosx-10.9-x86_64-cpython-310/numba/targets\n",
      "  \u001b[31m   \u001b[0m copying numba/targets/quicksort.py -> build/lib.macosx-10.9-x86_64-cpython-310/numba/targets\n",
      "  \u001b[31m   \u001b[0m copying numba/targets/callconv.py -> build/lib.macosx-10.9-x86_64-cpython-310/numba/targets\n",
      "  \u001b[31m   \u001b[0m copying numba/targets/randomimpl.py -> build/lib.macosx-10.9-x86_64-cpython-310/numba/targets\n",
      "  \u001b[31m   \u001b[0m copying numba/targets/npyimpl.py -> build/lib.macosx-10.9-x86_64-cpython-310/numba/targets\n",
      "  \u001b[31m   \u001b[0m copying numba/targets/__init__.py -> build/lib.macosx-10.9-x86_64-cpython-310/numba/targets\n",
      "  \u001b[31m   \u001b[0m copying numba/targets/slicing.py -> build/lib.macosx-10.9-x86_64-cpython-310/numba/targets\n",
      "  \u001b[31m   \u001b[0m copying numba/targets/numbers.py -> build/lib.macosx-10.9-x86_64-cpython-310/numba/targets\n",
      "  \u001b[31m   \u001b[0m copying numba/targets/listobj.py -> build/lib.macosx-10.9-x86_64-cpython-310/numba/targets\n",
      "  \u001b[31m   \u001b[0m copying numba/targets/removerefctpass.py -> build/lib.macosx-10.9-x86_64-cpython-310/numba/targets\n",
      "  \u001b[31m   \u001b[0m copying numba/targets/boxing.py -> build/lib.macosx-10.9-x86_64-cpython-310/numba/targets\n",
      "  \u001b[31m   \u001b[0m copying numba/targets/intrinsics.py -> build/lib.macosx-10.9-x86_64-cpython-310/numba/targets\n",
      "  \u001b[31m   \u001b[0m copying numba/targets/cffiimpl.py -> build/lib.macosx-10.9-x86_64-cpython-310/numba/targets\n",
      "  \u001b[31m   \u001b[0m copying numba/targets/descriptors.py -> build/lib.macosx-10.9-x86_64-cpython-310/numba/targets\n",
      "  \u001b[31m   \u001b[0m copying numba/targets/arraymath.py -> build/lib.macosx-10.9-x86_64-cpython-310/numba/targets\n",
      "  \u001b[31m   \u001b[0m copying numba/targets/linalg.py -> build/lib.macosx-10.9-x86_64-cpython-310/numba/targets\n",
      "  \u001b[31m   \u001b[0m copying numba/targets/rangeobj.py -> build/lib.macosx-10.9-x86_64-cpython-310/numba/targets\n",
      "  \u001b[31m   \u001b[0m copying numba/targets/cpu_options.py -> build/lib.macosx-10.9-x86_64-cpython-310/numba/targets\n",
      "  \u001b[31m   \u001b[0m copying numba/targets/npyfuncs.py -> build/lib.macosx-10.9-x86_64-cpython-310/numba/targets\n",
      "  \u001b[31m   \u001b[0m copying numba/targets/iterators.py -> build/lib.macosx-10.9-x86_64-cpython-310/numba/targets\n",
      "  \u001b[31m   \u001b[0m copying numba/targets/gdb_hook.py -> build/lib.macosx-10.9-x86_64-cpython-310/numba/targets\n",
      "  \u001b[31m   \u001b[0m copying numba/targets/arrayobj.py -> build/lib.macosx-10.9-x86_64-cpython-310/numba/targets\n",
      "  \u001b[31m   \u001b[0m copying numba/targets/enumimpl.py -> build/lib.macosx-10.9-x86_64-cpython-310/numba/targets\n",
      "  \u001b[31m   \u001b[0m copying numba/targets/codegen.py -> build/lib.macosx-10.9-x86_64-cpython-310/numba/targets\n",
      "  \u001b[31m   \u001b[0m copying numba/targets/polynomial.py -> build/lib.macosx-10.9-x86_64-cpython-310/numba/targets\n",
      "  \u001b[31m   \u001b[0m copying numba/targets/mergesort.py -> build/lib.macosx-10.9-x86_64-cpython-310/numba/targets\n",
      "  \u001b[31m   \u001b[0m copying numba/targets/hashing.py -> build/lib.macosx-10.9-x86_64-cpython-310/numba/targets\n",
      "  \u001b[31m   \u001b[0m copying numba/targets/base.py -> build/lib.macosx-10.9-x86_64-cpython-310/numba/targets\n",
      "  \u001b[31m   \u001b[0m copying numba/targets/npdatetime.py -> build/lib.macosx-10.9-x86_64-cpython-310/numba/targets\n",
      "  \u001b[31m   \u001b[0m creating build/lib.macosx-10.9-x86_64-cpython-310/numba/cuda\n",
      "  \u001b[31m   \u001b[0m copying numba/cuda/dispatcher.py -> build/lib.macosx-10.9-x86_64-cpython-310/numba/cuda\n",
      "  \u001b[31m   \u001b[0m copying numba/cuda/descriptor.py -> build/lib.macosx-10.9-x86_64-cpython-310/numba/cuda\n",
      "  \u001b[31m   \u001b[0m copying numba/cuda/printimpl.py -> build/lib.macosx-10.9-x86_64-cpython-310/numba/cuda\n",
      "  \u001b[31m   \u001b[0m copying numba/cuda/libdevice.py -> build/lib.macosx-10.9-x86_64-cpython-310/numba/cuda\n",
      "  \u001b[31m   \u001b[0m copying numba/cuda/device_init.py -> build/lib.macosx-10.9-x86_64-cpython-310/numba/cuda\n",
      "  \u001b[31m   \u001b[0m copying numba/cuda/compiler.py -> build/lib.macosx-10.9-x86_64-cpython-310/numba/cuda\n",
      "  \u001b[31m   \u001b[0m copying numba/cuda/intrinsic_wrapper.py -> build/lib.macosx-10.9-x86_64-cpython-310/numba/cuda\n",
      "  \u001b[31m   \u001b[0m copying numba/cuda/initialize.py -> build/lib.macosx-10.9-x86_64-cpython-310/numba/cuda\n",
      "  \u001b[31m   \u001b[0m copying numba/cuda/cuda_paths.py -> build/lib.macosx-10.9-x86_64-cpython-310/numba/cuda\n",
      "  \u001b[31m   \u001b[0m copying numba/cuda/simulator_init.py -> build/lib.macosx-10.9-x86_64-cpython-310/numba/cuda\n",
      "  \u001b[31m   \u001b[0m copying numba/cuda/envvars.py -> build/lib.macosx-10.9-x86_64-cpython-310/numba/cuda\n",
      "  \u001b[31m   \u001b[0m copying numba/cuda/__init__.py -> build/lib.macosx-10.9-x86_64-cpython-310/numba/cuda\n",
      "  \u001b[31m   \u001b[0m copying numba/cuda/random.py -> build/lib.macosx-10.9-x86_64-cpython-310/numba/cuda\n",
      "  \u001b[31m   \u001b[0m copying numba/cuda/api.py -> build/lib.macosx-10.9-x86_64-cpython-310/numba/cuda\n",
      "  \u001b[31m   \u001b[0m copying numba/cuda/stubs.py -> build/lib.macosx-10.9-x86_64-cpython-310/numba/cuda\n",
      "  \u001b[31m   \u001b[0m copying numba/cuda/vectorizers.py -> build/lib.macosx-10.9-x86_64-cpython-310/numba/cuda\n",
      "  \u001b[31m   \u001b[0m copying numba/cuda/args.py -> build/lib.macosx-10.9-x86_64-cpython-310/numba/cuda\n",
      "  \u001b[31m   \u001b[0m copying numba/cuda/target.py -> build/lib.macosx-10.9-x86_64-cpython-310/numba/cuda\n",
      "  \u001b[31m   \u001b[0m copying numba/cuda/cudamath.py -> build/lib.macosx-10.9-x86_64-cpython-310/numba/cuda\n",
      "  \u001b[31m   \u001b[0m copying numba/cuda/errors.py -> build/lib.macosx-10.9-x86_64-cpython-310/numba/cuda\n",
      "  \u001b[31m   \u001b[0m copying numba/cuda/cudaimpl.py -> build/lib.macosx-10.9-x86_64-cpython-310/numba/cuda\n",
      "  \u001b[31m   \u001b[0m copying numba/cuda/nvvmutils.py -> build/lib.macosx-10.9-x86_64-cpython-310/numba/cuda\n",
      "  \u001b[31m   \u001b[0m copying numba/cuda/testing.py -> build/lib.macosx-10.9-x86_64-cpython-310/numba/cuda\n",
      "  \u001b[31m   \u001b[0m copying numba/cuda/cudadecl.py -> build/lib.macosx-10.9-x86_64-cpython-310/numba/cuda\n",
      "  \u001b[31m   \u001b[0m copying numba/cuda/codegen.py -> build/lib.macosx-10.9-x86_64-cpython-310/numba/cuda\n",
      "  \u001b[31m   \u001b[0m copying numba/cuda/decorators.py -> build/lib.macosx-10.9-x86_64-cpython-310/numba/cuda\n",
      "  \u001b[31m   \u001b[0m creating build/lib.macosx-10.9-x86_64-cpython-310/numba/pycc\n",
      "  \u001b[31m   \u001b[0m copying numba/pycc/cc.py -> build/lib.macosx-10.9-x86_64-cpython-310/numba/pycc\n",
      "  \u001b[31m   \u001b[0m copying numba/pycc/compiler.py -> build/lib.macosx-10.9-x86_64-cpython-310/numba/pycc\n",
      "  \u001b[31m   \u001b[0m copying numba/pycc/llvm_types.py -> build/lib.macosx-10.9-x86_64-cpython-310/numba/pycc\n",
      "  \u001b[31m   \u001b[0m copying numba/pycc/__init__.py -> build/lib.macosx-10.9-x86_64-cpython-310/numba/pycc\n",
      "  \u001b[31m   \u001b[0m copying numba/pycc/platform.py -> build/lib.macosx-10.9-x86_64-cpython-310/numba/pycc\n",
      "  \u001b[31m   \u001b[0m copying numba/pycc/decorators.py -> build/lib.macosx-10.9-x86_64-cpython-310/numba/pycc\n",
      "  \u001b[31m   \u001b[0m creating build/lib.macosx-10.9-x86_64-cpython-310/numba/runtime\n",
      "  \u001b[31m   \u001b[0m copying numba/runtime/nrt.py -> build/lib.macosx-10.9-x86_64-cpython-310/numba/runtime\n",
      "  \u001b[31m   \u001b[0m copying numba/runtime/__init__.py -> build/lib.macosx-10.9-x86_64-cpython-310/numba/runtime\n",
      "  \u001b[31m   \u001b[0m copying numba/runtime/nrtdynmod.py -> build/lib.macosx-10.9-x86_64-cpython-310/numba/runtime\n",
      "  \u001b[31m   \u001b[0m copying numba/runtime/nrtopt.py -> build/lib.macosx-10.9-x86_64-cpython-310/numba/runtime\n",
      "  \u001b[31m   \u001b[0m copying numba/runtime/context.py -> build/lib.macosx-10.9-x86_64-cpython-310/numba/runtime\n",
      "  \u001b[31m   \u001b[0m creating build/lib.macosx-10.9-x86_64-cpython-310/numba/tests\n",
      "  \u001b[31m   \u001b[0m copying numba/tests/test_support.py -> build/lib.macosx-10.9-x86_64-cpython-310/numba/tests\n",
      "  \u001b[31m   \u001b[0m copying numba/tests/test_map_filter_reduce.py -> build/lib.macosx-10.9-x86_64-cpython-310/numba/tests\n",
      "  \u001b[31m   \u001b[0m copying numba/tests/test_llvm_version_check.py -> build/lib.macosx-10.9-x86_64-cpython-310/numba/tests\n",
      "  \u001b[31m   \u001b[0m copying numba/tests/test_builtins.py -> build/lib.macosx-10.9-x86_64-cpython-310/numba/tests\n",
      "  \u001b[31m   \u001b[0m copying numba/tests/test_jitmethod.py -> build/lib.macosx-10.9-x86_64-cpython-310/numba/tests\n",
      "  \u001b[31m   \u001b[0m copying numba/tests/test_inlining.py -> build/lib.macosx-10.9-x86_64-cpython-310/numba/tests\n",
      "  \u001b[31m   \u001b[0m copying numba/tests/test_array_manipulation.py -> build/lib.macosx-10.9-x86_64-cpython-310/numba/tests\n",
      "  \u001b[31m   \u001b[0m copying numba/tests/test_dictobject.py -> build/lib.macosx-10.9-x86_64-cpython-310/numba/tests\n",
      "  \u001b[31m   \u001b[0m copying numba/tests/test_dummyarray.py -> build/lib.macosx-10.9-x86_64-cpython-310/numba/tests\n",
      "  \u001b[31m   \u001b[0m copying numba/tests/test_linalg.py -> build/lib.macosx-10.9-x86_64-cpython-310/numba/tests\n",
      "  \u001b[31m   \u001b[0m copying numba/tests/parfors_cache_usecases.py -> build/lib.macosx-10.9-x86_64-cpython-310/numba/tests\n",
      "  \u001b[31m   \u001b[0m copying numba/tests/test_threadsafety.py -> build/lib.macosx-10.9-x86_64-cpython-310/numba/tests\n",
      "  \u001b[31m   \u001b[0m copying numba/tests/cfunc_cache_usecases.py -> build/lib.macosx-10.9-x86_64-cpython-310/numba/tests\n",
      "  \u001b[31m   \u001b[0m copying numba/tests/overload_usecases.py -> build/lib.macosx-10.9-x86_64-cpython-310/numba/tests\n",
      "  \u001b[31m   \u001b[0m copying numba/tests/enum_usecases.py -> build/lib.macosx-10.9-x86_64-cpython-310/numba/tests\n",
      "  \u001b[31m   \u001b[0m copying numba/tests/test_debuginfo.py -> build/lib.macosx-10.9-x86_64-cpython-310/numba/tests\n",
      "  \u001b[31m   \u001b[0m copying numba/tests/test_func_lifetime.py -> build/lib.macosx-10.9-x86_64-cpython-310/numba/tests\n",
      "  \u001b[31m   \u001b[0m copying numba/tests/test_typeinfer.py -> build/lib.macosx-10.9-x86_64-cpython-310/numba/tests\n",
      "  \u001b[31m   \u001b[0m copying numba/tests/test_unicode.py -> build/lib.macosx-10.9-x86_64-cpython-310/numba/tests\n",
      "  \u001b[31m   \u001b[0m copying numba/tests/test_return_values.py -> build/lib.macosx-10.9-x86_64-cpython-310/numba/tests\n",
      "  \u001b[31m   \u001b[0m copying numba/tests/test_parallel_backend.py -> build/lib.macosx-10.9-x86_64-cpython-310/numba/tests\n",
      "  \u001b[31m   \u001b[0m copying numba/tests/test_nrt.py -> build/lib.macosx-10.9-x86_64-cpython-310/numba/tests\n",
      "  \u001b[31m   \u001b[0m copying numba/tests/test_warnings.py -> build/lib.macosx-10.9-x86_64-cpython-310/numba/tests\n",
      "  \u001b[31m   \u001b[0m copying numba/tests/test_typenames.py -> build/lib.macosx-10.9-x86_64-cpython-310/numba/tests\n",
      "  \u001b[31m   \u001b[0m copying numba/tests/orphaned_semaphore_usecase.py -> build/lib.macosx-10.9-x86_64-cpython-310/numba/tests\n",
      "  \u001b[31m   \u001b[0m copying numba/tests/test_mangling.py -> build/lib.macosx-10.9-x86_64-cpython-310/numba/tests\n",
      "  \u001b[31m   \u001b[0m copying numba/tests/test_npdatetime.py -> build/lib.macosx-10.9-x86_64-cpython-310/numba/tests\n",
      "  \u001b[31m   \u001b[0m copying numba/tests/test_fancy_indexing.py -> build/lib.macosx-10.9-x86_64-cpython-310/numba/tests\n",
      "  \u001b[31m   \u001b[0m copying numba/tests/test_practical_lowering_issues.py -> build/lib.macosx-10.9-x86_64-cpython-310/numba/tests\n",
      "  \u001b[31m   \u001b[0m copying numba/tests/support.py -> build/lib.macosx-10.9-x86_64-cpython-310/numba/tests\n",
      "  \u001b[31m   \u001b[0m copying numba/tests/jitclass_usecases.py -> build/lib.macosx-10.9-x86_64-cpython-310/numba/tests\n",
      "  \u001b[31m   \u001b[0m copying numba/tests/test_print.py -> build/lib.macosx-10.9-x86_64-cpython-310/numba/tests\n",
      "  \u001b[31m   \u001b[0m copying numba/tests/test_debug.py -> build/lib.macosx-10.9-x86_64-cpython-310/numba/tests\n",
      "  \u001b[31m   \u001b[0m copying numba/tests/test_interproc.py -> build/lib.macosx-10.9-x86_64-cpython-310/numba/tests\n",
      "  \u001b[31m   \u001b[0m copying numba/tests/test_typeconv.py -> build/lib.macosx-10.9-x86_64-cpython-310/numba/tests\n",
      "  \u001b[31m   \u001b[0m copying numba/tests/test_np_functions.py -> build/lib.macosx-10.9-x86_64-cpython-310/numba/tests\n",
      "  \u001b[31m   \u001b[0m copying numba/tests/test_typedobjectutils.py -> build/lib.macosx-10.9-x86_64-cpython-310/numba/tests\n",
      "  \u001b[31m   \u001b[0m copying numba/tests/test_tracing.py -> build/lib.macosx-10.9-x86_64-cpython-310/numba/tests\n",
      "  \u001b[31m   \u001b[0m copying numba/tests/test_ir_inlining.py -> build/lib.macosx-10.9-x86_64-cpython-310/numba/tests\n",
      "  \u001b[31m   \u001b[0m copying numba/tests/usecases.py -> build/lib.macosx-10.9-x86_64-cpython-310/numba/tests\n",
      "  \u001b[31m   \u001b[0m copying numba/tests/test_vectorization_type_inference.py -> build/lib.macosx-10.9-x86_64-cpython-310/numba/tests\n",
      "  \u001b[31m   \u001b[0m copying numba/tests/matmul_usecase.py -> build/lib.macosx-10.9-x86_64-cpython-310/numba/tests\n",
      "  \u001b[31m   \u001b[0m copying numba/tests/test_make_function_to_jit_function.py -> build/lib.macosx-10.9-x86_64-cpython-310/numba/tests\n",
      "  \u001b[31m   \u001b[0m copying numba/tests/complex_usecases.py -> build/lib.macosx-10.9-x86_64-cpython-310/numba/tests\n",
      "  \u001b[31m   \u001b[0m copying numba/tests/test_array_exprs.py -> build/lib.macosx-10.9-x86_64-cpython-310/numba/tests\n",
      "  \u001b[31m   \u001b[0m copying numba/tests/test_python_int.py -> build/lib.macosx-10.9-x86_64-cpython-310/numba/tests\n",
      "  \u001b[31m   \u001b[0m copying numba/tests/test_jitclasses.py -> build/lib.macosx-10.9-x86_64-cpython-310/numba/tests\n",
      "  \u001b[31m   \u001b[0m copying numba/tests/test_polynomial.py -> build/lib.macosx-10.9-x86_64-cpython-310/numba/tests\n",
      "  \u001b[31m   \u001b[0m copying numba/tests/test_wrapper.py -> build/lib.macosx-10.9-x86_64-cpython-310/numba/tests\n",
      "  \u001b[31m   \u001b[0m copying numba/tests/test_obj_lifetime.py -> build/lib.macosx-10.9-x86_64-cpython-310/numba/tests\n",
      "  \u001b[31m   \u001b[0m copying numba/tests/test_intwidth.py -> build/lib.macosx-10.9-x86_64-cpython-310/numba/tests\n",
      "  \u001b[31m   \u001b[0m copying numba/tests/test_extending.py -> build/lib.macosx-10.9-x86_64-cpython-310/numba/tests\n",
      "  \u001b[31m   \u001b[0m copying numba/tests/test_remove_dead.py -> build/lib.macosx-10.9-x86_64-cpython-310/numba/tests\n",
      "  \u001b[31m   \u001b[0m copying numba/tests/serialize_usecases.py -> build/lib.macosx-10.9-x86_64-cpython-310/numba/tests\n",
      "  \u001b[31m   \u001b[0m copying numba/tests/test_unsafe_intrinsics.py -> build/lib.macosx-10.9-x86_64-cpython-310/numba/tests\n",
      "  \u001b[31m   \u001b[0m copying numba/tests/test_literal_dispatch.py -> build/lib.macosx-10.9-x86_64-cpython-310/numba/tests\n",
      "  \u001b[31m   \u001b[0m copying numba/tests/test_listobject.py -> build/lib.macosx-10.9-x86_64-cpython-310/numba/tests\n",
      "  \u001b[31m   \u001b[0m copying numba/tests/test_del.py -> build/lib.macosx-10.9-x86_64-cpython-310/numba/tests\n",
      "  \u001b[31m   \u001b[0m copying numba/tests/test_gil.py -> build/lib.macosx-10.9-x86_64-cpython-310/numba/tests\n",
      "  \u001b[31m   \u001b[0m copying numba/tests/test_array_constants.py -> build/lib.macosx-10.9-x86_64-cpython-310/numba/tests\n",
      "  \u001b[31m   \u001b[0m copying numba/tests/cffi_usecases.py -> build/lib.macosx-10.9-x86_64-cpython-310/numba/tests\n",
      "  \u001b[31m   \u001b[0m copying numba/tests/test_numbers.py -> build/lib.macosx-10.9-x86_64-cpython-310/numba/tests\n",
      "  \u001b[31m   \u001b[0m copying numba/tests/test_slices.py -> build/lib.macosx-10.9-x86_64-cpython-310/numba/tests\n",
      "  \u001b[31m   \u001b[0m copying numba/tests/test_mandelbrot.py -> build/lib.macosx-10.9-x86_64-cpython-310/numba/tests\n",
      "  \u001b[31m   \u001b[0m copying numba/tests/test_numpy_support.py -> build/lib.macosx-10.9-x86_64-cpython-310/numba/tests\n",
      "  \u001b[31m   \u001b[0m copying numba/tests/compile_with_pycc.py -> build/lib.macosx-10.9-x86_64-cpython-310/numba/tests\n",
      "  \u001b[31m   \u001b[0m copying numba/tests/test_ir.py -> build/lib.macosx-10.9-x86_64-cpython-310/numba/tests\n",
      "  \u001b[31m   \u001b[0m copying numba/tests/test_deprecations.py -> build/lib.macosx-10.9-x86_64-cpython-310/numba/tests\n",
      "  \u001b[31m   \u001b[0m copying numba/tests/test_looplifting.py -> build/lib.macosx-10.9-x86_64-cpython-310/numba/tests\n",
      "  \u001b[31m   \u001b[0m copying numba/tests/test_storeslice.py -> build/lib.macosx-10.9-x86_64-cpython-310/numba/tests\n",
      "  \u001b[31m   \u001b[0m copying numba/tests/recursion_usecases.py -> build/lib.macosx-10.9-x86_64-cpython-310/numba/tests\n",
      "  \u001b[31m   \u001b[0m copying numba/tests/test_generators.py -> build/lib.macosx-10.9-x86_64-cpython-310/numba/tests\n",
      "  \u001b[31m   \u001b[0m copying numba/tests/dummy_module.py -> build/lib.macosx-10.9-x86_64-cpython-310/numba/tests\n",
      "  \u001b[31m   \u001b[0m copying numba/tests/test_recursion.py -> build/lib.macosx-10.9-x86_64-cpython-310/numba/tests\n",
      "  \u001b[31m   \u001b[0m copying numba/tests/test_operators.py -> build/lib.macosx-10.9-x86_64-cpython-310/numba/tests\n",
      "  \u001b[31m   \u001b[0m copying numba/tests/test_dictimpl.py -> build/lib.macosx-10.9-x86_64-cpython-310/numba/tests\n",
      "  \u001b[31m   \u001b[0m copying numba/tests/test_analysis.py -> build/lib.macosx-10.9-x86_64-cpython-310/numba/tests\n",
      "  \u001b[31m   \u001b[0m copying numba/tests/test_maxmin.py -> build/lib.macosx-10.9-x86_64-cpython-310/numba/tests\n",
      "  \u001b[31m   \u001b[0m copying numba/tests/test_exceptions.py -> build/lib.macosx-10.9-x86_64-cpython-310/numba/tests\n",
      "  \u001b[31m   \u001b[0m copying numba/tests/__init__.py -> build/lib.macosx-10.9-x86_64-cpython-310/numba/tests\n",
      "  \u001b[31m   \u001b[0m copying numba/tests/test_comprehension.py -> build/lib.macosx-10.9-x86_64-cpython-310/numba/tests\n",
      "  \u001b[31m   \u001b[0m copying numba/tests/ctypes_usecases.py -> build/lib.macosx-10.9-x86_64-cpython-310/numba/tests\n",
      "  \u001b[31m   \u001b[0m copying numba/tests/test_listimpl.py -> build/lib.macosx-10.9-x86_64-cpython-310/numba/tests\n",
      "  \u001b[31m   \u001b[0m copying numba/tests/test_locals.py -> build/lib.macosx-10.9-x86_64-cpython-310/numba/tests\n",
      "  \u001b[31m   \u001b[0m copying numba/tests/test_dicts.py -> build/lib.macosx-10.9-x86_64-cpython-310/numba/tests\n",
      "  \u001b[31m   \u001b[0m copying numba/tests/test_optional.py -> build/lib.macosx-10.9-x86_64-cpython-310/numba/tests\n",
      "  \u001b[31m   \u001b[0m copying numba/tests/test_mathlib.py -> build/lib.macosx-10.9-x86_64-cpython-310/numba/tests\n",
      "  \u001b[31m   \u001b[0m copying numba/tests/test_ir_utils.py -> build/lib.macosx-10.9-x86_64-cpython-310/numba/tests\n",
      "  \u001b[31m   \u001b[0m copying numba/tests/test_numberctor.py -> build/lib.macosx-10.9-x86_64-cpython-310/numba/tests\n",
      "  \u001b[31m   \u001b[0m copying numba/tests/test_globals.py -> build/lib.macosx-10.9-x86_64-cpython-310/numba/tests\n",
      "  \u001b[31m   \u001b[0m copying numba/tests/test_typingerror.py -> build/lib.macosx-10.9-x86_64-cpython-310/numba/tests\n",
      "  \u001b[31m   \u001b[0m copying numba/tests/test_object_mode.py -> build/lib.macosx-10.9-x86_64-cpython-310/numba/tests\n",
      "  \u001b[31m   \u001b[0m copying numba/tests/test_copy_propagate.py -> build/lib.macosx-10.9-x86_64-cpython-310/numba/tests\n",
      "  \u001b[31m   \u001b[0m copying numba/tests/test_ctypes.py -> build/lib.macosx-10.9-x86_64-cpython-310/numba/tests\n",
      "  \u001b[31m   \u001b[0m copying numba/tests/test_typeof.py -> build/lib.macosx-10.9-x86_64-cpython-310/numba/tests\n",
      "  \u001b[31m   \u001b[0m copying numba/tests/test_usecases.py -> build/lib.macosx-10.9-x86_64-cpython-310/numba/tests\n",
      "  \u001b[31m   \u001b[0m copying numba/tests/test_auto_constants.py -> build/lib.macosx-10.9-x86_64-cpython-310/numba/tests\n",
      "  \u001b[31m   \u001b[0m copying numba/tests/test_cffi.py -> build/lib.macosx-10.9-x86_64-cpython-310/numba/tests\n",
      "  \u001b[31m   \u001b[0m copying numba/tests/test_try_except.py -> build/lib.macosx-10.9-x86_64-cpython-310/numba/tests\n",
      "  \u001b[31m   \u001b[0m copying numba/tests/test_sort.py -> build/lib.macosx-10.9-x86_64-cpython-310/numba/tests\n",
      "  \u001b[31m   \u001b[0m copying numba/tests/test_cfunc.py -> build/lib.macosx-10.9-x86_64-cpython-310/numba/tests\n",
      "  \u001b[31m   \u001b[0m copying numba/tests/test_conversion.py -> build/lib.macosx-10.9-x86_64-cpython-310/numba/tests\n",
      "  \u001b[31m   \u001b[0m copying numba/tests/test_indexing.py -> build/lib.macosx-10.9-x86_64-cpython-310/numba/tests\n",
      "  \u001b[31m   \u001b[0m copying numba/tests/test_pycc.py -> build/lib.macosx-10.9-x86_64-cpython-310/numba/tests\n",
      "  \u001b[31m   \u001b[0m copying numba/tests/test_byteflow.py -> build/lib.macosx-10.9-x86_64-cpython-310/numba/tests\n",
      "  \u001b[31m   \u001b[0m copying numba/tests/annotation_usecases.py -> build/lib.macosx-10.9-x86_64-cpython-310/numba/tests\n",
      "  \u001b[31m   \u001b[0m copying numba/tests/test_unicode_names.py -> build/lib.macosx-10.9-x86_64-cpython-310/numba/tests\n",
      "  \u001b[31m   \u001b[0m copying numba/tests/test_unicode_literals.py -> build/lib.macosx-10.9-x86_64-cpython-310/numba/tests\n",
      "  \u001b[31m   \u001b[0m copying numba/tests/test_extended_arg.py -> build/lib.macosx-10.9-x86_64-cpython-310/numba/tests\n",
      "  \u001b[31m   \u001b[0m copying numba/tests/test_alignment.py -> build/lib.macosx-10.9-x86_64-cpython-310/numba/tests\n",
      "  \u001b[31m   \u001b[0m copying numba/tests/test_multi3.py -> build/lib.macosx-10.9-x86_64-cpython-310/numba/tests\n",
      "  \u001b[31m   \u001b[0m copying numba/tests/test_extending_types.py -> build/lib.macosx-10.9-x86_64-cpython-310/numba/tests\n",
      "  \u001b[31m   \u001b[0m copying numba/tests/test_import.py -> build/lib.macosx-10.9-x86_64-cpython-310/numba/tests\n",
      "  \u001b[31m   \u001b[0m copying numba/tests/test_overlap.py -> build/lib.macosx-10.9-x86_64-cpython-310/numba/tests\n",
      "  \u001b[31m   \u001b[0m copying numba/tests/test_array_attr.py -> build/lib.macosx-10.9-x86_64-cpython-310/numba/tests\n",
      "  \u001b[31m   \u001b[0m copying numba/tests/error_usecases.py -> build/lib.macosx-10.9-x86_64-cpython-310/numba/tests\n",
      "  \u001b[31m   \u001b[0m copying numba/tests/test_array_methods.py -> build/lib.macosx-10.9-x86_64-cpython-310/numba/tests\n",
      "  \u001b[31m   \u001b[0m copying numba/tests/test_func_interface.py -> build/lib.macosx-10.9-x86_64-cpython-310/numba/tests\n",
      "  \u001b[31m   \u001b[0m copying numba/tests/test_enums.py -> build/lib.macosx-10.9-x86_64-cpython-310/numba/tests\n",
      "  \u001b[31m   \u001b[0m copying numba/tests/test_profiler.py -> build/lib.macosx-10.9-x86_64-cpython-310/numba/tests\n",
      "  \u001b[31m   \u001b[0m copying numba/tests/test_numpyadapt.py -> build/lib.macosx-10.9-x86_64-cpython-310/numba/tests\n",
      "  \u001b[31m   \u001b[0m copying numba/tests/test_mixed_tuple_unroller.py -> build/lib.macosx-10.9-x86_64-cpython-310/numba/tests\n",
      "  \u001b[31m   \u001b[0m copying numba/tests/test_stencils.py -> build/lib.macosx-10.9-x86_64-cpython-310/numba/tests\n",
      "  \u001b[31m   \u001b[0m copying numba/tests/test_annotations.py -> build/lib.macosx-10.9-x86_64-cpython-310/numba/tests\n",
      "  \u001b[31m   \u001b[0m copying numba/tests/cache_usecases.py -> build/lib.macosx-10.9-x86_64-cpython-310/numba/tests\n",
      "  \u001b[31m   \u001b[0m copying numba/tests/true_div_usecase.py -> build/lib.macosx-10.9-x86_64-cpython-310/numba/tests\n",
      "  \u001b[31m   \u001b[0m copying numba/tests/test_dataflow.py -> build/lib.macosx-10.9-x86_64-cpython-310/numba/tests\n",
      "  \u001b[31m   \u001b[0m copying numba/tests/test_tuples.py -> build/lib.macosx-10.9-x86_64-cpython-310/numba/tests\n",
      "  \u001b[31m   \u001b[0m copying numba/tests/test_svml.py -> build/lib.macosx-10.9-x86_64-cpython-310/numba/tests\n",
      "  \u001b[31m   \u001b[0m copying numba/tests/test_flow_control.py -> build/lib.macosx-10.9-x86_64-cpython-310/numba/tests\n",
      "  \u001b[31m   \u001b[0m copying numba/tests/test_array_iterators.py -> build/lib.macosx-10.9-x86_64-cpython-310/numba/tests\n",
      "  \u001b[31m   \u001b[0m copying numba/tests/test_buffer_protocol.py -> build/lib.macosx-10.9-x86_64-cpython-310/numba/tests\n",
      "  \u001b[31m   \u001b[0m copying numba/tests/inlining_usecases.py -> build/lib.macosx-10.9-x86_64-cpython-310/numba/tests\n",
      "  \u001b[31m   \u001b[0m copying numba/tests/test_casting.py -> build/lib.macosx-10.9-x86_64-cpython-310/numba/tests\n",
      "  \u001b[31m   \u001b[0m copying numba/tests/test_lists.py -> build/lib.macosx-10.9-x86_64-cpython-310/numba/tests\n",
      "  \u001b[31m   \u001b[0m copying numba/tests/test_blackscholes.py -> build/lib.macosx-10.9-x86_64-cpython-310/numba/tests\n",
      "  \u001b[31m   \u001b[0m copying numba/tests/test_array_analysis.py -> build/lib.macosx-10.9-x86_64-cpython-310/numba/tests\n",
      "  \u001b[31m   \u001b[0m copying numba/tests/test_config.py -> build/lib.macosx-10.9-x86_64-cpython-310/numba/tests\n",
      "  \u001b[31m   \u001b[0m copying numba/tests/test_serialize.py -> build/lib.macosx-10.9-x86_64-cpython-310/numba/tests\n",
      "  \u001b[31m   \u001b[0m copying numba/tests/test_typedlist.py -> build/lib.macosx-10.9-x86_64-cpython-310/numba/tests\n",
      "  \u001b[31m   \u001b[0m copying numba/tests/test_boundscheck.py -> build/lib.macosx-10.9-x86_64-cpython-310/numba/tests\n",
      "  \u001b[31m   \u001b[0m copying numba/tests/test_heapq.py -> build/lib.macosx-10.9-x86_64-cpython-310/numba/tests\n",
      "  \u001b[31m   \u001b[0m copying numba/tests/test_iteration.py -> build/lib.macosx-10.9-x86_64-cpython-310/numba/tests\n",
      "  \u001b[31m   \u001b[0m copying numba/tests/test_fastmath.py -> build/lib.macosx-10.9-x86_64-cpython-310/numba/tests\n",
      "  \u001b[31m   \u001b[0m copying numba/tests/test_numconv.py -> build/lib.macosx-10.9-x86_64-cpython-310/numba/tests\n",
      "  \u001b[31m   \u001b[0m copying numba/tests/threading_backend_usecases.py -> build/lib.macosx-10.9-x86_64-cpython-310/numba/tests\n",
      "  \u001b[31m   \u001b[0m copying numba/tests/test_runtests.py -> build/lib.macosx-10.9-x86_64-cpython-310/numba/tests\n",
      "  \u001b[31m   \u001b[0m copying numba/tests/test_errormodels.py -> build/lib.macosx-10.9-x86_64-cpython-310/numba/tests\n",
      "  \u001b[31m   \u001b[0m copying numba/tests/test_caching.py -> build/lib.macosx-10.9-x86_64-cpython-310/numba/tests\n",
      "  \u001b[31m   \u001b[0m copying numba/tests/test_recarray_usecases.py -> build/lib.macosx-10.9-x86_64-cpython-310/numba/tests\n",
      "  \u001b[31m   \u001b[0m copying numba/tests/test_target_overloadselector.py -> build/lib.macosx-10.9-x86_64-cpython-310/numba/tests\n",
      "  \u001b[31m   \u001b[0m copying numba/tests/test_compile_cache.py -> build/lib.macosx-10.9-x86_64-cpython-310/numba/tests\n",
      "  \u001b[31m   \u001b[0m copying numba/tests/test_array_reductions.py -> build/lib.macosx-10.9-x86_64-cpython-310/numba/tests\n",
      "  \u001b[31m   \u001b[0m copying numba/tests/test_dyn_func.py -> build/lib.macosx-10.9-x86_64-cpython-310/numba/tests\n",
      "  \u001b[31m   \u001b[0m copying numba/tests/test_unpack_sequence.py -> build/lib.macosx-10.9-x86_64-cpython-310/numba/tests\n",
      "  \u001b[31m   \u001b[0m copying numba/tests/test_cgutils.py -> build/lib.macosx-10.9-x86_64-cpython-310/numba/tests\n",
      "  \u001b[31m   \u001b[0m copying numba/tests/test_api.py -> build/lib.macosx-10.9-x86_64-cpython-310/numba/tests\n",
      "  \u001b[31m   \u001b[0m copying numba/tests/test_compiler_lock.py -> build/lib.macosx-10.9-x86_64-cpython-310/numba/tests\n",
      "  \u001b[31m   \u001b[0m copying numba/tests/test_complex.py -> build/lib.macosx-10.9-x86_64-cpython-310/numba/tests\n",
      "  \u001b[31m   \u001b[0m copying numba/tests/test_jit_module.py -> build/lib.macosx-10.9-x86_64-cpython-310/numba/tests\n",
      "  \u001b[31m   \u001b[0m copying numba/tests/test_hashing.py -> build/lib.macosx-10.9-x86_64-cpython-310/numba/tests\n",
      "  \u001b[31m   \u001b[0m copying numba/tests/test_itanium_mangler.py -> build/lib.macosx-10.9-x86_64-cpython-310/numba/tests\n",
      "  \u001b[31m   \u001b[0m copying numba/tests/test_parfors_caching.py -> build/lib.macosx-10.9-x86_64-cpython-310/numba/tests\n",
      "  \u001b[31m   \u001b[0m copying numba/tests/test_sys_stdin_assignment.py -> build/lib.macosx-10.9-x86_64-cpython-310/numba/tests\n",
      "  \u001b[31m   \u001b[0m copying numba/tests/test_datamodel.py -> build/lib.macosx-10.9-x86_64-cpython-310/numba/tests\n",
      "  \u001b[31m   \u001b[0m copying numba/tests/test_closure.py -> build/lib.macosx-10.9-x86_64-cpython-310/numba/tests\n",
      "  \u001b[31m   \u001b[0m copying numba/tests/test_dispatcher.py -> build/lib.macosx-10.9-x86_64-cpython-310/numba/tests\n",
      "  \u001b[31m   \u001b[0m copying numba/tests/test_ufuncs.py -> build/lib.macosx-10.9-x86_64-cpython-310/numba/tests\n",
      "  \u001b[31m   \u001b[0m copying numba/tests/pdlike_usecase.py -> build/lib.macosx-10.9-x86_64-cpython-310/numba/tests\n",
      "  \u001b[31m   \u001b[0m copying numba/tests/test_range.py -> build/lib.macosx-10.9-x86_64-cpython-310/numba/tests\n",
      "  \u001b[31m   \u001b[0m copying numba/tests/test_cli.py -> build/lib.macosx-10.9-x86_64-cpython-310/numba/tests\n",
      "  \u001b[31m   \u001b[0m copying numba/tests/test_unicode_array.py -> build/lib.macosx-10.9-x86_64-cpython-310/numba/tests\n",
      "  \u001b[31m   \u001b[0m copying numba/tests/test_nrt_refct.py -> build/lib.macosx-10.9-x86_64-cpython-310/numba/tests\n",
      "  \u001b[31m   \u001b[0m copying numba/tests/timsort.py -> build/lib.macosx-10.9-x86_64-cpython-310/numba/tests\n",
      "  \u001b[31m   \u001b[0m copying numba/tests/test_nested_calls.py -> build/lib.macosx-10.9-x86_64-cpython-310/numba/tests\n",
      "  \u001b[31m   \u001b[0m copying numba/tests/test_chained_assign.py -> build/lib.macosx-10.9-x86_64-cpython-310/numba/tests\n",
      "  \u001b[31m   \u001b[0m copying numba/tests/test_withlifting.py -> build/lib.macosx-10.9-x86_64-cpython-310/numba/tests\n",
      "  \u001b[31m   \u001b[0m copying numba/tests/test_errorhandling.py -> build/lib.macosx-10.9-x86_64-cpython-310/numba/tests\n",
      "  \u001b[31m   \u001b[0m copying numba/tests/test_parfors.py -> build/lib.macosx-10.9-x86_64-cpython-310/numba/tests\n",
      "  \u001b[31m   \u001b[0m copying numba/tests/test_entrypoints.py -> build/lib.macosx-10.9-x86_64-cpython-310/numba/tests\n",
      "  \u001b[31m   \u001b[0m copying numba/tests/test_pipeline.py -> build/lib.macosx-10.9-x86_64-cpython-310/numba/tests\n",
      "  \u001b[31m   \u001b[0m copying numba/tests/test_sets.py -> build/lib.macosx-10.9-x86_64-cpython-310/numba/tests\n",
      "  \u001b[31m   \u001b[0m copying numba/tests/test_help.py -> build/lib.macosx-10.9-x86_64-cpython-310/numba/tests\n",
      "  \u001b[31m   \u001b[0m copying numba/tests/test_dyn_array.py -> build/lib.macosx-10.9-x86_64-cpython-310/numba/tests\n",
      "  \u001b[31m   \u001b[0m copying numba/tests/test_objects.py -> build/lib.macosx-10.9-x86_64-cpython-310/numba/tests\n",
      "  \u001b[31m   \u001b[0m copying numba/tests/test_record_dtype.py -> build/lib.macosx-10.9-x86_64-cpython-310/numba/tests\n",
      "  \u001b[31m   \u001b[0m copying numba/tests/test_gdb.py -> build/lib.macosx-10.9-x86_64-cpython-310/numba/tests\n",
      "  \u001b[31m   \u001b[0m copying numba/tests/test_types.py -> build/lib.macosx-10.9-x86_64-cpython-310/numba/tests\n",
      "  \u001b[31m   \u001b[0m copying numba/tests/test_codegen.py -> build/lib.macosx-10.9-x86_64-cpython-310/numba/tests\n",
      "  \u001b[31m   \u001b[0m copying numba/tests/test_random.py -> build/lib.macosx-10.9-x86_64-cpython-310/numba/tests\n",
      "  \u001b[31m   \u001b[0m copying numba/tests/test_array_return.py -> build/lib.macosx-10.9-x86_64-cpython-310/numba/tests\n",
      "  \u001b[31m   \u001b[0m copying numba/tests/test_nan.py -> build/lib.macosx-10.9-x86_64-cpython-310/numba/tests\n",
      "  \u001b[31m   \u001b[0m creating build/lib.macosx-10.9-x86_64-cpython-310/numba/typing\n",
      "  \u001b[31m   \u001b[0m copying numba/typing/cmathdecl.py -> build/lib.macosx-10.9-x86_64-cpython-310/numba/typing\n",
      "  \u001b[31m   \u001b[0m copying numba/typing/bufproto.py -> build/lib.macosx-10.9-x86_64-cpython-310/numba/typing\n",
      "  \u001b[31m   \u001b[0m copying numba/typing/mathdecl.py -> build/lib.macosx-10.9-x86_64-cpython-310/numba/typing\n",
      "  \u001b[31m   \u001b[0m copying numba/typing/dictdecl.py -> build/lib.macosx-10.9-x86_64-cpython-310/numba/typing\n",
      "  \u001b[31m   \u001b[0m copying numba/typing/listdecl.py -> build/lib.macosx-10.9-x86_64-cpython-310/numba/typing\n",
      "  \u001b[31m   \u001b[0m copying numba/typing/builtins.py -> build/lib.macosx-10.9-x86_64-cpython-310/numba/typing\n",
      "  \u001b[31m   \u001b[0m copying numba/typing/randomdecl.py -> build/lib.macosx-10.9-x86_64-cpython-310/numba/typing\n",
      "  \u001b[31m   \u001b[0m copying numba/typing/__init__.py -> build/lib.macosx-10.9-x86_64-cpython-310/numba/typing\n",
      "  \u001b[31m   \u001b[0m copying numba/typing/setdecl.py -> build/lib.macosx-10.9-x86_64-cpython-310/numba/typing\n",
      "  \u001b[31m   \u001b[0m copying numba/typing/npydecl.py -> build/lib.macosx-10.9-x86_64-cpython-310/numba/typing\n",
      "  \u001b[31m   \u001b[0m copying numba/typing/templates.py -> build/lib.macosx-10.9-x86_64-cpython-310/numba/typing\n",
      "  \u001b[31m   \u001b[0m copying numba/typing/arraydecl.py -> build/lib.macosx-10.9-x86_64-cpython-310/numba/typing\n",
      "  \u001b[31m   \u001b[0m copying numba/typing/context.py -> build/lib.macosx-10.9-x86_64-cpython-310/numba/typing\n",
      "  \u001b[31m   \u001b[0m copying numba/typing/collections.py -> build/lib.macosx-10.9-x86_64-cpython-310/numba/typing\n",
      "  \u001b[31m   \u001b[0m copying numba/typing/ctypes_utils.py -> build/lib.macosx-10.9-x86_64-cpython-310/numba/typing\n",
      "  \u001b[31m   \u001b[0m copying numba/typing/enumdecl.py -> build/lib.macosx-10.9-x86_64-cpython-310/numba/typing\n",
      "  \u001b[31m   \u001b[0m copying numba/typing/cffi_utils.py -> build/lib.macosx-10.9-x86_64-cpython-310/numba/typing\n",
      "  \u001b[31m   \u001b[0m copying numba/typing/typeof.py -> build/lib.macosx-10.9-x86_64-cpython-310/numba/typing\n",
      "  \u001b[31m   \u001b[0m copying numba/typing/npdatetime.py -> build/lib.macosx-10.9-x86_64-cpython-310/numba/typing\n",
      "  \u001b[31m   \u001b[0m creating build/lib.macosx-10.9-x86_64-cpython-310/numba/annotations\n",
      "  \u001b[31m   \u001b[0m copying numba/annotations/type_annotations.py -> build/lib.macosx-10.9-x86_64-cpython-310/numba/annotations\n",
      "  \u001b[31m   \u001b[0m copying numba/annotations/__init__.py -> build/lib.macosx-10.9-x86_64-cpython-310/numba/annotations\n",
      "  \u001b[31m   \u001b[0m creating build/lib.macosx-10.9-x86_64-cpython-310/numba/roc\n",
      "  \u001b[31m   \u001b[0m copying numba/roc/descriptor.py -> build/lib.macosx-10.9-x86_64-cpython-310/numba/roc\n",
      "  \u001b[31m   \u001b[0m copying numba/roc/enums.py -> build/lib.macosx-10.9-x86_64-cpython-310/numba/roc\n",
      "  \u001b[31m   \u001b[0m copying numba/roc/mathdecl.py -> build/lib.macosx-10.9-x86_64-cpython-310/numba/roc\n",
      "  \u001b[31m   \u001b[0m copying numba/roc/compiler.py -> build/lib.macosx-10.9-x86_64-cpython-310/numba/roc\n",
      "  \u001b[31m   \u001b[0m copying numba/roc/mathimpl.py -> build/lib.macosx-10.9-x86_64-cpython-310/numba/roc\n",
      "  \u001b[31m   \u001b[0m copying numba/roc/initialize.py -> build/lib.macosx-10.9-x86_64-cpython-310/numba/roc\n",
      "  \u001b[31m   \u001b[0m copying numba/roc/hsadecl.py -> build/lib.macosx-10.9-x86_64-cpython-310/numba/roc\n",
      "  \u001b[31m   \u001b[0m copying numba/roc/dispatch.py -> build/lib.macosx-10.9-x86_64-cpython-310/numba/roc\n",
      "  \u001b[31m   \u001b[0m copying numba/roc/hsaimpl.py -> build/lib.macosx-10.9-x86_64-cpython-310/numba/roc\n",
      "  \u001b[31m   \u001b[0m copying numba/roc/__init__.py -> build/lib.macosx-10.9-x86_64-cpython-310/numba/roc\n",
      "  \u001b[31m   \u001b[0m copying numba/roc/api.py -> build/lib.macosx-10.9-x86_64-cpython-310/numba/roc\n",
      "  \u001b[31m   \u001b[0m copying numba/roc/gcn_occupancy.py -> build/lib.macosx-10.9-x86_64-cpython-310/numba/roc\n",
      "  \u001b[31m   \u001b[0m copying numba/roc/stubs.py -> build/lib.macosx-10.9-x86_64-cpython-310/numba/roc\n",
      "  \u001b[31m   \u001b[0m copying numba/roc/vectorizers.py -> build/lib.macosx-10.9-x86_64-cpython-310/numba/roc\n",
      "  \u001b[31m   \u001b[0m copying numba/roc/target.py -> build/lib.macosx-10.9-x86_64-cpython-310/numba/roc\n",
      "  \u001b[31m   \u001b[0m copying numba/roc/codegen.py -> build/lib.macosx-10.9-x86_64-cpython-310/numba/roc\n",
      "  \u001b[31m   \u001b[0m copying numba/roc/decorators.py -> build/lib.macosx-10.9-x86_64-cpython-310/numba/roc\n",
      "  \u001b[31m   \u001b[0m creating build/lib.macosx-10.9-x86_64-cpython-310/numba/testing\n",
      "  \u001b[31m   \u001b[0m copying numba/testing/__init__.py -> build/lib.macosx-10.9-x86_64-cpython-310/numba/testing\n",
      "  \u001b[31m   \u001b[0m copying numba/testing/loader.py -> build/lib.macosx-10.9-x86_64-cpython-310/numba/testing\n",
      "  \u001b[31m   \u001b[0m copying numba/testing/notebook.py -> build/lib.macosx-10.9-x86_64-cpython-310/numba/testing\n",
      "  \u001b[31m   \u001b[0m copying numba/testing/main.py -> build/lib.macosx-10.9-x86_64-cpython-310/numba/testing\n",
      "  \u001b[31m   \u001b[0m copying numba/testing/__main__.py -> build/lib.macosx-10.9-x86_64-cpython-310/numba/testing\n",
      "  \u001b[31m   \u001b[0m creating build/lib.macosx-10.9-x86_64-cpython-310/numba/unsafe\n",
      "  \u001b[31m   \u001b[0m copying numba/unsafe/refcount.py -> build/lib.macosx-10.9-x86_64-cpython-310/numba/unsafe\n",
      "  \u001b[31m   \u001b[0m copying numba/unsafe/tuple.py -> build/lib.macosx-10.9-x86_64-cpython-310/numba/unsafe\n",
      "  \u001b[31m   \u001b[0m copying numba/unsafe/eh.py -> build/lib.macosx-10.9-x86_64-cpython-310/numba/unsafe\n",
      "  \u001b[31m   \u001b[0m copying numba/unsafe/nrt.py -> build/lib.macosx-10.9-x86_64-cpython-310/numba/unsafe\n",
      "  \u001b[31m   \u001b[0m copying numba/unsafe/__init__.py -> build/lib.macosx-10.9-x86_64-cpython-310/numba/unsafe\n",
      "  \u001b[31m   \u001b[0m copying numba/unsafe/numbers.py -> build/lib.macosx-10.9-x86_64-cpython-310/numba/unsafe\n",
      "  \u001b[31m   \u001b[0m copying numba/unsafe/ndarray.py -> build/lib.macosx-10.9-x86_64-cpython-310/numba/unsafe\n",
      "  \u001b[31m   \u001b[0m copying numba/unsafe/bytes.py -> build/lib.macosx-10.9-x86_64-cpython-310/numba/unsafe\n",
      "  \u001b[31m   \u001b[0m creating build/lib.macosx-10.9-x86_64-cpython-310/numba/cext\n",
      "  \u001b[31m   \u001b[0m copying numba/cext/__init__.py -> build/lib.macosx-10.9-x86_64-cpython-310/numba/cext\n",
      "  \u001b[31m   \u001b[0m creating build/lib.macosx-10.9-x86_64-cpython-310/numba/scripts\n",
      "  \u001b[31m   \u001b[0m copying numba/scripts/generate_lower_listing.py -> build/lib.macosx-10.9-x86_64-cpython-310/numba/scripts\n",
      "  \u001b[31m   \u001b[0m copying numba/scripts/__init__.py -> build/lib.macosx-10.9-x86_64-cpython-310/numba/scripts\n",
      "  \u001b[31m   \u001b[0m creating build/lib.macosx-10.9-x86_64-cpython-310/numba/typed\n",
      "  \u001b[31m   \u001b[0m copying numba/typed/typedlist.py -> build/lib.macosx-10.9-x86_64-cpython-310/numba/typed\n",
      "  \u001b[31m   \u001b[0m copying numba/typed/__init__.py -> build/lib.macosx-10.9-x86_64-cpython-310/numba/typed\n",
      "  \u001b[31m   \u001b[0m copying numba/typed/typeddict.py -> build/lib.macosx-10.9-x86_64-cpython-310/numba/typed\n",
      "  \u001b[31m   \u001b[0m creating build/lib.macosx-10.9-x86_64-cpython-310/numba/npyufunc\n",
      "  \u001b[31m   \u001b[0m copying numba/npyufunc/deviceufunc.py -> build/lib.macosx-10.9-x86_64-cpython-310/numba/npyufunc\n",
      "  \u001b[31m   \u001b[0m copying numba/npyufunc/dufunc.py -> build/lib.macosx-10.9-x86_64-cpython-310/numba/npyufunc\n",
      "  \u001b[31m   \u001b[0m copying numba/npyufunc/ufuncbuilder.py -> build/lib.macosx-10.9-x86_64-cpython-310/numba/npyufunc\n",
      "  \u001b[31m   \u001b[0m copying numba/npyufunc/sigparse.py -> build/lib.macosx-10.9-x86_64-cpython-310/numba/npyufunc\n",
      "  \u001b[31m   \u001b[0m copying numba/npyufunc/parfor.py -> build/lib.macosx-10.9-x86_64-cpython-310/numba/npyufunc\n",
      "  \u001b[31m   \u001b[0m copying numba/npyufunc/__init__.py -> build/lib.macosx-10.9-x86_64-cpython-310/numba/npyufunc\n",
      "  \u001b[31m   \u001b[0m copying numba/npyufunc/array_exprs.py -> build/lib.macosx-10.9-x86_64-cpython-310/numba/npyufunc\n",
      "  \u001b[31m   \u001b[0m copying numba/npyufunc/wrappers.py -> build/lib.macosx-10.9-x86_64-cpython-310/numba/npyufunc\n",
      "  \u001b[31m   \u001b[0m copying numba/npyufunc/parallel.py -> build/lib.macosx-10.9-x86_64-cpython-310/numba/npyufunc\n",
      "  \u001b[31m   \u001b[0m copying numba/npyufunc/decorators.py -> build/lib.macosx-10.9-x86_64-cpython-310/numba/npyufunc\n",
      "  \u001b[31m   \u001b[0m creating build/lib.macosx-10.9-x86_64-cpython-310/numba/servicelib\n",
      "  \u001b[31m   \u001b[0m copying numba/servicelib/service.py -> build/lib.macosx-10.9-x86_64-cpython-310/numba/servicelib\n",
      "  \u001b[31m   \u001b[0m copying numba/servicelib/threadlocal.py -> build/lib.macosx-10.9-x86_64-cpython-310/numba/servicelib\n",
      "  \u001b[31m   \u001b[0m copying numba/servicelib/__init__.py -> build/lib.macosx-10.9-x86_64-cpython-310/numba/servicelib\n",
      "  \u001b[31m   \u001b[0m creating build/lib.macosx-10.9-x86_64-cpython-310/numba/datamodel\n",
      "  \u001b[31m   \u001b[0m copying numba/datamodel/models.py -> build/lib.macosx-10.9-x86_64-cpython-310/numba/datamodel\n",
      "  \u001b[31m   \u001b[0m copying numba/datamodel/registry.py -> build/lib.macosx-10.9-x86_64-cpython-310/numba/datamodel\n",
      "  \u001b[31m   \u001b[0m copying numba/datamodel/__init__.py -> build/lib.macosx-10.9-x86_64-cpython-310/numba/datamodel\n",
      "  \u001b[31m   \u001b[0m copying numba/datamodel/packer.py -> build/lib.macosx-10.9-x86_64-cpython-310/numba/datamodel\n",
      "  \u001b[31m   \u001b[0m copying numba/datamodel/testing.py -> build/lib.macosx-10.9-x86_64-cpython-310/numba/datamodel\n",
      "  \u001b[31m   \u001b[0m copying numba/datamodel/manager.py -> build/lib.macosx-10.9-x86_64-cpython-310/numba/datamodel\n",
      "  \u001b[31m   \u001b[0m creating build/lib.macosx-10.9-x86_64-cpython-310/numba/help\n",
      "  \u001b[31m   \u001b[0m copying numba/help/inspector.py -> build/lib.macosx-10.9-x86_64-cpython-310/numba/help\n",
      "  \u001b[31m   \u001b[0m copying numba/help/__init__.py -> build/lib.macosx-10.9-x86_64-cpython-310/numba/help\n",
      "  \u001b[31m   \u001b[0m creating build/lib.macosx-10.9-x86_64-cpython-310/numba/cuda/kernels\n",
      "  \u001b[31m   \u001b[0m copying numba/cuda/kernels/reduction.py -> build/lib.macosx-10.9-x86_64-cpython-310/numba/cuda/kernels\n",
      "  \u001b[31m   \u001b[0m copying numba/cuda/kernels/__init__.py -> build/lib.macosx-10.9-x86_64-cpython-310/numba/cuda/kernels\n",
      "  \u001b[31m   \u001b[0m copying numba/cuda/kernels/transpose.py -> build/lib.macosx-10.9-x86_64-cpython-310/numba/cuda/kernels\n",
      "  \u001b[31m   \u001b[0m creating build/lib.macosx-10.9-x86_64-cpython-310/numba/cuda/tests\n",
      "  \u001b[31m   \u001b[0m copying numba/cuda/tests/__init__.py -> build/lib.macosx-10.9-x86_64-cpython-310/numba/cuda/tests\n",
      "  \u001b[31m   \u001b[0m creating build/lib.macosx-10.9-x86_64-cpython-310/numba/cuda/simulator\n",
      "  \u001b[31m   \u001b[0m copying numba/cuda/simulator/compiler.py -> build/lib.macosx-10.9-x86_64-cpython-310/numba/cuda/simulator\n",
      "  \u001b[31m   \u001b[0m copying numba/cuda/simulator/kernel.py -> build/lib.macosx-10.9-x86_64-cpython-310/numba/cuda/simulator\n",
      "  \u001b[31m   \u001b[0m copying numba/cuda/simulator/reduction.py -> build/lib.macosx-10.9-x86_64-cpython-310/numba/cuda/simulator\n",
      "  \u001b[31m   \u001b[0m copying numba/cuda/simulator/__init__.py -> build/lib.macosx-10.9-x86_64-cpython-310/numba/cuda/simulator\n",
      "  \u001b[31m   \u001b[0m copying numba/cuda/simulator/api.py -> build/lib.macosx-10.9-x86_64-cpython-310/numba/cuda/simulator\n",
      "  \u001b[31m   \u001b[0m copying numba/cuda/simulator/kernelapi.py -> build/lib.macosx-10.9-x86_64-cpython-310/numba/cuda/simulator\n",
      "  \u001b[31m   \u001b[0m creating build/lib.macosx-10.9-x86_64-cpython-310/numba/cuda/cudadrv\n",
      "  \u001b[31m   \u001b[0m copying numba/cuda/cudadrv/enums.py -> build/lib.macosx-10.9-x86_64-cpython-310/numba/cuda/cudadrv\n",
      "  \u001b[31m   \u001b[0m copying numba/cuda/cudadrv/error.py -> build/lib.macosx-10.9-x86_64-cpython-310/numba/cuda/cudadrv\n",
      "  \u001b[31m   \u001b[0m copying numba/cuda/cudadrv/__init__.py -> build/lib.macosx-10.9-x86_64-cpython-310/numba/cuda/cudadrv\n",
      "  \u001b[31m   \u001b[0m copying numba/cuda/cudadrv/nvvm.py -> build/lib.macosx-10.9-x86_64-cpython-310/numba/cuda/cudadrv\n",
      "  \u001b[31m   \u001b[0m copying numba/cuda/cudadrv/ndarray.py -> build/lib.macosx-10.9-x86_64-cpython-310/numba/cuda/cudadrv\n",
      "  \u001b[31m   \u001b[0m copying numba/cuda/cudadrv/drvapi.py -> build/lib.macosx-10.9-x86_64-cpython-310/numba/cuda/cudadrv\n",
      "  \u001b[31m   \u001b[0m copying numba/cuda/cudadrv/driver.py -> build/lib.macosx-10.9-x86_64-cpython-310/numba/cuda/cudadrv\n",
      "  \u001b[31m   \u001b[0m copying numba/cuda/cudadrv/autotune.py -> build/lib.macosx-10.9-x86_64-cpython-310/numba/cuda/cudadrv\n",
      "  \u001b[31m   \u001b[0m copying numba/cuda/cudadrv/devices.py -> build/lib.macosx-10.9-x86_64-cpython-310/numba/cuda/cudadrv\n",
      "  \u001b[31m   \u001b[0m copying numba/cuda/cudadrv/devicearray.py -> build/lib.macosx-10.9-x86_64-cpython-310/numba/cuda/cudadrv\n",
      "  \u001b[31m   \u001b[0m copying numba/cuda/cudadrv/libs.py -> build/lib.macosx-10.9-x86_64-cpython-310/numba/cuda/cudadrv\n",
      "  \u001b[31m   \u001b[0m creating build/lib.macosx-10.9-x86_64-cpython-310/numba/cuda/tests/cudasim\n",
      "  \u001b[31m   \u001b[0m copying numba/cuda/tests/cudasim/support.py -> build/lib.macosx-10.9-x86_64-cpython-310/numba/cuda/tests/cudasim\n",
      "  \u001b[31m   \u001b[0m copying numba/cuda/tests/cudasim/test_cudasim_issues.py -> build/lib.macosx-10.9-x86_64-cpython-310/numba/cuda/tests/cudasim\n",
      "  \u001b[31m   \u001b[0m copying numba/cuda/tests/cudasim/__init__.py -> build/lib.macosx-10.9-x86_64-cpython-310/numba/cuda/tests/cudasim\n",
      "  \u001b[31m   \u001b[0m creating build/lib.macosx-10.9-x86_64-cpython-310/numba/cuda/tests/nocuda\n",
      "  \u001b[31m   \u001b[0m copying numba/cuda/tests/nocuda/test_nvvm.py -> build/lib.macosx-10.9-x86_64-cpython-310/numba/cuda/tests/nocuda\n",
      "  \u001b[31m   \u001b[0m copying numba/cuda/tests/nocuda/__init__.py -> build/lib.macosx-10.9-x86_64-cpython-310/numba/cuda/tests/nocuda\n",
      "  \u001b[31m   \u001b[0m copying numba/cuda/tests/nocuda/test_library_lookup.py -> build/lib.macosx-10.9-x86_64-cpython-310/numba/cuda/tests/nocuda\n",
      "  \u001b[31m   \u001b[0m creating build/lib.macosx-10.9-x86_64-cpython-310/numba/cuda/tests/cudapy\n",
      "  \u001b[31m   \u001b[0m copying numba/cuda/tests/cudapy/test_deprecation.py -> build/lib.macosx-10.9-x86_64-cpython-310/numba/cuda/tests/cudapy\n",
      "  \u001b[31m   \u001b[0m copying numba/cuda/tests/cudapy/test_ipc.py -> build/lib.macosx-10.9-x86_64-cpython-310/numba/cuda/tests/cudapy\n",
      "  \u001b[31m   \u001b[0m copying numba/cuda/tests/cudapy/test_vectorize.py -> build/lib.macosx-10.9-x86_64-cpython-310/numba/cuda/tests/cudapy\n",
      "  \u001b[31m   \u001b[0m copying numba/cuda/tests/cudapy/test_forall.py -> build/lib.macosx-10.9-x86_64-cpython-310/numba/cuda/tests/cudapy\n",
      "  \u001b[31m   \u001b[0m copying numba/cuda/tests/cudapy/test_cuda_array_interface.py -> build/lib.macosx-10.9-x86_64-cpython-310/numba/cuda/tests/cudapy\n",
      "  \u001b[31m   \u001b[0m copying numba/cuda/tests/cudapy/test_atomics.py -> build/lib.macosx-10.9-x86_64-cpython-310/numba/cuda/tests/cudapy\n",
      "  \u001b[31m   \u001b[0m copying numba/cuda/tests/cudapy/test_debuginfo.py -> build/lib.macosx-10.9-x86_64-cpython-310/numba/cuda/tests/cudapy\n",
      "  \u001b[31m   \u001b[0m copying numba/cuda/tests/cudapy/test_retrieve_autoconverted_arrays.py -> build/lib.macosx-10.9-x86_64-cpython-310/numba/cuda/tests/cudapy\n",
      "  \u001b[31m   \u001b[0m copying numba/cuda/tests/cudapy/test_py2_div_issue.py -> build/lib.macosx-10.9-x86_64-cpython-310/numba/cuda/tests/cudapy\n",
      "  \u001b[31m   \u001b[0m copying numba/cuda/tests/cudapy/test_freevar.py -> build/lib.macosx-10.9-x86_64-cpython-310/numba/cuda/tests/cudapy\n",
      "  \u001b[31m   \u001b[0m copying numba/cuda/tests/cudapy/test_localmem.py -> build/lib.macosx-10.9-x86_64-cpython-310/numba/cuda/tests/cudapy\n",
      "  \u001b[31m   \u001b[0m copying numba/cuda/tests/cudapy/test_const_string.py -> build/lib.macosx-10.9-x86_64-cpython-310/numba/cuda/tests/cudapy\n",
      "  \u001b[31m   \u001b[0m copying numba/cuda/tests/cudapy/test_print.py -> build/lib.macosx-10.9-x86_64-cpython-310/numba/cuda/tests/cudapy\n",
      "  \u001b[31m   \u001b[0m copying numba/cuda/tests/cudapy/test_laplace.py -> build/lib.macosx-10.9-x86_64-cpython-310/numba/cuda/tests/cudapy\n",
      "  \u001b[31m   \u001b[0m copying numba/cuda/tests/cudapy/test_debug.py -> build/lib.macosx-10.9-x86_64-cpython-310/numba/cuda/tests/cudapy\n",
      "  \u001b[31m   \u001b[0m copying numba/cuda/tests/cudapy/test_powi.py -> build/lib.macosx-10.9-x86_64-cpython-310/numba/cuda/tests/cudapy\n",
      "  \u001b[31m   \u001b[0m copying numba/cuda/tests/cudapy/test_operator.py -> build/lib.macosx-10.9-x86_64-cpython-310/numba/cuda/tests/cudapy\n",
      "  \u001b[31m   \u001b[0m copying numba/cuda/tests/cudapy/test_transpose.py -> build/lib.macosx-10.9-x86_64-cpython-310/numba/cuda/tests/cudapy\n",
      "  \u001b[31m   \u001b[0m copying numba/cuda/tests/cudapy/test_minmax.py -> build/lib.macosx-10.9-x86_64-cpython-310/numba/cuda/tests/cudapy\n",
      "  \u001b[31m   \u001b[0m copying numba/cuda/tests/cudapy/test_nondet.py -> build/lib.macosx-10.9-x86_64-cpython-310/numba/cuda/tests/cudapy\n",
      "  \u001b[31m   \u001b[0m copying numba/cuda/tests/cudapy/test_sync.py -> build/lib.macosx-10.9-x86_64-cpython-310/numba/cuda/tests/cudapy\n",
      "  \u001b[31m   \u001b[0m copying numba/cuda/tests/cudapy/test_lang.py -> build/lib.macosx-10.9-x86_64-cpython-310/numba/cuda/tests/cudapy\n",
      "  \u001b[31m   \u001b[0m copying numba/cuda/tests/cudapy/test_multithreads.py -> build/lib.macosx-10.9-x86_64-cpython-310/numba/cuda/tests/cudapy\n",
      "  \u001b[31m   \u001b[0m copying numba/cuda/tests/cudapy/test_errors.py -> build/lib.macosx-10.9-x86_64-cpython-310/numba/cuda/tests/cudapy\n",
      "  \u001b[31m   \u001b[0m copying numba/cuda/tests/cudapy/test_vectorize_complex.py -> build/lib.macosx-10.9-x86_64-cpython-310/numba/cuda/tests/cudapy\n",
      "  \u001b[31m   \u001b[0m copying numba/cuda/tests/cudapy/test_autojit.py -> build/lib.macosx-10.9-x86_64-cpython-310/numba/cuda/tests/cudapy\n",
      "  \u001b[31m   \u001b[0m copying numba/cuda/tests/cudapy/test_slicing.py -> build/lib.macosx-10.9-x86_64-cpython-310/numba/cuda/tests/cudapy\n",
      "  \u001b[31m   \u001b[0m copying numba/cuda/tests/cudapy/test_multiprocessing.py -> build/lib.macosx-10.9-x86_64-cpython-310/numba/cuda/tests/cudapy\n",
      "  \u001b[31m   \u001b[0m copying numba/cuda/tests/cudapy/test_montecarlo.py -> build/lib.macosx-10.9-x86_64-cpython-310/numba/cuda/tests/cudapy\n",
      "  \u001b[31m   \u001b[0m copying numba/cuda/tests/cudapy/test_array.py -> build/lib.macosx-10.9-x86_64-cpython-310/numba/cuda/tests/cudapy\n",
      "  \u001b[31m   \u001b[0m copying numba/cuda/tests/cudapy/test_sm.py -> build/lib.macosx-10.9-x86_64-cpython-310/numba/cuda/tests/cudapy\n",
      "  \u001b[31m   \u001b[0m copying numba/cuda/tests/cudapy/test_intrinsics.py -> build/lib.macosx-10.9-x86_64-cpython-310/numba/cuda/tests/cudapy\n",
      "  \u001b[31m   \u001b[0m copying numba/cuda/tests/cudapy/test_mandel.py -> build/lib.macosx-10.9-x86_64-cpython-310/numba/cuda/tests/cudapy\n",
      "  \u001b[31m   \u001b[0m copying numba/cuda/tests/cudapy/test_boolean.py -> build/lib.macosx-10.9-x86_64-cpython-310/numba/cuda/tests/cudapy\n",
      "  \u001b[31m   \u001b[0m copying numba/cuda/tests/cudapy/test_gufunc_scalar.py -> build/lib.macosx-10.9-x86_64-cpython-310/numba/cuda/tests/cudapy\n",
      "  \u001b[31m   \u001b[0m copying numba/cuda/tests/cudapy/test_macro.py -> build/lib.macosx-10.9-x86_64-cpython-310/numba/cuda/tests/cudapy\n",
      "  \u001b[31m   \u001b[0m copying numba/cuda/tests/cudapy/__init__.py -> build/lib.macosx-10.9-x86_64-cpython-310/numba/cuda/tests/cudapy\n",
      "  \u001b[31m   \u001b[0m copying numba/cuda/tests/cudapy/test_globals.py -> build/lib.macosx-10.9-x86_64-cpython-310/numba/cuda/tests/cudapy\n",
      "  \u001b[31m   \u001b[0m copying numba/cuda/tests/cudapy/test_idiv.py -> build/lib.macosx-10.9-x86_64-cpython-310/numba/cuda/tests/cudapy\n",
      "  \u001b[31m   \u001b[0m copying numba/cuda/tests/cudapy/test_device_func.py -> build/lib.macosx-10.9-x86_64-cpython-310/numba/cuda/tests/cudapy\n",
      "  \u001b[31m   \u001b[0m copying numba/cuda/tests/cudapy/test_constmem.py -> build/lib.macosx-10.9-x86_64-cpython-310/numba/cuda/tests/cudapy\n",
      "  \u001b[31m   \u001b[0m copying numba/cuda/tests/cudapy/test_vectorize_decor.py -> build/lib.macosx-10.9-x86_64-cpython-310/numba/cuda/tests/cudapy\n",
      "  \u001b[31m   \u001b[0m copying numba/cuda/tests/cudapy/test_alignment.py -> build/lib.macosx-10.9-x86_64-cpython-310/numba/cuda/tests/cudapy\n",
      "  \u001b[31m   \u001b[0m copying numba/cuda/tests/cudapy/test_reduction.py -> build/lib.macosx-10.9-x86_64-cpython-310/numba/cuda/tests/cudapy\n",
      "  \u001b[31m   \u001b[0m copying numba/cuda/tests/cudapy/test_array_methods.py -> build/lib.macosx-10.9-x86_64-cpython-310/numba/cuda/tests/cudapy\n",
      "  \u001b[31m   \u001b[0m copying numba/cuda/tests/cudapy/test_vectorize_scalar_arg.py -> build/lib.macosx-10.9-x86_64-cpython-310/numba/cuda/tests/cudapy\n",
      "  \u001b[31m   \u001b[0m copying numba/cuda/tests/cudapy/test_matmul.py -> build/lib.macosx-10.9-x86_64-cpython-310/numba/cuda/tests/cudapy\n",
      "  \u001b[31m   \u001b[0m copying numba/cuda/tests/cudapy/test_datetime.py -> build/lib.macosx-10.9-x86_64-cpython-310/numba/cuda/tests/cudapy\n",
      "  \u001b[31m   \u001b[0m copying numba/cuda/tests/cudapy/test_multigpu.py -> build/lib.macosx-10.9-x86_64-cpython-310/numba/cuda/tests/cudapy\n",
      "  \u001b[31m   \u001b[0m copying numba/cuda/tests/cudapy/test_complex_kernel.py -> build/lib.macosx-10.9-x86_64-cpython-310/numba/cuda/tests/cudapy\n",
      "  \u001b[31m   \u001b[0m copying numba/cuda/tests/cudapy/test_inspect.py -> build/lib.macosx-10.9-x86_64-cpython-310/numba/cuda/tests/cudapy\n",
      "  \u001b[31m   \u001b[0m copying numba/cuda/tests/cudapy/test_casting.py -> build/lib.macosx-10.9-x86_64-cpython-310/numba/cuda/tests/cudapy\n",
      "  \u001b[31m   \u001b[0m copying numba/cuda/tests/cudapy/test_blackscholes.py -> build/lib.macosx-10.9-x86_64-cpython-310/numba/cuda/tests/cudapy\n",
      "  \u001b[31m   \u001b[0m copying numba/cuda/tests/cudapy/test_exception.py -> build/lib.macosx-10.9-x86_64-cpython-310/numba/cuda/tests/cudapy\n",
      "  \u001b[31m   \u001b[0m copying numba/cuda/tests/cudapy/test_serialize.py -> build/lib.macosx-10.9-x86_64-cpython-310/numba/cuda/tests/cudapy\n",
      "  \u001b[31m   \u001b[0m copying numba/cuda/tests/cudapy/test_fastmath.py -> build/lib.macosx-10.9-x86_64-cpython-310/numba/cuda/tests/cudapy\n",
      "  \u001b[31m   \u001b[0m copying numba/cuda/tests/cudapy/test_userexc.py -> build/lib.macosx-10.9-x86_64-cpython-310/numba/cuda/tests/cudapy\n",
      "  \u001b[31m   \u001b[0m copying numba/cuda/tests/cudapy/test_cuda_autojit.py -> build/lib.macosx-10.9-x86_64-cpython-310/numba/cuda/tests/cudapy\n",
      "  \u001b[31m   \u001b[0m copying numba/cuda/tests/cudapy/test_warp_ops.py -> build/lib.macosx-10.9-x86_64-cpython-310/numba/cuda/tests/cudapy\n",
      "  \u001b[31m   \u001b[0m copying numba/cuda/tests/cudapy/test_complex.py -> build/lib.macosx-10.9-x86_64-cpython-310/numba/cuda/tests/cudapy\n",
      "  \u001b[31m   \u001b[0m copying numba/cuda/tests/cudapy/test_array_args.py -> build/lib.macosx-10.9-x86_64-cpython-310/numba/cuda/tests/cudapy\n",
      "  \u001b[31m   \u001b[0m copying numba/cuda/tests/cudapy/test_vectorize_device.py -> build/lib.macosx-10.9-x86_64-cpython-310/numba/cuda/tests/cudapy\n",
      "  \u001b[31m   \u001b[0m copying numba/cuda/tests/cudapy/test_gufunc_scheduling.py -> build/lib.macosx-10.9-x86_64-cpython-310/numba/cuda/tests/cudapy\n",
      "  \u001b[31m   \u001b[0m copying numba/cuda/tests/cudapy/test_math.py -> build/lib.macosx-10.9-x86_64-cpython-310/numba/cuda/tests/cudapy\n",
      "  \u001b[31m   \u001b[0m copying numba/cuda/tests/cudapy/test_record_dtype.py -> build/lib.macosx-10.9-x86_64-cpython-310/numba/cuda/tests/cudapy\n",
      "  \u001b[31m   \u001b[0m copying numba/cuda/tests/cudapy/test_gufunc.py -> build/lib.macosx-10.9-x86_64-cpython-310/numba/cuda/tests/cudapy\n",
      "  \u001b[31m   \u001b[0m copying numba/cuda/tests/cudapy/test_random.py -> build/lib.macosx-10.9-x86_64-cpython-310/numba/cuda/tests/cudapy\n",
      "  \u001b[31m   \u001b[0m creating build/lib.macosx-10.9-x86_64-cpython-310/numba/cuda/tests/cudadrv\n",
      "  \u001b[31m   \u001b[0m copying numba/cuda/tests/cudadrv/test_cuda_array_slicing.py -> build/lib.macosx-10.9-x86_64-cpython-310/numba/cuda/tests/cudadrv\n",
      "  \u001b[31m   \u001b[0m copying numba/cuda/tests/cudadrv/test_reset_device.py -> build/lib.macosx-10.9-x86_64-cpython-310/numba/cuda/tests/cudadrv\n",
      "  \u001b[31m   \u001b[0m copying numba/cuda/tests/cudadrv/test_linker.py -> build/lib.macosx-10.9-x86_64-cpython-310/numba/cuda/tests/cudadrv\n",
      "  \u001b[31m   \u001b[0m copying numba/cuda/tests/cudadrv/test_cuda_driver.py -> build/lib.macosx-10.9-x86_64-cpython-310/numba/cuda/tests/cudadrv\n",
      "  \u001b[31m   \u001b[0m copying numba/cuda/tests/cudadrv/test_context_stack.py -> build/lib.macosx-10.9-x86_64-cpython-310/numba/cuda/tests/cudadrv\n",
      "  \u001b[31m   \u001b[0m copying numba/cuda/tests/cudadrv/test_cuda_ndarray.py -> build/lib.macosx-10.9-x86_64-cpython-310/numba/cuda/tests/cudadrv\n",
      "  \u001b[31m   \u001b[0m copying numba/cuda/tests/cudadrv/test_detect.py -> build/lib.macosx-10.9-x86_64-cpython-310/numba/cuda/tests/cudadrv\n",
      "  \u001b[31m   \u001b[0m copying numba/cuda/tests/cudadrv/__init__.py -> build/lib.macosx-10.9-x86_64-cpython-310/numba/cuda/tests/cudadrv\n",
      "  \u001b[31m   \u001b[0m copying numba/cuda/tests/cudadrv/test_inline_ptx.py -> build/lib.macosx-10.9-x86_64-cpython-310/numba/cuda/tests/cudadrv\n",
      "  \u001b[31m   \u001b[0m copying numba/cuda/tests/cudadrv/test_array_attr.py -> build/lib.macosx-10.9-x86_64-cpython-310/numba/cuda/tests/cudadrv\n",
      "  \u001b[31m   \u001b[0m copying numba/cuda/tests/cudadrv/test_profiler.py -> build/lib.macosx-10.9-x86_64-cpython-310/numba/cuda/tests/cudadrv\n",
      "  \u001b[31m   \u001b[0m copying numba/cuda/tests/cudadrv/test_deallocations.py -> build/lib.macosx-10.9-x86_64-cpython-310/numba/cuda/tests/cudadrv\n",
      "  \u001b[31m   \u001b[0m copying numba/cuda/tests/cudadrv/test_cuda_memory.py -> build/lib.macosx-10.9-x86_64-cpython-310/numba/cuda/tests/cudadrv\n",
      "  \u001b[31m   \u001b[0m copying numba/cuda/tests/cudadrv/test_cuda_devicerecord.py -> build/lib.macosx-10.9-x86_64-cpython-310/numba/cuda/tests/cudadrv\n",
      "  \u001b[31m   \u001b[0m copying numba/cuda/tests/cudadrv/test_nvvm_driver.py -> build/lib.macosx-10.9-x86_64-cpython-310/numba/cuda/tests/cudadrv\n",
      "  \u001b[31m   \u001b[0m copying numba/cuda/tests/cudadrv/test_host_alloc.py -> build/lib.macosx-10.9-x86_64-cpython-310/numba/cuda/tests/cudadrv\n",
      "  \u001b[31m   \u001b[0m copying numba/cuda/tests/cudadrv/test_pinned.py -> build/lib.macosx-10.9-x86_64-cpython-310/numba/cuda/tests/cudadrv\n",
      "  \u001b[31m   \u001b[0m copying numba/cuda/tests/cudadrv/test_cuda_auto_context.py -> build/lib.macosx-10.9-x86_64-cpython-310/numba/cuda/tests/cudadrv\n",
      "  \u001b[31m   \u001b[0m copying numba/cuda/tests/cudadrv/test_select_device.py -> build/lib.macosx-10.9-x86_64-cpython-310/numba/cuda/tests/cudadrv\n",
      "  \u001b[31m   \u001b[0m copying numba/cuda/tests/cudadrv/test_events.py -> build/lib.macosx-10.9-x86_64-cpython-310/numba/cuda/tests/cudadrv\n",
      "  \u001b[31m   \u001b[0m copying numba/cuda/tests/cudadrv/test_cuda_libraries.py -> build/lib.macosx-10.9-x86_64-cpython-310/numba/cuda/tests/cudadrv\n",
      "  \u001b[31m   \u001b[0m copying numba/cuda/tests/cudadrv/test_ir_patch.py -> build/lib.macosx-10.9-x86_64-cpython-310/numba/cuda/tests/cudadrv\n",
      "  \u001b[31m   \u001b[0m creating build/lib.macosx-10.9-x86_64-cpython-310/numba/cuda/tests/cudadrv/data\n",
      "  \u001b[31m   \u001b[0m copying numba/cuda/tests/cudadrv/data/__init__.py -> build/lib.macosx-10.9-x86_64-cpython-310/numba/cuda/tests/cudadrv/data\n",
      "  \u001b[31m   \u001b[0m creating build/lib.macosx-10.9-x86_64-cpython-310/numba/cuda/simulator/cudadrv\n",
      "  \u001b[31m   \u001b[0m copying numba/cuda/simulator/cudadrv/__init__.py -> build/lib.macosx-10.9-x86_64-cpython-310/numba/cuda/simulator/cudadrv\n",
      "  \u001b[31m   \u001b[0m copying numba/cuda/simulator/cudadrv/nvvm.py -> build/lib.macosx-10.9-x86_64-cpython-310/numba/cuda/simulator/cudadrv\n",
      "  \u001b[31m   \u001b[0m copying numba/cuda/simulator/cudadrv/drvapi.py -> build/lib.macosx-10.9-x86_64-cpython-310/numba/cuda/simulator/cudadrv\n",
      "  \u001b[31m   \u001b[0m copying numba/cuda/simulator/cudadrv/driver.py -> build/lib.macosx-10.9-x86_64-cpython-310/numba/cuda/simulator/cudadrv\n",
      "  \u001b[31m   \u001b[0m copying numba/cuda/simulator/cudadrv/devices.py -> build/lib.macosx-10.9-x86_64-cpython-310/numba/cuda/simulator/cudadrv\n",
      "  \u001b[31m   \u001b[0m copying numba/cuda/simulator/cudadrv/devicearray.py -> build/lib.macosx-10.9-x86_64-cpython-310/numba/cuda/simulator/cudadrv\n",
      "  \u001b[31m   \u001b[0m creating build/lib.macosx-10.9-x86_64-cpython-310/numba/tests/npyufunc\n",
      "  \u001b[31m   \u001b[0m copying numba/tests/npyufunc/test_ufuncbuilding.py -> build/lib.macosx-10.9-x86_64-cpython-310/numba/tests/npyufunc\n",
      "  \u001b[31m   \u001b[0m copying numba/tests/npyufunc/test_errors.py -> build/lib.macosx-10.9-x86_64-cpython-310/numba/tests/npyufunc\n",
      "  \u001b[31m   \u001b[0m copying numba/tests/npyufunc/__init__.py -> build/lib.macosx-10.9-x86_64-cpython-310/numba/tests/npyufunc\n",
      "  \u001b[31m   \u001b[0m copying numba/tests/npyufunc/test_vectorize_decor.py -> build/lib.macosx-10.9-x86_64-cpython-310/numba/tests/npyufunc\n",
      "  \u001b[31m   \u001b[0m copying numba/tests/npyufunc/cache_usecases.py -> build/lib.macosx-10.9-x86_64-cpython-310/numba/tests/npyufunc\n",
      "  \u001b[31m   \u001b[0m copying numba/tests/npyufunc/test_parallel_ufunc_issues.py -> build/lib.macosx-10.9-x86_64-cpython-310/numba/tests/npyufunc\n",
      "  \u001b[31m   \u001b[0m copying numba/tests/npyufunc/test_dufunc.py -> build/lib.macosx-10.9-x86_64-cpython-310/numba/tests/npyufunc\n",
      "  \u001b[31m   \u001b[0m copying numba/tests/npyufunc/test_parallel_env_variable.py -> build/lib.macosx-10.9-x86_64-cpython-310/numba/tests/npyufunc\n",
      "  \u001b[31m   \u001b[0m copying numba/tests/npyufunc/test_parallel_low_work.py -> build/lib.macosx-10.9-x86_64-cpython-310/numba/tests/npyufunc\n",
      "  \u001b[31m   \u001b[0m copying numba/tests/npyufunc/test_ufunc.py -> build/lib.macosx-10.9-x86_64-cpython-310/numba/tests/npyufunc\n",
      "  \u001b[31m   \u001b[0m copying numba/tests/npyufunc/test_caching.py -> build/lib.macosx-10.9-x86_64-cpython-310/numba/tests/npyufunc\n",
      "  \u001b[31m   \u001b[0m copying numba/tests/npyufunc/test_gufunc.py -> build/lib.macosx-10.9-x86_64-cpython-310/numba/tests/npyufunc\n",
      "  \u001b[31m   \u001b[0m creating build/lib.macosx-10.9-x86_64-cpython-310/numba/roc/hlc\n",
      "  \u001b[31m   \u001b[0m copying numba/roc/hlc/config.py -> build/lib.macosx-10.9-x86_64-cpython-310/numba/roc/hlc\n",
      "  \u001b[31m   \u001b[0m copying numba/roc/hlc/__init__.py -> build/lib.macosx-10.9-x86_64-cpython-310/numba/roc/hlc\n",
      "  \u001b[31m   \u001b[0m copying numba/roc/hlc/common.py -> build/lib.macosx-10.9-x86_64-cpython-310/numba/roc/hlc\n",
      "  \u001b[31m   \u001b[0m copying numba/roc/hlc/hlc.py -> build/lib.macosx-10.9-x86_64-cpython-310/numba/roc/hlc\n",
      "  \u001b[31m   \u001b[0m copying numba/roc/hlc/libhlc.py -> build/lib.macosx-10.9-x86_64-cpython-310/numba/roc/hlc\n",
      "  \u001b[31m   \u001b[0m creating build/lib.macosx-10.9-x86_64-cpython-310/numba/roc/tests\n",
      "  \u001b[31m   \u001b[0m copying numba/roc/tests/__init__.py -> build/lib.macosx-10.9-x86_64-cpython-310/numba/roc/tests\n",
      "  \u001b[31m   \u001b[0m creating build/lib.macosx-10.9-x86_64-cpython-310/numba/roc/hsadrv\n",
      "  \u001b[31m   \u001b[0m copying numba/roc/hsadrv/enums.py -> build/lib.macosx-10.9-x86_64-cpython-310/numba/roc/hsadrv\n",
      "  \u001b[31m   \u001b[0m copying numba/roc/hsadrv/error.py -> build/lib.macosx-10.9-x86_64-cpython-310/numba/roc/hsadrv\n",
      "  \u001b[31m   \u001b[0m copying numba/roc/hsadrv/__init__.py -> build/lib.macosx-10.9-x86_64-cpython-310/numba/roc/hsadrv\n",
      "  \u001b[31m   \u001b[0m copying numba/roc/hsadrv/enums_ext.py -> build/lib.macosx-10.9-x86_64-cpython-310/numba/roc/hsadrv\n",
      "  \u001b[31m   \u001b[0m copying numba/roc/hsadrv/drvapi.py -> build/lib.macosx-10.9-x86_64-cpython-310/numba/roc/hsadrv\n",
      "  \u001b[31m   \u001b[0m copying numba/roc/hsadrv/driver.py -> build/lib.macosx-10.9-x86_64-cpython-310/numba/roc/hsadrv\n",
      "  \u001b[31m   \u001b[0m copying numba/roc/hsadrv/devices.py -> build/lib.macosx-10.9-x86_64-cpython-310/numba/roc/hsadrv\n",
      "  \u001b[31m   \u001b[0m copying numba/roc/hsadrv/devicearray.py -> build/lib.macosx-10.9-x86_64-cpython-310/numba/roc/hsadrv\n",
      "  \u001b[31m   \u001b[0m creating build/lib.macosx-10.9-x86_64-cpython-310/numba/roc/tests/hsapy\n",
      "  \u001b[31m   \u001b[0m copying numba/roc/tests/hsapy/test_async_kernel.py -> build/lib.macosx-10.9-x86_64-cpython-310/numba/roc/tests/hsapy\n",
      "  \u001b[31m   \u001b[0m copying numba/roc/tests/hsapy/test_atomics.py -> build/lib.macosx-10.9-x86_64-cpython-310/numba/roc/tests/hsapy\n",
      "  \u001b[31m   \u001b[0m copying numba/roc/tests/hsapy/test_linkage.py -> build/lib.macosx-10.9-x86_64-cpython-310/numba/roc/tests/hsapy\n",
      "  \u001b[31m   \u001b[0m copying numba/roc/tests/hsapy/test_ufuncbuilding.py -> build/lib.macosx-10.9-x86_64-cpython-310/numba/roc/tests/hsapy\n",
      "  \u001b[31m   \u001b[0m copying numba/roc/tests/hsapy/test_autojit.py -> build/lib.macosx-10.9-x86_64-cpython-310/numba/roc/tests/hsapy\n",
      "  \u001b[31m   \u001b[0m copying numba/roc/tests/hsapy/test_intrinsics.py -> build/lib.macosx-10.9-x86_64-cpython-310/numba/roc/tests/hsapy\n",
      "  \u001b[31m   \u001b[0m copying numba/roc/tests/hsapy/test_simple.py -> build/lib.macosx-10.9-x86_64-cpython-310/numba/roc/tests/hsapy\n",
      "  \u001b[31m   \u001b[0m copying numba/roc/tests/hsapy/test_compiler.py -> build/lib.macosx-10.9-x86_64-cpython-310/numba/roc/tests/hsapy\n",
      "  \u001b[31m   \u001b[0m copying numba/roc/tests/hsapy/test_positioning.py -> build/lib.macosx-10.9-x86_64-cpython-310/numba/roc/tests/hsapy\n",
      "  \u001b[31m   \u001b[0m copying numba/roc/tests/hsapy/__init__.py -> build/lib.macosx-10.9-x86_64-cpython-310/numba/roc/tests/hsapy\n",
      "  \u001b[31m   \u001b[0m copying numba/roc/tests/hsapy/test_barrier.py -> build/lib.macosx-10.9-x86_64-cpython-310/numba/roc/tests/hsapy\n",
      "  \u001b[31m   \u001b[0m copying numba/roc/tests/hsapy/test_gufuncbuilding.py -> build/lib.macosx-10.9-x86_64-cpython-310/numba/roc/tests/hsapy\n",
      "  \u001b[31m   \u001b[0m copying numba/roc/tests/hsapy/test_scan.py -> build/lib.macosx-10.9-x86_64-cpython-310/numba/roc/tests/hsapy\n",
      "  \u001b[31m   \u001b[0m copying numba/roc/tests/hsapy/test_reduction.py -> build/lib.macosx-10.9-x86_64-cpython-310/numba/roc/tests/hsapy\n",
      "  \u001b[31m   \u001b[0m copying numba/roc/tests/hsapy/test_matmul.py -> build/lib.macosx-10.9-x86_64-cpython-310/numba/roc/tests/hsapy\n",
      "  \u001b[31m   \u001b[0m copying numba/roc/tests/hsapy/test_memory.py -> build/lib.macosx-10.9-x86_64-cpython-310/numba/roc/tests/hsapy\n",
      "  \u001b[31m   \u001b[0m copying numba/roc/tests/hsapy/run_far_branch.py -> build/lib.macosx-10.9-x86_64-cpython-310/numba/roc/tests/hsapy\n",
      "  \u001b[31m   \u001b[0m copying numba/roc/tests/hsapy/test_math.py -> build/lib.macosx-10.9-x86_64-cpython-310/numba/roc/tests/hsapy\n",
      "  \u001b[31m   \u001b[0m copying numba/roc/tests/hsapy/test_large_code.py -> build/lib.macosx-10.9-x86_64-cpython-310/numba/roc/tests/hsapy\n",
      "  \u001b[31m   \u001b[0m copying numba/roc/tests/hsapy/test_occupancy.py -> build/lib.macosx-10.9-x86_64-cpython-310/numba/roc/tests/hsapy\n",
      "  \u001b[31m   \u001b[0m copying numba/roc/tests/hsapy/test_decorator.py -> build/lib.macosx-10.9-x86_64-cpython-310/numba/roc/tests/hsapy\n",
      "  \u001b[31m   \u001b[0m creating build/lib.macosx-10.9-x86_64-cpython-310/numba/roc/tests/hsadrv\n",
      "  \u001b[31m   \u001b[0m copying numba/roc/tests/hsadrv/test_async.py -> build/lib.macosx-10.9-x86_64-cpython-310/numba/roc/tests/hsadrv\n",
      "  \u001b[31m   \u001b[0m copying numba/roc/tests/hsadrv/test_driver.py -> build/lib.macosx-10.9-x86_64-cpython-310/numba/roc/tests/hsadrv\n",
      "  \u001b[31m   \u001b[0m copying numba/roc/tests/hsadrv/__init__.py -> build/lib.macosx-10.9-x86_64-cpython-310/numba/roc/tests/hsadrv\n",
      "  \u001b[31m   \u001b[0m copying numba/_random.c -> build/lib.macosx-10.9-x86_64-cpython-310/numba\n",
      "  \u001b[31m   \u001b[0m copying numba/_lapack.c -> build/lib.macosx-10.9-x86_64-cpython-310/numba\n",
      "  \u001b[31m   \u001b[0m copying numba/_helperlib.c -> build/lib.macosx-10.9-x86_64-cpython-310/numba\n",
      "  \u001b[31m   \u001b[0m copying numba/_helpermod.c -> build/lib.macosx-10.9-x86_64-cpython-310/numba\n",
      "  \u001b[31m   \u001b[0m copying numba/_dispatcher.c -> build/lib.macosx-10.9-x86_64-cpython-310/numba\n",
      "  \u001b[31m   \u001b[0m copying numba/_dynfuncmod.c -> build/lib.macosx-10.9-x86_64-cpython-310/numba\n",
      "  \u001b[31m   \u001b[0m copying numba/_dynfunc.c -> build/lib.macosx-10.9-x86_64-cpython-310/numba\n",
      "  \u001b[31m   \u001b[0m copying numba/_hashtable.c -> build/lib.macosx-10.9-x86_64-cpython-310/numba\n",
      "  \u001b[31m   \u001b[0m copying numba/mviewbuf.c -> build/lib.macosx-10.9-x86_64-cpython-310/numba\n",
      "  \u001b[31m   \u001b[0m copying numba/_typeof.c -> build/lib.macosx-10.9-x86_64-cpython-310/numba\n",
      "  \u001b[31m   \u001b[0m copying numba/_npymath_exports.c -> build/lib.macosx-10.9-x86_64-cpython-310/numba\n",
      "  \u001b[31m   \u001b[0m copying numba/_math_c99.c -> build/lib.macosx-10.9-x86_64-cpython-310/numba\n",
      "  \u001b[31m   \u001b[0m copying numba/capsulethunk.h -> build/lib.macosx-10.9-x86_64-cpython-310/numba\n",
      "  \u001b[31m   \u001b[0m copying numba/_hashtable.h -> build/lib.macosx-10.9-x86_64-cpython-310/numba\n",
      "  \u001b[31m   \u001b[0m copying numba/_typeof.h -> build/lib.macosx-10.9-x86_64-cpython-310/numba\n",
      "  \u001b[31m   \u001b[0m copying numba/_arraystruct.h -> build/lib.macosx-10.9-x86_64-cpython-310/numba\n",
      "  \u001b[31m   \u001b[0m copying numba/mathnames.h -> build/lib.macosx-10.9-x86_64-cpython-310/numba\n",
      "  \u001b[31m   \u001b[0m copying numba/_numba_common.h -> build/lib.macosx-10.9-x86_64-cpython-310/numba\n",
      "  \u001b[31m   \u001b[0m copying numba/_math_c99.h -> build/lib.macosx-10.9-x86_64-cpython-310/numba\n",
      "  \u001b[31m   \u001b[0m copying numba/_pymodule.h -> build/lib.macosx-10.9-x86_64-cpython-310/numba\n",
      "  \u001b[31m   \u001b[0m copying numba/_dispatcher.h -> build/lib.macosx-10.9-x86_64-cpython-310/numba\n",
      "  \u001b[31m   \u001b[0m copying numba/_unicodetype_db.h -> build/lib.macosx-10.9-x86_64-cpython-310/numba\n",
      "  \u001b[31m   \u001b[0m copying numba/targets/cmdlang.gdb -> build/lib.macosx-10.9-x86_64-cpython-310/numba/targets\n",
      "  \u001b[31m   \u001b[0m copying numba/pycc/modulemixin.c -> build/lib.macosx-10.9-x86_64-cpython-310/numba/pycc\n",
      "  \u001b[31m   \u001b[0m copying numba/runtime/_nrt_python.c -> build/lib.macosx-10.9-x86_64-cpython-310/numba/runtime\n",
      "  \u001b[31m   \u001b[0m copying numba/runtime/_nrt_pythonmod.c -> build/lib.macosx-10.9-x86_64-cpython-310/numba/runtime\n",
      "  \u001b[31m   \u001b[0m copying numba/runtime/nrt.c -> build/lib.macosx-10.9-x86_64-cpython-310/numba/runtime\n",
      "  \u001b[31m   \u001b[0m copying numba/runtime/nrt.h -> build/lib.macosx-10.9-x86_64-cpython-310/numba/runtime\n",
      "  \u001b[31m   \u001b[0m copying numba/runtime/nrt_external.h -> build/lib.macosx-10.9-x86_64-cpython-310/numba/runtime\n",
      "  \u001b[31m   \u001b[0m creating build/lib.macosx-10.9-x86_64-cpython-310/numba/tests/pycc_distutils_usecase\n",
      "  \u001b[31m   \u001b[0m copying numba/tests/pycc_distutils_usecase/setup_setuptools.py -> build/lib.macosx-10.9-x86_64-cpython-310/numba/tests/pycc_distutils_usecase\n",
      "  \u001b[31m   \u001b[0m copying numba/tests/pycc_distutils_usecase/source_module.py -> build/lib.macosx-10.9-x86_64-cpython-310/numba/tests/pycc_distutils_usecase\n",
      "  \u001b[31m   \u001b[0m copying numba/tests/pycc_distutils_usecase/setup_distutils.py -> build/lib.macosx-10.9-x86_64-cpython-310/numba/tests/pycc_distutils_usecase\n",
      "  \u001b[31m   \u001b[0m copying numba/annotations/template.html -> build/lib.macosx-10.9-x86_64-cpython-310/numba/annotations\n",
      "  \u001b[31m   \u001b[0m copying numba/cext/listobject.c -> build/lib.macosx-10.9-x86_64-cpython-310/numba/cext\n",
      "  \u001b[31m   \u001b[0m copying numba/cext/utils.c -> build/lib.macosx-10.9-x86_64-cpython-310/numba/cext\n",
      "  \u001b[31m   \u001b[0m copying numba/cext/dictobject.c -> build/lib.macosx-10.9-x86_64-cpython-310/numba/cext\n",
      "  \u001b[31m   \u001b[0m copying numba/cext/dictobject.h -> build/lib.macosx-10.9-x86_64-cpython-310/numba/cext\n",
      "  \u001b[31m   \u001b[0m copying numba/cext/cext.h -> build/lib.macosx-10.9-x86_64-cpython-310/numba/cext\n",
      "  \u001b[31m   \u001b[0m copying numba/cext/listobject.h -> build/lib.macosx-10.9-x86_64-cpython-310/numba/cext\n",
      "  \u001b[31m   \u001b[0m copying numba/cuda/tests/cudadrv/data/jitlink.ptx -> build/lib.macosx-10.9-x86_64-cpython-310/numba/cuda/tests/cudadrv/data\n",
      "  \u001b[31m   \u001b[0m running build_ext\n",
      "  \u001b[31m   \u001b[0m building 'numba._dynfunc' extension\n",
      "  \u001b[31m   \u001b[0m Warning: Can't read registry to find the necessary compiler setting\n",
      "  \u001b[31m   \u001b[0m Make sure that Python modules winreg, win32api or win32con are installed.\n",
      "  \u001b[31m   \u001b[0m INFO: C compiler: clang -Wno-unused-result -Wsign-compare -Wunreachable-code -DNDEBUG -fwrapv -O2 -Wall -fPIC -O2 -isystem /Users/carstenschnober/opt/anaconda3/envs/SoS/include -fPIC -O2 -isystem /Users/carstenschnober/opt/anaconda3/envs/SoS/include\n",
      "  \u001b[31m   \u001b[0m \n",
      "  \u001b[31m   \u001b[0m creating build/temp.macosx-10.9-x86_64-cpython-310\n",
      "  \u001b[31m   \u001b[0m creating build/temp.macosx-10.9-x86_64-cpython-310/numba\n",
      "  \u001b[31m   \u001b[0m INFO: compile options: '-I/Users/carstenschnober/opt/anaconda3/envs/SoS/include/python3.10 -c'\n",
      "  \u001b[31m   \u001b[0m extra options: '-g'\n",
      "  \u001b[31m   \u001b[0m INFO: clang: numba/_dynfuncmod.c\n",
      "  \u001b[31m   \u001b[0m INFO: clang -bundle -undefined dynamic_lookup -Wl,-rpath,/Users/carstenschnober/opt/anaconda3/envs/SoS/lib -L/Users/carstenschnober/opt/anaconda3/envs/SoS/lib -Wl,-rpath,/Users/carstenschnober/opt/anaconda3/envs/SoS/lib -L/Users/carstenschnober/opt/anaconda3/envs/SoS/lib build/temp.macosx-10.9-x86_64-cpython-310/numba/_dynfuncmod.o -o build/lib.macosx-10.9-x86_64-cpython-310/numba/_dynfunc.cpython-310-darwin.so\n",
      "  \u001b[31m   \u001b[0m ld: warning: -undefined dynamic_lookup may not work with chained fixups\n",
      "  \u001b[31m   \u001b[0m building 'numba._dispatcher' extension\n",
      "  \u001b[31m   \u001b[0m INFO: C compiler: clang -Wno-unused-result -Wsign-compare -Wunreachable-code -DNDEBUG -fwrapv -O2 -Wall -fPIC -O2 -isystem /Users/carstenschnober/opt/anaconda3/envs/SoS/include -fPIC -O2 -isystem /Users/carstenschnober/opt/anaconda3/envs/SoS/include\n",
      "  \u001b[31m   \u001b[0m \n",
      "  \u001b[31m   \u001b[0m creating build/temp.macosx-10.9-x86_64-cpython-310/numba/typeconv\n",
      "  \u001b[31m   \u001b[0m INFO: compile options: '-I/Users/carstenschnober/opt/anaconda3/envs/SoS/lib/python3.10/site-packages/numpy/core/include -I/Users/carstenschnober/opt/anaconda3/envs/SoS/include/python3.10 -c'\n",
      "  \u001b[31m   \u001b[0m INFO: clang: numba/_dispatcher.c\n",
      "  \u001b[31m   \u001b[0m INFO: clang: numba/_dispatcherimpl.cppINFO: clang: numba/_hashtable.c\n",
      "  \u001b[31m   \u001b[0m \n",
      "  \u001b[31m   \u001b[0m INFO: clang: numba/typeconv/typeconv.cpp\n",
      "  \u001b[31m   \u001b[0m INFO: clang: numba/_typeof.c\n",
      "  \u001b[31m   \u001b[0m numba/_dispatcher.c:26:13: error: no member named 'use_tracing' in 'struct _ts'\n",
      "  \u001b[31m   \u001b[0m     tstate->use_tracing = 0;\n",
      "  \u001b[31m   \u001b[0m     ~~~~~~  ^\n",
      "  \u001b[31m   \u001b[0m numba/_dispatcher.c:28:13: error: no member named 'use_tracing' in 'struct _ts'\n",
      "  \u001b[31m   \u001b[0m     tstate->use_tracing = ((tstate->c_tracefunc != NULL)\n",
      "  \u001b[31m   \u001b[0m     ~~~~~~  ^\n",
      "  \u001b[31m   \u001b[0m numba/_dispatcher.c:301:17: error: no member named 'use_tracing' in 'struct _ts'\n",
      "  \u001b[31m   \u001b[0m     if (tstate->use_tracing && tstate->c_profilefunc)\n",
      "  \u001b[31m   \u001b[0m         ~~~~~~  ^\n",
      "  \u001b[31m   \u001b[0m numba/_dispatcher.c:507:13: error: no member named 'use_tracing' in 'struct _ts'\n",
      "  \u001b[31m   \u001b[0m     if (ts->use_tracing && ts->c_profilefunc)\n",
      "  \u001b[31m   \u001b[0m         ~~  ^\n",
      "  \u001b[31m   \u001b[0m 4 errors generated.\n",
      "  \u001b[31m   \u001b[0m error: Command \"clang -Wno-unused-result -Wsign-compare -Wunreachable-code -DNDEBUG -fwrapv -O2 -Wall -fPIC -O2 -isystem /Users/carstenschnober/opt/anaconda3/envs/SoS/include -fPIC -O2 -isystem /Users/carstenschnober/opt/anaconda3/envs/SoS/include -I/Users/carstenschnober/opt/anaconda3/envs/SoS/lib/python3.10/site-packages/numpy/core/include -I/Users/carstenschnober/opt/anaconda3/envs/SoS/include/python3.10 -c numba/_dispatcher.c -o build/temp.macosx-10.9-x86_64-cpython-310/numba/_dispatcher.o\" failed with exit status 1\n",
      "  \u001b[31m   \u001b[0m \u001b[31m[end of output]\u001b[0m\n",
      "  \n",
      "  \u001b[1;35mnote\u001b[0m: This error originates from a subprocess, and is likely not a problem with pip.\n",
      "\u001b[31m  ERROR: Failed building wheel for numba\u001b[0m\u001b[31m\n",
      "\u001b[0m\u001b[?25h  Running setup.py clean for numba\n",
      "  Building wheel for llvmlite (setup.py) ... \u001b[?25lerror\n",
      "  \u001b[1;31merror\u001b[0m: \u001b[1msubprocess-exited-with-error\u001b[0m\n",
      "  \n",
      "  \u001b[31m×\u001b[0m \u001b[32mpython setup.py bdist_wheel\u001b[0m did not run successfully.\n",
      "  \u001b[31m│\u001b[0m exit code: \u001b[1;36m1\u001b[0m\n",
      "  \u001b[31m╰─>\u001b[0m \u001b[31m[26 lines of output]\u001b[0m\n",
      "  \u001b[31m   \u001b[0m running bdist_wheel\n",
      "  \u001b[31m   \u001b[0m /Users/carstenschnober/opt/anaconda3/envs/SoS/bin/python /private/var/folders/d8/j5_fyf8941j_492zvf8948y40000gn/T/pip-install-9w3wjdjf/llvmlite_96d9b3e9e8b947f498426b673158d93c/ffi/build.py\n",
      "  \u001b[31m   \u001b[0m LLVM version... Traceback (most recent call last):\n",
      "  \u001b[31m   \u001b[0m   File \"/private/var/folders/d8/j5_fyf8941j_492zvf8948y40000gn/T/pip-install-9w3wjdjf/llvmlite_96d9b3e9e8b947f498426b673158d93c/ffi/build.py\", line 105, in main_posix\n",
      "  \u001b[31m   \u001b[0m     out = subprocess.check_output([llvm_config, '--version'])\n",
      "  \u001b[31m   \u001b[0m   File \"/Users/carstenschnober/opt/anaconda3/envs/SoS/lib/python3.10/subprocess.py\", line 420, in check_output\n",
      "  \u001b[31m   \u001b[0m     return run(*popenargs, stdout=PIPE, timeout=timeout, check=True,\n",
      "  \u001b[31m   \u001b[0m   File \"/Users/carstenschnober/opt/anaconda3/envs/SoS/lib/python3.10/subprocess.py\", line 501, in run\n",
      "  \u001b[31m   \u001b[0m     with Popen(*popenargs, **kwargs) as process:\n",
      "  \u001b[31m   \u001b[0m   File \"/Users/carstenschnober/opt/anaconda3/envs/SoS/lib/python3.10/subprocess.py\", line 969, in __init__\n",
      "  \u001b[31m   \u001b[0m     self._execute_child(args, executable, preexec_fn, close_fds,\n",
      "  \u001b[31m   \u001b[0m   File \"/Users/carstenschnober/opt/anaconda3/envs/SoS/lib/python3.10/subprocess.py\", line 1845, in _execute_child\n",
      "  \u001b[31m   \u001b[0m     raise child_exception_type(errno_num, err_msg, err_filename)\n",
      "  \u001b[31m   \u001b[0m FileNotFoundError: [Errno 2] No such file or directory: 'llvm-config'\n",
      "  \u001b[31m   \u001b[0m \n",
      "  \u001b[31m   \u001b[0m During handling of the above exception, another exception occurred:\n",
      "  \u001b[31m   \u001b[0m \n",
      "  \u001b[31m   \u001b[0m Traceback (most recent call last):\n",
      "  \u001b[31m   \u001b[0m   File \"/private/var/folders/d8/j5_fyf8941j_492zvf8948y40000gn/T/pip-install-9w3wjdjf/llvmlite_96d9b3e9e8b947f498426b673158d93c/ffi/build.py\", line 168, in <module>\n",
      "  \u001b[31m   \u001b[0m     main()\n",
      "  \u001b[31m   \u001b[0m   File \"/private/var/folders/d8/j5_fyf8941j_492zvf8948y40000gn/T/pip-install-9w3wjdjf/llvmlite_96d9b3e9e8b947f498426b673158d93c/ffi/build.py\", line 162, in main\n",
      "  \u001b[31m   \u001b[0m     main_posix('osx', '.dylib')\n",
      "  \u001b[31m   \u001b[0m   File \"/private/var/folders/d8/j5_fyf8941j_492zvf8948y40000gn/T/pip-install-9w3wjdjf/llvmlite_96d9b3e9e8b947f498426b673158d93c/ffi/build.py\", line 107, in main_posix\n",
      "  \u001b[31m   \u001b[0m     raise RuntimeError(\"%s failed executing, please point LLVM_CONFIG \"\n",
      "  \u001b[31m   \u001b[0m RuntimeError: llvm-config failed executing, please point LLVM_CONFIG to the path for llvm-config\n",
      "  \u001b[31m   \u001b[0m error: command '/Users/carstenschnober/opt/anaconda3/envs/SoS/bin/python' failed with exit code 1\n",
      "  \u001b[31m   \u001b[0m \u001b[31m[end of output]\u001b[0m\n",
      "  \n",
      "  \u001b[1;35mnote\u001b[0m: This error originates from a subprocess, and is likely not a problem with pip.\n",
      "\u001b[31m  ERROR: Failed building wheel for llvmlite\u001b[0m\u001b[31m\n",
      "\u001b[0m\u001b[?25h  Running setup.py clean for llvmlite\n",
      "Failed to build numba llvmlite\n",
      "Installing collected packages: llvmlite, numba, umap-learn\n",
      "  Attempting uninstall: llvmlite\n",
      "    Found existing installation: llvmlite 0.39.1\n",
      "    Uninstalling llvmlite-0.39.1:\n",
      "      Successfully uninstalled llvmlite-0.39.1\n",
      "  Running setup.py install for llvmlite ... \u001b[?25lerror\n",
      "  \u001b[1;31merror\u001b[0m: \u001b[1msubprocess-exited-with-error\u001b[0m\n",
      "  \n",
      "  \u001b[31m×\u001b[0m \u001b[32mRunning setup.py install for llvmlite\u001b[0m did not run successfully.\n",
      "  \u001b[31m│\u001b[0m exit code: \u001b[1;36m1\u001b[0m\n",
      "  \u001b[31m╰─>\u001b[0m \u001b[31m[31 lines of output]\u001b[0m\n",
      "  \u001b[31m   \u001b[0m running install\n",
      "  \u001b[31m   \u001b[0m /Users/carstenschnober/opt/anaconda3/envs/SoS/lib/python3.10/site-packages/setuptools/command/install.py:34: SetuptoolsDeprecationWarning: setup.py install is deprecated. Use build and pip and other standards-based tools.\n",
      "  \u001b[31m   \u001b[0m   warnings.warn(\n",
      "  \u001b[31m   \u001b[0m running build\n",
      "  \u001b[31m   \u001b[0m got version from file /private/var/folders/d8/j5_fyf8941j_492zvf8948y40000gn/T/pip-install-9w3wjdjf/llvmlite_96d9b3e9e8b947f498426b673158d93c/llvmlite/_version.py {'version': '0.31.0', 'full': 'fe7d985f6421d87f613bd414479d29d912771562'}\n",
      "  \u001b[31m   \u001b[0m running build_ext\n",
      "  \u001b[31m   \u001b[0m /Users/carstenschnober/opt/anaconda3/envs/SoS/bin/python /private/var/folders/d8/j5_fyf8941j_492zvf8948y40000gn/T/pip-install-9w3wjdjf/llvmlite_96d9b3e9e8b947f498426b673158d93c/ffi/build.py\n",
      "  \u001b[31m   \u001b[0m LLVM version... Traceback (most recent call last):\n",
      "  \u001b[31m   \u001b[0m   File \"/private/var/folders/d8/j5_fyf8941j_492zvf8948y40000gn/T/pip-install-9w3wjdjf/llvmlite_96d9b3e9e8b947f498426b673158d93c/ffi/build.py\", line 105, in main_posix\n",
      "  \u001b[31m   \u001b[0m     out = subprocess.check_output([llvm_config, '--version'])\n",
      "  \u001b[31m   \u001b[0m   File \"/Users/carstenschnober/opt/anaconda3/envs/SoS/lib/python3.10/subprocess.py\", line 420, in check_output\n",
      "  \u001b[31m   \u001b[0m     return run(*popenargs, stdout=PIPE, timeout=timeout, check=True,\n",
      "  \u001b[31m   \u001b[0m   File \"/Users/carstenschnober/opt/anaconda3/envs/SoS/lib/python3.10/subprocess.py\", line 501, in run\n",
      "  \u001b[31m   \u001b[0m     with Popen(*popenargs, **kwargs) as process:\n",
      "  \u001b[31m   \u001b[0m   File \"/Users/carstenschnober/opt/anaconda3/envs/SoS/lib/python3.10/subprocess.py\", line 969, in __init__\n",
      "  \u001b[31m   \u001b[0m     self._execute_child(args, executable, preexec_fn, close_fds,\n",
      "  \u001b[31m   \u001b[0m   File \"/Users/carstenschnober/opt/anaconda3/envs/SoS/lib/python3.10/subprocess.py\", line 1845, in _execute_child\n",
      "  \u001b[31m   \u001b[0m     raise child_exception_type(errno_num, err_msg, err_filename)\n",
      "  \u001b[31m   \u001b[0m FileNotFoundError: [Errno 2] No such file or directory: 'llvm-config'\n",
      "  \u001b[31m   \u001b[0m \n",
      "  \u001b[31m   \u001b[0m During handling of the above exception, another exception occurred:\n",
      "  \u001b[31m   \u001b[0m \n",
      "  \u001b[31m   \u001b[0m Traceback (most recent call last):\n",
      "  \u001b[31m   \u001b[0m   File \"/private/var/folders/d8/j5_fyf8941j_492zvf8948y40000gn/T/pip-install-9w3wjdjf/llvmlite_96d9b3e9e8b947f498426b673158d93c/ffi/build.py\", line 168, in <module>\n",
      "  \u001b[31m   \u001b[0m     main()\n",
      "  \u001b[31m   \u001b[0m   File \"/private/var/folders/d8/j5_fyf8941j_492zvf8948y40000gn/T/pip-install-9w3wjdjf/llvmlite_96d9b3e9e8b947f498426b673158d93c/ffi/build.py\", line 162, in main\n",
      "  \u001b[31m   \u001b[0m     main_posix('osx', '.dylib')\n",
      "  \u001b[31m   \u001b[0m   File \"/private/var/folders/d8/j5_fyf8941j_492zvf8948y40000gn/T/pip-install-9w3wjdjf/llvmlite_96d9b3e9e8b947f498426b673158d93c/ffi/build.py\", line 107, in main_posix\n",
      "  \u001b[31m   \u001b[0m     raise RuntimeError(\"%s failed executing, please point LLVM_CONFIG \"\n",
      "  \u001b[31m   \u001b[0m RuntimeError: llvm-config failed executing, please point LLVM_CONFIG to the path for llvm-config\n",
      "  \u001b[31m   \u001b[0m error: command '/Users/carstenschnober/opt/anaconda3/envs/SoS/bin/python' failed with exit code 1\n",
      "  \u001b[31m   \u001b[0m \u001b[31m[end of output]\u001b[0m\n",
      "  \n",
      "  \u001b[1;35mnote\u001b[0m: This error originates from a subprocess, and is likely not a problem with pip.\n",
      "\u001b[?25h  Rolling back uninstall of llvmlite\n",
      "  Moving to /Users/carstenschnober/opt/anaconda3/envs/SoS/lib/python3.10/site-packages/llvmlite-0.39.1.dist-info/\n",
      "   from /Users/carstenschnober/opt/anaconda3/envs/SoS/lib/python3.10/site-packages/~lvmlite-0.39.1.dist-info\n",
      "  Moving to /Users/carstenschnober/opt/anaconda3/envs/SoS/lib/python3.10/site-packages/llvmlite/\n",
      "   from /Users/carstenschnober/opt/anaconda3/envs/SoS/lib/python3.10/site-packages/~lvmlite\n",
      "\u001b[1;31merror\u001b[0m: \u001b[1mlegacy-install-failure\u001b[0m\n",
      "\n",
      "\u001b[31m×\u001b[0m Encountered error while trying to install package.\n",
      "\u001b[31m╰─>\u001b[0m llvmlite\n",
      "\n",
      "\u001b[1;35mnote\u001b[0m: This is an issue with the package mentioned above, not pip.\n",
      "\u001b[1;36mhint\u001b[0m: See above for output from the failure.\n",
      "Note: you may need to restart the kernel to use updated packages.\n"
     ]
    }
   ],
   "source": [
    "%pip install transformers datasets\n",
    "%pip install torch\n",
    "%pip install matplotlib\n",
    "%pip install umap-learn numba==0.48.0"
   ]
  },
  {
   "cell_type": "code",
   "execution_count": 2,
   "metadata": {},
   "outputs": [],
   "source": [
    "import numpy as np\n",
    "import matplotlib.pyplot as plt"
   ]
  },
  {
   "cell_type": "markdown",
   "metadata": {},
   "source": [
    "# Load Language Model"
   ]
  },
  {
   "cell_type": "code",
   "execution_count": 3,
   "metadata": {},
   "outputs": [],
   "source": [
    "#MODEL_NAME = \"DTAI-KULeuven/robbertje-1-gb-non-shuffled\" # NL MODEL TODO: is the model trained on lowercased data?\n",
    "\n",
    "MODEL_NAME = \"roberta-base\"\n",
    "\n",
    "#MODEL_NAME = \"xlm-roberta-base\" # cross-lingual mode (https://huggingface.co/xlm-roberta-base)\n"
   ]
  },
  {
   "cell_type": "code",
   "execution_count": 4,
   "metadata": {},
   "outputs": [
    {
     "name": "stderr",
     "output_type": "stream",
     "text": [
      "/Users/carstenschnober/opt/anaconda3/envs/SoS/lib/python3.10/site-packages/tqdm/auto.py:22: TqdmWarning: IProgress not found. Please update jupyter and ipywidgets. See https://ipywidgets.readthedocs.io/en/stable/user_install.html\n",
      "  from .autonotebook import tqdm as notebook_tqdm\n",
      "Some weights of the model checkpoint at roberta-base were not used when initializing RobertaModel: ['lm_head.layer_norm.weight', 'lm_head.decoder.weight', 'lm_head.layer_norm.bias', 'lm_head.dense.weight', 'lm_head.bias', 'lm_head.dense.bias']\n",
      "- This IS expected if you are initializing RobertaModel from the checkpoint of a model trained on another task or with another architecture (e.g. initializing a BertForSequenceClassification model from a BertForPreTraining model).\n",
      "- This IS NOT expected if you are initializing RobertaModel from the checkpoint of a model that you expect to be exactly identical (initializing a BertForSequenceClassification model from a BertForSequenceClassification model).\n"
     ]
    }
   ],
   "source": [
    "from transformers import RobertaModel, AutoTokenizer, RobertaPreTrainedModel, BertModel, GPT2Model, pipeline\n",
    "from transformers.pipelines.feature_extraction import FeatureExtractionPipeline\n",
    "\n",
    "tokenizer = AutoTokenizer.from_pretrained(MODEL_NAME)\n",
    "#model = RobertaModel.from_pretrained(MODEL_NAME)\n",
    "\n",
    "# FIXME: cannot use pipeline for extracting layers other than the last one\n",
    "model: FeatureExtractionPipeline = pipeline('feature-extraction', model=MODEL_NAME, tokenizer=tokenizer)"
   ]
  },
  {
   "cell_type": "markdown",
   "metadata": {},
   "source": [
    "# Load Data"
   ]
  },
  {
   "cell_type": "code",
   "execution_count": 5,
   "metadata": {},
   "outputs": [],
   "source": [
    "from pathlib import Path\n",
    "\n",
    "DATA_DIR = Path.cwd() / \"data\""
   ]
  },
  {
   "cell_type": "markdown",
   "metadata": {},
   "source": [
    "## SemEval 2020 (C)COHA corpus"
   ]
  },
  {
   "cell_type": "markdown",
   "metadata": {},
   "source": [
    "### Download"
   ]
  },
  {
   "cell_type": "code",
   "execution_count": 6,
   "metadata": {},
   "outputs": [
    {
     "name": "stdout",
     "output_type": "stream",
     "text": [
      "Directory '/Users/carstenschnober/Documents/SemanticsOfSustainability/workspace/ContextualLM/data/semeval2020_ulscd_eng' already exists, skipping corpus download.\n"
     ]
    }
   ],
   "source": [
    "from io import BytesIO\n",
    "from zipfile import ZipFile\n",
    "import urllib\n",
    "\n",
    "SEMEVAL_DATA_URL = \"https://www2.ims.uni-stuttgart.de/data/sem-eval-ulscd/semeval2020_ulscd_eng.zip\"\n",
    "\n",
    "SEMEVAL2020_DIR = DATA_DIR / \"semeval2020_ulscd_eng\"\n",
    "\n",
    "if SEMEVAL2020_DIR.is_dir():\n",
    "    print(f\"Directory '{SEMEVAL2020_DIR}' already exists, skipping corpus download.\")\n",
    "else:\n",
    "    with urllib.request.urlopen(SEMEVAL_DATA_URL) as f:\n",
    "        with ZipFile(BytesIO(f.read())) as zipfile:\n",
    "            zipfile.extractall(DATA_DIR)\n",
    "\n",
    "assert SEMEVAL2020_DIR.is_dir(), f\"Directory does not exist: '{SEMEVAL2020_DIR}'\"\n"
   ]
  },
  {
   "cell_type": "code",
   "execution_count": 7,
   "metadata": {},
   "outputs": [],
   "source": [
    "CORPUS1_DIR = SEMEVAL2020_DIR / 'corpus1'\n",
    "CORPUS2_DIR = SEMEVAL2020_DIR / 'corpus2'\n",
    "TRUTH_DIR = SEMEVAL2020_DIR / 'truth'\n",
    "\n",
    "assert CORPUS1_DIR.is_dir(), f\"Directory does not exist: '{CORPUS1_DIR}'\"\n",
    "assert CORPUS2_DIR.is_dir(), f\"Directory does not exist: '{CORPUS2_DIR}'\"\n",
    "assert TRUTH_DIR.is_dir(), f\"Directory does not exist: '{TRUTH_DIR}'\"\n"
   ]
  },
  {
   "cell_type": "markdown",
   "metadata": {},
   "source": [
    "### Read"
   ]
  },
  {
   "cell_type": "code",
   "execution_count": 8,
   "metadata": {},
   "outputs": [],
   "source": [
    "TOKENS_FILE1 = CORPUS1_DIR / \"token\" / \"ccoha1.txt.gz\"\n",
    "TOKENS_FILE2 = CORPUS2_DIR / \"token\" / \"ccoha2.txt.gz\"\n",
    "\n",
    "assert TOKENS_FILE1.is_file()\n",
    "assert TOKENS_FILE2.is_file()"
   ]
  },
  {
   "cell_type": "code",
   "execution_count": 9,
   "metadata": {},
   "outputs": [],
   "source": [
    "import gzip\n",
    "\n",
    "with gzip.open(TOKENS_FILE1, 'rt') as f:\n",
    "    sentences_1810 = f.readlines()\n",
    "\n",
    "assert len(sentences_1810) == 253644\n",
    "\n",
    "with gzip.open(TOKENS_FILE2, 'rt') as f:\n",
    "    sentences_1960 = f.readlines()\n",
    "\n",
    "assert len(sentences_1960) == 353692"
   ]
  },
  {
   "cell_type": "markdown",
   "metadata": {},
   "source": [
    "## COHA Corpus (Sample)"
   ]
  },
  {
   "cell_type": "markdown",
   "metadata": {},
   "source": [
    "### Download"
   ]
  },
  {
   "cell_type": "code",
   "execution_count": 10,
   "metadata": {},
   "outputs": [
    {
     "name": "stdout",
     "output_type": "stream",
     "text": [
      "Directory '/Users/carstenschnober/Documents/SemanticsOfSustainability/workspace/ContextualLM/data/COHA' already exists: [Errno 17] File exists: '/Users/carstenschnober/Documents/SemanticsOfSustainability/workspace/ContextualLM/data/COHA'. Skipping corpus download.\n"
     ]
    }
   ],
   "source": [
    "#COHA_DATABASE_URL = 'https://www.corpusdata.org/coha/samples/database.zip'\n",
    "COHA_TEXT_URL = 'https://www.corpusdata.org/coha/samples/text.zip'\n",
    "\n",
    "COHA_DIR = DATA_DIR / \"COHA\"\n",
    "\n",
    "try:\n",
    "    COHA_DIR.mkdir(parents=True, exist_ok=False)\n",
    "except OSError as e:\n",
    "    print(f\"Directory '{COHA_DIR}' already exists: {str(e)}. Skipping corpus download.\")\n",
    "else:\n",
    "    with urllib.request.urlopen(COHA_TEXT_URL) as f:\n",
    "        with ZipFile(BytesIO(f.read())) as zipfile:\n",
    "            zipfile.extractall(COHA_DIR)\n",
    "\n",
    "assert COHA_DIR.is_dir()"
   ]
  },
  {
   "cell_type": "markdown",
   "metadata": {},
   "source": [
    "### Read"
   ]
  },
  {
   "cell_type": "code",
   "execution_count": 11,
   "metadata": {},
   "outputs": [],
   "source": [
    "from functools import cached_property\n",
    "import logging\n",
    "import re\n",
    "from typing import Generator, List\n",
    "\n",
    "FILENAME_PATTERN = r\"([a-z]{2,4})_(\\d{4})_(\\d{3,6})\\.txt\"\n",
    "SENTENCE_PATTERN = r\"\\s*(.*?\\s[\\.!?\\n])\"\n",
    "\n",
    "class CohaDoc:\n",
    "    _encoding = 'UTF-8'\n",
    "\n",
    "    def __init__(self, path: Path):\n",
    "        self._path = path\n",
    "\n",
    "        try:\n",
    "            genre, year, id = re.search(FILENAME_PATTERN, self._path.name).groups()\n",
    "        except AttributeError as e:\n",
    "            raise ValueError(f\"Could not parse path: '{path}': {str(e)}\")\n",
    "        \n",
    "        self._genre = genre\n",
    "        self._year = int(year)\n",
    "        self._id = int(id)\n",
    "\n",
    "    def __repr__(self) -> str:\n",
    "        return str(self._path.name)\n",
    "\n",
    "    @property\n",
    "    def genre(self) -> str:\n",
    "        return self._genre\n",
    "\n",
    "    @property\n",
    "    def year(self) -> int:\n",
    "        return self._year\n",
    "\n",
    "    @property\n",
    "    def id(self) -> int:\n",
    "        return self._id\n",
    "    \n",
    "    @cached_property\n",
    "    def text(self):\n",
    "        with open(self._path, 'rt', encoding=self._encoding) as f:\n",
    "            return f.read()\n",
    "\n",
    "    def sentences(self):\n",
    "        sentences = re.findall(SENTENCE_PATTERN, self.text)\n",
    "        assert sentences[0].strip() == f\"@@{self._id}\", f\"First line is expected to match document ID ('{self._id}'), but is: {sentences[0]}\"\n",
    "        return sentences[1:]\n",
    "\n",
    "    def find_sentences(self, term: str) -> List[str]:\n",
    "        return [\n",
    "            sentence\n",
    "            for sentence in self.sentences()\n",
    "            if term in sentence\n",
    "        ]\n",
    "        \n",
    "    def clean_sentences(self):\n",
    "        # TODO\n",
    "        return NotImplemented\n"
   ]
  },
  {
   "cell_type": "code",
   "execution_count": 12,
   "metadata": {},
   "outputs": [],
   "source": [
    "coha_docs = [CohaDoc(file) for file in COHA_DIR.glob('*.txt')]\n",
    "\n",
    "assert len(coha_docs) == 1144"
   ]
  },
  {
   "cell_type": "code",
   "execution_count": 13,
   "metadata": {},
   "outputs": [
    {
     "data": {
      "text/plain": [
       "(array([ 12.,  13.,  24.,  50.,  60., 156., 206., 188., 247., 188.]),\n",
       " array([1817. , 1836.2, 1855.4, 1874.6, 1893.8, 1913. , 1932.2, 1951.4,\n",
       "        1970.6, 1989.8, 2009. ]),\n",
       " <BarContainer object of 10 artists>)"
      ]
     },
     "execution_count": 13,
     "metadata": {},
     "output_type": "execute_result"
    },
    {
     "data": {
      "image/png": "[encoded data removed]",
      "text/plain": [
       "<Figure size 640x480 with 1 Axes>"
      ]
     },
     "metadata": {},
     "output_type": "display_data"
    }
   ],
   "source": [
    "plt.hist([c.year for c in coha_docs])"
   ]
  },
  {
   "cell_type": "code",
   "execution_count": 14,
   "metadata": {},
   "outputs": [
    {
     "data": {
      "text/plain": [
       "(array([586.,   0.,   0., 424.,   0.,   0., 108.,   0.,   0.,  26.]),\n",
       " array([0. , 0.3, 0.6, 0.9, 1.2, 1.5, 1.8, 2.1, 2.4, 2.7, 3. ]),\n",
       " <BarContainer object of 10 artists>)"
      ]
     },
     "execution_count": 14,
     "metadata": {},
     "output_type": "execute_result"
    },
    {
     "data": {
      "image/png": "[encoded data removed]",
      "text/plain": [
       "<Figure size 640x480 with 1 Axes>"
      ]
     },
     "metadata": {},
     "output_type": "display_data"
    }
   ],
   "source": [
    "plt.hist([c.genre for c in coha_docs])"
   ]
  },
  {
   "cell_type": "markdown",
   "metadata": {},
   "source": [
    "# Embeddings"
   ]
  },
  {
   "cell_type": "markdown",
   "metadata": {},
   "source": [
    "## COHA"
   ]
  },
  {
   "cell_type": "code",
   "execution_count": 15,
   "metadata": {},
   "outputs": [],
   "source": [
    "TERM1 = 'Amsterdam'\n",
    "TERM2 = 'America'"
   ]
  },
  {
   "cell_type": "code",
   "execution_count": 16,
   "metadata": {},
   "outputs": [
    {
     "name": "stderr",
     "output_type": "stream",
     "text": [
      "  4%|▍         | 44/1144 [00:00<00:05, 193.57doc/s]"
     ]
    },
    {
     "name": "stdout",
     "output_type": "stream",
     "text": [
      "fic_1979_10650.txt\n",
      "['They had agreed to be philosophicalabout their baggage  --  Air France could keep it for them in Amsterdam , hopefully under lock and key  --  you could hardly expect hijackers to be interested in whether you had your nighties or clean shirts .', 'He was touched by it in a way , remembering himself when he had first come to Amsterdam as an apprentice electricianand looked with wonder at @ @ @ @ @ @ @ @ @ @ the Rijksmuseum .', 'The manipulative hand of some firm of Amsterdam architects  --  planners for @ @ @ @ @ @ @ @ @ @ , where the new television throned and a stack of religious newspapers seemed to wait for banishment .', 'Early Sunday morning , Elfride and Horst had arrived at the farmhouse in the by-now-familiar truck , explaining that the Dutch crew would follow : they had been held up in Amsterdam by trouble with one of the cameras ; probably the family would cross them on the road .', 'In his young days in Amsterdam , when the word \" waarde \" had sounded in his brain , it had not once occurred to him to work to become rich so that he could own a fine canal house with pictures in it .']\n"
     ]
    },
    {
     "name": "stderr",
     "output_type": "stream",
     "text": [
      " 37%|███▋      | 426/1144 [00:00<00:01, 625.24doc/s]"
     ]
    },
    {
     "name": "stdout",
     "output_type": "stream",
     "text": [
      "mag_1945_158950.txt\n",
      "['<P> Last week , while awaiting trial in an Amsterdam jail ( for collaboration with the Nazis ) , van Meegeren was under close watch by the art experts themselves , whose own prestige was involved .', 'From the profits of his \" discovered Vermeers \" he moved into an Amsterdam mansion .']\n",
      "mag_1998_400150.txt\n",
      "['// Another Taufschein artist , Anton Rehm , arrived in Philadelphia from Amsterdam about 1816 .']\n"
     ]
    },
    {
     "name": "stderr",
     "output_type": "stream",
     "text": [
      " 49%|████▉     | 560/1144 [00:01<00:01, 571.82doc/s]"
     ]
    },
    {
     "name": "stdout",
     "output_type": "stream",
     "text": [
      "mag_1965_492050.txt\n",
      "['The first rehearsals took place in an old theater on the seventh floor of the New Amsterdam movie house at Broadway and 42nd Street .', 'The scene was nearly identical to the one on the Amsterdam Roof : steam pipes against a brick wall behind the stage , the same harsh light @ @ @ @ @ @ @ @ @ @ month of rehearsals , had become bored .', '1 : URI billboard pntilica y for 1611y. lie had been wail the production since the beginning at the Amsterdam Root Although never fond Of the play , he liked many of the people associated with it .']\n",
      "news_1940_705050.txt\n",
      "['A flier assigned to help blast this plant dropped only one \" stick \" of high explosives , then flew to Amsterdam , where he released the rest of his destructive cargo on the famous Fokker airplane works .']\n",
      "mag_1821_553350.txt\n",
      "['From various sources he collected a sufficient sum to pay his expenses to Amsterdam , and trusting in Providence for the means of continuing his journey after he should arrive there , he set off in the diligence for Brussels , intending to proceed by land to Lubeck and there embark for the metropolis of Russia .', 'Our adventurer having with difficulty reached Amsterdam , found himself reduced again to the chapter of expedients ,  --  a situation which it would appear from the practice of some powerful emnires , is attended with less embarrassment in public // affairs than it generally is in private .', 'iViustel , a Frenchman born in Normandy , after obtaining some success in the poetical line , had abandoned the muses and settled quietly at Amsterdam in the capacity we have mentioned @ @ @ @ @ @ @ @ @ @ of the great personages whose actions he recorded , and whose good and ill fortune were equally profitable to him , he had spent his life happily in the society of an excellent wife , and in a sort of epicurean retirement .', 'He obtained from Mustel a supply of money to pay his expenses as far as Lubeck , and left him with some regret to pursue the chase of @ @ @ @ @ @ @ @ @ @ to return to Amsterdam , and found to his surprise that nobody could tell him any thing of the philosophic journalist .']\n",
      "fic_1920_550.txt\n",
      "[\"In a little while they 'll be turning up in Amsterdam to be cut  --  some of them .\"]\n",
      "mag_1976_287050.txt\n",
      "['SU 229 prepared to take off from Moscow to Amsterdam last week , Russian Writer Andrei Amalrik tucked his Siamese cat Disa under his arm while his artist wife Gyusel accepted a farewell bouquet of red peonies .', '<P> On his arrival in Amsterdam , Amalrik said he looked forward to a \" normal life , \" planned to write a book on political terrorism and to lecture in Holland and the U.S. He also expressed fears for the new crop of dissidents he left @ @ @ @ @ @ @ @ @ @ methods , \" he said , citing the recent fatal mugging of Poet Konstantin Boga-tyryov , the Russian translator of Rainer Maria Rilke who had protested against Soviet civil rights violations .']\n"
     ]
    },
    {
     "name": "stderr",
     "output_type": "stream",
     "text": [
      " 64%|██████▍   | 733/1144 [00:01<00:00, 550.73doc/s]"
     ]
    },
    {
     "name": "stdout",
     "output_type": "stream",
     "text": [
      "news_1973_730850.txt\n",
      "['The American currency set new lows in Frankfurt , Paris , Zurich , Amsterdam , Brussels , Oslo , Milan , and Stockholm .']\n",
      "mag_1928_164350.txt\n",
      "['Amsterdam is the city of drab workmen who cut and polish brightest diamonds , the home of landlubbing watermen who pole barges along slow canals , the habitat of buxom and sensible stenographers who pedal to work each morning upon thousands of bicycles .', 'Amsterdam , in short , is the last place where one would expect to hear-during the decent forenoon hours , and from a stately mansion-a sequence of revolver shots .', 'In Amsterdam the buzz of tickers ceased to have meaning , last week , for Mevrouw Van Eeghen .']\n",
      "fic_1919_1550.txt\n",
      "['\" \" Babies , \" she replies demurely ; \" two babies from Amsterdam .', 'So the Amsterdam committee has sent them here .', '\" By all the gods , da  --  those Amsterdammers !']\n",
      "news_1931_698050.txt\n",
      "['This brings the London rate high aboire Paris , Amsterdam , Zurich , New York or Brussels , and , oac : confidence returns , it should tempt money back to London again .']\n"
     ]
    },
    {
     "name": "stderr",
     "output_type": "stream",
     "text": [
      " 80%|███████▉  | 915/1144 [00:01<00:00, 539.44doc/s]"
     ]
    },
    {
     "name": "stdout",
     "output_type": "stream",
     "text": [
      "news_1907_781050.txt\n",
      "['Accompanied by his wife , Miss May Frick of Baltimore , and a second guest , a man , Mr. Varnum started last night from his home , at 36 East Fifty-second Street , in his limousine car for the New Amsterdam Theatre .']\n"
     ]
    },
    {
     "name": "stderr",
     "output_type": "stream",
     "text": [
      " 92%|█████████▏| 1050/1144 [00:02<00:00, 478.10doc/s]"
     ]
    },
    {
     "name": "stdout",
     "output_type": "stream",
     "text": [
      "nf_1909_774350.txt\n",
      "['Some years ago the city of Amsterdam found that the Zuider Zee had become too shallow to accommodate ocean vessels , and the city was threatened with the loss of its ocean commerce .', 'This waterway has assured Amsterdam continued growth and prosperity .']\n",
      "mag_1957_132450.txt\n",
      "['\" // He moved up on through the Yankee chain , playing at Norfolk and Amsterdam of the Canadian-American League in \\' 47 , Quincy of the Three-Eye League in \\' 48 and Kansas City in \\' 49-50 .']\n",
      "news_1908_677950.txt\n",
      "['500 shares of the New Amsterdam National Bank , and , 100 shares of Garfield National Bank stock .']\n"
     ]
    },
    {
     "name": "stderr",
     "output_type": "stream",
     "text": [
      "100%|██████████| 1144/1144 [00:02<00:00, 518.83doc/s]\n"
     ]
    }
   ],
   "source": [
    "\n",
    "from tqdm import tqdm\n",
    "\n",
    "\n",
    "for doc in tqdm(coha_docs, unit='doc'):\n",
    "    if matches := doc.find_sentences(TERM1):\n",
    "        print(doc)\n",
    "        print(matches)\n"
   ]
  },
  {
   "cell_type": "markdown",
   "metadata": {},
   "source": [
    "# Embeddings"
   ]
  },
  {
   "cell_type": "code",
   "execution_count": 17,
   "metadata": {},
   "outputs": [],
   "source": [
    "import collections\n",
    "from dataclasses import dataclass\n",
    "from functools import cache\n",
    "from itertools import islice\n",
    "from typing import Iterable, List, Optional, Tuple\n",
    "from transformers.pipelines.feature_extraction import FeatureExtractionPipeline\n",
    "\n",
    "def sliding_window(iterable, n):\n",
    "    # From https://docs.python.org/3/library/itertools.html#itertools-recipes\n",
    "    # sliding_window('ABCDEFG', 4) --> ABCD BCDE CDEF DEFG\n",
    "    it = iter(iterable)\n",
    "    window = collections.deque(islice(it, n), maxlen=n)\n",
    "    if len(window) == n:\n",
    "        yield tuple(window)\n",
    "    for x in it:\n",
    "        window.append(x)\n",
    "        yield tuple(window)\n",
    "\n",
    "\n",
    "@dataclass\n",
    "class Sentence:\n",
    "    text: str\n",
    "    coha_doc: CohaDoc\n",
    "    model: FeatureExtractionPipeline\n",
    "\n",
    "    def __contains__(self, s: str):\n",
    "        return s in self.text\n",
    "\n",
    "    @property\n",
    "    def year(self) -> Optional[int]:\n",
    "        return self.coha_doc.year\n",
    "\n",
    "    @property\n",
    "    def tokenizer(self):\n",
    "        return self.model.tokenizer\n",
    "\n",
    "    @cached_property\n",
    "    def _embeddings(self):\n",
    "        return self.model(self.text)[0]\n",
    "\n",
    "    @cached_property\n",
    "    def _token_ids(self):\n",
    "        return self.tokenizer(self.text)['input_ids']\n",
    "\n",
    "    def embeddings_matrix(self, token: str) -> List[np.array]:\n",
    "        return [\n",
    "                self._aggregate_embeddings(token_i, token_length)\n",
    "                for token_i, token_length in self._find_token(token, self._token_ids)\n",
    "            ]\n",
    "\n",
    "    @staticmethod    \n",
    "    def _find_token(token: str, token_ids: List[int], max_n: int = 5) -> Tuple[int, int]:\n",
    "        \"\"\"\n",
    "        Find sequences of (sub-word) tokens that match a (word) token if merged\n",
    "\n",
    "        Args:\n",
    "            - token: a token (word) to find, exact match\n",
    "            - token_ids: a sequence of token ids generated by a transformer tokenizer\n",
    "            - max_n: the maximum number of sub-word tokens to be merged\n",
    "        Yields: Tuple[int, int]: the token index and the length (number of tokens to be merged)\n",
    "        \"\"\"\n",
    "        _tokens = model.tokenizer.convert_ids_to_tokens(token_ids)\n",
    "\n",
    "        for n in range(max_n, 0, -1):\n",
    "            for i, window in enumerate(sliding_window(_tokens, n)):\n",
    "                _token = model.tokenizer.convert_tokens_to_string(window)\n",
    "                if _token.strip() == token:\n",
    "                    yield i, n\n",
    "\n",
    "    def _aggregate_embeddings(self, token_start_index: int, token_length: int) -> np.array:\n",
    "        if token_length == 1:\n",
    "            return np.array(self._embeddings[token_start_index])\n",
    "        else:\n",
    "            return np.array(self._embeddings[token_start_index:token_start_index+token_length]).mean(axis=0)\n",
    "\n"
   ]
  },
  {
   "cell_type": "code",
   "execution_count": 18,
   "metadata": {},
   "outputs": [
    {
     "name": "stdout",
     "output_type": "stream",
     "text": [
      "Sentence(text='He had had little involvement in politics and avoided the public spotlight , preferring instead to spend his free time tending the roses at his country home southwest of Paris .', coha_doc=mag_1986_333750.txt, model=<transformers.pipelines.feature_extraction.FeatureExtractionPipeline object at 0x7f9cb13f59c0>)\n"
     ]
    }
   ],
   "source": [
    "import random\n",
    "\n",
    "random.seed(0)\n",
    "\n",
    "doc = random.choice(coha_docs)\n",
    "s = random.choice(doc.sentences())\n",
    "\n",
    "sentence = Sentence(s, doc, model)\n",
    "print(sentence)"
   ]
  },
  {
   "cell_type": "code",
   "execution_count": 19,
   "metadata": {},
   "outputs": [
    {
     "data": {
      "text/plain": [
       "(2, 768)"
      ]
     },
     "execution_count": 19,
     "metadata": {},
     "output_type": "execute_result"
    }
   ],
   "source": [
    "np.array(sentence.embeddings_matrix('the')).shape"
   ]
  },
  {
   "cell_type": "code",
   "execution_count": 20,
   "metadata": {},
   "outputs": [
    {
     "name": "stderr",
     "output_type": "stream",
     "text": [
      "100%|██████████| 1144/1144 [00:00<00:00, 1573.32doc/s]\n"
     ]
    }
   ],
   "source": [
    "from tqdm import tqdm\n",
    "\n",
    "term1_sentences: List[Sentence] = [\n",
    "    Sentence(s, doc, model)\n",
    "    for doc in tqdm(coha_docs, unit='doc')\n",
    "    for s in doc.find_sentences(TERM1)\n",
    "]"
   ]
  },
  {
   "cell_type": "code",
   "execution_count": 21,
   "metadata": {},
   "outputs": [
    {
     "name": "stderr",
     "output_type": "stream",
     "text": [
      "100%|██████████| 1144/1144 [00:00<00:00, 1555.57doc/s]\n"
     ]
    }
   ],
   "source": [
    "from tqdm import tqdm\n",
    "\n",
    "term2_sentences: List[Sentence] = [\n",
    "    Sentence(s, doc, model)\n",
    "    for doc in tqdm(coha_docs, unit='doc')\n",
    "    for s in doc.find_sentences(TERM2)\n",
    "]"
   ]
  },
  {
   "cell_type": "markdown",
   "metadata": {},
   "source": [
    "## Plot Embeddings"
   ]
  },
  {
   "cell_type": "code",
   "execution_count": 22,
   "metadata": {},
   "outputs": [
    {
     "name": "stderr",
     "output_type": "stream",
     "text": [
      "100%|██████████| 32/32 [00:07<00:00,  4.11sentence/s]\n"
     ]
    },
    {
     "data": {
      "text/plain": [
       "(31, 768)"
      ]
     },
     "execution_count": 22,
     "metadata": {},
     "output_type": "execute_result"
    }
   ],
   "source": [
    "embeddings1 = np.array(\n",
    "    [\n",
    "        embedding\n",
    "        for sentence in tqdm(term1_sentences, unit='sentence')\n",
    "        for embedding in sentence.embeddings_matrix(TERM1)\n",
    "    ]\n",
    ")\n",
    "embeddings1.shape"
   ]
  },
  {
   "cell_type": "code",
   "execution_count": 23,
   "metadata": {},
   "outputs": [
    {
     "name": "stderr",
     "output_type": "stream",
     "text": [
      "100%|██████████| 2401/2401 [02:50<00:00, 14.10sentence/s]\n"
     ]
    },
    {
     "data": {
      "text/plain": [
       "(684, 768)"
      ]
     },
     "execution_count": 23,
     "metadata": {},
     "output_type": "execute_result"
    }
   ],
   "source": [
    "embeddings2 = np.array(\n",
    "    [\n",
    "        embedding\n",
    "        for sentence in tqdm(term2_sentences, unit='sentence')\n",
    "        for embedding in sentence.embeddings_matrix(TERM2)\n",
    "    ]\n",
    ")\n",
    "embeddings2.shape"
   ]
  },
  {
   "cell_type": "code",
   "execution_count": 24,
   "metadata": {},
   "outputs": [
    {
     "data": {
      "text/plain": [
       "(715, 768)"
      ]
     },
     "execution_count": 24,
     "metadata": {},
     "output_type": "execute_result"
    }
   ],
   "source": [
    "all_embeddings = np.concatenate((embeddings1, embeddings2))\n",
    "all_embeddings.shape"
   ]
  },
  {
   "cell_type": "markdown",
   "metadata": {},
   "source": [
    "### PCA"
   ]
  },
  {
   "cell_type": "code",
   "execution_count": 25,
   "metadata": {},
   "outputs": [],
   "source": [
    "from sklearn.decomposition import PCA\n",
    "\n",
    "X_pca = PCA(n_components=2).fit_transform(all_embeddings)"
   ]
  },
  {
   "cell_type": "code",
   "execution_count": 26,
   "metadata": {},
   "outputs": [
    {
     "data": {
      "text/plain": [
       "Text(0.5, 1.0, 'PCA Embeddings projections')"
      ]
     },
     "execution_count": 26,
     "metadata": {},
     "output_type": "execute_result"
    },
    {
     "data": {
      "image/png": "[encoded data removed]",
      "text/plain": [
       "<Figure size 640x480 with 1 Axes>"
      ]
     },
     "metadata": {},
     "output_type": "display_data"
    }
   ],
   "source": [
    "plt.scatter(X_pca[:len(embeddings1),0], X_pca[:len(embeddings1),1], label=TERM1)\n",
    "plt.scatter(X_pca[len(embeddings1):,0], X_pca[len(embeddings1):,1], label=TERM2)\n",
    "plt.legend()\n",
    "plt.title(\"PCA Embeddings projections\")"
   ]
  },
  {
   "cell_type": "markdown",
   "metadata": {},
   "source": [
    "### UMAP"
   ]
  },
  {
   "cell_type": "code",
   "execution_count": 27,
   "metadata": {},
   "outputs": [],
   "source": [
    "import umap\n",
    "\n",
    "X_umap = umap.UMAP().fit_transform(all_embeddings)"
   ]
  },
  {
   "cell_type": "code",
   "execution_count": 28,
   "metadata": {},
   "outputs": [
    {
     "data": {
      "text/plain": [
       "Text(0.5, 1.0, 'UMAP Embeddings projections')"
      ]
     },
     "execution_count": 28,
     "metadata": {},
     "output_type": "execute_result"
    },
    {
     "data": {
      "image/png": "[encoded data removed]",
      "text/plain": [
       "<Figure size 640x480 with 1 Axes>"
      ]
     },
     "metadata": {},
     "output_type": "display_data"
    }
   ],
   "source": [
    "plt.scatter(X_umap[:len(embeddings1),0], X_umap[:len(embeddings1),1], label=TERM1)\n",
    "plt.scatter(X_umap[len(embeddings1):,0], X_umap[len(embeddings1):,1], label=TERM2)\n",
    "plt.legend()\n",
    "plt.title(\"UMAP Embeddings projections\")"
   ]
  }
 ],
 "metadata": {
  "kernelspec": {
   "display_name": "Python 3.10.6 ('SoS')",
   "language": "python",
   "name": "python3"
  },
  "language_info": {
   "codemirror_mode": {
    "name": "ipython",
    "version": 3
   },
   "file_extension": ".py",
   "mimetype": "text/x-python",
   "name": "python",
   "nbconvert_exporter": "python",
   "pygments_lexer": "ipython3",
   "version": "3.10.6"
  },
  "orig_nbformat": 4,
  "vscode": {
   "interpreter": {
    "hash": "698edb2d430efe7d82235b52eab5a9a548e58da18d36891b15065b37371a8bd3"
   }
  }
 },
 "nbformat": 4,
 "nbformat_minor": 2
}
