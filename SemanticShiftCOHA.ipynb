{
 "cells": [
  {
   "cell_type": "markdown",
   "metadata": {},
   "source": [
    "# Install Requirements"
   ]
  },
  {
   "cell_type": "code",
   "execution_count": 1,
   "metadata": {},
   "outputs": [
    {
     "name": "stdout",
     "output_type": "stream",
     "text": [
      "Requirement already satisfied: transformers in /Users/carstenschnober/opt/anaconda3/envs/SoS/lib/python3.10/site-packages (from -r requirements.txt (line 2)) (4.23.1)\n",
      "Requirement already satisfied: datasets in /Users/carstenschnober/opt/anaconda3/envs/SoS/lib/python3.10/site-packages (from -r requirements.txt (line 3)) (2.6.1)\n",
      "Requirement already satisfied: pandas in /Users/carstenschnober/opt/anaconda3/envs/SoS/lib/python3.10/site-packages (from -r requirements.txt (line 4)) (1.5.0)\n",
      "Requirement already satisfied: matplotlib in /Users/carstenschnober/opt/anaconda3/envs/SoS/lib/python3.10/site-packages (from -r requirements.txt (line 5)) (3.6.2)\n",
      "Requirement already satisfied: umap-learn in /Users/carstenschnober/opt/anaconda3/envs/SoS/lib/python3.10/site-packages (from -r requirements.txt (line 6)) (0.5.3)\n",
      "Requirement already satisfied: datashader in /Users/carstenschnober/opt/anaconda3/envs/SoS/lib/python3.10/site-packages (from -r requirements.txt (line 7)) (0.14.2)\n",
      "Requirement already satisfied: bokeh in /Users/carstenschnober/opt/anaconda3/envs/SoS/lib/python3.10/site-packages (from -r requirements.txt (line 8)) (2.4.3)\n",
      "Requirement already satisfied: holoviews in /Users/carstenschnober/opt/anaconda3/envs/SoS/lib/python3.10/site-packages (from -r requirements.txt (line 9)) (1.15.2)\n",
      "Requirement already satisfied: colorcet in /Users/carstenschnober/opt/anaconda3/envs/SoS/lib/python3.10/site-packages (from -r requirements.txt (line 10)) (3.0.1)\n",
      "Requirement already satisfied: scikit-image in /Users/carstenschnober/opt/anaconda3/envs/SoS/lib/python3.10/site-packages (from -r requirements.txt (line 11)) (0.19.3)\n",
      "Requirement already satisfied: pytest in /Users/carstenschnober/opt/anaconda3/envs/SoS/lib/python3.10/site-packages (from -r requirements.txt (line 14)) (7.2.0)\n",
      "Requirement already satisfied: tqdm>=4.27 in /Users/carstenschnober/opt/anaconda3/envs/SoS/lib/python3.10/site-packages (from transformers->-r requirements.txt (line 2)) (4.64.1)\n",
      "Requirement already satisfied: packaging>=20.0 in /Users/carstenschnober/opt/anaconda3/envs/SoS/lib/python3.10/site-packages (from transformers->-r requirements.txt (line 2)) (21.3)\n",
      "Requirement already satisfied: pyyaml>=5.1 in /Users/carstenschnober/opt/anaconda3/envs/SoS/lib/python3.10/site-packages (from transformers->-r requirements.txt (line 2)) (6.0)\n",
      "Requirement already satisfied: numpy>=1.17 in /Users/carstenschnober/opt/anaconda3/envs/SoS/lib/python3.10/site-packages (from transformers->-r requirements.txt (line 2)) (1.23.4)\n",
      "Requirement already satisfied: tokenizers!=0.11.3,<0.14,>=0.11.1 in /Users/carstenschnober/opt/anaconda3/envs/SoS/lib/python3.10/site-packages (from transformers->-r requirements.txt (line 2)) (0.13.1)\n",
      "Requirement already satisfied: filelock in /Users/carstenschnober/opt/anaconda3/envs/SoS/lib/python3.10/site-packages (from transformers->-r requirements.txt (line 2)) (3.8.0)\n",
      "Requirement already satisfied: requests in /Users/carstenschnober/opt/anaconda3/envs/SoS/lib/python3.10/site-packages (from transformers->-r requirements.txt (line 2)) (2.28.1)\n",
      "Requirement already satisfied: huggingface-hub<1.0,>=0.10.0 in /Users/carstenschnober/opt/anaconda3/envs/SoS/lib/python3.10/site-packages (from transformers->-r requirements.txt (line 2)) (0.10.1)\n",
      "Requirement already satisfied: regex!=2019.12.17 in /Users/carstenschnober/opt/anaconda3/envs/SoS/lib/python3.10/site-packages (from transformers->-r requirements.txt (line 2)) (2022.9.13)\n",
      "Requirement already satisfied: xxhash in /Users/carstenschnober/opt/anaconda3/envs/SoS/lib/python3.10/site-packages (from datasets->-r requirements.txt (line 3)) (3.0.0)\n",
      "Requirement already satisfied: aiohttp in /Users/carstenschnober/opt/anaconda3/envs/SoS/lib/python3.10/site-packages (from datasets->-r requirements.txt (line 3)) (3.8.3)\n",
      "Requirement already satisfied: multiprocess in /Users/carstenschnober/opt/anaconda3/envs/SoS/lib/python3.10/site-packages (from datasets->-r requirements.txt (line 3)) (0.70.13)\n",
      "Requirement already satisfied: responses<0.19 in /Users/carstenschnober/opt/anaconda3/envs/SoS/lib/python3.10/site-packages (from datasets->-r requirements.txt (line 3)) (0.18.0)\n",
      "Requirement already satisfied: fsspec[http]>=2021.11.1 in /Users/carstenschnober/opt/anaconda3/envs/SoS/lib/python3.10/site-packages (from datasets->-r requirements.txt (line 3)) (2022.8.2)\n",
      "Requirement already satisfied: dill<0.3.6 in /Users/carstenschnober/opt/anaconda3/envs/SoS/lib/python3.10/site-packages (from datasets->-r requirements.txt (line 3)) (0.3.5.1)\n",
      "Requirement already satisfied: pyarrow>=6.0.0 in /Users/carstenschnober/opt/anaconda3/envs/SoS/lib/python3.10/site-packages (from datasets->-r requirements.txt (line 3)) (9.0.0)\n",
      "Requirement already satisfied: pytz>=2020.1 in /Users/carstenschnober/opt/anaconda3/envs/SoS/lib/python3.10/site-packages (from pandas->-r requirements.txt (line 4)) (2022.4)\n",
      "Requirement already satisfied: python-dateutil>=2.8.1 in /Users/carstenschnober/opt/anaconda3/envs/SoS/lib/python3.10/site-packages (from pandas->-r requirements.txt (line 4)) (2.8.2)\n",
      "Requirement already satisfied: contourpy>=1.0.1 in /Users/carstenschnober/opt/anaconda3/envs/SoS/lib/python3.10/site-packages (from matplotlib->-r requirements.txt (line 5)) (1.0.6)\n",
      "Requirement already satisfied: cycler>=0.10 in /Users/carstenschnober/opt/anaconda3/envs/SoS/lib/python3.10/site-packages (from matplotlib->-r requirements.txt (line 5)) (0.11.0)\n",
      "Requirement already satisfied: pillow>=6.2.0 in /Users/carstenschnober/opt/anaconda3/envs/SoS/lib/python3.10/site-packages (from matplotlib->-r requirements.txt (line 5)) (9.3.0)\n",
      "Requirement already satisfied: kiwisolver>=1.0.1 in /Users/carstenschnober/opt/anaconda3/envs/SoS/lib/python3.10/site-packages (from matplotlib->-r requirements.txt (line 5)) (1.4.4)\n",
      "Requirement already satisfied: pyparsing>=2.2.1 in /Users/carstenschnober/opt/anaconda3/envs/SoS/lib/python3.10/site-packages (from matplotlib->-r requirements.txt (line 5)) (3.0.9)\n",
      "Requirement already satisfied: fonttools>=4.22.0 in /Users/carstenschnober/opt/anaconda3/envs/SoS/lib/python3.10/site-packages (from matplotlib->-r requirements.txt (line 5)) (4.38.0)\n",
      "Requirement already satisfied: scikit-learn>=0.22 in /Users/carstenschnober/opt/anaconda3/envs/SoS/lib/python3.10/site-packages (from umap-learn->-r requirements.txt (line 6)) (1.1.3)\n",
      "Requirement already satisfied: numba>=0.49 in /Users/carstenschnober/opt/anaconda3/envs/SoS/lib/python3.10/site-packages (from umap-learn->-r requirements.txt (line 6)) (0.56.4)\n",
      "Requirement already satisfied: pynndescent>=0.5 in /Users/carstenschnober/opt/anaconda3/envs/SoS/lib/python3.10/site-packages (from umap-learn->-r requirements.txt (line 6)) (0.5.8)\n",
      "Requirement already satisfied: scipy>=1.0 in /Users/carstenschnober/opt/anaconda3/envs/SoS/lib/python3.10/site-packages (from umap-learn->-r requirements.txt (line 6)) (1.9.2)\n",
      "Requirement already satisfied: param>=1.6.1 in /Users/carstenschnober/opt/anaconda3/envs/SoS/lib/python3.10/site-packages (from datashader->-r requirements.txt (line 7)) (1.12.2)\n",
      "Requirement already satisfied: datashape>=0.5.1 in /Users/carstenschnober/opt/anaconda3/envs/SoS/lib/python3.10/site-packages (from datashader->-r requirements.txt (line 7)) (0.5.2)\n",
      "Requirement already satisfied: pyct>=0.4.5 in /Users/carstenschnober/opt/anaconda3/envs/SoS/lib/python3.10/site-packages (from datashader->-r requirements.txt (line 7)) (0.4.8)\n",
      "Requirement already satisfied: dask[complete] in /Users/carstenschnober/opt/anaconda3/envs/SoS/lib/python3.10/site-packages (from datashader->-r requirements.txt (line 7)) (2022.10.2)\n",
      "Requirement already satisfied: xarray>=0.9.6 in /Users/carstenschnober/opt/anaconda3/envs/SoS/lib/python3.10/site-packages (from datashader->-r requirements.txt (line 7)) (2022.11.0)\n",
      "Requirement already satisfied: tornado>=5.1 in /Users/carstenschnober/opt/anaconda3/envs/SoS/lib/python3.10/site-packages (from bokeh->-r requirements.txt (line 8)) (6.1)\n",
      "Requirement already satisfied: Jinja2>=2.9 in /Users/carstenschnober/opt/anaconda3/envs/SoS/lib/python3.10/site-packages (from bokeh->-r requirements.txt (line 8)) (3.1.2)\n",
      "Requirement already satisfied: typing-extensions>=3.10.0 in /Users/carstenschnober/opt/anaconda3/envs/SoS/lib/python3.10/site-packages (from bokeh->-r requirements.txt (line 8)) (4.4.0)\n",
      "Requirement already satisfied: panel>=0.13.1 in /Users/carstenschnober/opt/anaconda3/envs/SoS/lib/python3.10/site-packages (from holoviews->-r requirements.txt (line 9)) (0.14.1)\n",
      "Requirement already satisfied: pyviz-comms>=0.7.4 in /Users/carstenschnober/opt/anaconda3/envs/SoS/lib/python3.10/site-packages (from holoviews->-r requirements.txt (line 9)) (2.2.1)\n",
      "Requirement already satisfied: imageio>=2.4.1 in /Users/carstenschnober/opt/anaconda3/envs/SoS/lib/python3.10/site-packages (from scikit-image->-r requirements.txt (line 11)) (2.22.4)\n",
      "Requirement already satisfied: tifffile>=2019.7.26 in /Users/carstenschnober/opt/anaconda3/envs/SoS/lib/python3.10/site-packages (from scikit-image->-r requirements.txt (line 11)) (2022.10.10)\n",
      "Requirement already satisfied: PyWavelets>=1.1.1 in /Users/carstenschnober/opt/anaconda3/envs/SoS/lib/python3.10/site-packages (from scikit-image->-r requirements.txt (line 11)) (1.4.1)\n",
      "Requirement already satisfied: networkx>=2.2 in /Users/carstenschnober/opt/anaconda3/envs/SoS/lib/python3.10/site-packages (from scikit-image->-r requirements.txt (line 11)) (2.8.8)\n",
      "Requirement already satisfied: tomli>=1.0.0 in /Users/carstenschnober/opt/anaconda3/envs/SoS/lib/python3.10/site-packages (from pytest->-r requirements.txt (line 14)) (2.0.1)\n",
      "Requirement already satisfied: attrs>=19.2.0 in /Users/carstenschnober/opt/anaconda3/envs/SoS/lib/python3.10/site-packages (from pytest->-r requirements.txt (line 14)) (22.1.0)\n",
      "Requirement already satisfied: exceptiongroup>=1.0.0rc8 in /Users/carstenschnober/opt/anaconda3/envs/SoS/lib/python3.10/site-packages (from pytest->-r requirements.txt (line 14)) (1.0.4)\n",
      "Requirement already satisfied: iniconfig in /Users/carstenschnober/opt/anaconda3/envs/SoS/lib/python3.10/site-packages (from pytest->-r requirements.txt (line 14)) (1.1.1)\n",
      "Requirement already satisfied: pluggy<2.0,>=0.12 in /Users/carstenschnober/opt/anaconda3/envs/SoS/lib/python3.10/site-packages (from pytest->-r requirements.txt (line 14)) (1.0.0)\n",
      "Requirement already satisfied: multipledispatch>=0.4.7 in /Users/carstenschnober/opt/anaconda3/envs/SoS/lib/python3.10/site-packages (from datashape>=0.5.1->datashader->-r requirements.txt (line 7)) (0.6.0)\n",
      "Requirement already satisfied: frozenlist>=1.1.1 in /Users/carstenschnober/opt/anaconda3/envs/SoS/lib/python3.10/site-packages (from aiohttp->datasets->-r requirements.txt (line 3)) (1.3.1)\n",
      "Requirement already satisfied: aiosignal>=1.1.2 in /Users/carstenschnober/opt/anaconda3/envs/SoS/lib/python3.10/site-packages (from aiohttp->datasets->-r requirements.txt (line 3)) (1.2.0)\n",
      "Requirement already satisfied: multidict<7.0,>=4.5 in /Users/carstenschnober/opt/anaconda3/envs/SoS/lib/python3.10/site-packages (from aiohttp->datasets->-r requirements.txt (line 3)) (6.0.2)\n",
      "Requirement already satisfied: charset-normalizer<3.0,>=2.0 in /Users/carstenschnober/opt/anaconda3/envs/SoS/lib/python3.10/site-packages (from aiohttp->datasets->-r requirements.txt (line 3)) (2.1.1)\n",
      "Requirement already satisfied: yarl<2.0,>=1.0 in /Users/carstenschnober/opt/anaconda3/envs/SoS/lib/python3.10/site-packages (from aiohttp->datasets->-r requirements.txt (line 3)) (1.8.1)\n",
      "Requirement already satisfied: async-timeout<5.0,>=4.0.0a3 in /Users/carstenschnober/opt/anaconda3/envs/SoS/lib/python3.10/site-packages (from aiohttp->datasets->-r requirements.txt (line 3)) (4.0.2)\n",
      "Requirement already satisfied: MarkupSafe>=2.0 in /Users/carstenschnober/opt/anaconda3/envs/SoS/lib/python3.10/site-packages (from Jinja2>=2.9->bokeh->-r requirements.txt (line 8)) (2.1.1)\n",
      "Requirement already satisfied: llvmlite<0.40,>=0.39.0dev0 in /Users/carstenschnober/opt/anaconda3/envs/SoS/lib/python3.10/site-packages (from numba>=0.49->umap-learn->-r requirements.txt (line 6)) (0.39.1)\n",
      "Requirement already satisfied: setuptools in /Users/carstenschnober/opt/anaconda3/envs/SoS/lib/python3.10/site-packages (from numba>=0.49->umap-learn->-r requirements.txt (line 6)) (63.4.1)\n",
      "Requirement already satisfied: markdown in /Users/carstenschnober/opt/anaconda3/envs/SoS/lib/python3.10/site-packages (from panel>=0.13.1->holoviews->-r requirements.txt (line 9)) (3.4.1)\n",
      "Requirement already satisfied: bleach in /Users/carstenschnober/opt/anaconda3/envs/SoS/lib/python3.10/site-packages (from panel>=0.13.1->holoviews->-r requirements.txt (line 9)) (5.0.1)\n",
      "Requirement already satisfied: joblib>=0.11 in /Users/carstenschnober/opt/anaconda3/envs/SoS/lib/python3.10/site-packages (from pynndescent>=0.5->umap-learn->-r requirements.txt (line 6)) (1.2.0)\n",
      "Requirement already satisfied: six>=1.5 in /Users/carstenschnober/opt/anaconda3/envs/SoS/lib/python3.10/site-packages (from python-dateutil>=2.8.1->pandas->-r requirements.txt (line 4)) (1.16.0)\n",
      "Requirement already satisfied: urllib3<1.27,>=1.21.1 in /Users/carstenschnober/opt/anaconda3/envs/SoS/lib/python3.10/site-packages (from requests->transformers->-r requirements.txt (line 2)) (1.26.12)\n",
      "Requirement already satisfied: idna<4,>=2.5 in /Users/carstenschnober/opt/anaconda3/envs/SoS/lib/python3.10/site-packages (from requests->transformers->-r requirements.txt (line 2)) (3.4)\n",
      "Requirement already satisfied: certifi>=2017.4.17 in /Users/carstenschnober/opt/anaconda3/envs/SoS/lib/python3.10/site-packages (from requests->transformers->-r requirements.txt (line 2)) (2022.9.24)\n",
      "Requirement already satisfied: threadpoolctl>=2.0.0 in /Users/carstenschnober/opt/anaconda3/envs/SoS/lib/python3.10/site-packages (from scikit-learn>=0.22->umap-learn->-r requirements.txt (line 6)) (3.1.0)\n",
      "Requirement already satisfied: partd>=0.3.10 in /Users/carstenschnober/opt/anaconda3/envs/SoS/lib/python3.10/site-packages (from dask[complete]->datashader->-r requirements.txt (line 7)) (1.3.0)\n",
      "Requirement already satisfied: cloudpickle>=1.1.1 in /Users/carstenschnober/opt/anaconda3/envs/SoS/lib/python3.10/site-packages (from dask[complete]->datashader->-r requirements.txt (line 7)) (2.2.0)\n",
      "Requirement already satisfied: click>=7.0 in /Users/carstenschnober/opt/anaconda3/envs/SoS/lib/python3.10/site-packages (from dask[complete]->datashader->-r requirements.txt (line 7)) (8.1.3)\n",
      "Requirement already satisfied: toolz>=0.8.2 in /Users/carstenschnober/opt/anaconda3/envs/SoS/lib/python3.10/site-packages (from dask[complete]->datashader->-r requirements.txt (line 7)) (0.12.0)\n",
      "Requirement already satisfied: distributed==2022.10.2 in /Users/carstenschnober/opt/anaconda3/envs/SoS/lib/python3.10/site-packages (from dask[complete]->datashader->-r requirements.txt (line 7)) (2022.10.2)\n",
      "Requirement already satisfied: zict>=0.1.3 in /Users/carstenschnober/opt/anaconda3/envs/SoS/lib/python3.10/site-packages (from distributed==2022.10.2->dask[complete]->datashader->-r requirements.txt (line 7)) (2.2.0)\n",
      "Requirement already satisfied: locket>=1.0.0 in /Users/carstenschnober/opt/anaconda3/envs/SoS/lib/python3.10/site-packages (from distributed==2022.10.2->dask[complete]->datashader->-r requirements.txt (line 7)) (1.0.0)\n",
      "Requirement already satisfied: tblib>=1.6.0 in /Users/carstenschnober/opt/anaconda3/envs/SoS/lib/python3.10/site-packages (from distributed==2022.10.2->dask[complete]->datashader->-r requirements.txt (line 7)) (1.7.0)\n",
      "Requirement already satisfied: sortedcontainers!=2.0.0,!=2.0.1 in /Users/carstenschnober/opt/anaconda3/envs/SoS/lib/python3.10/site-packages (from distributed==2022.10.2->dask[complete]->datashader->-r requirements.txt (line 7)) (2.4.0)\n",
      "Requirement already satisfied: msgpack>=0.6.0 in /Users/carstenschnober/opt/anaconda3/envs/SoS/lib/python3.10/site-packages (from distributed==2022.10.2->dask[complete]->datashader->-r requirements.txt (line 7)) (1.0.4)\n",
      "Requirement already satisfied: psutil>=5.0 in /Users/carstenschnober/opt/anaconda3/envs/SoS/lib/python3.10/site-packages (from distributed==2022.10.2->dask[complete]->datashader->-r requirements.txt (line 7)) (5.9.0)\n",
      "Requirement already satisfied: webencodings in /Users/carstenschnober/opt/anaconda3/envs/SoS/lib/python3.10/site-packages (from bleach->panel>=0.13.1->holoviews->-r requirements.txt (line 9)) (0.5.1)\n",
      "Requirement already satisfied: heapdict in /Users/carstenschnober/opt/anaconda3/envs/SoS/lib/python3.10/site-packages (from zict>=0.1.3->distributed==2022.10.2->dask[complete]->datashader->-r requirements.txt (line 7)) (1.0.1)\n",
      "Note: you may need to restart the kernel to use updated packages.\n"
     ]
    }
   ],
   "source": [
    "%pip install -r requirements.txt"
   ]
  },
  {
   "cell_type": "code",
   "execution_count": 2,
   "metadata": {},
   "outputs": [],
   "source": [
    "import numpy as np\n",
    "import pandas as pd\n",
    "import matplotlib.pyplot as plt\n"
   ]
  },
  {
   "cell_type": "markdown",
   "metadata": {},
   "source": [
    "# Load Language Model"
   ]
  },
  {
   "cell_type": "code",
   "execution_count": 3,
   "metadata": {},
   "outputs": [],
   "source": [
    "MODEL_NAME = \"roberta-base\"\n",
    "\n",
    "# MODEL_NAME = \"xlm-roberta-base\" # cross-lingual mode (https://huggingface.co/xlm-roberta-base)\n"
   ]
  },
  {
   "cell_type": "code",
   "execution_count": 4,
   "metadata": {},
   "outputs": [
    {
     "name": "stderr",
     "output_type": "stream",
     "text": [
      "/Users/carstenschnober/opt/anaconda3/envs/SoS/lib/python3.10/site-packages/tqdm/auto.py:22: TqdmWarning: IProgress not found. Please update jupyter and ipywidgets. See https://ipywidgets.readthedocs.io/en/stable/user_install.html\n",
      "  from .autonotebook import tqdm as notebook_tqdm\n",
      "Some weights of the model checkpoint at roberta-base were not used when initializing RobertaModel: ['lm_head.layer_norm.bias', 'lm_head.dense.weight', 'lm_head.layer_norm.weight', 'lm_head.bias', 'lm_head.decoder.weight', 'lm_head.dense.bias']\n",
      "- This IS expected if you are initializing RobertaModel from the checkpoint of a model trained on another task or with another architecture (e.g. initializing a BertForSequenceClassification model from a BertForPreTraining model).\n",
      "- This IS NOT expected if you are initializing RobertaModel from the checkpoint of a model that you expect to be exactly identical (initializing a BertForSequenceClassification model from a BertForSequenceClassification model).\n"
     ]
    }
   ],
   "source": [
    "from transformers import RobertaModel, AutoTokenizer\n",
    "\n",
    "tokenizer = AutoTokenizer.from_pretrained(MODEL_NAME)\n",
    "model = RobertaModel.from_pretrained(MODEL_NAME)\n",
    "\n",
    "# FIXME: cannot use pipeline for extracting layers other than the last one\n",
    "# model: FeatureExtractionPipeline = pipeline(\n",
    "#    \"feature-extraction\", model=MODEL_NAME, tokenizer=tokenizer\n",
    "# )\n"
   ]
  },
  {
   "cell_type": "markdown",
   "metadata": {},
   "source": [
    "# Load Data"
   ]
  },
  {
   "cell_type": "code",
   "execution_count": 5,
   "metadata": {},
   "outputs": [],
   "source": [
    "from pathlib import Path\n",
    "\n",
    "DATA_DIR = Path.cwd() / \"data\"\n"
   ]
  },
  {
   "cell_type": "markdown",
   "metadata": {},
   "source": [
    "## SemEval 2020 (C)COHA corpus"
   ]
  },
  {
   "cell_type": "markdown",
   "metadata": {},
   "source": [
    "### Download"
   ]
  },
  {
   "cell_type": "code",
   "execution_count": 6,
   "metadata": {},
   "outputs": [
    {
     "name": "stdout",
     "output_type": "stream",
     "text": [
      "Directory '/Users/carstenschnober/Documents/SemanticsOfSustainability/workspace/ContextualLM/data/semeval2020_ulscd_eng' already exists, skipping corpus download.\n"
     ]
    }
   ],
   "source": [
    "from io import BytesIO\n",
    "from zipfile import ZipFile\n",
    "import urllib\n",
    "\n",
    "SEMEVAL_DATA_URL = (\n",
    "    \"https://www2.ims.uni-stuttgart.de/data/sem-eval-ulscd/semeval2020_ulscd_eng.zip\"\n",
    ")\n",
    "\n",
    "SEMEVAL2020_DIR = DATA_DIR / \"semeval2020_ulscd_eng\"\n",
    "\n",
    "if SEMEVAL2020_DIR.is_dir():\n",
    "    print(f\"Directory '{SEMEVAL2020_DIR}' already exists, skipping corpus download.\")\n",
    "else:\n",
    "    with urllib.request.urlopen(SEMEVAL_DATA_URL) as f:\n",
    "        with ZipFile(BytesIO(f.read())) as zipfile:\n",
    "            zipfile.extractall(DATA_DIR)\n",
    "\n",
    "assert SEMEVAL2020_DIR.is_dir(), f\"Directory does not exist: '{SEMEVAL2020_DIR}'\"\n"
   ]
  },
  {
   "cell_type": "code",
   "execution_count": 7,
   "metadata": {},
   "outputs": [],
   "source": [
    "CORPUS1_DIR = SEMEVAL2020_DIR / \"corpus1\"\n",
    "CORPUS2_DIR = SEMEVAL2020_DIR / \"corpus2\"\n",
    "TRUTH_DIR = SEMEVAL2020_DIR / \"truth\"\n",
    "\n",
    "assert CORPUS1_DIR.is_dir(), f\"Directory does not exist: '{CORPUS1_DIR}'\"\n",
    "assert CORPUS2_DIR.is_dir(), f\"Directory does not exist: '{CORPUS2_DIR}'\"\n",
    "assert TRUTH_DIR.is_dir(), f\"Directory does not exist: '{TRUTH_DIR}'\"\n"
   ]
  },
  {
   "cell_type": "markdown",
   "metadata": {},
   "source": [
    "### Read"
   ]
  },
  {
   "cell_type": "code",
   "execution_count": 8,
   "metadata": {},
   "outputs": [],
   "source": [
    "TOKENS_FILE1 = CORPUS1_DIR / \"token\" / \"ccoha1.txt.gz\"\n",
    "TOKENS_FILE2 = CORPUS2_DIR / \"token\" / \"ccoha2.txt.gz\"\n",
    "\n",
    "assert TOKENS_FILE1.is_file()\n",
    "assert TOKENS_FILE2.is_file()\n"
   ]
  },
  {
   "cell_type": "code",
   "execution_count": 9,
   "metadata": {},
   "outputs": [],
   "source": [
    "import gzip\n",
    "\n",
    "with gzip.open(TOKENS_FILE1, \"rt\") as f:\n",
    "    sentences_1810 = f.readlines()\n",
    "\n",
    "assert len(sentences_1810) == 253644\n",
    "\n",
    "with gzip.open(TOKENS_FILE2, \"rt\") as f:\n",
    "    sentences_1960 = f.readlines()\n",
    "\n",
    "assert len(sentences_1960) == 353692\n"
   ]
  },
  {
   "cell_type": "markdown",
   "metadata": {},
   "source": [
    "## COHA Corpus (Sample)"
   ]
  },
  {
   "cell_type": "markdown",
   "metadata": {},
   "source": [
    "### Download"
   ]
  },
  {
   "cell_type": "code",
   "execution_count": 10,
   "metadata": {},
   "outputs": [
    {
     "name": "stdout",
     "output_type": "stream",
     "text": [
      "Directory '/Users/carstenschnober/Documents/SemanticsOfSustainability/workspace/ContextualLM/data/COHA' already exists: [Errno 17] File exists: '/Users/carstenschnober/Documents/SemanticsOfSustainability/workspace/ContextualLM/data/COHA'. Skipping corpus download.\n"
     ]
    }
   ],
   "source": [
    "# COHA_DATABASE_URL = 'https://www.corpusdata.org/coha/samples/database.zip'\n",
    "COHA_TEXT_URL = \"https://www.corpusdata.org/coha/samples/text.zip\"\n",
    "\n",
    "COHA_DIR = DATA_DIR / \"COHA\"\n",
    "\n",
    "try:\n",
    "    COHA_DIR.mkdir(parents=True, exist_ok=False)\n",
    "except OSError as e:\n",
    "    print(f\"Directory '{COHA_DIR}' already exists: {str(e)}. Skipping corpus download.\")\n",
    "else:\n",
    "    with urllib.request.urlopen(COHA_TEXT_URL) as f:\n",
    "        with ZipFile(BytesIO(f.read())) as zipfile:\n",
    "            zipfile.extractall(COHA_DIR)\n",
    "\n",
    "assert COHA_DIR.is_dir()\n"
   ]
  },
  {
   "cell_type": "markdown",
   "metadata": {},
   "source": [
    "### Read CohaDocs"
   ]
  },
  {
   "cell_type": "code",
   "execution_count": 11,
   "metadata": {},
   "outputs": [],
   "source": [
    "from src import CohaDoc\n",
    "\n",
    "coha_docs = [CohaDoc(file) for file in COHA_DIR.glob(\"*.txt\")]\n",
    "\n",
    "assert len(coha_docs) == 1144\n"
   ]
  },
  {
   "cell_type": "code",
   "execution_count": 12,
   "metadata": {},
   "outputs": [
    {
     "data": {
      "text/plain": [
       "(array([ 12.,  13.,  24.,  50.,  60., 156., 206., 188., 247., 188.]),\n",
       " array([1817. , 1836.2, 1855.4, 1874.6, 1893.8, 1913. , 1932.2, 1951.4,\n",
       "        1970.6, 1989.8, 2009. ]),\n",
       " <BarContainer object of 10 artists>)"
      ]
     },
     "execution_count": 12,
     "metadata": {},
     "output_type": "execute_result"
    },
    {
     "data": {
      "image/png": "[encoded data removed]",
      "text/plain": [
       "<Figure size 640x480 with 1 Axes>"
      ]
     },
     "metadata": {},
     "output_type": "display_data"
    }
   ],
   "source": [
    "plt.hist([c.year for c in coha_docs])\n"
   ]
  },
  {
   "cell_type": "code",
   "execution_count": 13,
   "metadata": {},
   "outputs": [
    {
     "data": {
      "text/plain": [
       "(array([586.,   0.,   0., 424.,   0.,   0., 108.,   0.,   0.,  26.]),\n",
       " array([0. , 0.3, 0.6, 0.9, 1.2, 1.5, 1.8, 2.1, 2.4, 2.7, 3. ]),\n",
       " <BarContainer object of 10 artists>)"
      ]
     },
     "execution_count": 13,
     "metadata": {},
     "output_type": "execute_result"
    },
    {
     "data": {
      "image/png": "[encoded data removed]",
      "text/plain": [
       "<Figure size 640x480 with 1 Axes>"
      ]
     },
     "metadata": {},
     "output_type": "display_data"
    }
   ],
   "source": [
    "plt.hist([c.genre for c in coha_docs])\n"
   ]
  },
  {
   "cell_type": "markdown",
   "metadata": {},
   "source": [
    "# Embeddings"
   ]
  },
  {
   "cell_type": "code",
   "execution_count": 14,
   "metadata": {},
   "outputs": [],
   "source": [
    "TERM = \"cell\"\n",
    "\n"
   ]
  },
  {
   "cell_type": "markdown",
   "metadata": {},
   "source": [
    "## Find Relevant Sentences"
   ]
  },
  {
   "cell_type": "code",
   "execution_count": 15,
   "metadata": {},
   "outputs": [
    {
     "name": "stderr",
     "output_type": "stream",
     "text": [
      "  0%|          | 0/1144 [00:00<?, ?doc/s]WARNING:root:Setting model configuration 'output_hidden_states' to True.\n",
      "100%|██████████| 1144/1144 [00:00<00:00, 1233.20doc/s]"
     ]
    },
    {
     "name": "stdout",
     "output_type": "stream",
     "text": [
      "622\n"
     ]
    },
    {
     "name": "stderr",
     "output_type": "stream",
     "text": [
      "\n"
     ]
    }
   ],
   "source": [
    "from typing import List\n",
    "\n",
    "from tqdm import tqdm\n",
    "\n",
    "from src import Text\n",
    "\n",
    "sentence_candidates: List[Text] = [\n",
    "    Text(\n",
    "        text=s,\n",
    "        metadata={\"year\": doc.year, \"filename\": doc._path.name},\n",
    "        model=model,\n",
    "        tokenizer=tokenizer,\n",
    "    )\n",
    "    for doc in tqdm(coha_docs, unit=\"doc\")\n",
    "    for s in doc.find_sentences(TERM)\n",
    "]\n",
    "\n",
    "print(len(sentence_candidates))\n"
   ]
  },
  {
   "cell_type": "markdown",
   "metadata": {},
   "source": [
    "## Compute Embeddings"
   ]
  },
  {
   "cell_type": "code",
   "execution_count": 16,
   "metadata": {},
   "outputs": [
    {
     "name": "stderr",
     "output_type": "stream",
     "text": [
      "Embeddings for 'cell':   8%|▊         | 52/622 [00:01<00:17, 33.32text/s]Token indices sequence length is longer than the specified maximum sequence length for this model (1572 > 512). Running this sequence through the model will result in indexing errors\n",
      "Embeddings for 'cell': 100%|██████████| 622/622 [00:13<00:00, 44.89text/s] \n"
     ]
    },
    {
     "data": {
      "text/plain": [
       "59"
      ]
     },
     "execution_count": 16,
     "metadata": {},
     "output_type": "execute_result"
    }
   ],
   "source": [
    "embeddings = []  # Changed into array below for efficiency\n",
    "sentences = []\n",
    "\n",
    "MAX_SENTENCES = None\n",
    "\n",
    "for sentence in tqdm(\n",
    "    sentence_candidates[:MAX_SENTENCES], unit=\"text\", desc=f\"Embeddings for '{TERM}'\"\n",
    "):\n",
    "    for embedding in sentence.embeddings_matrix(TERM):\n",
    "        embeddings.append(embedding)\n",
    "        sentences.append(sentence)\n",
    "\n",
    "assert len(embeddings) == len(sentences)\n",
    "len(embeddings)\n"
   ]
  },
  {
   "cell_type": "code",
   "execution_count": 22,
   "metadata": {},
   "outputs": [
    {
     "data": {
      "text/plain": [
       "tensor([ 5.7644e-02,  2.0850e-01, -3.5174e-01,  2.0788e-01, -3.6276e-01,\n",
       "        -2.3972e-01,  3.2057e-01,  4.6969e-02, -1.4524e-01, -1.8125e-01,\n",
       "         1.0661e-01, -1.0508e+00, -1.3591e-01, -1.6779e-01,  5.5835e-02,\n",
       "        -1.9001e-01,  6.4805e-01, -4.1853e-01,  1.4923e-01,  1.1255e+00,\n",
       "        -2.5137e-01,  1.6878e-01, -2.9608e-01, -1.2258e-01,  1.3571e-01,\n",
       "         6.6403e-02,  4.0739e-01, -1.1595e-01,  1.9944e-01,  4.1635e-01,\n",
       "        -4.6301e-01,  5.9236e-01,  6.3267e-02, -6.1455e-01, -1.5015e-01,\n",
       "        -3.7930e-02,  4.4124e-01,  4.8245e-01,  1.7765e-01, -4.4455e-02,\n",
       "         1.0172e-01,  6.6726e-01,  1.2625e-01,  2.6660e-02,  2.6824e-01,\n",
       "         9.9400e-02, -8.4788e-01, -5.3510e-01,  1.3704e-01,  3.2257e-01,\n",
       "         3.6118e-01, -1.6285e-01,  2.4302e-02,  5.5181e-01, -2.6386e-01,\n",
       "        -5.5608e-01,  3.0086e-01, -4.9191e-01, -9.4640e-02,  4.2711e-01,\n",
       "        -3.9283e-01,  2.2757e+00, -3.1281e-01,  6.9268e-01,  9.4757e-02,\n",
       "        -4.3917e-02,  6.8414e-02,  5.4196e-01, -2.4430e-01,  4.6304e-02,\n",
       "        -3.4456e-01, -2.7387e-01, -1.6244e-02, -2.3433e-01,  3.9791e-01,\n",
       "        -7.8830e-02, -2.6697e-01, -1.0185e+01, -1.5582e-01, -3.4857e-01,\n",
       "         4.3741e-01,  3.1373e-01,  2.3944e-01,  9.7949e-02, -2.2986e-01,\n",
       "        -7.8837e-01, -2.3714e-02,  3.3531e-02, -1.4532e-01, -2.9073e-01,\n",
       "         6.4189e-01,  1.9351e-01,  2.7705e-02, -9.0470e-01,  2.0687e-01,\n",
       "        -1.8479e-01, -1.9202e-01,  1.1522e+00, -3.8170e-03,  7.9699e-01,\n",
       "        -5.3957e-01, -1.8388e-01, -8.9364e-01,  3.1337e-01,  2.7308e-01,\n",
       "         3.9570e-01, -4.0345e-01,  1.8491e-02, -3.4276e-01,  1.0218e-01,\n",
       "         2.0331e-01,  6.6234e-01, -3.6401e-01,  9.4086e-02,  1.8451e-01,\n",
       "         5.2993e-01, -5.8696e-02,  1.5880e-01, -1.5628e-01, -7.5739e-01,\n",
       "        -1.8075e-01, -7.2324e-02,  9.6126e-01,  5.5254e-01, -1.0688e-01,\n",
       "         2.9827e-01, -9.5520e-03,  2.7895e-02,  2.8016e-01,  2.1327e-01,\n",
       "        -2.2114e-01,  4.3144e-01, -2.4689e-01,  7.5450e-01, -2.3182e-01,\n",
       "        -2.3467e-01,  6.1446e-01,  6.2325e-02,  1.7846e-02,  2.0108e-01,\n",
       "         1.0806e-01, -2.9084e-01,  2.4245e-01,  2.7297e-01, -2.5943e-02,\n",
       "         2.4453e-02, -2.6599e-01,  2.3870e-01, -3.8300e-01,  5.8243e-01,\n",
       "         8.6468e-02, -3.6089e-01, -1.1512e-02,  2.2273e-01,  5.7631e-01,\n",
       "        -1.1026e+00,  1.2824e-02, -3.9689e-01, -2.2052e-01,  7.9006e-01,\n",
       "        -2.8211e-01,  2.6944e-01,  4.6355e-01,  3.6971e-02,  1.4603e-01,\n",
       "         8.0614e-01,  2.3686e-02,  6.0570e-02, -2.7000e-01,  1.2114e+00,\n",
       "        -2.0000e-01, -1.7006e-01, -1.0731e-02, -1.0733e-01,  7.0353e-02,\n",
       "        -3.0208e-01,  5.4346e-01, -2.1125e-01, -6.0977e-02,  3.1609e-01,\n",
       "         6.4908e-01, -1.1311e-02, -2.9722e-01, -1.2117e-01,  5.1825e-01,\n",
       "         1.8847e-01, -1.3723e-02, -1.2246e-01, -4.0670e-02, -1.0541e-01,\n",
       "         3.4869e-01,  4.0223e-02, -1.8086e-01,  3.4861e-01, -8.3591e-01,\n",
       "        -1.2043e-01, -2.6819e-01,  7.4054e-02,  3.3444e-01, -4.3914e-02,\n",
       "        -1.2134e-01,  3.9467e-01,  1.0752e+00,  4.0743e-02, -5.2673e-01,\n",
       "         1.9733e-01,  9.3783e-02,  2.8280e-01, -1.8956e-01, -8.6981e-02,\n",
       "        -2.2567e-01,  3.9260e-01, -4.1744e-02, -1.1485e-01,  1.4835e-01,\n",
       "        -4.1454e-01, -6.0915e-01, -2.1876e+00,  8.1540e-01,  1.1033e+00,\n",
       "         3.4855e-02, -1.7110e-01,  5.8270e-01, -3.9084e-01, -2.2875e-01,\n",
       "        -4.7443e-01,  2.5922e-01,  3.6279e-01, -2.5596e-01,  2.1198e-01,\n",
       "         6.3016e-02,  4.8509e-02,  3.2168e-02, -1.1701e+00, -6.5014e-02,\n",
       "         1.5506e-01,  5.7358e-01, -2.8349e-02,  1.7333e-01, -3.1037e-01,\n",
       "        -6.0889e-01, -1.9979e-01, -1.6510e-02,  1.4092e-01, -1.6038e-02,\n",
       "        -1.7625e-01, -1.4238e-01, -1.7275e-03, -7.2774e-02, -2.3161e-01,\n",
       "        -1.7316e-01,  3.0967e-01,  4.5295e-02, -8.4803e-02,  3.9908e-01,\n",
       "         1.2423e-01, -1.1215e-01, -1.0808e-01,  3.3419e-01,  6.3207e-01,\n",
       "        -1.5301e-01,  1.9441e-01, -2.1297e-01, -6.7589e-01, -2.8578e-01,\n",
       "         8.1713e-01,  1.0617e-01, -1.6124e-01, -3.8549e-01,  3.3513e-01,\n",
       "         4.4554e-01, -1.6227e-01,  2.5179e-01, -1.8349e-01, -4.8359e-01,\n",
       "         1.5101e-02,  3.2088e-01, -4.4627e-01, -8.6723e-02, -3.7430e-01,\n",
       "        -5.5814e-01, -2.6358e-01, -2.8255e-02,  1.3882e-02,  4.5946e-02,\n",
       "         1.7144e-01, -5.8806e-01, -8.4798e-01, -3.2149e-01, -1.2082e-01,\n",
       "         2.6829e-02,  3.9203e-01,  3.7630e-01, -3.8195e-01, -2.9372e-01,\n",
       "        -2.5064e-01,  1.7670e-01, -4.2164e-01, -1.8955e-01, -2.5059e-01,\n",
       "         1.8753e-01, -3.8892e-01, -3.4530e-01, -1.3479e-02,  3.5456e-01,\n",
       "         3.4532e-01, -4.1525e-01,  6.7424e-02,  4.9359e-02,  1.1325e-01,\n",
       "         2.8871e-01, -1.2802e-01,  4.6521e-01, -6.3296e-01,  1.3306e-01,\n",
       "        -3.3512e-01,  1.7367e-01,  3.0564e-01, -2.8485e-01,  1.1287e-01,\n",
       "        -4.1615e-02, -1.4040e-01,  2.3517e-01, -1.3585e-01, -6.8302e-01,\n",
       "        -2.7098e-01,  2.1492e-01, -8.6209e-01, -8.8952e-02, -4.7349e-01,\n",
       "        -5.4914e-02, -2.3721e+00,  5.4088e-01, -3.7179e-02, -8.3336e-01,\n",
       "         2.7951e-01,  2.9768e-02,  1.8508e-01,  9.0175e-02,  8.9482e-01,\n",
       "         7.4719e-01, -2.5185e-01, -3.1952e-03, -2.3201e-01,  3.0211e-01,\n",
       "        -1.6534e-01,  2.9274e-01,  3.8885e-01,  7.0735e-02, -2.4316e-01,\n",
       "        -3.3556e-01, -3.0556e-01,  6.3302e-01, -6.5685e-02,  3.9591e-01,\n",
       "         5.2631e-01,  4.2671e-01,  1.4815e-02,  5.9383e-02,  3.4632e-01,\n",
       "         8.8937e-02,  5.5691e-01,  2.5364e-01, -2.0377e-01,  1.2279e-01,\n",
       "         5.2436e-01, -5.6409e-03, -3.5422e-01,  2.7461e-01,  1.6163e-01,\n",
       "        -2.5570e-02,  1.2522e-01,  8.6843e-02,  7.0331e-01, -2.1923e-01,\n",
       "        -8.6530e-02,  8.3039e-01,  1.3934e-01,  5.2838e-01, -8.6912e-01,\n",
       "         1.3178e-01, -2.9327e-01,  1.4053e-01, -1.0812e-01, -5.7730e-01,\n",
       "        -3.5729e-02,  7.8969e-02, -1.0791e-01,  4.1569e-01, -3.0725e-02,\n",
       "         3.2697e-01, -2.3242e-02, -2.5284e-01,  5.8527e-01,  1.5154e-01,\n",
       "         1.8949e-01,  4.9383e-01, -1.6240e-01, -2.8852e-01,  6.0926e-02,\n",
       "         2.5658e-01, -2.8475e-01, -6.0317e-02,  1.1230e+00, -1.5176e-01,\n",
       "         1.2660e+00,  5.5390e-01,  2.1772e-01,  4.0345e-01,  1.6562e+00,\n",
       "         1.6370e-01, -3.9414e-01,  3.6312e-02,  1.2084e-01, -1.2434e-01,\n",
       "         6.9345e-02,  2.0287e-01,  9.4943e-01, -2.3930e-01, -3.0875e-01,\n",
       "        -6.6693e-02, -9.3295e-02,  3.0703e-01,  3.8601e-01,  1.7884e-01,\n",
       "        -7.4315e-02, -1.7641e-01,  1.6985e-01,  1.7470e-01,  4.0920e-01,\n",
       "         2.0187e-01, -3.9383e-01, -5.0034e-01,  3.8570e-01, -2.9503e-01,\n",
       "         5.4484e-02,  3.4772e-01, -1.3068e-01, -4.1854e-02,  4.1018e-01,\n",
       "         4.7403e-01,  2.1626e-02,  2.5327e-01,  2.9204e-02,  2.6638e-01,\n",
       "         2.4526e-01,  4.8779e-01,  2.1766e-01,  2.9045e-01, -8.2794e-02,\n",
       "        -1.9333e-01,  6.5552e-01,  1.8902e-01, -8.6745e-01, -2.5005e-01,\n",
       "        -8.0653e-02,  1.7729e-01, -1.5353e-01, -5.0856e-01,  1.5559e-01,\n",
       "         2.5224e-01,  1.9522e-01, -3.6889e-01, -6.3493e-02,  3.5741e-01,\n",
       "        -1.3111e-01, -2.5710e-01,  2.5987e-01, -2.2372e-01,  1.2042e-01,\n",
       "        -1.2019e-01, -2.4190e-01, -1.1265e-01,  4.7641e-02,  4.8520e-01,\n",
       "         1.2162e-01,  3.2645e-01,  1.9322e-02,  2.2919e-01, -2.0050e-01,\n",
       "         3.0933e-02, -1.9078e-01, -3.5674e-01, -4.3797e-01,  5.9627e-02,\n",
       "        -2.4879e-01,  8.0691e-02,  3.9267e-01, -3.7017e-01, -3.0207e-01,\n",
       "         6.2514e-01,  5.4348e-01,  5.0007e-01, -5.6767e-01,  9.4076e-01,\n",
       "         6.0736e-02, -8.5331e-01, -1.2073e-01, -3.4496e-01,  1.0616e-01,\n",
       "        -8.9913e-02,  2.4758e-01,  3.8357e-01,  3.4144e-01, -4.4570e-01,\n",
       "        -4.0282e-01,  3.1468e-01,  2.9399e-01,  2.0153e-01,  3.3065e-01,\n",
       "        -5.0774e-02,  3.5268e-01,  2.6563e-01, -6.9870e-02, -3.8177e-01,\n",
       "         2.6541e-02,  1.0479e-01, -1.1774e-01,  5.8068e-01,  6.8067e-01,\n",
       "        -2.7840e-01,  3.1710e-01,  1.4797e-01,  2.5536e-01, -8.8437e-02,\n",
       "        -1.7671e-01,  2.5446e-01,  1.0259e-01, -7.5159e-03, -2.3263e-01,\n",
       "         8.6955e-01, -9.8863e-02, -3.1607e-02,  4.6938e-01, -4.3800e-02,\n",
       "         3.5433e-01,  4.4809e-01, -2.9127e-01,  2.8085e-01, -5.4994e-02,\n",
       "        -1.9222e-01,  1.4731e-01, -2.0343e-01,  1.1562e-02,  1.4735e-01,\n",
       "         8.7781e-02,  4.4992e-02,  1.1241e-01,  1.3980e-01,  3.9508e-01,\n",
       "         9.0363e-01,  2.3317e+00, -2.9330e-01, -1.3876e-01,  5.3909e-02,\n",
       "         1.0945e-01,  5.8536e-02,  6.9081e-02,  1.5032e-01, -8.0187e-02,\n",
       "        -1.8257e-01,  1.0923e+00, -3.4334e-01,  6.2056e-01, -9.7381e-01,\n",
       "        -3.8721e-01, -2.1600e-01,  2.3055e-01, -1.1385e-01,  2.5289e-01,\n",
       "        -2.6931e-01,  2.7845e-01,  2.6152e-01,  1.2767e-01, -3.0951e-01,\n",
       "         5.0004e-01,  2.7921e-01, -7.9209e-02, -2.4700e-01, -2.8453e-01,\n",
       "         6.0224e-02,  8.1397e-02,  1.6286e-01, -4.9702e-01,  1.8969e-02,\n",
       "        -1.8115e-01,  2.4936e-01,  5.0435e-01,  1.5593e+01, -1.2294e-02,\n",
       "        -3.6172e-01,  3.8478e-01,  1.4780e-01,  5.5947e-03,  4.2369e-01,\n",
       "         1.2428e-01, -2.3411e-01, -1.1894e-01, -3.3080e-01,  3.9147e-01,\n",
       "        -2.3137e-01, -5.5419e-01,  1.2857e-01,  3.2766e-01,  3.3294e-02,\n",
       "         3.1970e-01,  4.0061e-01, -1.9314e-02, -1.0654e-01, -1.5255e-01,\n",
       "        -8.7680e-02,  5.4443e-01,  7.2144e-02,  4.8756e-01, -3.5279e-01,\n",
       "        -8.6327e-02, -2.5804e-01,  6.7484e-02,  1.0399e-01,  4.4884e-01,\n",
       "         9.1727e-04, -3.3502e-01, -1.5268e-01, -3.0226e-01, -1.7909e+00,\n",
       "         7.0019e-01,  6.8439e-03, -4.7253e-01, -2.4664e-01,  2.3164e-01,\n",
       "         5.0691e-02, -1.4615e-01, -4.6308e-01,  2.0541e-01,  4.5305e-01,\n",
       "        -2.3543e-02,  4.9929e-02,  1.1777e-01,  1.5401e-01,  1.9133e-01,\n",
       "         1.7610e-01, -4.1563e-02, -1.3300e-02, -6.0195e-01,  8.1306e-02,\n",
       "        -6.8202e-02,  1.2196e-01, -9.9103e-02,  8.5106e-02,  1.8418e-01,\n",
       "        -1.1925e-01,  9.8748e-02, -2.4427e+00,  1.8840e-01, -1.5513e-01,\n",
       "        -1.1796e-01, -9.3256e-01, -6.6504e-02,  2.4393e-01, -1.7212e-01,\n",
       "         1.9612e-01, -2.0412e-01, -1.1431e-02,  5.6367e-01, -1.0506e+00,\n",
       "         8.5060e-02, -5.7260e-02,  3.9334e-01,  3.4978e-01,  4.3910e-01,\n",
       "        -4.5110e-02,  5.5938e-02, -1.1040e-01,  3.7970e-01, -4.0574e-04,\n",
       "         2.0221e-01,  7.7661e-02,  4.7051e-01, -1.8921e-01,  6.3622e-02,\n",
       "        -1.9641e-01, -4.3996e-02, -2.1906e-01, -3.0859e-01, -8.9059e-01,\n",
       "         4.7148e-01, -7.0216e-02,  3.4088e-01,  5.6585e-01,  1.0343e-01,\n",
       "         5.0247e-02, -1.2199e-01,  2.9774e-01, -1.4279e-01,  1.6835e-01,\n",
       "        -3.1191e-01,  3.3532e-01,  6.6849e-02,  1.5271e-01, -5.6680e-01,\n",
       "        -2.8482e-01, -1.9460e-01,  4.5843e-01,  5.4932e-02, -6.5442e-01,\n",
       "         6.7304e-01,  4.1225e-03,  1.7666e-01,  8.8012e-01,  6.5521e-02,\n",
       "         1.2220e-01,  9.3393e-02, -1.1642e-01, -5.2023e-01, -8.1691e-01,\n",
       "         1.1515e-01, -2.2830e-01,  1.7171e-01,  2.1016e-02,  1.9493e-01,\n",
       "        -3.7813e-01,  2.6006e-01,  2.5334e-01, -4.3330e-01, -6.6673e-02,\n",
       "        -1.0257e-01, -2.4650e-01,  3.5578e-01, -3.3979e-01, -7.2686e-01,\n",
       "         6.2690e-01,  1.2554e+00, -3.3656e-01,  2.3731e-01, -6.2557e-01,\n",
       "         3.9988e-01,  2.7813e-01, -1.6410e-01,  8.0358e-02, -9.3932e-02,\n",
       "        -1.2927e-01, -1.4459e-02,  1.2794e-01,  4.3601e-01, -2.7468e-01,\n",
       "        -2.2762e-01,  4.8348e-02,  1.6152e-01, -9.1424e-01, -1.8965e+00,\n",
       "         2.8087e-02, -9.0412e-01, -7.5232e-01,  4.0321e-01, -3.3965e-02,\n",
       "        -1.6882e-01,  1.5595e-01, -7.6760e-02,  3.2145e-01,  5.1387e-01,\n",
       "         4.4560e-01,  1.7236e-02, -3.6405e-01, -2.3008e-01, -1.8705e-01,\n",
       "         2.1586e-01,  8.1693e-02, -1.5343e-01], grad_fn=<MeanBackward1>)"
      ]
     },
     "execution_count": 22,
     "metadata": {},
     "output_type": "execute_result"
    }
   ],
   "source": [
    "embeddings[0]"
   ]
  },
  {
   "cell_type": "code",
   "execution_count": 24,
   "metadata": {},
   "outputs": [
    {
     "data": {
      "text/plain": [
       "(59, 768)"
      ]
     },
     "execution_count": 24,
     "metadata": {},
     "output_type": "execute_result"
    }
   ],
   "source": [
    "embeddings = np.array([e.detach().numpy() for e in embeddings])\n",
    "\n",
    "assert embeddings.shape == (\n",
    "    len(sentences),\n",
    "    model.config.hidden_size,\n",
    "), f\"Shape {embeddings.shape} does not match expected shape {(len(sentences), model.config.hidden_size)}\"\n",
    "embeddings.shape\n"
   ]
  },
  {
   "cell_type": "markdown",
   "metadata": {},
   "source": [
    "# Plot"
   ]
  },
  {
   "cell_type": "markdown",
   "metadata": {},
   "source": [
    "## PCA"
   ]
  },
  {
   "cell_type": "code",
   "execution_count": 25,
   "metadata": {},
   "outputs": [],
   "source": [
    "from sklearn.decomposition import PCA\n",
    "\n",
    "X_pca = PCA(n_components=2).fit_transform(embeddings)\n"
   ]
  },
  {
   "cell_type": "code",
   "execution_count": 26,
   "metadata": {},
   "outputs": [
    {
     "data": {
      "text/plain": [
       "Text(0.5, 1.0, \"PCA Embeddings projections for 'cell'\")"
      ]
     },
     "execution_count": 26,
     "metadata": {},
     "output_type": "execute_result"
    },
    {
     "data": {
      "image/png": "[encoded data removed]",
      "text/plain": [
       "<Figure size 640x480 with 1 Axes>"
      ]
     },
     "metadata": {},
     "output_type": "display_data"
    }
   ],
   "source": [
    "plt.scatter(X_pca[:, 0], X_pca[:, 1], label=TERM)\n",
    "plt.title(f\"PCA Embeddings projections for '{TERM}'\")\n"
   ]
  },
  {
   "cell_type": "markdown",
   "metadata": {},
   "source": [
    "## UMAP"
   ]
  },
  {
   "cell_type": "code",
   "execution_count": 28,
   "metadata": {},
   "outputs": [
    {
     "data": {
      "text/html": [
       "<div>\n",
       "<style scoped>\n",
       "    .dataframe tbody tr th:only-of-type {\n",
       "        vertical-align: middle;\n",
       "    }\n",
       "\n",
       "    .dataframe tbody tr th {\n",
       "        vertical-align: top;\n",
       "    }\n",
       "\n",
       "    .dataframe thead th {\n",
       "        text-align: right;\n",
       "    }\n",
       "</style>\n",
       "<table border=\"1\" class=\"dataframe\">\n",
       "  <thead>\n",
       "    <tr style=\"text-align: right;\">\n",
       "      <th></th>\n",
       "      <th>doc</th>\n",
       "      <th>text</th>\n",
       "      <th>year</th>\n",
       "      <th>decade</th>\n",
       "    </tr>\n",
       "  </thead>\n",
       "  <tbody>\n",
       "    <tr>\n",
       "      <th>0</th>\n",
       "      <td>fic_1979_10650.txt</td>\n",
       "      <td>A bulky television set , incongruous in the ce...</td>\n",
       "      <td>1979</td>\n",
       "      <td>1970 - 1980</td>\n",
       "    </tr>\n",
       "    <tr>\n",
       "      <th>1</th>\n",
       "      <td>fic_1979_10650.txt</td>\n",
       "      <td>Some relevant information , however incomplete...</td>\n",
       "      <td>1979</td>\n",
       "      <td>1970 - 1980</td>\n",
       "    </tr>\n",
       "    <tr>\n",
       "      <th>2</th>\n",
       "      <td>fic_1979_10650.txt</td>\n",
       "      <td>Yet to break off contact while New York was st...</td>\n",
       "      <td>1979</td>\n",
       "      <td>1970 - 1980</td>\n",
       "    </tr>\n",
       "    <tr>\n",
       "      <th>3</th>\n",
       "      <td>nf_1994_746850.txt</td>\n",
       "      <td>Alternative systems include projection from be...</td>\n",
       "      <td>1994</td>\n",
       "      <td>1990 - 2000</td>\n",
       "    </tr>\n",
       "    <tr>\n",
       "      <th>4</th>\n",
       "      <td>mag_1981_494150.txt</td>\n",
       "      <td>Before Joanne Chesimard escaped she had amasse...</td>\n",
       "      <td>1981</td>\n",
       "      <td>1980 - 1990</td>\n",
       "    </tr>\n",
       "    <tr>\n",
       "      <th>5</th>\n",
       "      <td>mag_1995_426450.txt</td>\n",
       "      <td>&lt;p&gt; Mitochondrial DNA is located outside a cel...</td>\n",
       "      <td>1995</td>\n",
       "      <td>1990 - 2000</td>\n",
       "    </tr>\n",
       "    <tr>\n",
       "      <th>6</th>\n",
       "      <td>mag_1995_426450.txt</td>\n",
       "      <td>There were also passing references to the prac...</td>\n",
       "      <td>1995</td>\n",
       "      <td>1990 - 2000</td>\n",
       "    </tr>\n",
       "    <tr>\n",
       "      <th>7</th>\n",
       "      <td>nf_1884_748750.txt</td>\n",
       "      <td>The whole scene was almost as uncanny as the w...</td>\n",
       "      <td>1884</td>\n",
       "      <td>1880 - 1890</td>\n",
       "    </tr>\n",
       "    <tr>\n",
       "      <th>8</th>\n",
       "      <td>nf_1884_748750.txt</td>\n",
       "      <td>This was the Heart of Midlothian , the condemn...</td>\n",
       "      <td>1884</td>\n",
       "      <td>1880 - 1890</td>\n",
       "    </tr>\n",
       "    <tr>\n",
       "      <th>9</th>\n",
       "      <td>nf_1884_748750.txt</td>\n",
       "      <td>.. Long after the condemned cell had been pull...</td>\n",
       "      <td>1884</td>\n",
       "      <td>1880 - 1890</td>\n",
       "    </tr>\n",
       "    <tr>\n",
       "      <th>10</th>\n",
       "      <td>fic_1933_5650.txt</td>\n",
       "      <td>Cooped in their transparent cell , the crew of...</td>\n",
       "      <td>1933</td>\n",
       "      <td>1930 - 1940</td>\n",
       "    </tr>\n",
       "    <tr>\n",
       "      <th>11</th>\n",
       "      <td>mag_1896_562750.txt</td>\n",
       "      <td>A subtle poison permeated every cell of its bo...</td>\n",
       "      <td>1896</td>\n",
       "      <td>1890 - 1900</td>\n",
       "    </tr>\n",
       "    <tr>\n",
       "      <th>12</th>\n",
       "      <td>news_1884_745250.txt</td>\n",
       "      <td>The officer knew nothing of the previous arres...</td>\n",
       "      <td>1884</td>\n",
       "      <td>1880 - 1890</td>\n",
       "    </tr>\n",
       "    <tr>\n",
       "      <th>13</th>\n",
       "      <td>mag_2007_390950.txt</td>\n",
       "      <td>\" The final straw was when I went into the loc...</td>\n",
       "      <td>2007</td>\n",
       "      <td>2000 - 2010</td>\n",
       "    </tr>\n",
       "    <tr>\n",
       "      <th>14</th>\n",
       "      <td>mag_1923_467650.txt</td>\n",
       "      <td>Every grub about to hatch leaves its swaddling...</td>\n",
       "      <td>1923</td>\n",
       "      <td>1920 - 1930</td>\n",
       "    </tr>\n",
       "    <tr>\n",
       "      <th>15</th>\n",
       "      <td>mag_1923_467650.txt</td>\n",
       "      <td>The first symptom of swarming fever is the que...</td>\n",
       "      <td>1923</td>\n",
       "      <td>1920 - 1930</td>\n",
       "    </tr>\n",
       "    <tr>\n",
       "      <th>16</th>\n",
       "      <td>fic_2005_50150.txt</td>\n",
       "      <td>\" I know this part of town like my girlfriend ...</td>\n",
       "      <td>2005</td>\n",
       "      <td>2000 - 2010</td>\n",
       "    </tr>\n",
       "    <tr>\n",
       "      <th>17</th>\n",
       "      <td>fic_2005_50150.txt</td>\n",
       "      <td>\" The cell phone 's battery is dead , he does ...</td>\n",
       "      <td>2005</td>\n",
       "      <td>2000 - 2010</td>\n",
       "    </tr>\n",
       "    <tr>\n",
       "      <th>18</th>\n",
       "      <td>fic_2005_50150.txt</td>\n",
       "      <td>He turns off the cell , feeling sick to his st...</td>\n",
       "      <td>2005</td>\n",
       "      <td>2000 - 2010</td>\n",
       "    </tr>\n",
       "    <tr>\n",
       "      <th>19</th>\n",
       "      <td>fic_2005_50150.txt</td>\n",
       "      <td>The mounted locust head , still lying in a cor...</td>\n",
       "      <td>2005</td>\n",
       "      <td>2000 - 2010</td>\n",
       "    </tr>\n",
       "    <tr>\n",
       "      <th>20</th>\n",
       "      <td>fic_2005_50150.txt</td>\n",
       "      <td>He keeps his cell off , but knows the messages...</td>\n",
       "      <td>2005</td>\n",
       "      <td>2000 - 2010</td>\n",
       "    </tr>\n",
       "    <tr>\n",
       "      <th>21</th>\n",
       "      <td>fic_2005_50150.txt</td>\n",
       "      <td>And we fade to : Rick , at night , listening t...</td>\n",
       "      <td>2005</td>\n",
       "      <td>2000 - 2010</td>\n",
       "    </tr>\n",
       "    <tr>\n",
       "      <th>22</th>\n",
       "      <td>fic_2005_50150.txt</td>\n",
       "      <td>That evening , Rick 's cell has only one messa...</td>\n",
       "      <td>2005</td>\n",
       "      <td>2000 - 2010</td>\n",
       "    </tr>\n",
       "    <tr>\n",
       "      <th>23</th>\n",
       "      <td>fic_2005_50150.txt</td>\n",
       "      <td>\" And then : The sound of his cell chirping br...</td>\n",
       "      <td>2005</td>\n",
       "      <td>2000 - 2010</td>\n",
       "    </tr>\n",
       "    <tr>\n",
       "      <th>24</th>\n",
       "      <td>fic_2005_50150.txt</td>\n",
       "      <td>He struggles up , angry , ready to read the pr...</td>\n",
       "      <td>2005</td>\n",
       "      <td>2000 - 2010</td>\n",
       "    </tr>\n",
       "    <tr>\n",
       "      <th>25</th>\n",
       "      <td>fic_2005_50150.txt</td>\n",
       "      <td>\" And cell messages , real ones : One from the...</td>\n",
       "      <td>2005</td>\n",
       "      <td>2000 - 2010</td>\n",
       "    </tr>\n",
       "    <tr>\n",
       "      <th>26</th>\n",
       "      <td>fic_1981_780050.txt</td>\n",
       "      <td>I hated her with every cell in my body ?</td>\n",
       "      <td>1981</td>\n",
       "      <td>1980 - 1990</td>\n",
       "    </tr>\n",
       "    <tr>\n",
       "      <th>27</th>\n",
       "      <td>mag_1946_160150.txt</td>\n",
       "      <td>gaze a Communist cell conspiring in Madrid , c...</td>\n",
       "      <td>1946</td>\n",
       "      <td>1940 - 1950</td>\n",
       "    </tr>\n",
       "    <tr>\n",
       "      <th>28</th>\n",
       "      <td>fic_1972_10550.txt</td>\n",
       "      <td>Many 's the cell he washed down with the Blood...</td>\n",
       "      <td>1972</td>\n",
       "      <td>1970 - 1980</td>\n",
       "    </tr>\n",
       "    <tr>\n",
       "      <th>29</th>\n",
       "      <td>mag_1950_492350.txt</td>\n",
       "      <td>Some bankrupts enjoy life in a cell .</td>\n",
       "      <td>1950</td>\n",
       "      <td>1950 - 1960</td>\n",
       "    </tr>\n",
       "    <tr>\n",
       "      <th>30</th>\n",
       "      <td>mag_1988_339250.txt</td>\n",
       "      <td>\" Bill ( the DEA is withholding his full name ...</td>\n",
       "      <td>1988</td>\n",
       "      <td>1980 - 1990</td>\n",
       "    </tr>\n",
       "    <tr>\n",
       "      <th>31</th>\n",
       "      <td>mag_1954_234150.txt</td>\n",
       "      <td>For more than a century , electrical engineers...</td>\n",
       "      <td>1954</td>\n",
       "      <td>1950 - 1960</td>\n",
       "    </tr>\n",
       "    <tr>\n",
       "      <th>32</th>\n",
       "      <td>mag_1954_234150.txt</td>\n",
       "      <td>A fuel cell , theoretically , could be almost ...</td>\n",
       "      <td>1954</td>\n",
       "      <td>1950 - 1960</td>\n",
       "    </tr>\n",
       "    <tr>\n",
       "      <th>33</th>\n",
       "      <td>mag_1954_234150.txt</td>\n",
       "      <td>&lt;P&gt; In Britain 's B.E.A.M.A. ( British Electri...</td>\n",
       "      <td>1954</td>\n",
       "      <td>1950 - 1960</td>\n",
       "    </tr>\n",
       "    <tr>\n",
       "      <th>34</th>\n",
       "      <td>mag_1954_234150.txt</td>\n",
       "      <td>&lt;P&gt; A single cell produces less than one volt ...</td>\n",
       "      <td>1954</td>\n",
       "      <td>1950 - 1960</td>\n",
       "    </tr>\n",
       "    <tr>\n",
       "      <th>35</th>\n",
       "      <td>mag_1954_234150.txt</td>\n",
       "      <td>Bacon believes that his fuel cell can also be ...</td>\n",
       "      <td>1954</td>\n",
       "      <td>1950 - 1960</td>\n",
       "    </tr>\n",
       "    <tr>\n",
       "      <th>36</th>\n",
       "      <td>nf_2006_747050.txt</td>\n",
       "      <td>Together with severely constricted peripheral ...</td>\n",
       "      <td>2006</td>\n",
       "      <td>2000 - 2010</td>\n",
       "    </tr>\n",
       "    <tr>\n",
       "      <th>37</th>\n",
       "      <td>fic_1910_2750.txt</td>\n",
       "      <td>The cell they keep him in is below the sea-lev...</td>\n",
       "      <td>1910</td>\n",
       "      <td>1910 - 1920</td>\n",
       "    </tr>\n",
       "    <tr>\n",
       "      <th>38</th>\n",
       "      <td>nf_1991_774050.txt</td>\n",
       "      <td>SELENIUM A. Introduction Selenium is part of t...</td>\n",
       "      <td>1991</td>\n",
       "      <td>1990 - 2000</td>\n",
       "    </tr>\n",
       "    <tr>\n",
       "      <th>39</th>\n",
       "      <td>nf_1991_774050.txt</td>\n",
       "      <td>The loss of unsaturated fatty acids by peroxid...</td>\n",
       "      <td>1991</td>\n",
       "      <td>1990 - 2000</td>\n",
       "    </tr>\n",
       "    <tr>\n",
       "      <th>40</th>\n",
       "      <td>nf_1991_774050.txt</td>\n",
       "      <td>The loss of unsaturated fatty acids by peroxid...</td>\n",
       "      <td>1991</td>\n",
       "      <td>1990 - 2000</td>\n",
       "    </tr>\n",
       "    <tr>\n",
       "      <th>41</th>\n",
       "      <td>nf_1982_774150.txt</td>\n",
       "      <td>We can perhaps think of the identity condition...</td>\n",
       "      <td>1982</td>\n",
       "      <td>1980 - 1990</td>\n",
       "    </tr>\n",
       "    <tr>\n",
       "      <th>42</th>\n",
       "      <td>fic_1838_7250.txt</td>\n",
       "      <td>When he attempts to give them utterance , he @...</td>\n",
       "      <td>1838</td>\n",
       "      <td>1830 - 1840</td>\n",
       "    </tr>\n",
       "    <tr>\n",
       "      <th>43</th>\n",
       "      <td>fic_2009_36650.txt</td>\n",
       "      <td>Sunlight streamed into the yard and reflected ...</td>\n",
       "      <td>2009</td>\n",
       "      <td>2000 - 2010</td>\n",
       "    </tr>\n",
       "    <tr>\n",
       "      <th>44</th>\n",
       "      <td>fic_1964_10450.txt</td>\n",
       "      <td>Some drunk in a cell , waiting to go down to t...</td>\n",
       "      <td>1964</td>\n",
       "      <td>1960 - 1970</td>\n",
       "    </tr>\n",
       "    <tr>\n",
       "      <th>45</th>\n",
       "      <td>fic_1964_10450.txt</td>\n",
       "      <td>\" @ @ @ @ @ @ @ @ @ @ even have photo-cell con...</td>\n",
       "      <td>1964</td>\n",
       "      <td>1960 - 1970</td>\n",
       "    </tr>\n",
       "    <tr>\n",
       "      <th>46</th>\n",
       "      <td>mag_1986_333750.txt</td>\n",
       "      <td>Screaming and gesturing wildly @ @ @ @ @ @ @ @...</td>\n",
       "      <td>1986</td>\n",
       "      <td>1980 - 1990</td>\n",
       "    </tr>\n",
       "    <tr>\n",
       "      <th>47</th>\n",
       "      <td>mag_1999_407850.txt</td>\n",
       "      <td>Soy also contains high levels of phytosterols ...</td>\n",
       "      <td>1999</td>\n",
       "      <td>1990 - 2000</td>\n",
       "    </tr>\n",
       "    <tr>\n",
       "      <th>48</th>\n",
       "      <td>fic_1890_4350.txt</td>\n",
       "      <td>\" An exquisitely minute cell in violent motion...</td>\n",
       "      <td>1890</td>\n",
       "      <td>1890 - 1900</td>\n",
       "    </tr>\n",
       "    <tr>\n",
       "      <th>49</th>\n",
       "      <td>nf_1962_773650.txt</td>\n",
       "      <td>If , for instance , light falls on a cathode ,...</td>\n",
       "      <td>1962</td>\n",
       "      <td>1960 - 1970</td>\n",
       "    </tr>\n",
       "    <tr>\n",
       "      <th>50</th>\n",
       "      <td>mag_1930_468750.txt</td>\n",
       "      <td>In the first place , when I was very young som...</td>\n",
       "      <td>1930</td>\n",
       "      <td>1930 - 1940</td>\n",
       "    </tr>\n",
       "    <tr>\n",
       "      <th>51</th>\n",
       "      <td>mag_1930_468750.txt</td>\n",
       "      <td>Thus when I was thirteen years old there was a...</td>\n",
       "      <td>1930</td>\n",
       "      <td>1930 - 1940</td>\n",
       "    </tr>\n",
       "    <tr>\n",
       "      <th>52</th>\n",
       "      <td>fic_1908_1150.txt</td>\n",
       "      <td>It had only been when Bolton 's sister had dis...</td>\n",
       "      <td>1908</td>\n",
       "      <td>1900 - 1910</td>\n",
       "    </tr>\n",
       "    <tr>\n",
       "      <th>53</th>\n",
       "      <td>fic_1908_1150.txt</td>\n",
       "      <td>CHAPTER XVII Some of the sunshine that had hel...</td>\n",
       "      <td>1908</td>\n",
       "      <td>1900 - 1910</td>\n",
       "    </tr>\n",
       "    <tr>\n",
       "      <th>54</th>\n",
       "      <td>fic_1908_1150.txt</td>\n",
       "      <td>\" \" I have two degrees myself , \" Jack laughed...</td>\n",
       "      <td>1908</td>\n",
       "      <td>1900 - 1910</td>\n",
       "    </tr>\n",
       "    <tr>\n",
       "      <th>55</th>\n",
       "      <td>fic_1908_1150.txt</td>\n",
       "      <td>Others , less fortunate , had disappeared alto...</td>\n",
       "      <td>1908</td>\n",
       "      <td>1900 - 1910</td>\n",
       "    </tr>\n",
       "    <tr>\n",
       "      <th>56</th>\n",
       "      <td>fic_1908_1150.txt</td>\n",
       "      <td>This talk of Jack 's could only have been a ru...</td>\n",
       "      <td>1908</td>\n",
       "      <td>1900 - 1910</td>\n",
       "    </tr>\n",
       "    <tr>\n",
       "      <th>57</th>\n",
       "      <td>mag_1926_430950.txt</td>\n",
       "      <td>One man of science claimed that he could trace...</td>\n",
       "      <td>1926</td>\n",
       "      <td>1920 - 1930</td>\n",
       "    </tr>\n",
       "    <tr>\n",
       "      <th>58</th>\n",
       "      <td>fic_1996_54250.txt</td>\n",
       "      <td>But death hits an odd , clangy note , like a c...</td>\n",
       "      <td>1996</td>\n",
       "      <td>1990 - 2000</td>\n",
       "    </tr>\n",
       "  </tbody>\n",
       "</table>\n",
       "</div>"
      ],
      "text/plain": [
       "                     doc                                               text  \\\n",
       "0     fic_1979_10650.txt  A bulky television set , incongruous in the ce...   \n",
       "1     fic_1979_10650.txt  Some relevant information , however incomplete...   \n",
       "2     fic_1979_10650.txt  Yet to break off contact while New York was st...   \n",
       "3     nf_1994_746850.txt  Alternative systems include projection from be...   \n",
       "4    mag_1981_494150.txt  Before Joanne Chesimard escaped she had amasse...   \n",
       "5    mag_1995_426450.txt  <p> Mitochondrial DNA is located outside a cel...   \n",
       "6    mag_1995_426450.txt  There were also passing references to the prac...   \n",
       "7     nf_1884_748750.txt  The whole scene was almost as uncanny as the w...   \n",
       "8     nf_1884_748750.txt  This was the Heart of Midlothian , the condemn...   \n",
       "9     nf_1884_748750.txt  .. Long after the condemned cell had been pull...   \n",
       "10     fic_1933_5650.txt  Cooped in their transparent cell , the crew of...   \n",
       "11   mag_1896_562750.txt  A subtle poison permeated every cell of its bo...   \n",
       "12  news_1884_745250.txt  The officer knew nothing of the previous arres...   \n",
       "13   mag_2007_390950.txt  \" The final straw was when I went into the loc...   \n",
       "14   mag_1923_467650.txt  Every grub about to hatch leaves its swaddling...   \n",
       "15   mag_1923_467650.txt  The first symptom of swarming fever is the que...   \n",
       "16    fic_2005_50150.txt  \" I know this part of town like my girlfriend ...   \n",
       "17    fic_2005_50150.txt  \" The cell phone 's battery is dead , he does ...   \n",
       "18    fic_2005_50150.txt  He turns off the cell , feeling sick to his st...   \n",
       "19    fic_2005_50150.txt  The mounted locust head , still lying in a cor...   \n",
       "20    fic_2005_50150.txt  He keeps his cell off , but knows the messages...   \n",
       "21    fic_2005_50150.txt  And we fade to : Rick , at night , listening t...   \n",
       "22    fic_2005_50150.txt  That evening , Rick 's cell has only one messa...   \n",
       "23    fic_2005_50150.txt  \" And then : The sound of his cell chirping br...   \n",
       "24    fic_2005_50150.txt  He struggles up , angry , ready to read the pr...   \n",
       "25    fic_2005_50150.txt  \" And cell messages , real ones : One from the...   \n",
       "26   fic_1981_780050.txt           I hated her with every cell in my body ?   \n",
       "27   mag_1946_160150.txt  gaze a Communist cell conspiring in Madrid , c...   \n",
       "28    fic_1972_10550.txt  Many 's the cell he washed down with the Blood...   \n",
       "29   mag_1950_492350.txt              Some bankrupts enjoy life in a cell .   \n",
       "30   mag_1988_339250.txt  \" Bill ( the DEA is withholding his full name ...   \n",
       "31   mag_1954_234150.txt  For more than a century , electrical engineers...   \n",
       "32   mag_1954_234150.txt  A fuel cell , theoretically , could be almost ...   \n",
       "33   mag_1954_234150.txt  <P> In Britain 's B.E.A.M.A. ( British Electri...   \n",
       "34   mag_1954_234150.txt  <P> A single cell produces less than one volt ...   \n",
       "35   mag_1954_234150.txt  Bacon believes that his fuel cell can also be ...   \n",
       "36    nf_2006_747050.txt  Together with severely constricted peripheral ...   \n",
       "37     fic_1910_2750.txt  The cell they keep him in is below the sea-lev...   \n",
       "38    nf_1991_774050.txt  SELENIUM A. Introduction Selenium is part of t...   \n",
       "39    nf_1991_774050.txt  The loss of unsaturated fatty acids by peroxid...   \n",
       "40    nf_1991_774050.txt  The loss of unsaturated fatty acids by peroxid...   \n",
       "41    nf_1982_774150.txt  We can perhaps think of the identity condition...   \n",
       "42     fic_1838_7250.txt  When he attempts to give them utterance , he @...   \n",
       "43    fic_2009_36650.txt  Sunlight streamed into the yard and reflected ...   \n",
       "44    fic_1964_10450.txt  Some drunk in a cell , waiting to go down to t...   \n",
       "45    fic_1964_10450.txt  \" @ @ @ @ @ @ @ @ @ @ even have photo-cell con...   \n",
       "46   mag_1986_333750.txt  Screaming and gesturing wildly @ @ @ @ @ @ @ @...   \n",
       "47   mag_1999_407850.txt  Soy also contains high levels of phytosterols ...   \n",
       "48     fic_1890_4350.txt  \" An exquisitely minute cell in violent motion...   \n",
       "49    nf_1962_773650.txt  If , for instance , light falls on a cathode ,...   \n",
       "50   mag_1930_468750.txt  In the first place , when I was very young som...   \n",
       "51   mag_1930_468750.txt  Thus when I was thirteen years old there was a...   \n",
       "52     fic_1908_1150.txt  It had only been when Bolton 's sister had dis...   \n",
       "53     fic_1908_1150.txt  CHAPTER XVII Some of the sunshine that had hel...   \n",
       "54     fic_1908_1150.txt  \" \" I have two degrees myself , \" Jack laughed...   \n",
       "55     fic_1908_1150.txt  Others , less fortunate , had disappeared alto...   \n",
       "56     fic_1908_1150.txt  This talk of Jack 's could only have been a ru...   \n",
       "57   mag_1926_430950.txt  One man of science claimed that he could trace...   \n",
       "58    fic_1996_54250.txt  But death hits an odd , clangy note , like a c...   \n",
       "\n",
       "    year       decade  \n",
       "0   1979  1970 - 1980  \n",
       "1   1979  1970 - 1980  \n",
       "2   1979  1970 - 1980  \n",
       "3   1994  1990 - 2000  \n",
       "4   1981  1980 - 1990  \n",
       "5   1995  1990 - 2000  \n",
       "6   1995  1990 - 2000  \n",
       "7   1884  1880 - 1890  \n",
       "8   1884  1880 - 1890  \n",
       "9   1884  1880 - 1890  \n",
       "10  1933  1930 - 1940  \n",
       "11  1896  1890 - 1900  \n",
       "12  1884  1880 - 1890  \n",
       "13  2007  2000 - 2010  \n",
       "14  1923  1920 - 1930  \n",
       "15  1923  1920 - 1930  \n",
       "16  2005  2000 - 2010  \n",
       "17  2005  2000 - 2010  \n",
       "18  2005  2000 - 2010  \n",
       "19  2005  2000 - 2010  \n",
       "20  2005  2000 - 2010  \n",
       "21  2005  2000 - 2010  \n",
       "22  2005  2000 - 2010  \n",
       "23  2005  2000 - 2010  \n",
       "24  2005  2000 - 2010  \n",
       "25  2005  2000 - 2010  \n",
       "26  1981  1980 - 1990  \n",
       "27  1946  1940 - 1950  \n",
       "28  1972  1970 - 1980  \n",
       "29  1950  1950 - 1960  \n",
       "30  1988  1980 - 1990  \n",
       "31  1954  1950 - 1960  \n",
       "32  1954  1950 - 1960  \n",
       "33  1954  1950 - 1960  \n",
       "34  1954  1950 - 1960  \n",
       "35  1954  1950 - 1960  \n",
       "36  2006  2000 - 2010  \n",
       "37  1910  1910 - 1920  \n",
       "38  1991  1990 - 2000  \n",
       "39  1991  1990 - 2000  \n",
       "40  1991  1990 - 2000  \n",
       "41  1982  1980 - 1990  \n",
       "42  1838  1830 - 1840  \n",
       "43  2009  2000 - 2010  \n",
       "44  1964  1960 - 1970  \n",
       "45  1964  1960 - 1970  \n",
       "46  1986  1980 - 1990  \n",
       "47  1999  1990 - 2000  \n",
       "48  1890  1890 - 1900  \n",
       "49  1962  1960 - 1970  \n",
       "50  1930  1930 - 1940  \n",
       "51  1930  1930 - 1940  \n",
       "52  1908  1900 - 1910  \n",
       "53  1908  1900 - 1910  \n",
       "54  1908  1900 - 1910  \n",
       "55  1908  1900 - 1910  \n",
       "56  1908  1900 - 1910  \n",
       "57  1926  1920 - 1930  \n",
       "58  1996  1990 - 2000  "
      ]
     },
     "execution_count": 28,
     "metadata": {},
     "output_type": "execute_result"
    }
   ],
   "source": [
    "def get_decade(sentence: Text) -> str:\n",
    "    start = int(sentence.metadata[\"year\"] / 10) * 10\n",
    "    end = start + 10\n",
    "    return f\"{start} - {end}\"\n",
    "\n",
    "\n",
    "hover_data = pd.DataFrame(\n",
    "    data={\n",
    "        \"doc\": [sentence.metadata[\"filename\"] for sentence in sentences],\n",
    "        \"text\": [sentence.text for sentence in sentences],\n",
    "        \"year\": [sentence.metadata[\"year\"] for sentence in sentences],\n",
    "        \"decade\": [get_decade(sentence) for sentence in sentences],\n",
    "    }\n",
    ")\n",
    "\n",
    "assert len(hover_data) == len(\n",
    "    embeddings\n",
    "), f\"Number of embeddings ({len(embeddings)}) must equal number of sentence data points ({len(hover_data)}).\"\n",
    "hover_data\n"
   ]
  },
  {
   "cell_type": "code",
   "execution_count": 29,
   "metadata": {},
   "outputs": [],
   "source": [
    "import umap\n",
    "\n",
    "mapper = umap.UMAP().fit(embeddings)\n"
   ]
  },
  {
   "cell_type": "code",
   "execution_count": 30,
   "metadata": {},
   "outputs": [
    {
     "name": "stdout",
     "output_type": "stream",
     "text": [
      "huggingface/tokenizers: The current process just got forked, after parallelism has already been used. Disabling parallelism to avoid deadlocks...\n",
      "To disable this warning, you can either:\n",
      "\t- Avoid using `tokenizers` before the fork if possible\n",
      "\t- Explicitly set the environment variable TOKENIZERS_PARALLELISM=(true | false)\n",
      "huggingface/tokenizers: The current process just got forked, after parallelism has already been used. Disabling parallelism to avoid deadlocks...\n",
      "To disable this warning, you can either:\n",
      "\t- Avoid using `tokenizers` before the fork if possible\n",
      "\t- Explicitly set the environment variable TOKENIZERS_PARALLELISM=(true | false)\n",
      "huggingface/tokenizers: The current process just got forked, after parallelism has already been used. Disabling parallelism to avoid deadlocks...\n",
      "To disable this warning, you can either:\n",
      "\t- Avoid using `tokenizers` before the fork if possible\n",
      "\t- Explicitly set the environment variable TOKENIZERS_PARALLELISM=(true | false)\n",
      "huggingface/tokenizers: The current process just got forked, after parallelism has already been used. Disabling parallelism to avoid deadlocks...\n",
      "To disable this warning, you can either:\n",
      "\t- Avoid using `tokenizers` before the fork if possible\n",
      "\t- Explicitly set the environment variable TOKENIZERS_PARALLELISM=(true | false)\n",
      "huggingface/tokenizers: The current process just got forked, after parallelism has already been used. Disabling parallelism to avoid deadlocks...\n",
      "To disable this warning, you can either:\n",
      "\t- Avoid using `tokenizers` before the fork if possible\n",
      "\t- Explicitly set the environment variable TOKENIZERS_PARALLELISM=(true | false)\n",
      "huggingface/tokenizers: The current process just got forked, after parallelism has already been used. Disabling parallelism to avoid deadlocks...\n",
      "To disable this warning, you can either:\n",
      "\t- Avoid using `tokenizers` before the fork if possible\n",
      "\t- Explicitly set the environment variable TOKENIZERS_PARALLELISM=(true | false)\n"
     ]
    },
    {
     "data": {
      "text/html": [
       "<div class=\"bk-root\">\n",
       "        <a href=\"https://bokeh.org\" target=\"_blank\" class=\"bk-logo bk-logo-small bk-logo-notebook\"></a>\n",
       "        <span id=\"1002\">Loading BokehJS ...</span>\n",
       "    </div>\n"
      ]
     },
     "metadata": {},
     "output_type": "display_data"
    },
    {
     "data": {
      "application/javascript": "(function(root) {\n  function now() {\n    return new Date();\n  }\n\n  const force = true;\n\n  if (typeof root._bokeh_onload_callbacks === \"undefined\" || force === true) {\n    root._bokeh_onload_callbacks = [];\n    root._bokeh_is_loading = undefined;\n  }\n\nconst JS_MIME_TYPE = 'application/javascript';\n  const HTML_MIME_TYPE = 'text/html';\n  const EXEC_MIME_TYPE = 'application/vnd.bokehjs_exec.v0+json';\n  const CLASS_NAME = 'output_bokeh rendered_html';\n\n  /**\n   * Render data to the DOM node\n   */\n  function render(props, node) {\n    const script = document.createElement(\"script\");\n    node.appendChild(script);\n  }\n\n  /**\n   * Handle when an output is cleared or removed\n   */\n  function handleClearOutput(event, handle) {\n    const cell = handle.cell;\n\n    const id = cell.output_area._bokeh_element_id;\n    const server_id = cell.output_area._bokeh_server_id;\n    // Clean up Bokeh references\n    if (id != null && id in Bokeh.index) {\n      Bokeh.index[id].model.document.clear();\n      delete Bokeh.index[id];\n    }\n\n    if (server_id !== undefined) {\n      // Clean up Bokeh references\n      const cmd_clean = \"from bokeh.io.state import curstate; print(curstate().uuid_to_server['\" + server_id + \"'].get_sessions()[0].document.roots[0]._id)\";\n      cell.notebook.kernel.execute(cmd_clean, {\n        iopub: {\n          output: function(msg) {\n            const id = msg.content.text.trim();\n            if (id in Bokeh.index) {\n              Bokeh.index[id].model.document.clear();\n              delete Bokeh.index[id];\n            }\n          }\n        }\n      });\n      // Destroy server and session\n      const cmd_destroy = \"import bokeh.io.notebook as ion; ion.destroy_server('\" + server_id + \"')\";\n      cell.notebook.kernel.execute(cmd_destroy);\n    }\n  }\n\n  /**\n   * Handle when a new output is added\n   */\n  function handleAddOutput(event, handle) {\n    const output_area = handle.output_area;\n    const output = handle.output;\n\n    // limit handleAddOutput to display_data with EXEC_MIME_TYPE content only\n    if ((output.output_type != \"display_data\") || (!Object.prototype.hasOwnProperty.call(output.data, EXEC_MIME_TYPE))) {\n      return\n    }\n\n    const toinsert = output_area.element.find(\".\" + CLASS_NAME.split(' ')[0]);\n\n    if (output.metadata[EXEC_MIME_TYPE][\"id\"] !== undefined) {\n      toinsert[toinsert.length - 1].firstChild.textContent = output.data[JS_MIME_TYPE];\n      // store reference to embed id on output_area\n      output_area._bokeh_element_id = output.metadata[EXEC_MIME_TYPE][\"id\"];\n    }\n    if (output.metadata[EXEC_MIME_TYPE][\"server_id\"] !== undefined) {\n      const bk_div = document.createElement(\"div\");\n      bk_div.innerHTML = output.data[HTML_MIME_TYPE];\n      const script_attrs = bk_div.children[0].attributes;\n      for (let i = 0; i < script_attrs.length; i++) {\n        toinsert[toinsert.length - 1].firstChild.setAttribute(script_attrs[i].name, script_attrs[i].value);\n        toinsert[toinsert.length - 1].firstChild.textContent = bk_div.children[0].textContent\n      }\n      // store reference to server id on output_area\n      output_area._bokeh_server_id = output.metadata[EXEC_MIME_TYPE][\"server_id\"];\n    }\n  }\n\n  function register_renderer(events, OutputArea) {\n\n    function append_mime(data, metadata, element) {\n      // create a DOM node to render to\n      const toinsert = this.create_output_subarea(\n        metadata,\n        CLASS_NAME,\n        EXEC_MIME_TYPE\n      );\n      this.keyboard_manager.register_events(toinsert);\n      // Render to node\n      const props = {data: data, metadata: metadata[EXEC_MIME_TYPE]};\n      render(props, toinsert[toinsert.length - 1]);\n      element.append(toinsert);\n      return toinsert\n    }\n\n    /* Handle when an output is cleared or removed */\n    events.on('clear_output.CodeCell', handleClearOutput);\n    events.on('delete.Cell', handleClearOutput);\n\n    /* Handle when a new output is added */\n    events.on('output_added.OutputArea', handleAddOutput);\n\n    /**\n     * Register the mime type and append_mime function with output_area\n     */\n    OutputArea.prototype.register_mime_type(EXEC_MIME_TYPE, append_mime, {\n      /* Is output safe? */\n      safe: true,\n      /* Index of renderer in `output_area.display_order` */\n      index: 0\n    });\n  }\n\n  // register the mime type if in Jupyter Notebook environment and previously unregistered\n  if (root.Jupyter !== undefined) {\n    const events = require('base/js/events');\n    const OutputArea = require('notebook/js/outputarea').OutputArea;\n\n    if (OutputArea.prototype.mime_types().indexOf(EXEC_MIME_TYPE) == -1) {\n      register_renderer(events, OutputArea);\n    }\n  }\n  if (typeof (root._bokeh_timeout) === \"undefined\" || force === true) {\n    root._bokeh_timeout = Date.now() + 5000;\n    root._bokeh_failed_load = false;\n  }\n\n  const NB_LOAD_WARNING = {'data': {'text/html':\n     \"<div style='background-color: #fdd'>\\n\"+\n     \"<p>\\n\"+\n     \"BokehJS does not appear to have successfully loaded. If loading BokehJS from CDN, this \\n\"+\n     \"may be due to a slow or bad network connection. Possible fixes:\\n\"+\n     \"</p>\\n\"+\n     \"<ul>\\n\"+\n     \"<li>re-rerun `output_notebook()` to attempt to load from CDN again, or</li>\\n\"+\n     \"<li>use INLINE resources instead, as so:</li>\\n\"+\n     \"</ul>\\n\"+\n     \"<code>\\n\"+\n     \"from bokeh.resources import INLINE\\n\"+\n     \"output_notebook(resources=INLINE)\\n\"+\n     \"</code>\\n\"+\n     \"</div>\"}};\n\n  function display_loaded() {\n    const el = document.getElementById(\"1002\");\n    if (el != null) {\n      el.textContent = \"BokehJS is loading...\";\n    }\n    if (root.Bokeh !== undefined) {\n      if (el != null) {\n        el.textContent = \"BokehJS \" + root.Bokeh.version + \" successfully loaded.\";\n      }\n    } else if (Date.now() < root._bokeh_timeout) {\n      setTimeout(display_loaded, 100)\n    }\n  }\n\n  function run_callbacks() {\n    try {\n      root._bokeh_onload_callbacks.forEach(function(callback) {\n        if (callback != null)\n          callback();\n      });\n    } finally {\n      delete root._bokeh_onload_callbacks\n    }\n    console.debug(\"Bokeh: all callbacks have finished\");\n  }\n\n  function load_libs(css_urls, js_urls, callback) {\n    if (css_urls == null) css_urls = [];\n    if (js_urls == null) js_urls = [];\n\n    root._bokeh_onload_callbacks.push(callback);\n    if (root._bokeh_is_loading > 0) {\n      console.debug(\"Bokeh: BokehJS is being loaded, scheduling callback at\", now());\n      return null;\n    }\n    if (js_urls == null || js_urls.length === 0) {\n      run_callbacks();\n      return null;\n    }\n    console.debug(\"Bokeh: BokehJS not loaded, scheduling load and callback at\", now());\n    root._bokeh_is_loading = css_urls.length + js_urls.length;\n\n    function on_load() {\n      root._bokeh_is_loading--;\n      if (root._bokeh_is_loading === 0) {\n        console.debug(\"Bokeh: all BokehJS libraries/stylesheets loaded\");\n        run_callbacks()\n      }\n    }\n\n    function on_error(url) {\n      console.error(\"failed to load \" + url);\n    }\n\n    for (let i = 0; i < css_urls.length; i++) {\n      const url = css_urls[i];\n      const element = document.createElement(\"link\");\n      element.onload = on_load;\n      element.onerror = on_error.bind(null, url);\n      element.rel = \"stylesheet\";\n      element.type = \"text/css\";\n      element.href = url;\n      console.debug(\"Bokeh: injecting link tag for BokehJS stylesheet: \", url);\n      document.body.appendChild(element);\n    }\n\n    for (let i = 0; i < js_urls.length; i++) {\n      const url = js_urls[i];\n      const element = document.createElement('script');\n      element.onload = on_load;\n      element.onerror = on_error.bind(null, url);\n      element.async = false;\n      element.src = url;\n      console.debug(\"Bokeh: injecting script tag for BokehJS library: \", url);\n      document.head.appendChild(element);\n    }\n  };\n\n  function inject_raw_css(css) {\n    const element = document.createElement(\"style\");\n    element.appendChild(document.createTextNode(css));\n    document.body.appendChild(element);\n  }\n\n  const js_urls = [\"https://cdn.bokeh.org/bokeh/release/bokeh-2.4.3.min.js\", \"https://cdn.bokeh.org/bokeh/release/bokeh-gl-2.4.3.min.js\", \"https://cdn.bokeh.org/bokeh/release/bokeh-widgets-2.4.3.min.js\", \"https://cdn.bokeh.org/bokeh/release/bokeh-tables-2.4.3.min.js\", \"https://cdn.bokeh.org/bokeh/release/bokeh-mathjax-2.4.3.min.js\", \"https://unpkg.com/@holoviz/panel@0.14.1/dist/panel.min.js\"];\n  const css_urls = [];\n\n  const inline_js = [    function(Bokeh) {\n      Bokeh.set_log_level(\"info\");\n    },\nfunction(Bokeh) {\n    }\n  ];\n\n  function run_inline_js() {\n    if (root.Bokeh !== undefined || force === true) {\n          for (let i = 0; i < inline_js.length; i++) {\n      inline_js[i].call(root, root.Bokeh);\n    }\nif (force === true) {\n        display_loaded();\n      }} else if (Date.now() < root._bokeh_timeout) {\n      setTimeout(run_inline_js, 100);\n    } else if (!root._bokeh_failed_load) {\n      console.log(\"Bokeh: BokehJS failed to load within specified timeout.\");\n      root._bokeh_failed_load = true;\n    } else if (force !== true) {\n      const cell = $(document.getElementById(\"1002\")).parents('.cell').data().cell;\n      cell.output_area.append_execute_result(NB_LOAD_WARNING)\n    }\n  }\n\n  if (root._bokeh_is_loading === 0) {\n    console.debug(\"Bokeh: BokehJS loaded, going straight to plotting\");\n    run_inline_js();\n  } else {\n    load_libs(css_urls, js_urls, function() {\n      console.debug(\"Bokeh: BokehJS plotting callback run at\", now());\n      run_inline_js();\n    });\n  }\n}(window));",
      "application/vnd.bokehjs_load.v0+json": ""
     },
     "metadata": {},
     "output_type": "display_data"
    }
   ],
   "source": [
    "import umap.plot\n",
    "\n",
    "umap.plot.output_notebook()\n",
    "\n",
    "title = f\"UMAP Embeddings Projections for '{TERM}'\"\n"
   ]
  },
  {
   "cell_type": "markdown",
   "metadata": {},
   "source": [
    "### Points (static)"
   ]
  },
  {
   "cell_type": "code",
   "execution_count": 31,
   "metadata": {},
   "outputs": [
    {
     "data": {
      "text/plain": [
       "Text(0.5, 1.0, \"UMAP Embeddings Projections for 'cell'\")"
      ]
     },
     "execution_count": 31,
     "metadata": {},
     "output_type": "execute_result"
    },
    {
     "data": {
      "image/png": "[encoded data removed]",
      "text/plain": [
       "<Figure size 1000x1000 with 1 Axes>"
      ]
     },
     "metadata": {},
     "output_type": "display_data"
    }
   ],
   "source": [
    "subplot = umap.plot.points(mapper, height=1000, width=1000, labels=hover_data[\"decade\"])\n",
    "subplot.set_title(title)\n"
   ]
  },
  {
   "cell_type": "markdown",
   "metadata": {},
   "source": [
    "### Interactive Plot (using Bokeh)"
   ]
  },
  {
   "cell_type": "code",
   "execution_count": 32,
   "metadata": {},
   "outputs": [
    {
     "data": {
      "text/html": [
       "<div style=\"display: table;\"><div style=\"display: table-row;\"><div style=\"display: table-cell;\"><b title=\"bokeh.models.sources.ColumnDataSource\">ColumnDataSource</b>(</div><div style=\"display: table-cell;\">id&nbsp;=&nbsp;'1003', <span id=\"1005\" style=\"cursor: pointer;\">&hellip;)</span></div></div><div class=\"1004\" style=\"display: none;\"><div style=\"display: table-cell;\"></div><div style=\"display: table-cell;\">data&nbsp;=&nbsp;{'text': [\"A bulky television set , incongruous in the cell of the girl 's apartment , claimed one wall wholly to itself .\", 'Some relevant information , however incomplete , should have reached the cell in Aachen by this time ; the details could be filled in when the museums and art libraries opened .', 'Yet to break off contact while New York was still to be heard from would constitute a defeat , and the Aachen cell , so far , agreed .', 'Alternative systems include projection from behind the Cassegrain secondary mirror and use of an auxiliary projection telescope mounted on the side of the primary mirror cell .', 'Before Joanne Chesimard escaped she had amassed in her prison cell nearly 2,000 pages of 1131 documents which she had obtained under the Freedom of Information Act .', \"<p> Mitochondrial DNA is located outside a cell 's nucleus and is inherited only from the mother .\", 'There were also passing references to the practice of removing hybrids from display and banishing them to the less stimulating environs of a zoo holding cell after the AZA policy went into effect .', \"The whole scene was almost as uncanny as the witches ' cell underneath .\", 'This was the Heart of Midlothian , the condemned cell of the Tolbooth. * footnote .', '.. Long after the condemned cell had been pulled down , an English Chartist went down to Edinburgh to address a large meeting of his brother politicians .', 'Cooped in their transparent cell , the crew of the submarine Peary waited the end .', 'A subtle poison permeated every cell of its body ; what wonder if it thenceforth gave out none but poisoned thoughts ?', 'The officer knew nothing of the previous arrest and discharge of the lawyer , and hurried him back to a cell in spite of all protestations .', '\" The final straw was when I went into the locker room and was confronted with this hideous and haunting view : She was sitting completely naked and spread-eagle over one of the sinks , basically straddling the faucet and talking loudly on her cell phone while she shaved her bikini line .', 'Every grub about to hatch leaves its swaddling clothes as a silken lining , incredibly thin , round the walls of its cell , but these skins in the course of the years so choke up the cells as to render them unfit for the brood .', 'The first symptom of swarming fever is the queen cell , but not until the egg appears , and later the young grub float ?', '\" I know this part of town like my girlfriend \\'s chi-chis @ @ @ @ @ @ @ @ @ @ goes home , where he finds that Frank Emerson has - wonderful guy that he is broken into his apartment and left a pile of his belongings : Mounted locust head , trophies , awards , wedding pics , belts , socks , cell phone , and keys to a pair of jet skis whose location Rick has forgotten .', '\" The cell phone \\'s battery is dead , he does n\\'t have a land line , and pay phones that work , he \\'s about to discover , are as rare as whooping cranes .', 'He turns off the cell , feeling sick to his stomach .', 'The mounted locust head , still lying in a corner of the room , stares up at him and his cell starts ringing again .', 'He keeps his cell off , but knows the messages will keep coming .', 'And we fade to : Rick , at night , listening to his cell messages in the darkness of his apartment .', \"That evening , Rick 's cell has only one message : A man representing the mayor of Corkscrew , Florida , saying that he called yesterday and would appreciate it if Mr. Rowe would call him back .\", '\" And then : The sound of his cell chirping brings us out of the nightmare into the bleakness of his apartment .', 'He struggles up , angry , ready to read the prankster the riot act if he can only get through the piles of dirty clothes and trophies to the cell in time .', '\" And cell messages , real ones : One from the Federal Emergency Management Agency .', 'I hated her with every cell in my body ?', 'gaze a Communist cell conspiring in Madrid , claimed to have bagged the entire central committee of the Spanish Communist Party .', \"Many 's the cell he washed down with the Blood of the Lamb before they finally let him out .\", 'Some bankrupts enjoy life in a cell .', '\" Bill ( the DEA is withholding his full name ) can follow the auction from his cell in Lompoc , Calif. , where he is doing 17 years for drug trafficking .', \"For more than a century , electrical engineers have sought a kind of philosophers ' stone : a cell that will turn chemical fuel directly into electricity .\", 'A fuel cell , theoretically , could be almost 100% efficient .', \"<P> In Britain 's B.E.A.M.A. ( British Electrical and Allied Manufacturers ' Association ) Journal , Engineer F. T. Bacon of Cambridge describes the most hopeful approach so far to a practical fuel cell .\", '<P> A single cell produces less than one volt @ @ @ @ @ @ @ @ @ @ inch thick , many cells can be stacked up in series to give higher voltage .', 'Bacon believes that his fuel cell can also be used as a kind of storage battery ; it can burn hydrogen and oxygen made by decomposing water with surplus electricity when demand is low .', 'Together with severely constricted peripheral circulation , these hemodynamic changes result in systemic hypertension ( Phillips et @ @ @ @ @ @ @ @ @ @ hypertrophy , decreased myocardial oxygen delivery , and eventually myocyte cell death ( Moos et al. , 2005 ; Qureshi et al. , 2003 ; Shamsuzzaman et al. ; Trupp , 2004 ) .', 'The cell they keep him in is below the sea-level , and the salt-water leaks through the wall .', 'SELENIUM A. Introduction Selenium is part of the enzyme glutathione peroxidase which aids in detoxification of lipo- and hydrogen peroxides which are toxic to cell membranes .', 'The loss of unsaturated fatty acids by peroxides causes extensive damage to cell membranes and affects their permeability and function , and causes cell wall fragility .', 'The loss of unsaturated fatty acids by peroxides causes extensive damage to cell membranes and affects their permeability and function , and causes cell wall fragility .', 'We can perhaps think of the identity conditions associated with such essentially technical concepts as \" bacterium \" and \" cell \" as determined by the theoretical needs of biology in rather the way that the identity of matter is determined by the theoretical needs of physics .', 'When he attempts to give them utterance , he @ @ @ @ @ @ @ @ @ @ carries thought to the tongue and to the finger ends ; and as art has not yet found out the method of tunnelling or of driving a drift into the brain , to remedy such defects , and act as a general jail delivery to the prisoners of the mind , his divine conceptions continue pent in their osseous cell .', 'Sunlight streamed into the yard and reflected an eerily milky glow @ @ @ @ @ @ @ @ @ @ , flipped open my cell phone , and stabbed at 911 .', 'Some drunk in a cell , waiting to go down to the city drunk tank for sunrise court , kept giving the Australian bush call all the time we were talking .', '\" @ @ @ @ @ @ @ @ @ @ even have photo-cell connectionson our safes and fur closets .', 'Screaming and gesturing wildly @ @ @ @ @ @ @ @ @ @ voices , sounds and music \" were being piped into his cell to make him confess .', 'Soy also contains high levels of phytosterols , which may lower the risk of colon cancer by hindering abnormal cell growth .', '\" An exquisitely minute cell in violent motion , \" I answered .', 'If , for instance , light falls on a cathode , on @ @ @ @ @ @ @ @ @ @ kept in a vacuum ( e.g. the photo-electric cell ) , electrons will emerge from the cathode ( photo-electric effect ) when only a low potential is applied ; a current between cathode and anode can be shown to flow outside the vacuum .', \"In the first place , when I was very young somebody told me that every cell in the human body is destroyed and renovated in the course of seven years , so that not a vestige of one 's body seven years ago remains to-day .\", 'Thus when I was thirteen years old there was a little girl six months my senior whom I kissed one evening behind the front door ; and for some time after I @ @ @ @ @ @ @ @ @ @ marry her to make an honest woman of her ; six months later , I discovered that another boy had also , by force I was glad to know , kissed this girl , and that night I lay on my bed saying to myself , \" In seven years there will be not one cell of Theresa left ; she \\'ll all be new ; I must wait until she is twenty-one , and then I shall be able to feel happy again .', 'It had only been when Bolton \\'s sister had discovered an empty \" cell , \" as Jack called the bedroom next to his , that he had abandoned his intention of camping out on Jack \\'s disheartened lounge , and had retired like a gentleman carrying with him all his toilet articles , ready to @ @ @ @ @ @ @ @ @ @ time he had captured everybody in the place : from Mrs. Hicks , who never dreamed that such a well of tenderness over suffering could exist in an old fellow \\'s heart , down to the freckled-faced boy who came for his muddy shoes and who , after a moment \\'s talk with Peter as to how they should be polished , retired later in the firm belief that they belonged to \" a gent way up in G , \" as he expressed it , he never having waited on \" the likes of him before .', \"CHAPTER XVII Some of the sunshine that had helped dry the muddy road , making possible the path between Jack 's abode and MacFarlane 's hired villa -- where there was only room for Miss Felicia , Peter still occupying his cell at Mrs. Hicks @ @ @ @ @ @ @ @ @ @ that he could be within call of MacFarlane when needed --  some of this same sunshine , I say , may have been responsible for the temporary drying up of Ruth 's tears and the establishing of various ways of communication between two hearts that had for some days been floundering in the deeps .\", '\" \" I have two degrees myself , \" Jack laughed softly ,  --  \" one records how anxious I was to get out of my cell and the other how eager I was to get here .', 'Others , less fortunate , had disappeared altogether from their accustomed haunts and were to be found filling minor positions in some far Western frontier town or camp , or menial berths on a railroad , while at least one victim , too cowardly to @ @ @ @ @ @ @ @ @ @ hotel lobbies , and race-tracks for months , preying on friends and acquaintances alike until dire poverty forced him into crime , and a stone cell and a steel grille had ended the struggle .', \"This talk of Jack 's could only have been a ruse to keep up her spirits and give her false strength until she had passed through the agonizing ordeal of the funeral -- he accepting all her delusions as true -- as one does when an insane person is to be coaxed back into a cell .\", 'One man of science claimed that he could trace the effect in the brain of the bird by a study of its anatomy : the swallows of his youth , he alleged , had a minute cell less in the brain than the swallows of his old age .', 'But death hits an odd , clangy note , like a cell door slamming .'], 'decade': ['1970 - 1980', '1970 - 1980', '1970 - 1980', '1990 - 2000', '1980 - 1990', '1990 - 2000', '1990 - 2000', '1880 - 1890', '1880 - 1890', '1880 - 1890', '1930 - 1940', '1890 - 1900', '1880 - 1890', '2000 - 2010', '1920 - 1930', '1920 - 1930', '2000 - 2010', '2000 - 2010', '2000 - 2010', '2000 - 2010', '2000 - 2010', '2000 - 2010', '2000 - 2010', '2000 - 2010', '2000 - 2010', '2000 - 2010', '1980 - 1990', '1940 - 1950', '1970 - 1980', '1950 - 1960', '1980 - 1990', '1950 - 1960', '1950 - 1960', '1950 - 1960', '1950 - 1960', '1950 - 1960', '2000 - 2010', '1910 - 1920', '1990 - 2000', '1990 - 2000', '1990 - 2000', '1980 - 1990', '1830 - 1840', '2000 - 2010', '1960 - 1970', '1960 - 1970', '1980 - 1990', '1990 - 2000', '1890 - 1900', '1960 - 1970', '1930 - 1940', '1930 - 1940', '1900 - 1910', '1900 - 1910', '1900 - 1910', '1900 - 1910', '1900 - 1910', '1920 - 1930', '1990 - 2000'], 'doc': ['fic_1979_10650.txt', 'fic_1979_10650.txt', 'fic_1979_10650.txt', 'nf_1994_746850.txt', 'mag_1981_494150.txt', 'mag_1995_426450.txt', 'mag_1995_426450.txt', 'nf_1884_748750.txt', 'nf_1884_748750.txt', 'nf_1884_748750.txt', 'fic_1933_5650.txt', 'mag_1896_562750.txt', 'news_1884_745250.txt', 'mag_2007_390950.txt', 'mag_1923_467650.txt', 'mag_1923_467650.txt', 'fic_2005_50150.txt', 'fic_2005_50150.txt', 'fic_2005_50150.txt', 'fic_2005_50150.txt', 'fic_2005_50150.txt', 'fic_2005_50150.txt', 'fic_2005_50150.txt', 'fic_2005_50150.txt', 'fic_2005_50150.txt', 'fic_2005_50150.txt', 'fic_1981_780050.txt', 'mag_1946_160150.txt', 'fic_1972_10550.txt', 'mag_1950_492350.txt', 'mag_1988_339250.txt', 'mag_1954_234150.txt', 'mag_1954_234150.txt', 'mag_1954_234150.txt', 'mag_1954_234150.txt', 'mag_1954_234150.txt', 'nf_2006_747050.txt', 'fic_1910_2750.txt', 'nf_1991_774050.txt', 'nf_1991_774050.txt', 'nf_1991_774050.txt', 'nf_1982_774150.txt', 'fic_1838_7250.txt', 'fic_2009_36650.txt', 'fic_1964_10450.txt', 'fic_1964_10450.txt', 'mag_1986_333750.txt', 'mag_1999_407850.txt', 'fic_1890_4350.txt', 'nf_1962_773650.txt', 'mag_1930_468750.txt', 'mag_1930_468750.txt', 'fic_1908_1150.txt', 'fic_1908_1150.txt', 'fic_1908_1150.txt', 'fic_1908_1150.txt', 'fic_1908_1150.txt', 'mag_1926_430950.txt', 'fic_1996_54250.txt'], 'y': {'__ndarray__': 'KOn4QOz/AUF7/wFBh+nnQPi67UBuDNxAiw7yQCy160CVl/lAetftQOFE50CzQMhAP6vbQDfdBkHlaexAzOHdQHQ/BEEAvgVBOu0CQU45D0FvFQ1BXasKQa26DUEN7PtAPKHYQGzcBEHMHsVAfeoDQayp80B4jPtAy7rpQHss9kBYY+pAk47xQI0E50DyN/hAtKPDQMaU40CW99dANRrgQByc00DFK9tAHUfQQJvKC0H5Ff9AHhTtQI0k60Ck0MxAlYraQDWi70D+jclAuNvNQADt5EBGotpA57zhQArnzEDpp9FAVd3KQCCsA0E=', 'shape': (59,), 'dtype': 'float32', 'order': 'little'}, 'year': [1979, 1979, 1979, 1994, 1981, 1995, 1995, 1884, 1884, 1884, 1933, 1896, 1884, 2007, 1923, 1923, 2005, 2005, 2005, 2005, 2005, 2005, 2005, 2005, 2005, 2005, 1981, 1946, 1972, 1950, 1988, 1954, 1954, 1954, 1954, 1954, 2006, 1910, 1991, 1991, 1991, 1982, 1838, 2009, 1964, 1964, 1986, 1999, 1890, 1962, 1930, 1930, 1908, 1908, 1908, 1908, 1908, 1926, 1996], 'x': {'__ndarray__': 'FRmIP/ZRFD+ubW4+O981vwA/A0BvXhTA+IPRP8H1hD+ZLxI/B2o6P0lxuj9/OJu/GRT+P5kggECZLw7AWM+Fv98phUAh/2pATUBcQCDKZ0C20W9A46ZUQFLtXkCVrkpAs84MQH9/SUAGGIS/tTKDP4yisD+Fiuc/GVYXQI8iu78Yf7y/C2Tcv8+f8b+Uofa/aCEXwJ9jtz8Z1DXAOo8iwJK8KMCniPe/fPapP7IlgUCTCP8/aaVEPnyPNkAgejLAgmC4vxEElL+3gr+/ehDDPt9McT/7DC5AcvwhQD05nz+GMOk/bjXav4DRF0A=', 'shape': (59,), 'dtype': 'float32', 'order': 'little'}},</div></div><div class=\"1004\" style=\"display: none;\"><div style=\"display: table-cell;\"></div><div style=\"display: table-cell;\">js_event_callbacks&nbsp;=&nbsp;{},</div></div><div class=\"1004\" style=\"display: none;\"><div style=\"display: table-cell;\"></div><div style=\"display: table-cell;\">js_property_callbacks&nbsp;=&nbsp;{},</div></div><div class=\"1004\" style=\"display: none;\"><div style=\"display: table-cell;\"></div><div style=\"display: table-cell;\">name&nbsp;=&nbsp;None,</div></div><div class=\"1004\" style=\"display: none;\"><div style=\"display: table-cell;\"></div><div style=\"display: table-cell;\">selected&nbsp;=&nbsp;Selection(id='1007', ...),</div></div><div class=\"1004\" style=\"display: none;\"><div style=\"display: table-cell;\"></div><div style=\"display: table-cell;\">selection_policy&nbsp;=&nbsp;UnionRenderers(id='1006', ...),</div></div><div class=\"1004\" style=\"display: none;\"><div style=\"display: table-cell;\"></div><div style=\"display: table-cell;\">subscribed_events&nbsp;=&nbsp;[],</div></div><div class=\"1004\" style=\"display: none;\"><div style=\"display: table-cell;\"></div><div style=\"display: table-cell;\">syncable&nbsp;=&nbsp;True,</div></div><div class=\"1004\" style=\"display: none;\"><div style=\"display: table-cell;\"></div><div style=\"display: table-cell;\">tags&nbsp;=&nbsp;[])</div></div></div>\n",
       "<script>\n",
       "(function() {\n",
       "  let expanded = false;\n",
       "  const ellipsis = document.getElementById(\"1005\");\n",
       "  ellipsis.addEventListener(\"click\", function() {\n",
       "    const rows = document.getElementsByClassName(\"1004\");\n",
       "    for (let i = 0; i < rows.length; i++) {\n",
       "      const el = rows[i];\n",
       "      el.style.display = expanded ? \"none\" : \"table-row\";\n",
       "    }\n",
       "    ellipsis.innerHTML = expanded ? \"&hellip;)\" : \"&lsaquo;&lsaquo;&lsaquo;\";\n",
       "    expanded = !expanded;\n",
       "  });\n",
       "})();\n",
       "</script>\n"
      ],
      "text/plain": [
       "ColumnDataSource(id='1003', ...)"
      ]
     },
     "execution_count": 32,
     "metadata": {},
     "output_type": "execute_result"
    }
   ],
   "source": [
    "from bokeh.models import ColumnDataSource\n",
    "\n",
    "cds = ColumnDataSource(\n",
    "    data={\"x\": mapper.embedding_[:, 0], \"y\": mapper.embedding_[:, 1],}\n",
    "    | hover_data.to_dict(\"list\")\n",
    ")\n",
    "\n",
    "cds\n"
   ]
  },
  {
   "cell_type": "code",
   "execution_count": 33,
   "metadata": {},
   "outputs": [
    {
     "data": {
      "text/html": [
       "<div style=\"display: table;\"><div style=\"display: table-row;\"><div style=\"display: table-cell;\"><b title=\"bokeh.models.mappers.CategoricalColorMapper\">CategoricalColorMapper</b>(</div><div style=\"display: table-cell;\">id&nbsp;=&nbsp;'1008', <span id=\"1010\" style=\"cursor: pointer;\">&hellip;)</span></div></div><div class=\"1009\" style=\"display: none;\"><div style=\"display: table-cell;\"></div><div style=\"display: table-cell;\">end&nbsp;=&nbsp;None,</div></div><div class=\"1009\" style=\"display: none;\"><div style=\"display: table-cell;\"></div><div style=\"display: table-cell;\">factors&nbsp;=&nbsp;array(['1970 - 1980', '1990 - 2000', '1980 - 1990', '1880 - 1890',\n",
       "       '1930 - 1940', '1890 - 1900', '2000 - 2010', '1920 - 1930',\n",
       "       '1940 - 1950', '1950 - 1960', '1910 - 1920', '1830 - 1840',\n",
       "       '1960 - 1970', '1900 - 1910'], dtype=object),</div></div><div class=\"1009\" style=\"display: none;\"><div style=\"display: table-cell;\"></div><div style=\"display: table-cell;\">js_event_callbacks&nbsp;=&nbsp;{},</div></div><div class=\"1009\" style=\"display: none;\"><div style=\"display: table-cell;\"></div><div style=\"display: table-cell;\">js_property_callbacks&nbsp;=&nbsp;{},</div></div><div class=\"1009\" style=\"display: none;\"><div style=\"display: table-cell;\"></div><div style=\"display: table-cell;\">name&nbsp;=&nbsp;None,</div></div><div class=\"1009\" style=\"display: none;\"><div style=\"display: table-cell;\"></div><div style=\"display: table-cell;\">nan_color&nbsp;=&nbsp;'gray',</div></div><div class=\"1009\" style=\"display: none;\"><div style=\"display: table-cell;\"></div><div style=\"display: table-cell;\">palette&nbsp;=&nbsp;('#1f77b4', '#aec7e8', '#ff7f0e', '#ffbb78', '#2ca02c', '#98df8a', '#d62728', '#ff9896', '#9467bd', '#c5b0d5', '#8c564b', '#c49c94', '#e377c2', '#f7b6d2'),</div></div><div class=\"1009\" style=\"display: none;\"><div style=\"display: table-cell;\"></div><div style=\"display: table-cell;\">start&nbsp;=&nbsp;0,</div></div><div class=\"1009\" style=\"display: none;\"><div style=\"display: table-cell;\"></div><div style=\"display: table-cell;\">subscribed_events&nbsp;=&nbsp;[],</div></div><div class=\"1009\" style=\"display: none;\"><div style=\"display: table-cell;\"></div><div style=\"display: table-cell;\">syncable&nbsp;=&nbsp;True,</div></div><div class=\"1009\" style=\"display: none;\"><div style=\"display: table-cell;\"></div><div style=\"display: table-cell;\">tags&nbsp;=&nbsp;[])</div></div></div>\n",
       "<script>\n",
       "(function() {\n",
       "  let expanded = false;\n",
       "  const ellipsis = document.getElementById(\"1010\");\n",
       "  ellipsis.addEventListener(\"click\", function() {\n",
       "    const rows = document.getElementsByClassName(\"1009\");\n",
       "    for (let i = 0; i < rows.length; i++) {\n",
       "      const el = rows[i];\n",
       "      el.style.display = expanded ? \"none\" : \"table-row\";\n",
       "    }\n",
       "    ellipsis.innerHTML = expanded ? \"&hellip;)\" : \"&lsaquo;&lsaquo;&lsaquo;\";\n",
       "    expanded = !expanded;\n",
       "  });\n",
       "})();\n",
       "</script>\n"
      ],
      "text/plain": [
       "CategoricalColorMapper(id='1008', ...)"
      ]
     },
     "execution_count": 33,
     "metadata": {},
     "output_type": "execute_result"
    }
   ],
   "source": [
    "from bokeh.palettes import d3\n",
    "from bokeh.models import CategoricalColorMapper\n",
    "import bokeh.palettes\n",
    "\n",
    "categories = hover_data.decade.unique()\n",
    "palette = bokeh.palettes.Category20[len(categories)]\n",
    "\n",
    "assert len(palette) >= len(\n",
    "    categories\n",
    "), f\"Palette has only {len(palette)} categories, but {len(categories)} needed.\"\n",
    "\n",
    "color_mapper = CategoricalColorMapper(factors=categories, palette=palette)\n",
    "color_mapper\n"
   ]
  },
  {
   "cell_type": "code",
   "execution_count": 1,
   "metadata": {},
   "outputs": [
    {
     "ename": "NameError",
     "evalue": "name 'title' is not defined",
     "output_type": "error",
     "traceback": [
      "\u001b[0;31m---------------------------------------------------------------------------\u001b[0m",
      "\u001b[0;31mNameError\u001b[0m                                 Traceback (most recent call last)",
      "\u001b[1;32m/Users/carstenschnober/Documents/SemanticsOfSustainability/workspace/ContextualLM/SemanticShiftCOHA.ipynb Cell 44\u001b[0m in \u001b[0;36m<cell line: 9>\u001b[0;34m()\u001b[0m\n\u001b[1;32m      <a href='vscode-notebook-cell:/Users/carstenschnober/Documents/SemanticsOfSustainability/workspace/ContextualLM/SemanticShiftCOHA.ipynb#X61sZmlsZQ%3D%3D?line=1'>2</a>\u001b[0m \u001b[39mfrom\u001b[39;00m \u001b[39mbokeh\u001b[39;00m\u001b[39m.\u001b[39;00m\u001b[39mmodels\u001b[39;00m\u001b[39m.\u001b[39;00m\u001b[39mtickers\u001b[39;00m \u001b[39mimport\u001b[39;00m SingleIntervalTicker\n\u001b[1;32m      <a href='vscode-notebook-cell:/Users/carstenschnober/Documents/SemanticsOfSustainability/workspace/ContextualLM/SemanticShiftCOHA.ipynb#X61sZmlsZQ%3D%3D?line=3'>4</a>\u001b[0m p \u001b[39m=\u001b[39m figure(\n\u001b[1;32m      <a href='vscode-notebook-cell:/Users/carstenschnober/Documents/SemanticsOfSustainability/workspace/ContextualLM/SemanticShiftCOHA.ipynb#X61sZmlsZQ%3D%3D?line=4'>5</a>\u001b[0m     height\u001b[39m=\u001b[39m\u001b[39m1000\u001b[39m,\n\u001b[1;32m      <a href='vscode-notebook-cell:/Users/carstenschnober/Documents/SemanticsOfSustainability/workspace/ContextualLM/SemanticShiftCOHA.ipynb#X61sZmlsZQ%3D%3D?line=5'>6</a>\u001b[0m     width\u001b[39m=\u001b[39m\u001b[39m1000\u001b[39m,\n\u001b[1;32m      <a href='vscode-notebook-cell:/Users/carstenschnober/Documents/SemanticsOfSustainability/workspace/ContextualLM/SemanticShiftCOHA.ipynb#X61sZmlsZQ%3D%3D?line=6'>7</a>\u001b[0m     tooltips\u001b[39m=\u001b[39m[(\u001b[39m\"\u001b[39m\u001b[39mdoc\u001b[39m\u001b[39m\"\u001b[39m, \u001b[39m\"\u001b[39m\u001b[39m@doc\u001b[39m\u001b[39m\"\u001b[39m), (\u001b[39m\"\u001b[39m\u001b[39mtext\u001b[39m\u001b[39m\"\u001b[39m, \u001b[39m\"\u001b[39m\u001b[39m@text\u001b[39m\u001b[39m\"\u001b[39m), (\u001b[39m\"\u001b[39m\u001b[39myear\u001b[39m\u001b[39m\"\u001b[39m, \u001b[39m\"\u001b[39m\u001b[39m@year\u001b[39m\u001b[39m\"\u001b[39m)],\n\u001b[1;32m      <a href='vscode-notebook-cell:/Users/carstenschnober/Documents/SemanticsOfSustainability/workspace/ContextualLM/SemanticShiftCOHA.ipynb#X61sZmlsZQ%3D%3D?line=7'>8</a>\u001b[0m )\n\u001b[0;32m----> <a href='vscode-notebook-cell:/Users/carstenschnober/Documents/SemanticsOfSustainability/workspace/ContextualLM/SemanticShiftCOHA.ipynb#X61sZmlsZQ%3D%3D?line=8'>9</a>\u001b[0m p\u001b[39m.\u001b[39mtitle \u001b[39m=\u001b[39m title\n\u001b[1;32m     <a href='vscode-notebook-cell:/Users/carstenschnober/Documents/SemanticsOfSustainability/workspace/ContextualLM/SemanticShiftCOHA.ipynb#X61sZmlsZQ%3D%3D?line=10'>11</a>\u001b[0m \u001b[39m# TODO: group by decade to enable muting decades individually via legend\u001b[39;00m\n\u001b[1;32m     <a href='vscode-notebook-cell:/Users/carstenschnober/Documents/SemanticsOfSustainability/workspace/ContextualLM/SemanticShiftCOHA.ipynb#X61sZmlsZQ%3D%3D?line=11'>12</a>\u001b[0m p\u001b[39m.\u001b[39mdot(\n\u001b[1;32m     <a href='vscode-notebook-cell:/Users/carstenschnober/Documents/SemanticsOfSustainability/workspace/ContextualLM/SemanticShiftCOHA.ipynb#X61sZmlsZQ%3D%3D?line=12'>13</a>\u001b[0m     x\u001b[39m=\u001b[39m\u001b[39m\"\u001b[39m\u001b[39mx\u001b[39m\u001b[39m\"\u001b[39m,\n\u001b[1;32m     <a href='vscode-notebook-cell:/Users/carstenschnober/Documents/SemanticsOfSustainability/workspace/ContextualLM/SemanticShiftCOHA.ipynb#X61sZmlsZQ%3D%3D?line=13'>14</a>\u001b[0m     y\u001b[39m=\u001b[39m\u001b[39m\"\u001b[39m\u001b[39my\u001b[39m\u001b[39m\"\u001b[39m,\n\u001b[0;32m   (...)\u001b[0m\n\u001b[1;32m     <a href='vscode-notebook-cell:/Users/carstenschnober/Documents/SemanticsOfSustainability/workspace/ContextualLM/SemanticShiftCOHA.ipynb#X61sZmlsZQ%3D%3D?line=17'>18</a>\u001b[0m     color\u001b[39m=\u001b[39m{\u001b[39m\"\u001b[39m\u001b[39mfield\u001b[39m\u001b[39m\"\u001b[39m: \u001b[39m\"\u001b[39m\u001b[39mdecade\u001b[39m\u001b[39m\"\u001b[39m, \u001b[39m\"\u001b[39m\u001b[39mtransform\u001b[39m\u001b[39m\"\u001b[39m: color_mapper},\n\u001b[1;32m     <a href='vscode-notebook-cell:/Users/carstenschnober/Documents/SemanticsOfSustainability/workspace/ContextualLM/SemanticShiftCOHA.ipynb#X61sZmlsZQ%3D%3D?line=18'>19</a>\u001b[0m )\n",
      "\u001b[0;31mNameError\u001b[0m: name 'title' is not defined"
     ]
    }
   ],
   "source": [
    "from bokeh.models.tickers import SingleIntervalTicker\n",
    "from bokeh.plotting import figure, output_file, show\n",
    "\n",
    "\n",
    "output_filename = f\"{TERM}.html\"\n",
    "output_file(output_filename, title=title)\n",
    "\n",
    "p = figure(\n",
    "    height=1000,\n",
    "    width=1000,\n",
    "    tooltips=[(\"doc\", \"@doc\"), (\"text\", \"@text\"), (\"year\", \"@year\")],\n",
    ")\n",
    "p.title = title\n",
    "\n",
    "# TODO: group by decade to enable muting decades individually via legend\n",
    "p.dot(\n",
    "    x=\"x\",\n",
    "    y=\"y\",\n",
    "    legend_field=\"decade\",\n",
    "    source=cds,\n",
    "    size=20,\n",
    "    color={\"field\": \"decade\", \"transform\": color_mapper},\n",
    ")\n",
    "\n",
    "p.legend.click_policy = \"mute\"\n",
    "\n",
    "p.xaxis.ticker = SingleIntervalTicker(desired_num_ticks=0)\n",
    "p.yaxis.ticker = SingleIntervalTicker(desired_num_ticks=0)\n",
    "\n",
    "show(p)\n"
   ]
  }
 ],
 "metadata": {
  "kernelspec": {
   "display_name": "Python 3.10.6 ('SoS')",
   "language": "python",
   "name": "python3"
  },
  "language_info": {
   "codemirror_mode": {
    "name": "ipython",
    "version": 3
   },
   "file_extension": ".py",
   "mimetype": "text/x-python",
   "name": "python",
   "nbconvert_exporter": "python",
   "pygments_lexer": "ipython3",
   "version": "3.10.6"
  },
  "orig_nbformat": 4,
  "vscode": {
   "interpreter": {
    "hash": "698edb2d430efe7d82235b52eab5a9a548e58da18d36891b15065b37371a8bd3"
   }
  }
 },
 "nbformat": 4,
 "nbformat_minor": 2
}
